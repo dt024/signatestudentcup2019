{
  "nbformat": 4,
  "nbformat_minor": 0,
  "metadata": {
    "kernelspec": {
      "display_name": "Python 3",
      "language": "python",
      "name": "python3"
    },
    "language_info": {
      "codemirror_mode": {
        "name": "ipython",
        "version": 2
      },
      "file_extension": ".py",
      "mimetype": "text/x-python",
      "name": "python",
      "nbconvert_exporter": "python",
      "pygments_lexer": "ipython2",
      "version": "2.7.6"
    },
    "pycharm": {
      "stem_cell": {
        "cell_type": "raw",
        "source": [],
        "metadata": {
          "collapsed": false
        }
      }
    },
    "colab": {
      "name": "Copy of signate_houseprices.ipynb",
      "provenance": []
    }
  },
  "cells": [
    {
      "cell_type": "code",
      "metadata": {
        "pycharm": {
          "is_executing": false
        },
        "id": "nzKofQB9vPLs",
        "colab_type": "code",
        "colab": {}
      },
      "source": [
        "import numpy as np\n",
        "import pandas as pd\n",
        "pd.set_option('max_columns', 105)\n",
        "import matplotlib.pyplot as plt\n",
        "import seaborn as sns\n",
        "from scipy import stats\n",
        "%matplotlib inline\n",
        "sns.set()\n",
        "from sklearn.linear_model import LogisticRegression  # for Logistic Regression algorithm\n",
        "from sklearn.model_selection import train_test_split #to split the dataset for training and testing\n",
        "from sklearn.neighbors import KNeighborsClassifier  # for K nearest neighbours\n",
        "from sklearn import svm  #for Support Vector Machine (SVM) Algorithm\n",
        "from sklearn import metrics #for checking the model accuracy\n",
        "from sklearn.metrics import mean_squared_error #for checking the model accuracy\n",
        "from sklearn.tree import DecisionTreeClassifier #for using Decision Tree Algoithm\n",
        "from sklearn.linear_model import ElasticNet, Lasso,  BayesianRidge, LassoLarsIC\n",
        "from sklearn.ensemble import RandomForestRegressor,  GradientBoostingRegressor\n",
        "from sklearn.model_selection import KFold, cross_val_score, train_test_split\n",
        "from sklearn.metrics import mean_squared_error\n",
        "import xgboost as xgb\n",
        "import lightgbm as lgb\n"
      ],
      "execution_count": 0,
      "outputs": []
    },
    {
      "cell_type": "code",
      "metadata": {
        "pycharm": {
          "name": "#%%\n",
          "is_executing": false
        },
        "id": "hwKdXXoYvPLx",
        "colab_type": "code",
        "colab": {}
      },
      "source": [
        "train = pd.read_csv(\"train.csv\")\n",
        "test = pd.read_csv(\"test.csv\")"
      ],
      "execution_count": 0,
      "outputs": []
    },
    {
      "cell_type": "code",
      "metadata": {
        "pycharm": {
          "name": "#%%\n",
          "is_executing": false
        },
        "id": "v3VNNDWkvPLz",
        "colab_type": "code",
        "colab": {}
      },
      "source": [
        "train = train.rename(columns={'賃料':'Rent', '契約期間':'Contract', '間取り':'Type', \n",
        "                              '築年数':'Age', '駐車場':'Parking', '室内設備':'Facility', \n",
        "                              '放送・通信':'Internet', '周辺環境':'Surround', '建物構造':'Material', \n",
        "                              '面積':'Area', 'キッチン':'Kitchen', '所在地':'Location',\n",
        "                              'バス・トイレ':'Bath', '所在階':'Floor', 'アクセス':'Access', \n",
        "                              '方角':'Direction'})\n",
        "test = test.rename(columns={'契約期間':'Contract', '間取り':'Type', \n",
        "                              '築年数':'Age', '駐車場':'Parking', '室内設備':'Facility', \n",
        "                              '放送・通信':'Internet', '周辺環境':'Surround', '建物構造':'Material', \n",
        "                              '面積':'Area', 'キッチン':'Kitchen', '所在地':'Location',\n",
        "                              'バス・トイレ':'Bath', '所在階':'Floor', 'アクセス':'Access', \n",
        "                              '方角':'Direction'})"
      ],
      "execution_count": 0,
      "outputs": []
    },
    {
      "cell_type": "code",
      "metadata": {
        "pycharm": {
          "name": "#%%\n",
          "is_executing": false
        },
        "id": "jFmLYPENvPL1",
        "colab_type": "code",
        "outputId": "53797f9d-a2aa-41f1-ee01-aba073f72e4a",
        "colab": {
          "base_uri": "https://localhost:8080/",
          "height": 1000
        }
      },
      "source": [
        "train['Location'].value_counts()"
      ],
      "execution_count": 0,
      "outputs": [
        {
          "output_type": "execute_result",
          "data": {
            "text/plain": [
              "東京都板橋区板橋３丁目1-8         54\n",
              "東京都世田谷区太子堂２丁目          53\n",
              "東京都足立区新田１丁目            47\n",
              "東京都中野区白鷺２丁目1-21        45\n",
              "東京都中央区日本橋馬喰町２丁目4-12    44\n",
              "東京都豊島区池袋３丁目            43\n",
              "東京都豊島区東池袋２丁目           40\n",
              "東京都墨田区緑４丁目             39\n",
              "東京都豊島区南長崎５丁目           38\n",
              "東京都中央区日本橋馬喰町２丁目        38\n",
              "東京都中野区江古田３丁目14-3       38\n",
              "東京都港区南麻布１丁目            36\n",
              "東京都杉並区方南１丁目            36\n",
              "東京都中央区勝どき６丁目           35\n",
              "東京都渋谷区笹塚２丁目            34\n",
              "東京都台東区三筋１丁目            34\n",
              "東京都杉並区堀ノ内３丁目           34\n",
              "東京都江東区牡丹１丁目13-6        34\n",
              "東京都足立区栗原３丁目            34\n",
              "東京都中央区新富１丁目            33\n",
              "東京都品川区南大井４丁目           32\n",
              "東京都港区港南３丁目7-3          32\n",
              "東京都江東区木場６丁目3           32\n",
              "東京都北区滝野川６丁目            32\n",
              "東京都江東区海辺               32\n",
              "東京都目黒区下目黒２丁目           31\n",
              "東京都杉並区高円寺南３丁目          31\n",
              "東京都板橋区中丸町              30\n",
              "東京都江東区東雲１丁目            30\n",
              "東京都港区南青山６丁目            30\n",
              "                       ..\n",
              "東京都新宿区西新宿７丁目6-8         1\n",
              "東京都目黒区目黒３丁目15-34        1\n",
              "東京都中野区野方３丁目13-7         1\n",
              "東京都葛飾区金町４丁目16番6号        1\n",
              "東京都中央区八丁堀４丁目8-7         1\n",
              "東京都豊島区上池袋１丁目３７－２２       1\n",
              "東京都葛飾区東立石４丁目４５－１６       1\n",
              "東京都世田谷区八幡山３丁目24-12      1\n",
              "東京都品川区大崎３丁目10-11        1\n",
              "東京都港区芝３丁目12-21          1\n",
              "東京都足立区竹の塚６丁目２３－１５       1\n",
              "東京都中野区弥生町２丁目37-13       1\n",
              "東京都世田谷区世田谷１丁目17-19      1\n",
              "東京都中野区沼袋２丁目38-9         1\n",
              "東京都世田谷区代田３丁目３４－１４       1\n",
              "東京都新宿区市谷薬王寺町14-4        1\n",
              "東京都豊島区巣鴨２丁目９－２８         1\n",
              "東京都荒川区東日暮里１丁目18         1\n",
              "東京都中央区京橋２丁目6-5          1\n",
              "東京都練馬区旭町３丁目32-6         1\n",
              "東京都練馬区桜台１丁目24－15        1\n",
              "東京都港区西麻布１丁目12-3         1\n",
              "東京都杉並区堀ノ内３丁目45-1        1\n",
              "東京都品川区東品川１丁目10-1        1\n",
              "東京都足立区入谷３丁目２－１０         1\n",
              "東京都江戸川区北葛西５丁目7-21       1\n",
              "東京都世田谷区船橋１丁目21-18       1\n",
              "東京都新宿区下落合２丁目10-10       1\n",
              "東京都中野区東中野２丁目10-2        1\n",
              "東京都豊島区駒込２丁目7-8          1\n",
              "Name: Location, Length: 11333, dtype: int64"
            ]
          },
          "metadata": {
            "tags": []
          },
          "execution_count": 4
        }
      ]
    },
    {
      "cell_type": "code",
      "metadata": {
        "pycharm": {
          "name": "#%%\n",
          "is_executing": false
        },
        "id": "O5YFlMncvPL3",
        "colab_type": "code",
        "colab": {}
      },
      "source": [
        "train_test_data = [train, test] # combining train and test dataset\n",
        "for dataset in train_test_data:\n",
        "    dataset['City'] = dataset['Location'].str.extract('(千代田区|中央区|港区|新宿区|文京区|'\n",
        "                                                 '台東区|墨田区|江東区|品川区|目黒区|'\n",
        "                                                 '大田区|世田谷区|渋谷区|中野区|杉並区|'\n",
        "                                                 '豊島区|北区|荒川区|板橋区|練馬区|足立区|葛飾区|江戸川区)')"
      ],
      "execution_count": 0,
      "outputs": []
    },
    {
      "cell_type": "code",
      "metadata": {
        "pycharm": {
          "name": "#%%\n",
          "is_executing": false
        },
        "id": "1CtzLFgzvPL6",
        "colab_type": "code",
        "outputId": "4db4cf9a-99de-4259-b046-08212b8c24ce",
        "colab": {
          "base_uri": "https://localhost:8080/",
          "height": 425
        }
      },
      "source": [
        "train['City'].value_counts()"
      ],
      "execution_count": 0,
      "outputs": [
        {
          "output_type": "execute_result",
          "data": {
            "text/plain": [
              "世田谷区    3023\n",
              "足立区     2191\n",
              "大田区     2000\n",
              "杉並区     1769\n",
              "練馬区     1752\n",
              "江戸川区    1702\n",
              "板橋区     1624\n",
              "港区      1513\n",
              "江東区     1508\n",
              "中央区     1279\n",
              "品川区     1272\n",
              "豊島区     1271\n",
              "新宿区     1223\n",
              "葛飾区     1212\n",
              "中野区     1211\n",
              "北区      1045\n",
              "目黒区     1023\n",
              "墨田区     1010\n",
              "渋谷区      985\n",
              "台東区      932\n",
              "文京区      892\n",
              "荒川区      576\n",
              "千代田区     457\n",
              "Name: City, dtype: int64"
            ]
          },
          "metadata": {
            "tags": []
          },
          "execution_count": 6
        }
      ]
    },
    {
      "cell_type": "code",
      "metadata": {
        "pycharm": {
          "name": "#%%\n",
          "is_executing": false
        },
        "id": "esgXM1nCvPL8",
        "colab_type": "code",
        "colab": {}
      },
      "source": [
        "train['City'].fillna('東京都板橋区板橋',inplace=True)"
      ],
      "execution_count": 0,
      "outputs": []
    },
    {
      "cell_type": "code",
      "metadata": {
        "pycharm": {
          "name": "#%%\n",
          "is_executing": false
        },
        "id": "Cd4bj9JEvPL-",
        "colab_type": "code",
        "outputId": "45f7b576-feaf-4054-c8a4-02c61efc3180",
        "colab": {
          "base_uri": "https://localhost:8080/",
          "height": 762
        }
      },
      "source": [
        "train[['City', 'Rent']].groupby(['City'], as_index=False).mean().sort_values(by=\"Rent\",ascending=False)"
      ],
      "execution_count": 0,
      "outputs": [
        {
          "output_type": "execute_result",
          "data": {
            "text/html": [
              "<div>\n",
              "<style scoped>\n",
              "    .dataframe tbody tr th:only-of-type {\n",
              "        vertical-align: middle;\n",
              "    }\n",
              "\n",
              "    .dataframe tbody tr th {\n",
              "        vertical-align: top;\n",
              "    }\n",
              "\n",
              "    .dataframe thead th {\n",
              "        text-align: right;\n",
              "    }\n",
              "</style>\n",
              "<table border=\"1\" class=\"dataframe\">\n",
              "  <thead>\n",
              "    <tr style=\"text-align: right;\">\n",
              "      <th></th>\n",
              "      <th>City</th>\n",
              "      <th>Rent</th>\n",
              "    </tr>\n",
              "  </thead>\n",
              "  <tbody>\n",
              "    <tr>\n",
              "      <th>16</th>\n",
              "      <td>港区</td>\n",
              "      <td>214061.744878</td>\n",
              "    </tr>\n",
              "    <tr>\n",
              "      <th>4</th>\n",
              "      <td>千代田区</td>\n",
              "      <td>182706.236324</td>\n",
              "    </tr>\n",
              "    <tr>\n",
              "      <th>1</th>\n",
              "      <td>中央区</td>\n",
              "      <td>180887.865520</td>\n",
              "    </tr>\n",
              "    <tr>\n",
              "      <th>15</th>\n",
              "      <td>渋谷区</td>\n",
              "      <td>171839.786802</td>\n",
              "    </tr>\n",
              "    <tr>\n",
              "      <th>17</th>\n",
              "      <td>目黒区</td>\n",
              "      <td>145674.389052</td>\n",
              "    </tr>\n",
              "    <tr>\n",
              "      <th>10</th>\n",
              "      <td>新宿区</td>\n",
              "      <td>130573.957482</td>\n",
              "    </tr>\n",
              "    <tr>\n",
              "      <th>9</th>\n",
              "      <td>文京区</td>\n",
              "      <td>128562.070628</td>\n",
              "    </tr>\n",
              "    <tr>\n",
              "      <th>5</th>\n",
              "      <td>台東区</td>\n",
              "      <td>127625.944206</td>\n",
              "    </tr>\n",
              "    <tr>\n",
              "      <th>14</th>\n",
              "      <td>江東区</td>\n",
              "      <td>126217.110743</td>\n",
              "    </tr>\n",
              "    <tr>\n",
              "      <th>6</th>\n",
              "      <td>品川区</td>\n",
              "      <td>124609.473270</td>\n",
              "    </tr>\n",
              "    <tr>\n",
              "      <th>19</th>\n",
              "      <td>荒川区</td>\n",
              "      <td>116817.881944</td>\n",
              "    </tr>\n",
              "    <tr>\n",
              "      <th>7</th>\n",
              "      <td>墨田区</td>\n",
              "      <td>116201.346535</td>\n",
              "    </tr>\n",
              "    <tr>\n",
              "      <th>0</th>\n",
              "      <td>世田谷区</td>\n",
              "      <td>113781.270261</td>\n",
              "    </tr>\n",
              "    <tr>\n",
              "      <th>21</th>\n",
              "      <td>豊島区</td>\n",
              "      <td>110916.884343</td>\n",
              "    </tr>\n",
              "    <tr>\n",
              "      <th>8</th>\n",
              "      <td>大田区</td>\n",
              "      <td>106981.675000</td>\n",
              "    </tr>\n",
              "    <tr>\n",
              "      <th>2</th>\n",
              "      <td>中野区</td>\n",
              "      <td>101578.398018</td>\n",
              "    </tr>\n",
              "    <tr>\n",
              "      <th>3</th>\n",
              "      <td>北区</td>\n",
              "      <td>99506.602871</td>\n",
              "    </tr>\n",
              "    <tr>\n",
              "      <th>11</th>\n",
              "      <td>杉並区</td>\n",
              "      <td>97708.174675</td>\n",
              "    </tr>\n",
              "    <tr>\n",
              "      <th>18</th>\n",
              "      <td>練馬区</td>\n",
              "      <td>92724.943493</td>\n",
              "    </tr>\n",
              "    <tr>\n",
              "      <th>12</th>\n",
              "      <td>板橋区</td>\n",
              "      <td>90003.879310</td>\n",
              "    </tr>\n",
              "    <tr>\n",
              "      <th>13</th>\n",
              "      <td>江戸川区</td>\n",
              "      <td>86592.302585</td>\n",
              "    </tr>\n",
              "    <tr>\n",
              "      <th>22</th>\n",
              "      <td>足立区</td>\n",
              "      <td>85872.540849</td>\n",
              "    </tr>\n",
              "    <tr>\n",
              "      <th>20</th>\n",
              "      <td>葛飾区</td>\n",
              "      <td>79114.657591</td>\n",
              "    </tr>\n",
              "  </tbody>\n",
              "</table>\n",
              "</div>"
            ],
            "text/plain": [
              "    City           Rent\n",
              "16    港区  214061.744878\n",
              "4   千代田区  182706.236324\n",
              "1    中央区  180887.865520\n",
              "15   渋谷区  171839.786802\n",
              "17   目黒区  145674.389052\n",
              "10   新宿区  130573.957482\n",
              "9    文京区  128562.070628\n",
              "5    台東区  127625.944206\n",
              "14   江東区  126217.110743\n",
              "6    品川区  124609.473270\n",
              "19   荒川区  116817.881944\n",
              "7    墨田区  116201.346535\n",
              "0   世田谷区  113781.270261\n",
              "21   豊島区  110916.884343\n",
              "8    大田区  106981.675000\n",
              "2    中野区  101578.398018\n",
              "3     北区   99506.602871\n",
              "11   杉並区   97708.174675\n",
              "18   練馬区   92724.943493\n",
              "12   板橋区   90003.879310\n",
              "13  江戸川区   86592.302585\n",
              "22   足立区   85872.540849\n",
              "20   葛飾区   79114.657591"
            ]
          },
          "metadata": {
            "tags": []
          },
          "execution_count": 8
        }
      ]
    },
    {
      "cell_type": "code",
      "metadata": {
        "pycharm": {
          "name": "#%%\n",
          "is_executing": false
        },
        "id": "dIy1nnRWvPMA",
        "colab_type": "code",
        "colab": {}
      },
      "source": [
        "for dataset in train_test_data:\n",
        "    dataset['R'] = dataset['Type'].str.extract('([0-9])')\n",
        "    dataset['K'] = dataset['Type'].str.extract('(K)')\n",
        "    dataset['L'] = dataset['Type'].str.extract('(L)')\n",
        "    dataset['D'] = dataset['Type'].str.extract('(D)')\n",
        "    dataset['S'] = dataset['Type'].str.extract('(S)')\n"
      ],
      "execution_count": 0,
      "outputs": []
    },
    {
      "cell_type": "code",
      "metadata": {
        "pycharm": {
          "name": "#%%\n",
          "is_executing": false
        },
        "id": "c19btxpfvPMB",
        "colab_type": "code",
        "colab": {}
      },
      "source": [
        "for dataset in train_test_data:\n",
        "    dataset['K'] = dataset['K'].apply(lambda x: True if x == 'K' else False)\n",
        "    dataset['D'] = dataset['D'].apply(lambda x: True if x == 'D' else False)\n",
        "    dataset['L'] = dataset['L'].apply(lambda x: True if x == 'L' else False)\n",
        "    dataset['S'] = dataset['S'].apply(lambda x: True if x == 'S' else False)"
      ],
      "execution_count": 0,
      "outputs": []
    },
    {
      "cell_type": "code",
      "metadata": {
        "pycharm": {
          "name": "#%%\n",
          "is_executing": false
        },
        "id": "-MFyz-a5vPMD",
        "colab_type": "code",
        "outputId": "e60a2355-f76e-4288-9d10-3b06bad35b05",
        "colab": {
          "base_uri": "https://localhost:8080/",
          "height": 359
        }
      },
      "source": [
        "train[['id','R','K','D','L','S']].groupby(['id','R'],as_index=False).mean().head(10)"
      ],
      "execution_count": 0,
      "outputs": [
        {
          "output_type": "execute_result",
          "data": {
            "text/html": [
              "<div>\n",
              "<style scoped>\n",
              "    .dataframe tbody tr th:only-of-type {\n",
              "        vertical-align: middle;\n",
              "    }\n",
              "\n",
              "    .dataframe tbody tr th {\n",
              "        vertical-align: top;\n",
              "    }\n",
              "\n",
              "    .dataframe thead th {\n",
              "        text-align: right;\n",
              "    }\n",
              "</style>\n",
              "<table border=\"1\" class=\"dataframe\">\n",
              "  <thead>\n",
              "    <tr style=\"text-align: right;\">\n",
              "      <th></th>\n",
              "      <th>id</th>\n",
              "      <th>R</th>\n",
              "      <th>K</th>\n",
              "      <th>D</th>\n",
              "      <th>L</th>\n",
              "      <th>S</th>\n",
              "    </tr>\n",
              "  </thead>\n",
              "  <tbody>\n",
              "    <tr>\n",
              "      <th>0</th>\n",
              "      <td>1</td>\n",
              "      <td>1</td>\n",
              "      <td>True</td>\n",
              "      <td>False</td>\n",
              "      <td>False</td>\n",
              "      <td>False</td>\n",
              "    </tr>\n",
              "    <tr>\n",
              "      <th>1</th>\n",
              "      <td>2</td>\n",
              "      <td>1</td>\n",
              "      <td>False</td>\n",
              "      <td>False</td>\n",
              "      <td>False</td>\n",
              "      <td>False</td>\n",
              "    </tr>\n",
              "    <tr>\n",
              "      <th>2</th>\n",
              "      <td>3</td>\n",
              "      <td>1</td>\n",
              "      <td>True</td>\n",
              "      <td>False</td>\n",
              "      <td>False</td>\n",
              "      <td>False</td>\n",
              "    </tr>\n",
              "    <tr>\n",
              "      <th>3</th>\n",
              "      <td>4</td>\n",
              "      <td>2</td>\n",
              "      <td>True</td>\n",
              "      <td>True</td>\n",
              "      <td>True</td>\n",
              "      <td>False</td>\n",
              "    </tr>\n",
              "    <tr>\n",
              "      <th>4</th>\n",
              "      <td>5</td>\n",
              "      <td>2</td>\n",
              "      <td>True</td>\n",
              "      <td>True</td>\n",
              "      <td>False</td>\n",
              "      <td>False</td>\n",
              "    </tr>\n",
              "    <tr>\n",
              "      <th>5</th>\n",
              "      <td>6</td>\n",
              "      <td>2</td>\n",
              "      <td>True</td>\n",
              "      <td>True</td>\n",
              "      <td>True</td>\n",
              "      <td>False</td>\n",
              "    </tr>\n",
              "    <tr>\n",
              "      <th>6</th>\n",
              "      <td>7</td>\n",
              "      <td>1</td>\n",
              "      <td>True</td>\n",
              "      <td>False</td>\n",
              "      <td>False</td>\n",
              "      <td>False</td>\n",
              "    </tr>\n",
              "    <tr>\n",
              "      <th>7</th>\n",
              "      <td>8</td>\n",
              "      <td>1</td>\n",
              "      <td>True</td>\n",
              "      <td>False</td>\n",
              "      <td>False</td>\n",
              "      <td>False</td>\n",
              "    </tr>\n",
              "    <tr>\n",
              "      <th>8</th>\n",
              "      <td>9</td>\n",
              "      <td>2</td>\n",
              "      <td>True</td>\n",
              "      <td>True</td>\n",
              "      <td>False</td>\n",
              "      <td>False</td>\n",
              "    </tr>\n",
              "    <tr>\n",
              "      <th>9</th>\n",
              "      <td>10</td>\n",
              "      <td>1</td>\n",
              "      <td>True</td>\n",
              "      <td>True</td>\n",
              "      <td>False</td>\n",
              "      <td>False</td>\n",
              "    </tr>\n",
              "  </tbody>\n",
              "</table>\n",
              "</div>"
            ],
            "text/plain": [
              "   id  R      K      D      L      S\n",
              "0   1  1   True  False  False  False\n",
              "1   2  1  False  False  False  False\n",
              "2   3  1   True  False  False  False\n",
              "3   4  2   True   True   True  False\n",
              "4   5  2   True   True  False  False\n",
              "5   6  2   True   True   True  False\n",
              "6   7  1   True  False  False  False\n",
              "7   8  1   True  False  False  False\n",
              "8   9  2   True   True  False  False\n",
              "9  10  1   True   True  False  False"
            ]
          },
          "metadata": {
            "tags": []
          },
          "execution_count": 11
        }
      ]
    },
    {
      "cell_type": "code",
      "metadata": {
        "pycharm": {
          "name": "#%%\n",
          "is_executing": false
        },
        "id": "Llc7fVEdvPMH",
        "colab_type": "code",
        "outputId": "cba93992-8a9e-41eb-8766-2620162f859b",
        "colab": {
          "base_uri": "https://localhost:8080/",
          "height": 1000
        }
      },
      "source": [
        "train['Age'].value_counts()"
      ],
      "execution_count": 0,
      "outputs": [
        {
          "output_type": "execute_result",
          "data": {
            "text/plain": [
              "0年1ヶ月      983\n",
              "新築         889\n",
              "0年0ヶ月      704\n",
              "0年2ヶ月      644\n",
              "0年3ヶ月      508\n",
              "0年5ヶ月      484\n",
              "0年6ヶ月      378\n",
              "0年4ヶ月      323\n",
              "12年5ヶ月     262\n",
              "11年5ヶ月     227\n",
              "11年6ヶ月     224\n",
              "14年5ヶ月     216\n",
              "11年7ヶ月     185\n",
              "28年5ヶ月     181\n",
              "12年6ヶ月     181\n",
              "10年5ヶ月     181\n",
              "13年5ヶ月     180\n",
              "4年5ヶ月      172\n",
              "15年6ヶ月     155\n",
              "0年7ヶ月      152\n",
              "16年5ヶ月     149\n",
              "13年6ヶ月     148\n",
              "30年5ヶ月     148\n",
              "3年5ヶ月      141\n",
              "2年5ヶ月      138\n",
              "14年6ヶ月     137\n",
              "29年5ヶ月     133\n",
              "1年5ヶ月      130\n",
              "6年5ヶ月      130\n",
              "17年5ヶ月     130\n",
              "          ... \n",
              "56年5ヶ月       1\n",
              "51年11ヶ月      1\n",
              "52年0ヶ月       1\n",
              "61年1ヶ月       1\n",
              "58年9ヶ月       1\n",
              "61年9ヶ月       1\n",
              "60年3ヶ月       1\n",
              "58年11ヶ月      1\n",
              "62年0ヶ月       1\n",
              "53年9ヶ月       1\n",
              "53年10ヶ月      1\n",
              "50年0ヶ月       1\n",
              "66年5ヶ月       1\n",
              "62年2ヶ月       1\n",
              "61年2ヶ月       1\n",
              "63年4ヶ月       1\n",
              "57年6ヶ月       1\n",
              "60年2ヶ月       1\n",
              "79年7ヶ月       1\n",
              "59年8ヶ月       1\n",
              "64年7ヶ月       1\n",
              "56年9ヶ月       1\n",
              "60年1ヶ月       1\n",
              "55年11ヶ月      1\n",
              "63年3ヶ月       1\n",
              "55年9ヶ月       1\n",
              "57年1ヶ月       1\n",
              "61年10ヶ月      1\n",
              "50年3ヶ月       1\n",
              "62年1ヶ月       1\n",
              "Name: Age, Length: 746, dtype: int64"
            ]
          },
          "metadata": {
            "tags": []
          },
          "execution_count": 12
        }
      ]
    },
    {
      "cell_type": "code",
      "metadata": {
        "pycharm": {
          "name": "#%%\n",
          "is_executing": false
        },
        "id": "OdLsSKGdvPMJ",
        "colab_type": "code",
        "colab": {}
      },
      "source": [
        "for dataset in train_test_data:\n",
        "    dataset['Age'] = dataset['Age'].str.replace('0年([0-9])*ヶ月', '1年', regex=True)\n",
        "    dataset['Age'] = dataset['Age'].str.replace('新築', '0年', regex=True)"
      ],
      "execution_count": 0,
      "outputs": []
    },
    {
      "cell_type": "code",
      "metadata": {
        "pycharm": {
          "name": "#%%\n",
          "is_executing": false
        },
        "id": "nR4jWhE1vPMM",
        "colab_type": "code",
        "outputId": "5aa7e663-4bb7-45b8-e3a2-f0c57ad18e79",
        "colab": {
          "base_uri": "https://localhost:8080/",
          "height": 1000
        }
      },
      "source": [
        "train['Age'].value_counts()"
      ],
      "execution_count": 0,
      "outputs": [
        {
          "output_type": "execute_result",
          "data": {
            "text/plain": [
              "1年         4508\n",
              "0年          889\n",
              "31年         850\n",
              "11年         725\n",
              "21年         435\n",
              "12年5ヶ月      262\n",
              "11年5ヶ月      227\n",
              "11年6ヶ月      224\n",
              "41年         223\n",
              "14年5ヶ月      216\n",
              "11年7ヶ月      185\n",
              "28年5ヶ月      181\n",
              "12年6ヶ月      181\n",
              "13年5ヶ月      180\n",
              "4年5ヶ月       172\n",
              "15年6ヶ月      155\n",
              "16年5ヶ月      149\n",
              "13年6ヶ月      148\n",
              "3年5ヶ月       141\n",
              "2年5ヶ月       138\n",
              "14年6ヶ月      137\n",
              "29年5ヶ月      133\n",
              "6年5ヶ月       130\n",
              "17年5ヶ月      130\n",
              "1年5ヶ月       130\n",
              "25年5ヶ月      129\n",
              "12年11ヶ月     125\n",
              "15年5ヶ月      122\n",
              "27年5ヶ月      121\n",
              "2年0ヶ月       120\n",
              "           ... \n",
              "51年9ヶ月        1\n",
              "57年11ヶ月       1\n",
              "53年9ヶ月        1\n",
              "53年10ヶ月       1\n",
              "119年5ヶ月       1\n",
              "55年11ヶ月       1\n",
              "55年9ヶ月        1\n",
              "57年1ヶ月        1\n",
              "61年9ヶ月        1\n",
              "71年           1\n",
              "62年0ヶ月        1\n",
              "56年10ヶ月       1\n",
              "54年10ヶ月       1\n",
              "53年6ヶ月        1\n",
              "58年9ヶ月        1\n",
              "58年11ヶ月       1\n",
              "56年5ヶ月        1\n",
              "57年0ヶ月        1\n",
              "52年0ヶ月        1\n",
              "51年2ヶ月        1\n",
              "61年1ヶ月        1\n",
              "51年11ヶ月       1\n",
              "63年5ヶ月        1\n",
              "69年7ヶ月        1\n",
              "68年7ヶ月        1\n",
              "521年          1\n",
              "57年8ヶ月        1\n",
              "58年1ヶ月        1\n",
              "61年10ヶ月       1\n",
              "58年3ヶ月        1\n",
              "Name: Age, Length: 673, dtype: int64"
            ]
          },
          "metadata": {
            "tags": []
          },
          "execution_count": 14
        }
      ]
    },
    {
      "cell_type": "code",
      "metadata": {
        "pycharm": {
          "name": "#%%\n",
          "is_executing": false
        },
        "id": "9M2Cy3cQvPMO",
        "colab_type": "code",
        "colab": {}
      },
      "source": [
        "for dataset in train_test_data:\n",
        "    dataset['Age'] = dataset['Age'].str.extract('([0-9]*年)')\n",
        "    dataset['Age'] = dataset['Age'].str.extract('([0-9]*)')"
      ],
      "execution_count": 0,
      "outputs": []
    },
    {
      "cell_type": "code",
      "metadata": {
        "pycharm": {
          "name": "#%%\n",
          "is_executing": false
        },
        "id": "PX2WJQaXvPMQ",
        "colab_type": "code",
        "outputId": "cee3d710-c2ba-4797-9779-62a2b7a6bba1",
        "colab": {
          "base_uri": "https://localhost:8080/",
          "height": 34
        }
      },
      "source": [
        "train['Age'].isnull().sum()"
      ],
      "execution_count": 0,
      "outputs": [
        {
          "output_type": "execute_result",
          "data": {
            "text/plain": [
              "0"
            ]
          },
          "metadata": {
            "tags": []
          },
          "execution_count": 16
        }
      ]
    },
    {
      "cell_type": "code",
      "metadata": {
        "pycharm": {
          "name": "#%%\n",
          "is_executing": false
        },
        "id": "4gEmf_JivPMS",
        "colab_type": "code",
        "colab": {}
      },
      "source": [
        "train['Direction'].fillna('南',inplace=True)"
      ],
      "execution_count": 0,
      "outputs": []
    },
    {
      "cell_type": "code",
      "metadata": {
        "pycharm": {
          "name": "#%%\n",
          "is_executing": false
        },
        "id": "mF7ov57hvPMV",
        "colab_type": "code",
        "outputId": "c9002ddb-bccf-4697-8561-7e6eb4d457d3",
        "colab": {
          "base_uri": "https://localhost:8080/",
          "height": 297
        }
      },
      "source": [
        "train[['Direction', 'Rent']].groupby(['Direction'], as_index=False).mean()"
      ],
      "execution_count": 0,
      "outputs": [
        {
          "output_type": "execute_result",
          "data": {
            "text/html": [
              "<div>\n",
              "<style scoped>\n",
              "    .dataframe tbody tr th:only-of-type {\n",
              "        vertical-align: middle;\n",
              "    }\n",
              "\n",
              "    .dataframe tbody tr th {\n",
              "        vertical-align: top;\n",
              "    }\n",
              "\n",
              "    .dataframe thead th {\n",
              "        text-align: right;\n",
              "    }\n",
              "</style>\n",
              "<table border=\"1\" class=\"dataframe\">\n",
              "  <thead>\n",
              "    <tr style=\"text-align: right;\">\n",
              "      <th></th>\n",
              "      <th>Direction</th>\n",
              "      <th>Rent</th>\n",
              "    </tr>\n",
              "  </thead>\n",
              "  <tbody>\n",
              "    <tr>\n",
              "      <th>0</th>\n",
              "      <td>北</td>\n",
              "      <td>126057.842319</td>\n",
              "    </tr>\n",
              "    <tr>\n",
              "      <th>1</th>\n",
              "      <td>北東</td>\n",
              "      <td>127517.737320</td>\n",
              "    </tr>\n",
              "    <tr>\n",
              "      <th>2</th>\n",
              "      <td>北西</td>\n",
              "      <td>135791.875566</td>\n",
              "    </tr>\n",
              "    <tr>\n",
              "      <th>3</th>\n",
              "      <td>南</td>\n",
              "      <td>110610.190084</td>\n",
              "    </tr>\n",
              "    <tr>\n",
              "      <th>4</th>\n",
              "      <td>南東</td>\n",
              "      <td>131210.768238</td>\n",
              "    </tr>\n",
              "    <tr>\n",
              "      <th>5</th>\n",
              "      <td>南西</td>\n",
              "      <td>126737.894481</td>\n",
              "    </tr>\n",
              "    <tr>\n",
              "      <th>6</th>\n",
              "      <td>東</td>\n",
              "      <td>113991.111311</td>\n",
              "    </tr>\n",
              "    <tr>\n",
              "      <th>7</th>\n",
              "      <td>西</td>\n",
              "      <td>116873.421510</td>\n",
              "    </tr>\n",
              "  </tbody>\n",
              "</table>\n",
              "</div>"
            ],
            "text/plain": [
              "  Direction           Rent\n",
              "0         北  126057.842319\n",
              "1        北東  127517.737320\n",
              "2        北西  135791.875566\n",
              "3         南  110610.190084\n",
              "4        南東  131210.768238\n",
              "5        南西  126737.894481\n",
              "6         東  113991.111311\n",
              "7         西  116873.421510"
            ]
          },
          "metadata": {
            "tags": []
          },
          "execution_count": 18
        }
      ]
    },
    {
      "cell_type": "code",
      "metadata": {
        "pycharm": {
          "name": "#%%\n",
          "is_executing": false
        },
        "id": "xELq65swvPMY",
        "colab_type": "code",
        "colab": {}
      },
      "source": [
        "for dataset in train_test_data:\n",
        "    dataset['Area'] = dataset['Area'].str.extract('([0-9]*)')"
      ],
      "execution_count": 0,
      "outputs": []
    },
    {
      "cell_type": "code",
      "metadata": {
        "pycharm": {
          "name": "#%%\n",
          "is_executing": false
        },
        "id": "S_YHv0QXvPMb",
        "colab_type": "code",
        "outputId": "c0166d2d-8f93-41c6-dac2-c31413f9f32f",
        "colab": {
          "base_uri": "https://localhost:8080/",
          "height": 1000
        }
      },
      "source": [
        "train['Area'].value_counts()"
      ],
      "execution_count": 0,
      "outputs": [
        {
          "output_type": "execute_result",
          "data": {
            "text/plain": [
              "25     3382\n",
              "20     1483\n",
              "26     1289\n",
              "40     1246\n",
              "22     1149\n",
              "21     1141\n",
              "23      900\n",
              "30      841\n",
              "18      827\n",
              "19      814\n",
              "24      796\n",
              "16      737\n",
              "27      672\n",
              "29      661\n",
              "17      638\n",
              "41      584\n",
              "28      575\n",
              "33      518\n",
              "42      513\n",
              "32      495\n",
              "38      470\n",
              "31      466\n",
              "35      450\n",
              "45      444\n",
              "43      425\n",
              "39      424\n",
              "37      407\n",
              "34      402\n",
              "55      391\n",
              "44      372\n",
              "       ... \n",
              "171       1\n",
              "134       1\n",
              "132       1\n",
              "192       1\n",
              "116       1\n",
              "341       1\n",
              "152       1\n",
              "128       1\n",
              "163       1\n",
              "165       1\n",
              "125       1\n",
              "259       1\n",
              "164       1\n",
              "188       1\n",
              "185       1\n",
              "195       1\n",
              "173       1\n",
              "256       1\n",
              "153       1\n",
              "223       1\n",
              "115       1\n",
              "157       1\n",
              "430       1\n",
              "123       1\n",
              "169       1\n",
              "137       1\n",
              "172       1\n",
              "176       1\n",
              "217       1\n",
              "159       1\n",
              "Name: Area, Length: 174, dtype: int64"
            ]
          },
          "metadata": {
            "tags": []
          },
          "execution_count": 20
        }
      ]
    },
    {
      "cell_type": "code",
      "metadata": {
        "pycharm": {
          "name": "#%%\n",
          "is_executing": false
        },
        "id": "5F6A1V6EvPMe",
        "colab_type": "code",
        "outputId": "6d45be3e-f8c4-43bf-af1e-9dbdb32d7033",
        "colab": {
          "base_uri": "https://localhost:8080/",
          "height": 359
        }
      },
      "source": [
        "train[['Area', 'Rent']].groupby(['Area'], as_index=False).mean().sort_values(by=\"Rent\",ascending=False).head(10)"
      ],
      "execution_count": 0,
      "outputs": [
        {
          "output_type": "execute_result",
          "data": {
            "text/html": [
              "<div>\n",
              "<style scoped>\n",
              "    .dataframe tbody tr th:only-of-type {\n",
              "        vertical-align: middle;\n",
              "    }\n",
              "\n",
              "    .dataframe tbody tr th {\n",
              "        vertical-align: top;\n",
              "    }\n",
              "\n",
              "    .dataframe thead th {\n",
              "        text-align: right;\n",
              "    }\n",
              "</style>\n",
              "<table border=\"1\" class=\"dataframe\">\n",
              "  <thead>\n",
              "    <tr style=\"text-align: right;\">\n",
              "      <th></th>\n",
              "      <th>Area</th>\n",
              "      <th>Rent</th>\n",
              "    </tr>\n",
              "  </thead>\n",
              "  <tbody>\n",
              "    <tr>\n",
              "      <th>80</th>\n",
              "      <td>217</td>\n",
              "      <td>2500000.0</td>\n",
              "    </tr>\n",
              "    <tr>\n",
              "      <th>101</th>\n",
              "      <td>341</td>\n",
              "      <td>1660000.0</td>\n",
              "    </tr>\n",
              "    <tr>\n",
              "      <th>86</th>\n",
              "      <td>232</td>\n",
              "      <td>1450000.0</td>\n",
              "    </tr>\n",
              "    <tr>\n",
              "      <th>83</th>\n",
              "      <td>223</td>\n",
              "      <td>1300000.0</td>\n",
              "    </tr>\n",
              "    <tr>\n",
              "      <th>28</th>\n",
              "      <td>125</td>\n",
              "      <td>1300000.0</td>\n",
              "    </tr>\n",
              "    <tr>\n",
              "      <th>57</th>\n",
              "      <td>163</td>\n",
              "      <td>1200000.0</td>\n",
              "    </tr>\n",
              "    <tr>\n",
              "      <th>82</th>\n",
              "      <td>221</td>\n",
              "      <td>1120000.0</td>\n",
              "    </tr>\n",
              "    <tr>\n",
              "      <th>65</th>\n",
              "      <td>171</td>\n",
              "      <td>1100000.0</td>\n",
              "    </tr>\n",
              "    <tr>\n",
              "      <th>75</th>\n",
              "      <td>192</td>\n",
              "      <td>1100000.0</td>\n",
              "    </tr>\n",
              "    <tr>\n",
              "      <th>68</th>\n",
              "      <td>176</td>\n",
              "      <td>1100000.0</td>\n",
              "    </tr>\n",
              "  </tbody>\n",
              "</table>\n",
              "</div>"
            ],
            "text/plain": [
              "    Area       Rent\n",
              "80   217  2500000.0\n",
              "101  341  1660000.0\n",
              "86   232  1450000.0\n",
              "83   223  1300000.0\n",
              "28   125  1300000.0\n",
              "57   163  1200000.0\n",
              "82   221  1120000.0\n",
              "65   171  1100000.0\n",
              "75   192  1100000.0\n",
              "68   176  1100000.0"
            ]
          },
          "metadata": {
            "tags": []
          },
          "execution_count": 21
        }
      ]
    },
    {
      "cell_type": "code",
      "metadata": {
        "pycharm": {
          "name": "#%%\n",
          "is_executing": false
        },
        "id": "Kh-09XXtvPMg",
        "colab_type": "code",
        "colab": {}
      },
      "source": [
        "for dataset in train_test_data:\n",
        "    dataset['Floor'] = dataset['Floor'].str.extract('([0-9]*階／)')\n",
        "    dataset['Floor'] = dataset['Floor'].str.extract('([0-9]*)')"
      ],
      "execution_count": 0,
      "outputs": []
    },
    {
      "cell_type": "code",
      "metadata": {
        "pycharm": {
          "name": "#%%\n",
          "is_executing": false
        },
        "id": "jxggLaAPvPMj",
        "colab_type": "code",
        "colab": {}
      },
      "source": [
        "train['Floor'].fillna(2,inplace=True)"
      ],
      "execution_count": 0,
      "outputs": []
    },
    {
      "cell_type": "code",
      "metadata": {
        "pycharm": {
          "name": "#%%\n",
          "is_executing": false
        },
        "id": "Jyv5-9qDvPMl",
        "colab_type": "code",
        "outputId": "7052d1db-af6c-4022-fb80-3ee8b27eba42",
        "colab": {
          "base_uri": "https://localhost:8080/",
          "height": 359
        }
      },
      "source": [
        "train[['Floor', 'Rent']].groupby(['Floor'], as_index=False).mean().sort_values(by=\"Rent\",ascending=False).head(10)"
      ],
      "execution_count": 0,
      "outputs": [
        {
          "output_type": "execute_result",
          "data": {
            "text/html": [
              "<div>\n",
              "<style scoped>\n",
              "    .dataframe tbody tr th:only-of-type {\n",
              "        vertical-align: middle;\n",
              "    }\n",
              "\n",
              "    .dataframe tbody tr th {\n",
              "        vertical-align: top;\n",
              "    }\n",
              "\n",
              "    .dataframe thead th {\n",
              "        text-align: right;\n",
              "    }\n",
              "</style>\n",
              "<table border=\"1\" class=\"dataframe\">\n",
              "  <thead>\n",
              "    <tr style=\"text-align: right;\">\n",
              "      <th></th>\n",
              "      <th>Floor</th>\n",
              "      <th>Rent</th>\n",
              "    </tr>\n",
              "  </thead>\n",
              "  <tbody>\n",
              "    <tr>\n",
              "      <th>38</th>\n",
              "      <td>43</td>\n",
              "      <td>648250.000000</td>\n",
              "    </tr>\n",
              "    <tr>\n",
              "      <th>44</th>\n",
              "      <td>50</td>\n",
              "      <td>620000.000000</td>\n",
              "    </tr>\n",
              "    <tr>\n",
              "      <th>46</th>\n",
              "      <td>53</td>\n",
              "      <td>505000.000000</td>\n",
              "    </tr>\n",
              "    <tr>\n",
              "      <th>31</th>\n",
              "      <td>37</td>\n",
              "      <td>428000.000000</td>\n",
              "    </tr>\n",
              "    <tr>\n",
              "      <th>33</th>\n",
              "      <td>39</td>\n",
              "      <td>393250.000000</td>\n",
              "    </tr>\n",
              "    <tr>\n",
              "      <th>37</th>\n",
              "      <td>42</td>\n",
              "      <td>384285.714286</td>\n",
              "    </tr>\n",
              "    <tr>\n",
              "      <th>30</th>\n",
              "      <td>36</td>\n",
              "      <td>379600.000000</td>\n",
              "    </tr>\n",
              "    <tr>\n",
              "      <th>32</th>\n",
              "      <td>38</td>\n",
              "      <td>376812.500000</td>\n",
              "    </tr>\n",
              "    <tr>\n",
              "      <th>36</th>\n",
              "      <td>41</td>\n",
              "      <td>330000.000000</td>\n",
              "    </tr>\n",
              "    <tr>\n",
              "      <th>21</th>\n",
              "      <td>28</td>\n",
              "      <td>327066.666667</td>\n",
              "    </tr>\n",
              "  </tbody>\n",
              "</table>\n",
              "</div>"
            ],
            "text/plain": [
              "   Floor           Rent\n",
              "38    43  648250.000000\n",
              "44    50  620000.000000\n",
              "46    53  505000.000000\n",
              "31    37  428000.000000\n",
              "33    39  393250.000000\n",
              "37    42  384285.714286\n",
              "30    36  379600.000000\n",
              "32    38  376812.500000\n",
              "36    41  330000.000000\n",
              "21    28  327066.666667"
            ]
          },
          "metadata": {
            "tags": []
          },
          "execution_count": 24
        }
      ]
    },
    {
      "cell_type": "code",
      "metadata": {
        "pycharm": {
          "name": "#%%\n",
          "is_executing": false
        },
        "id": "9NOqrbsfvPMm",
        "colab_type": "code",
        "outputId": "ee4553c8-2f8a-48ee-b97a-9e92d3b0f9d0",
        "colab": {
          "base_uri": "https://localhost:8080/",
          "height": 204
        }
      },
      "source": [
        "train['Material'].value_counts()"
      ],
      "execution_count": 0,
      "outputs": [
        {
          "output_type": "execute_result",
          "data": {
            "text/plain": [
              "RC（鉄筋コンクリート）                   17505\n",
              "木造                              5512\n",
              "鉄骨造                             3726\n",
              "SRC（鉄骨鉄筋コンクリート）                 2429\n",
              "軽量鉄骨                            1812\n",
              "ALC（軽量気泡コンクリート）                  297\n",
              "その他                              136\n",
              "PC（プレキャスト・コンクリート（鉄筋コンクリート））       46\n",
              "HPC（プレキャスト・コンクリート（重量鉄骨））           4\n",
              "ブロック                               3\n",
              "Name: Material, dtype: int64"
            ]
          },
          "metadata": {
            "tags": []
          },
          "execution_count": 25
        }
      ]
    },
    {
      "cell_type": "code",
      "metadata": {
        "pycharm": {
          "name": "#%%\n",
          "is_executing": false
        },
        "id": "DatsYN-BvPMo",
        "colab_type": "code",
        "outputId": "c4be0d31-8509-40c3-d178-04988ed14996",
        "colab": {
          "base_uri": "https://localhost:8080/",
          "height": 359
        }
      },
      "source": [
        "train[['Material', 'Rent']].groupby(['Material'], as_index=False).mean().sort_values(by=\"Rent\",ascending=False).head(10)\n"
      ],
      "execution_count": 0,
      "outputs": [
        {
          "output_type": "execute_result",
          "data": {
            "text/html": [
              "<div>\n",
              "<style scoped>\n",
              "    .dataframe tbody tr th:only-of-type {\n",
              "        vertical-align: middle;\n",
              "    }\n",
              "\n",
              "    .dataframe tbody tr th {\n",
              "        vertical-align: top;\n",
              "    }\n",
              "\n",
              "    .dataframe thead th {\n",
              "        text-align: right;\n",
              "    }\n",
              "</style>\n",
              "<table border=\"1\" class=\"dataframe\">\n",
              "  <thead>\n",
              "    <tr style=\"text-align: right;\">\n",
              "      <th></th>\n",
              "      <th>Material</th>\n",
              "      <th>Rent</th>\n",
              "    </tr>\n",
              "  </thead>\n",
              "  <tbody>\n",
              "    <tr>\n",
              "      <th>4</th>\n",
              "      <td>SRC（鉄骨鉄筋コンクリート）</td>\n",
              "      <td>142525.408399</td>\n",
              "    </tr>\n",
              "    <tr>\n",
              "      <th>3</th>\n",
              "      <td>RC（鉄筋コンクリート）</td>\n",
              "      <td>134366.134704</td>\n",
              "    </tr>\n",
              "    <tr>\n",
              "      <th>0</th>\n",
              "      <td>ALC（軽量気泡コンクリート）</td>\n",
              "      <td>107103.703704</td>\n",
              "    </tr>\n",
              "    <tr>\n",
              "      <th>2</th>\n",
              "      <td>PC（プレキャスト・コンクリート（鉄筋コンクリート））</td>\n",
              "      <td>106195.652174</td>\n",
              "    </tr>\n",
              "    <tr>\n",
              "      <th>8</th>\n",
              "      <td>軽量鉄骨</td>\n",
              "      <td>94458.160044</td>\n",
              "    </tr>\n",
              "    <tr>\n",
              "      <th>1</th>\n",
              "      <td>HPC（プレキャスト・コンクリート（重量鉄骨））</td>\n",
              "      <td>93000.000000</td>\n",
              "    </tr>\n",
              "    <tr>\n",
              "      <th>9</th>\n",
              "      <td>鉄骨造</td>\n",
              "      <td>91993.971014</td>\n",
              "    </tr>\n",
              "    <tr>\n",
              "      <th>7</th>\n",
              "      <td>木造</td>\n",
              "      <td>83823.202286</td>\n",
              "    </tr>\n",
              "    <tr>\n",
              "      <th>5</th>\n",
              "      <td>その他</td>\n",
              "      <td>81724.448529</td>\n",
              "    </tr>\n",
              "    <tr>\n",
              "      <th>6</th>\n",
              "      <td>ブロック</td>\n",
              "      <td>60000.000000</td>\n",
              "    </tr>\n",
              "  </tbody>\n",
              "</table>\n",
              "</div>"
            ],
            "text/plain": [
              "                      Material           Rent\n",
              "4              SRC（鉄骨鉄筋コンクリート）  142525.408399\n",
              "3                 RC（鉄筋コンクリート）  134366.134704\n",
              "0              ALC（軽量気泡コンクリート）  107103.703704\n",
              "2  PC（プレキャスト・コンクリート（鉄筋コンクリート））  106195.652174\n",
              "8                         軽量鉄骨   94458.160044\n",
              "1     HPC（プレキャスト・コンクリート（重量鉄骨））   93000.000000\n",
              "9                          鉄骨造   91993.971014\n",
              "7                           木造   83823.202286\n",
              "5                          その他   81724.448529\n",
              "6                         ブロック   60000.000000"
            ]
          },
          "metadata": {
            "tags": []
          },
          "execution_count": 26
        }
      ]
    },
    {
      "cell_type": "code",
      "metadata": {
        "pycharm": {
          "name": "#%%\n",
          "is_executing": false
        },
        "id": "qkpy5_aKvPMq",
        "colab_type": "code",
        "outputId": "a3f588e8-c292-4778-e6c9-4edee3405485",
        "colab": {
          "base_uri": "https://localhost:8080/",
          "height": 1000
        }
      },
      "source": [
        "train['Contract'].value_counts()"
      ],
      "execution_count": 0,
      "outputs": [
        {
          "output_type": "execute_result",
          "data": {
            "text/plain": [
              "2年間                              22555\n",
              "2年間\\t※この物件は\\t定期借家\\tです。             931\n",
              "5年間\\t※この物件は\\t定期借家\\tです。             240\n",
              "3年間\\t※この物件は\\t定期借家\\tです。             230\n",
              "1年間                                 87\n",
              "1年間\\t※この物件は\\t定期借家\\tです。              70\n",
              "4年間\\t※この物件は\\t定期借家\\tです。              62\n",
              "3年間                                 14\n",
              "2ヶ月間                                11\n",
              "2022年3月まで\\t※この物件は\\t定期借家\\tです。         9\n",
              "6年間\\t※この物件は\\t定期借家\\tです。               9\n",
              "2021年3月まで\\t※この物件は\\t定期借家\\tです。         8\n",
              "10年間\\t※この物件は\\t定期借家\\tです。              7\n",
              "2020年5月まで\\t※この物件は\\t定期借家\\tです。         7\n",
              "2020年3月まで\\t※この物件は\\t定期借家\\tです。         6\n",
              "2022年6月まで\\t※この物件は\\t定期借家\\tです。         6\n",
              "2024年3月まで\\t※この物件は\\t定期借家\\tです。         5\n",
              "2020年6月まで\\t※この物件は\\t定期借家\\tです。         5\n",
              "2021年2月まで\\t※この物件は\\t定期借家\\tです。         5\n",
              "2020年8月まで\\t※この物件は\\t定期借家\\tです。         5\n",
              "2022年7月まで\\t※この物件は\\t定期借家\\tです。         4\n",
              "2022年2月まで\\t※この物件は\\t定期借家\\tです。         4\n",
              "5年間                                  4\n",
              "7年間\\t※この物件は\\t定期借家\\tです。               4\n",
              "2021年4月まで\\t※この物件は\\t定期借家\\tです。         4\n",
              "2年6ヶ月間\\t※この物件は\\t定期借家\\tです。            3\n",
              "2021年12月まで\\t※この物件は\\t定期借家\\tです。        3\n",
              "2019年12月まで\\t※この物件は\\t定期借家\\tです。        2\n",
              "4年6ヶ月間\\t※この物件は\\t定期借家\\tです。            2\n",
              "2020年12月まで\\t※この物件は\\t定期借家\\tです。        2\n",
              "                                 ...  \n",
              "2021年8月まで\\t※この物件は\\t定期借家\\tです。         2\n",
              "2021年7月まで\\t※この物件は\\t定期借家\\tです。         2\n",
              "2020年2月まで\\t※この物件は\\t定期借家\\tです。         2\n",
              "22年間                                 2\n",
              "5年7ヶ月間\\t※この物件は\\t定期借家\\tです。            1\n",
              "12年間                                 1\n",
              "4年8ヶ月間\\t※この物件は\\t定期借家\\tです。            1\n",
              "2021年1月まで\\t※この物件は\\t定期借家\\tです。         1\n",
              "2021年6月まで\\t※この物件は\\t定期借家\\tです。         1\n",
              "4年9ヶ月間\\t※この物件は\\t定期借家\\tです。            1\n",
              "2023年10月まで\\t※この物件は\\t定期借家\\tです。        1\n",
              "2022年5月まで\\t※この物件は\\t定期借家\\tです。         1\n",
              "2020年1月まで\\t※この物件は\\t定期借家\\tです。         1\n",
              "2023年3月まで\\t※この物件は\\t定期借家\\tです。         1\n",
              "9ヶ月間\\t※この物件は\\t定期借家\\tです。              1\n",
              "3年9ヶ月間\\t※この物件は\\t定期借家\\tです。            1\n",
              "2022年9月まで\\t※この物件は\\t定期借家\\tです。         1\n",
              "2021年9月まで\\t※この物件は\\t定期借家\\tです。         1\n",
              "6ヶ月間\\t※この物件は\\t定期借家\\tです。              1\n",
              "1年6ヶ月間\\t※この物件は\\t定期借家\\tです。            1\n",
              "4年7ヶ月間\\t※この物件は\\t定期借家\\tです。            1\n",
              "2021年5月まで\\t※この物件は\\t定期借家\\tです。         1\n",
              "2022年8月まで\\t※この物件は\\t定期借家\\tです。         1\n",
              "1ヶ月間                                 1\n",
              "3年3ヶ月間\\t※この物件は\\t定期借家\\tです。            1\n",
              "2年4ヶ月間\\t※この物件は\\t定期借家\\tです。            1\n",
              "1年8ヶ月間\\t※この物件は\\t定期借家\\tです。            1\n",
              "2020年7月まで                            1\n",
              "1年5ヶ月間\\t※この物件は\\t定期借家\\tです。            1\n",
              "15年間                                 1\n",
              "Name: Contract, Length: 66, dtype: int64"
            ]
          },
          "metadata": {
            "tags": []
          },
          "execution_count": 27
        }
      ]
    },
    {
      "cell_type": "code",
      "metadata": {
        "pycharm": {
          "name": "#%%\n",
          "is_executing": false
        },
        "id": "Atj8F36IvPMs",
        "colab_type": "code",
        "colab": {}
      },
      "source": [
        "for dataset in train_test_data:\n",
        "    dataset['period'] = dataset['Contract'].str.extract('([0-9]*年[0-9]*月まで)')\n",
        "    dataset['month'] = dataset['Contract'].str.extract('([0-9]*ヶ月)')"
      ],
      "execution_count": 0,
      "outputs": []
    },
    {
      "cell_type": "code",
      "metadata": {
        "pycharm": {
          "name": "#%%\n",
          "is_executing": false
        },
        "id": "qvpNs5qBvPMt",
        "colab_type": "code",
        "outputId": "0c19da01-c16b-4b00-d456-9892c65fa2c8",
        "colab": {
          "base_uri": "https://localhost:8080/",
          "height": 204
        }
      },
      "source": [
        "train['month'].value_counts()"
      ],
      "execution_count": 0,
      "outputs": [
        {
          "output_type": "execute_result",
          "data": {
            "text/plain": [
              "2ヶ月     11\n",
              "6ヶ月      7\n",
              "9ヶ月      3\n",
              "10ヶ月     2\n",
              "8ヶ月      2\n",
              "7ヶ月      2\n",
              "4ヶ月      1\n",
              "5ヶ月      1\n",
              "3ヶ月      1\n",
              "1ヶ月      1\n",
              "Name: month, dtype: int64"
            ]
          },
          "metadata": {
            "tags": []
          },
          "execution_count": 29
        }
      ]
    },
    {
      "cell_type": "code",
      "metadata": {
        "pycharm": {
          "name": "#%%\n",
          "is_executing": false
        },
        "id": "_YOVezXDvPMv",
        "colab_type": "code",
        "outputId": "08037de2-04ef-4881-ffb0-7e7005e8f7a7",
        "colab": {
          "base_uri": "https://localhost:8080/",
          "height": 595
        }
      },
      "source": [
        "train['period'].value_counts()\n",
        "\n"
      ],
      "execution_count": 0,
      "outputs": [
        {
          "output_type": "execute_result",
          "data": {
            "text/plain": [
              "2022年3月まで     9\n",
              "2021年3月まで     8\n",
              "2020年5月まで     7\n",
              "2020年3月まで     6\n",
              "2022年6月まで     6\n",
              "2021年2月まで     5\n",
              "2020年8月まで     5\n",
              "2020年6月まで     5\n",
              "2024年3月まで     5\n",
              "2022年7月まで     4\n",
              "2022年2月まで     4\n",
              "2021年4月まで     4\n",
              "2021年12月まで    3\n",
              "2021年7月まで     2\n",
              "2023年2月まで     2\n",
              "2023年8月まで     2\n",
              "2020年12月まで    2\n",
              "2024年2月まで     2\n",
              "2024年9月まで     2\n",
              "2021年8月まで     2\n",
              "2019年12月まで    2\n",
              "2020年2月まで     2\n",
              "2023年3月まで     1\n",
              "2022年5月まで     1\n",
              "2020年7月まで     1\n",
              "2021年6月まで     1\n",
              "2021年5月まで     1\n",
              "2021年1月まで     1\n",
              "2020年1月まで     1\n",
              "2022年8月まで     1\n",
              "2022年9月まで     1\n",
              "2021年9月まで     1\n",
              "2023年10月まで    1\n",
              "Name: period, dtype: int64"
            ]
          },
          "metadata": {
            "tags": []
          },
          "execution_count": 30
        }
      ]
    },
    {
      "cell_type": "code",
      "metadata": {
        "pycharm": {
          "name": "#%%\n",
          "is_executing": false
        },
        "id": "CgNhLhSCvPMx",
        "colab_type": "code",
        "colab": {}
      },
      "source": [
        "for dataset in train_test_data:\n",
        "    #dataset['Contract'] = dataset['Contract'].str.extract('([0-9]*ヶ月)')\n",
        "    dataset['Contract'] = dataset['Contract'].str.replace('2019年', '0年', regex=True)\n",
        "    dataset['Contract'] = dataset['Contract'].str.replace('2020年', '1年', regex=True)\n",
        "    dataset['Contract'] = dataset['Contract'].str.replace('2021年', '2年', regex=True)\n",
        "    dataset['Contract'] = dataset['Contract'].str.replace('2022年', '3年', regex=True)\n",
        "    dataset['Contract'] = dataset['Contract'].str.replace('2023年', '4年', regex=True)\n",
        "    dataset['Contract'] = dataset['Contract'].str.replace('2024年', '5年', regex=True)\n",
        "    dataset['Contract'] = dataset['Contract'].str.extract('([0-9]*年)')\n",
        "    dataset['Contract'] = dataset['Contract'].str.extract('([0-9]*)')\n",
        "    "
      ],
      "execution_count": 0,
      "outputs": []
    },
    {
      "cell_type": "code",
      "metadata": {
        "pycharm": {
          "name": "#%%\n",
          "is_executing": false
        },
        "id": "OTb_IJjbvPMy",
        "colab_type": "code",
        "colab": {}
      },
      "source": [
        "train['Contract'].fillna(2,inplace=True)"
      ],
      "execution_count": 0,
      "outputs": []
    },
    {
      "cell_type": "code",
      "metadata": {
        "pycharm": {
          "name": "#%%\n",
          "is_executing": false
        },
        "id": "2GwjvnY1vPM1",
        "colab_type": "code",
        "outputId": "e833b8d3-1451-4079-f348-399d6869b6c9",
        "colab": {
          "base_uri": "https://localhost:8080/",
          "height": 34
        }
      },
      "source": [
        "train['Contract'].isnull().sum()"
      ],
      "execution_count": 0,
      "outputs": [
        {
          "output_type": "execute_result",
          "data": {
            "text/plain": [
              "0"
            ]
          },
          "metadata": {
            "tags": []
          },
          "execution_count": 33
        }
      ]
    },
    {
      "cell_type": "code",
      "metadata": {
        "pycharm": {
          "name": "#%%\n",
          "is_executing": false
        },
        "id": "SOCpgi0OvPM3",
        "colab_type": "code",
        "colab": {}
      },
      "source": [
        "for dataset in train_test_data:\n",
        "    dataset['Station'] = dataset['Access'].str.extract('([\\u4E00-\\u9FAF|\\u3040-\\u3096|\\u30A1-\\u30FA|\\uFF66-\\uFF9D|\\u31F0-\\u31FF]*)駅')"
      ],
      "execution_count": 0,
      "outputs": []
    },
    {
      "cell_type": "code",
      "metadata": {
        "pycharm": {
          "name": "#%%\n",
          "is_executing": false
        },
        "id": "REiZJ6pEvPM4",
        "colab_type": "code",
        "outputId": "04e6815d-d096-4670-c1e0-ca8fc58068fe",
        "colab": {
          "base_uri": "https://localhost:8080/",
          "height": 1000
        }
      },
      "source": [
        "train['Station'].value_counts()"
      ],
      "execution_count": 0,
      "outputs": [
        {
          "output_type": "execute_result",
          "data": {
            "text/plain": [
              "          3807\n",
              "三軒茶屋       352\n",
              "葛西         337\n",
              "小岩         335\n",
              "池袋         320\n",
              "新小岩        293\n",
              "綾瀬         284\n",
              "千歳烏山       259\n",
              "北千住        259\n",
              "大泉学園       232\n",
              "学芸大学       215\n",
              "亀有         215\n",
              "荻窪         205\n",
              "西新井        203\n",
              "恵比寿        200\n",
              "目黒         200\n",
              "板橋本町       198\n",
              "蒲田         197\n",
              "駒沢大学       197\n",
              "三ノ輪        196\n",
              "篠崎         192\n",
              "錦糸町        192\n",
              "門前仲町       189\n",
              "勝どき        187\n",
              "麻布十番       183\n",
              "月島         183\n",
              "笹塚         182\n",
              "都立大学       180\n",
              "豊洲         180\n",
              "高円寺        170\n",
              "          ... \n",
              "信濃町          5\n",
              "京成関屋         4\n",
              "荒川区役所前       4\n",
              "越中島          3\n",
              "新日本橋         3\n",
              "宮ノ前          3\n",
              "荒川車庫前        2\n",
              "梶原           2\n",
              "大崎広小路        2\n",
              "西武新宿         2\n",
              "竹橋           2\n",
              "町屋二丁目        2\n",
              "狛江           2\n",
              "永田町          2\n",
              "堀切           2\n",
              "三ノ輪橋         2\n",
              "天空橋          2\n",
              "上野広小路        2\n",
              "東池袋四丁目       1\n",
              "面影橋          1\n",
              "大塚駅前         1\n",
              "国立競技場        1\n",
              "川崎           1\n",
              "荒川一中前        1\n",
              "巣鴨新田         1\n",
              "新宿西口         1\n",
              "鬼子母神前        1\n",
              "足立小台         1\n",
              "町屋駅前         1\n",
              "京成上野         1\n",
              "Name: Station, Length: 407, dtype: int64"
            ]
          },
          "metadata": {
            "tags": []
          },
          "execution_count": 35
        }
      ]
    },
    {
      "cell_type": "code",
      "metadata": {
        "pycharm": {
          "name": "#%%\n",
          "is_executing": false
        },
        "id": "2GNkFfr2vPM6",
        "colab_type": "code",
        "outputId": "81a7b885-4450-4ec5-df25-a20df0d9e089",
        "colab": {
          "base_uri": "https://localhost:8080/",
          "height": 359
        }
      },
      "source": [
        "train[['Station','Rent']].groupby(['Station'],as_index=False).mean().sort_values(by=\"Rent\",ascending=False).head(10)\n"
      ],
      "execution_count": 0,
      "outputs": [
        {
          "output_type": "execute_result",
          "data": {
            "text/html": [
              "<div>\n",
              "<style scoped>\n",
              "    .dataframe tbody tr th:only-of-type {\n",
              "        vertical-align: middle;\n",
              "    }\n",
              "\n",
              "    .dataframe tbody tr th {\n",
              "        vertical-align: top;\n",
              "    }\n",
              "\n",
              "    .dataframe thead th {\n",
              "        text-align: right;\n",
              "    }\n",
              "</style>\n",
              "<table border=\"1\" class=\"dataframe\">\n",
              "  <thead>\n",
              "    <tr style=\"text-align: right;\">\n",
              "      <th></th>\n",
              "      <th>Station</th>\n",
              "      <th>Rent</th>\n",
              "    </tr>\n",
              "  </thead>\n",
              "  <tbody>\n",
              "    <tr>\n",
              "      <th>384</th>\n",
              "      <td>青山一丁目</td>\n",
              "      <td>547000.000000</td>\n",
              "    </tr>\n",
              "    <tr>\n",
              "      <th>333</th>\n",
              "      <td>虎ノ門</td>\n",
              "      <td>420000.000000</td>\n",
              "    </tr>\n",
              "    <tr>\n",
              "      <th>242</th>\n",
              "      <td>永田町</td>\n",
              "      <td>407500.000000</td>\n",
              "    </tr>\n",
              "    <tr>\n",
              "      <th>405</th>\n",
              "      <td>麹町</td>\n",
              "      <td>405000.000000</td>\n",
              "    </tr>\n",
              "    <tr>\n",
              "      <th>40</th>\n",
              "      <td>乃木坂</td>\n",
              "      <td>342543.478261</td>\n",
              "    </tr>\n",
              "    <tr>\n",
              "      <th>112</th>\n",
              "      <td>外苑前</td>\n",
              "      <td>325166.666667</td>\n",
              "    </tr>\n",
              "    <tr>\n",
              "      <th>93</th>\n",
              "      <td>半蔵門</td>\n",
              "      <td>317621.621622</td>\n",
              "    </tr>\n",
              "    <tr>\n",
              "      <th>294</th>\n",
              "      <td>神谷町</td>\n",
              "      <td>305547.619048</td>\n",
              "    </tr>\n",
              "    <tr>\n",
              "      <th>62</th>\n",
              "      <td>代官山</td>\n",
              "      <td>294111.111111</td>\n",
              "    </tr>\n",
              "    <tr>\n",
              "      <th>244</th>\n",
              "      <td>汐留</td>\n",
              "      <td>282538.461538</td>\n",
              "    </tr>\n",
              "  </tbody>\n",
              "</table>\n",
              "</div>"
            ],
            "text/plain": [
              "    Station           Rent\n",
              "384   青山一丁目  547000.000000\n",
              "333     虎ノ門  420000.000000\n",
              "242     永田町  407500.000000\n",
              "405      麹町  405000.000000\n",
              "40      乃木坂  342543.478261\n",
              "112     外苑前  325166.666667\n",
              "93      半蔵門  317621.621622\n",
              "294     神谷町  305547.619048\n",
              "62      代官山  294111.111111\n",
              "244      汐留  282538.461538"
            ]
          },
          "metadata": {
            "tags": []
          },
          "execution_count": 36
        }
      ]
    },
    {
      "cell_type": "code",
      "metadata": {
        "pycharm": {
          "name": "#%%\n",
          "is_executing": false
        },
        "id": "CRsy1JI0vPM9",
        "colab_type": "code",
        "colab": {}
      },
      "source": [
        "for dataset in train_test_data:\n",
        "    dataset['Minute'] = dataset['Access'].str.extract('(徒歩[0-9]*分)')\n",
        "    dataset['Minute'] = dataset['Minute'].str.extract('([0-9]*分)')\n",
        "    dataset['min'] = dataset['Minute'].str.extract('([0-9]*)')"
      ],
      "execution_count": 0,
      "outputs": []
    },
    {
      "cell_type": "code",
      "metadata": {
        "pycharm": {
          "name": "#%%\n",
          "is_executing": false
        },
        "id": "GiWS8rrBvPM_",
        "colab_type": "code",
        "outputId": "12aabc25-f411-483e-d807-4f1d7fcb2f7c",
        "colab": {
          "base_uri": "https://localhost:8080/",
          "height": 1000
        }
      },
      "source": [
        "train[['min','Rent']].groupby(['min'],as_index=False).mean().sort_values(by=\"Rent\",ascending=False)"
      ],
      "execution_count": 0,
      "outputs": [
        {
          "output_type": "execute_result",
          "data": {
            "text/html": [
              "<div>\n",
              "<style scoped>\n",
              "    .dataframe tbody tr th:only-of-type {\n",
              "        vertical-align: middle;\n",
              "    }\n",
              "\n",
              "    .dataframe tbody tr th {\n",
              "        vertical-align: top;\n",
              "    }\n",
              "\n",
              "    .dataframe thead th {\n",
              "        text-align: right;\n",
              "    }\n",
              "</style>\n",
              "<table border=\"1\" class=\"dataframe\">\n",
              "  <thead>\n",
              "    <tr style=\"text-align: right;\">\n",
              "      <th></th>\n",
              "      <th>min</th>\n",
              "      <th>Rent</th>\n",
              "    </tr>\n",
              "  </thead>\n",
              "  <tbody>\n",
              "    <tr>\n",
              "      <th>0</th>\n",
              "      <td>1</td>\n",
              "      <td>133140.359712</td>\n",
              "    </tr>\n",
              "    <tr>\n",
              "      <th>11</th>\n",
              "      <td>2</td>\n",
              "      <td>129289.728832</td>\n",
              "    </tr>\n",
              "    <tr>\n",
              "      <th>22</th>\n",
              "      <td>3</td>\n",
              "      <td>126990.969928</td>\n",
              "    </tr>\n",
              "    <tr>\n",
              "      <th>35</th>\n",
              "      <td>5</td>\n",
              "      <td>126507.136564</td>\n",
              "    </tr>\n",
              "    <tr>\n",
              "      <th>32</th>\n",
              "      <td>4</td>\n",
              "      <td>125807.425414</td>\n",
              "    </tr>\n",
              "    <tr>\n",
              "      <th>36</th>\n",
              "      <td>6</td>\n",
              "      <td>125109.245926</td>\n",
              "    </tr>\n",
              "    <tr>\n",
              "      <th>38</th>\n",
              "      <td>8</td>\n",
              "      <td>120992.301773</td>\n",
              "    </tr>\n",
              "    <tr>\n",
              "      <th>39</th>\n",
              "      <td>9</td>\n",
              "      <td>115518.258303</td>\n",
              "    </tr>\n",
              "    <tr>\n",
              "      <th>37</th>\n",
              "      <td>7</td>\n",
              "      <td>114301.947524</td>\n",
              "    </tr>\n",
              "    <tr>\n",
              "      <th>3</th>\n",
              "      <td>12</td>\n",
              "      <td>112107.297872</td>\n",
              "    </tr>\n",
              "    <tr>\n",
              "      <th>13</th>\n",
              "      <td>21</td>\n",
              "      <td>112033.333333</td>\n",
              "    </tr>\n",
              "    <tr>\n",
              "      <th>2</th>\n",
              "      <td>11</td>\n",
              "      <td>111395.395395</td>\n",
              "    </tr>\n",
              "    <tr>\n",
              "      <th>1</th>\n",
              "      <td>10</td>\n",
              "      <td>109515.786495</td>\n",
              "    </tr>\n",
              "    <tr>\n",
              "      <th>33</th>\n",
              "      <td>42</td>\n",
              "      <td>108000.000000</td>\n",
              "    </tr>\n",
              "    <tr>\n",
              "      <th>5</th>\n",
              "      <td>14</td>\n",
              "      <td>105645.074627</td>\n",
              "    </tr>\n",
              "    <tr>\n",
              "      <th>4</th>\n",
              "      <td>13</td>\n",
              "      <td>100838.635383</td>\n",
              "    </tr>\n",
              "    <tr>\n",
              "      <th>31</th>\n",
              "      <td>39</td>\n",
              "      <td>98000.000000</td>\n",
              "    </tr>\n",
              "    <tr>\n",
              "      <th>6</th>\n",
              "      <td>15</td>\n",
              "      <td>97433.433875</td>\n",
              "    </tr>\n",
              "    <tr>\n",
              "      <th>7</th>\n",
              "      <td>16</td>\n",
              "      <td>96488.479087</td>\n",
              "    </tr>\n",
              "    <tr>\n",
              "      <th>30</th>\n",
              "      <td>38</td>\n",
              "      <td>96375.000000</td>\n",
              "    </tr>\n",
              "    <tr>\n",
              "      <th>17</th>\n",
              "      <td>25</td>\n",
              "      <td>95605.864407</td>\n",
              "    </tr>\n",
              "    <tr>\n",
              "      <th>9</th>\n",
              "      <td>18</td>\n",
              "      <td>95059.285714</td>\n",
              "    </tr>\n",
              "    <tr>\n",
              "      <th>34</th>\n",
              "      <td>45</td>\n",
              "      <td>94000.000000</td>\n",
              "    </tr>\n",
              "    <tr>\n",
              "      <th>8</th>\n",
              "      <td>17</td>\n",
              "      <td>93934.539474</td>\n",
              "    </tr>\n",
              "    <tr>\n",
              "      <th>12</th>\n",
              "      <td>20</td>\n",
              "      <td>92045.226131</td>\n",
              "    </tr>\n",
              "    <tr>\n",
              "      <th>14</th>\n",
              "      <td>22</td>\n",
              "      <td>91689.390244</td>\n",
              "    </tr>\n",
              "    <tr>\n",
              "      <th>10</th>\n",
              "      <td>19</td>\n",
              "      <td>90750.000000</td>\n",
              "    </tr>\n",
              "    <tr>\n",
              "      <th>18</th>\n",
              "      <td>26</td>\n",
              "      <td>90524.137931</td>\n",
              "    </tr>\n",
              "    <tr>\n",
              "      <th>29</th>\n",
              "      <td>37</td>\n",
              "      <td>90500.000000</td>\n",
              "    </tr>\n",
              "    <tr>\n",
              "      <th>16</th>\n",
              "      <td>24</td>\n",
              "      <td>90402.439024</td>\n",
              "    </tr>\n",
              "    <tr>\n",
              "      <th>21</th>\n",
              "      <td>29</td>\n",
              "      <td>90400.000000</td>\n",
              "    </tr>\n",
              "    <tr>\n",
              "      <th>23</th>\n",
              "      <td>30</td>\n",
              "      <td>88740.000000</td>\n",
              "    </tr>\n",
              "    <tr>\n",
              "      <th>15</th>\n",
              "      <td>23</td>\n",
              "      <td>84126.829268</td>\n",
              "    </tr>\n",
              "    <tr>\n",
              "      <th>19</th>\n",
              "      <td>27</td>\n",
              "      <td>81778.125000</td>\n",
              "    </tr>\n",
              "    <tr>\n",
              "      <th>20</th>\n",
              "      <td>28</td>\n",
              "      <td>80722.222222</td>\n",
              "    </tr>\n",
              "    <tr>\n",
              "      <th>28</th>\n",
              "      <td>36</td>\n",
              "      <td>80500.000000</td>\n",
              "    </tr>\n",
              "    <tr>\n",
              "      <th>24</th>\n",
              "      <td>31</td>\n",
              "      <td>79000.000000</td>\n",
              "    </tr>\n",
              "    <tr>\n",
              "      <th>26</th>\n",
              "      <td>33</td>\n",
              "      <td>73575.000000</td>\n",
              "    </tr>\n",
              "    <tr>\n",
              "      <th>25</th>\n",
              "      <td>32</td>\n",
              "      <td>68666.666667</td>\n",
              "    </tr>\n",
              "    <tr>\n",
              "      <th>27</th>\n",
              "      <td>34</td>\n",
              "      <td>57000.000000</td>\n",
              "    </tr>\n",
              "  </tbody>\n",
              "</table>\n",
              "</div>"
            ],
            "text/plain": [
              "   min           Rent\n",
              "0    1  133140.359712\n",
              "11   2  129289.728832\n",
              "22   3  126990.969928\n",
              "35   5  126507.136564\n",
              "32   4  125807.425414\n",
              "36   6  125109.245926\n",
              "38   8  120992.301773\n",
              "39   9  115518.258303\n",
              "37   7  114301.947524\n",
              "3   12  112107.297872\n",
              "13  21  112033.333333\n",
              "2   11  111395.395395\n",
              "1   10  109515.786495\n",
              "33  42  108000.000000\n",
              "5   14  105645.074627\n",
              "4   13  100838.635383\n",
              "31  39   98000.000000\n",
              "6   15   97433.433875\n",
              "7   16   96488.479087\n",
              "30  38   96375.000000\n",
              "17  25   95605.864407\n",
              "9   18   95059.285714\n",
              "34  45   94000.000000\n",
              "8   17   93934.539474\n",
              "12  20   92045.226131\n",
              "14  22   91689.390244\n",
              "10  19   90750.000000\n",
              "18  26   90524.137931\n",
              "29  37   90500.000000\n",
              "16  24   90402.439024\n",
              "21  29   90400.000000\n",
              "23  30   88740.000000\n",
              "15  23   84126.829268\n",
              "19  27   81778.125000\n",
              "20  28   80722.222222\n",
              "28  36   80500.000000\n",
              "24  31   79000.000000\n",
              "26  33   73575.000000\n",
              "25  32   68666.666667\n",
              "27  34   57000.000000"
            ]
          },
          "metadata": {
            "tags": []
          },
          "execution_count": 38
        }
      ]
    },
    {
      "cell_type": "code",
      "metadata": {
        "pycharm": {
          "name": "#%%\n",
          "is_executing": false
        },
        "id": "KW6UbtKKvPNB",
        "colab_type": "code",
        "outputId": "c5f1dd0b-39df-4b2f-e6e1-0be85e1d299b",
        "colab": {
          "base_uri": "https://localhost:8080/",
          "height": 1000
        }
      },
      "source": [
        "#Bath\n",
        "train['Bath'].value_counts()"
      ],
      "execution_count": 0,
      "outputs": [
        {
          "output_type": "execute_result",
          "data": {
            "text/plain": [
              "専用バス／\\t専用トイレ／\\tバス・トイレ別／\\tシャワー／\\t追焚機能／\\t浴室乾燥機\\t／\\t温水洗浄便座／\\t洗面台独立／\\t脱衣所    4606\n",
              "専用バス／\\t専用トイレ／\\tバス・トイレ別／\\tシャワー／\\t浴室乾燥機\\t／\\t温水洗浄便座／\\t洗面台独立／\\t脱衣所           2936\n",
              "専用バス／\\t専用トイレ／\\tシャワー                                                      2133\n",
              "専用バス／\\t専用トイレ／\\tバス・トイレ別／\\tシャワー                                            1495\n",
              "専用バス／\\t専用トイレ／\\tバス・トイレ別／\\tシャワー／\\t追焚機能／\\t浴室乾燥機\\t／\\t温水洗浄便座／\\t洗面台独立           873\n",
              "シャワー                                                                      849\n",
              "専用バス／\\t専用トイレ／\\tバス・トイレ別／\\tシャワー／\\t洗面台独立／\\t脱衣所                               802\n",
              "バス・トイレ別／\\tシャワー／\\t追焚機能／\\t浴室乾燥機\\t／\\t温水洗浄便座／\\t洗面台独立                          795\n",
              "専用バス／\\t専用トイレ／\\tバス・トイレ別／\\tシャワー／\\t浴室乾燥機\\t／\\t温水洗浄便座／\\t洗面台独立                  708\n",
              "バス・トイレ別／\\tシャワー                                                            656\n",
              "専用バス／\\t専用トイレ／\\tバス・トイレ別／\\tシャワー／\\t洗面台独立                                     629\n",
              "専用バス／\\tバス・トイレ別／\\tシャワー／\\t追焚機能／\\t浴室乾燥機\\t／\\t温水洗浄便座／\\t洗面台独立                   569\n",
              "専用バス／\\t専用トイレ／\\tバス・トイレ別／\\tシャワー／\\t浴室乾燥機\\t／\\t温水洗浄便座                          565\n",
              "専用バス／\\t専用トイレ／\\tバス・トイレ別／\\tシャワー／\\t温水洗浄便座／\\t洗面台独立／\\t脱衣所                      533\n",
              "専用バス／\\t専用トイレ／\\tバス・トイレ別／\\tシャワー／\\t追焚機能／\\t洗面台独立／\\t脱衣所                        516\n",
              "専用バス／\\t専用トイレ／\\tバス・トイレ別／\\tシャワー／\\t追焚機能／\\t温水洗浄便座／\\t洗面台独立／\\t脱衣所               443\n",
              "専用バス／\\t専用トイレ／\\tバス・トイレ別／\\tシャワー／\\t追焚機能／\\t浴室乾燥機\\t／\\t洗面台独立／\\t脱衣所              389\n",
              "専用バス／\\t専用トイレ／\\tバス・トイレ別／\\tシャワー／\\t浴室乾燥機\\t／\\t洗面台独立／\\t脱衣所                     386\n",
              "バス・トイレ別／\\tシャワー／\\t浴室乾燥機\\t／\\t温水洗浄便座／\\t洗面台独立                                 349\n",
              "専用バス／\\t専用トイレ／\\tバス・トイレ別／\\tシャワー／\\t温水洗浄便座                                    345\n",
              "バス・トイレ別／\\tシャワー／\\t洗面台独立                                                    333\n",
              "専用バス／\\t専用トイレ／\\tバス・トイレ別／\\tシャワー／\\t浴室乾燥機                                     312\n",
              "バス・トイレ別／\\tシャワー／\\t追焚機能／\\t温水洗浄便座／\\t洗面台独立                                    263\n",
              "専用バス／\\tバス・トイレ別／\\tシャワー／\\t浴室乾燥機\\t／\\t温水洗浄便座／\\t洗面台独立                          259\n",
              "専用バス／\\t専用トイレ／\\tバス・トイレ別／\\tシャワー／\\t追焚機能／\\t洗面台独立                              256\n",
              "専用バス／\\t専用トイレ／\\tバス・トイレ別／\\tシャワー／\\t温水洗浄便座／\\t洗面台独立                            251\n",
              "専用トイレ／\\tシャワー                                                              241\n",
              "専用バス／\\t専用トイレ／\\tバス・トイレ別／\\t浴室乾燥機\\t／\\t温水洗浄便座／\\t洗面台独立／\\t脱衣所                   219\n",
              "バス・トイレ別／\\tシャワー／\\t追焚機能／\\t洗面台独立                                             217\n",
              "専用バス／\\t専用トイレ／\\tバス・トイレ別／\\t追焚機能／\\t浴室乾燥機\\t／\\t温水洗浄便座／\\t洗面台独立／\\t脱衣所            216\n",
              "                                                                         ... \n",
              "バスなし／\\t専用トイレ／\\tシャワー／\\t洗面台独立                                                 1\n",
              "専用バス／\\t共同トイレ／\\t洗面台独立                                                        1\n",
              "専用トイレ／\\tバス・トイレ別／\\tシャワー／\\t追焚機能／\\t浴室乾燥機\\t／\\t洗面台独立／\\t脱衣所                       1\n",
              "バス・トイレ別／\\t浴室乾燥機\\t／\\t洗面台独立／\\t脱衣所                                             1\n",
              "バスなし／\\t専用トイレ／\\tバス・トイレ別／\\tシャワー／\\t追焚機能                                        1\n",
              "バスなし                                                                        1\n",
              "専用バス／\\tシャワー／\\t追焚機能／\\t浴室乾燥機\\t／\\t洗面台独立                                        1\n",
              "専用バス／\\tバス・トイレ別／\\tシャワー／\\t追焚機能／\\t浴室乾燥機\\t／\\t洗面台独立／\\t脱衣所                        1\n",
              "専用バス／\\tシャワー／\\t追焚機能／\\t洗面台独立                                                  1\n",
              "共同バス／\\t共同トイレ／\\tバス・トイレ別／\\t浴室乾燥機\\t／\\t温水洗浄便座／\\t洗面台独立                           1\n",
              "バス・トイレ別／\\tシャワー／\\t浴室乾燥機\\t／\\t脱衣所                                              1\n",
              "バスなし／\\t専用トイレ／\\t洗面台独立                                                        1\n",
              "専用バス／\\t専用トイレ／\\tシャワー／\\t温水洗浄便座／\\t脱衣所                                          1\n",
              "専用トイレ／\\t浴室乾燥機\\t／\\t洗面台独立                                                     1\n",
              "バスなし／\\t専用トイレ／\\tバス・トイレ別／\\tシャワー／\\t浴室乾燥機\\t／\\t温水洗浄便座／\\t洗面台独立／\\t脱衣所              1\n",
              "バスなし／\\tバス・トイレ別／\\tシャワー／\\t追焚機能／\\t浴室乾燥機\\t／\\t温水洗浄便座／\\t洗面台独立                     1\n",
              "バスなし／\\t専用トイレ／\\tシャワー／\\t浴室乾燥機\\t／\\t温水洗浄便座                                      1\n",
              "共同バス／\\t共同トイレ／\\tバス・トイレ別／\\tシャワー／\\t追焚機能／\\t洗面台独立／\\t脱衣所                          1\n",
              "共同バス／\\t共同トイレ／\\tバス・トイレ別／\\tシャワー／\\t追焚機能／\\t浴室乾燥機\\t／\\t温水洗浄便座／\\t洗面台独立／\\t脱衣所       1\n",
              "共同バス／\\t共同トイレ／\\t洗面台独立                                                        1\n",
              "共同トイレ／\\t洗面台独立                                                               1\n",
              "専用バス／\\t専用トイレ／\\tシャワー／\\t追焚機能／\\t温水洗浄便座／\\t洗面台独立                                 1\n",
              "専用バス／\\t専用トイレ／\\t浴室乾燥機\\t／\\t温水洗浄便座／\\t洗面台独立                                     1\n",
              "専用バス／\\t専用トイレ／\\tシャワー／\\t浴室乾燥機\\t／\\t洗面台独立                                       1\n",
              "専用トイレ／\\tバス・トイレ別／\\tシャワー／\\t追焚機能／\\t浴室乾燥機\\t／\\t温水洗浄便座／\\t脱衣所                      1\n",
              "共同バス／\\t共同トイレ／\\tバス・トイレ別／\\tシャワー／\\t浴室乾燥機\\t／\\t温水洗浄便座／\\t洗面台独立／\\t脱衣所              1\n",
              "専用バス／\\tバス・トイレ別／\\tシャワー／\\t洗面台独立／\\t脱衣所                                         1\n",
              "専用トイレ／\\tシャワー／\\t浴室乾燥機\\t／\\t温水洗浄便座／\\t洗面台独立／\\t脱衣所                               1\n",
              "専用バス／\\t専用トイレ／\\t追焚機能／\\t浴室乾燥機                                                 1\n",
              "専用トイレ／\\tバス・トイレ別／\\tシャワー／\\t浴室乾燥機\\t／\\t温水洗浄便座／\\t洗面台独立／\\t脱衣所                     1\n",
              "Name: Bath, Length: 360, dtype: int64"
            ]
          },
          "metadata": {
            "tags": []
          },
          "execution_count": 39
        }
      ]
    },
    {
      "cell_type": "code",
      "metadata": {
        "pycharm": {
          "name": "#%%\n",
          "is_executing": false
        },
        "id": "kejLfgFFvPND",
        "colab_type": "code",
        "colab": {}
      },
      "source": [
        "for dataset in train_test_data:\n",
        "    dataset['privatebath'] = dataset['Bath'].str.extract('(専用バス)')\n",
        "    dataset['privatetoilet'] = dataset['Bath'].str.extract('(専用トイレ)')\n",
        "    dataset['bathtoilet'] = dataset['Bath'].str.extract('(バス・トイレ別)')\n",
        "    dataset['sharedtoilet'] = dataset['Bath'].str.extract('(共同トイレ)')\n",
        "    dataset['shower'] = dataset['Bath'].str.extract('(シャワー)')\n",
        "    dataset['dryer'] = dataset['Bath'].str.extract('(浴室乾燥機)')\n",
        "    dataset['washstand'] = dataset['Bath'].str.extract('(洗面台独立)')\n",
        "    dataset['dressing'] = dataset['Bath'].str.extract('(脱衣所)')\n",
        "    dataset['warmseat'] = dataset['Bath'].str.extract('(温水洗浄便座)')\n",
        "    dataset['memorial'] = dataset['Bath'].str.extract('(追焚機能)')"
      ],
      "execution_count": 0,
      "outputs": []
    },
    {
      "cell_type": "code",
      "metadata": {
        "pycharm": {
          "name": "#%%\n",
          "is_executing": false
        },
        "id": "hSMiMqJjvPNJ",
        "colab_type": "code",
        "colab": {}
      },
      "source": [
        "for dataset in train_test_data:\n",
        "    dataset['privatebath'] = dataset['privatebath'].apply(lambda x: True if x == '専用バス' else False)\n",
        "    dataset['privatetoilet'] = dataset['privatetoilet'].apply(lambda x: True if x == '専用トイレ' else False)\n",
        "    dataset['bathtoilet'] = dataset['bathtoilet'].apply(lambda x: True if x == 'バス・トイレ別' else False)\n",
        "    dataset['sharedtoilet'] = dataset['sharedtoilet'].apply(lambda x: True if x == '共同トイレ' else False)\n",
        "    dataset['shower'] = dataset['shower'].apply(lambda x: True if x == 'シャワー' else False)\n",
        "    dataset['dryer'] = dataset['dryer'].apply(lambda x: True if x == '浴室乾燥機' else False)\n",
        "    dataset['washstand'] = dataset['washstand'].apply(lambda x: True if x == '洗面台独立' else False)\n",
        "    dataset['dressing'] = dataset['dressing'].apply(lambda x: True if x == '脱衣所' else False)\n",
        "    dataset['warmseat'] = dataset['warmseat'].apply(lambda x: True if x == '温水洗浄便座' else False)\n",
        "    dataset['memorial'] = dataset['memorial'].apply(lambda x: True if x == '追焚機能' else False)"
      ],
      "execution_count": 0,
      "outputs": []
    },
    {
      "cell_type": "code",
      "metadata": {
        "pycharm": {
          "name": "#%%\n",
          "is_executing": false
        },
        "id": "BIBl2TWFvPNL",
        "colab_type": "code",
        "outputId": "d8fa04c1-ee50-4e2b-c2ff-c982c767fdde",
        "colab": {
          "base_uri": "https://localhost:8080/",
          "height": 359
        }
      },
      "source": [
        "train[['id','privatebath','privatetoilet','bathtoilet','sharedtoilet','shower',\n",
        "        'dryer','washstand','dressing','warmseat','memorial']].groupby(['id','privatebath'],as_index=False).mean().head(10)"
      ],
      "execution_count": 0,
      "outputs": [
        {
          "output_type": "execute_result",
          "data": {
            "text/html": [
              "<div>\n",
              "<style scoped>\n",
              "    .dataframe tbody tr th:only-of-type {\n",
              "        vertical-align: middle;\n",
              "    }\n",
              "\n",
              "    .dataframe tbody tr th {\n",
              "        vertical-align: top;\n",
              "    }\n",
              "\n",
              "    .dataframe thead th {\n",
              "        text-align: right;\n",
              "    }\n",
              "</style>\n",
              "<table border=\"1\" class=\"dataframe\">\n",
              "  <thead>\n",
              "    <tr style=\"text-align: right;\">\n",
              "      <th></th>\n",
              "      <th>id</th>\n",
              "      <th>privatebath</th>\n",
              "      <th>privatetoilet</th>\n",
              "      <th>bathtoilet</th>\n",
              "      <th>sharedtoilet</th>\n",
              "      <th>shower</th>\n",
              "      <th>dryer</th>\n",
              "      <th>washstand</th>\n",
              "      <th>dressing</th>\n",
              "      <th>warmseat</th>\n",
              "      <th>memorial</th>\n",
              "    </tr>\n",
              "  </thead>\n",
              "  <tbody>\n",
              "    <tr>\n",
              "      <th>0</th>\n",
              "      <td>1</td>\n",
              "      <td>True</td>\n",
              "      <td>True</td>\n",
              "      <td>True</td>\n",
              "      <td>False</td>\n",
              "      <td>True</td>\n",
              "      <td>True</td>\n",
              "      <td>False</td>\n",
              "      <td>False</td>\n",
              "      <td>True</td>\n",
              "      <td>False</td>\n",
              "    </tr>\n",
              "    <tr>\n",
              "      <th>1</th>\n",
              "      <td>2</td>\n",
              "      <td>False</td>\n",
              "      <td>True</td>\n",
              "      <td>False</td>\n",
              "      <td>False</td>\n",
              "      <td>True</td>\n",
              "      <td>False</td>\n",
              "      <td>False</td>\n",
              "      <td>False</td>\n",
              "      <td>True</td>\n",
              "      <td>False</td>\n",
              "    </tr>\n",
              "    <tr>\n",
              "      <th>2</th>\n",
              "      <td>3</td>\n",
              "      <td>True</td>\n",
              "      <td>True</td>\n",
              "      <td>True</td>\n",
              "      <td>False</td>\n",
              "      <td>True</td>\n",
              "      <td>True</td>\n",
              "      <td>True</td>\n",
              "      <td>True</td>\n",
              "      <td>True</td>\n",
              "      <td>False</td>\n",
              "    </tr>\n",
              "    <tr>\n",
              "      <th>3</th>\n",
              "      <td>4</td>\n",
              "      <td>True</td>\n",
              "      <td>True</td>\n",
              "      <td>True</td>\n",
              "      <td>False</td>\n",
              "      <td>True</td>\n",
              "      <td>False</td>\n",
              "      <td>True</td>\n",
              "      <td>False</td>\n",
              "      <td>True</td>\n",
              "      <td>False</td>\n",
              "    </tr>\n",
              "    <tr>\n",
              "      <th>4</th>\n",
              "      <td>5</td>\n",
              "      <td>True</td>\n",
              "      <td>True</td>\n",
              "      <td>True</td>\n",
              "      <td>False</td>\n",
              "      <td>True</td>\n",
              "      <td>False</td>\n",
              "      <td>False</td>\n",
              "      <td>False</td>\n",
              "      <td>False</td>\n",
              "      <td>True</td>\n",
              "    </tr>\n",
              "    <tr>\n",
              "      <th>5</th>\n",
              "      <td>6</td>\n",
              "      <td>True</td>\n",
              "      <td>True</td>\n",
              "      <td>True</td>\n",
              "      <td>False</td>\n",
              "      <td>True</td>\n",
              "      <td>True</td>\n",
              "      <td>True</td>\n",
              "      <td>True</td>\n",
              "      <td>True</td>\n",
              "      <td>False</td>\n",
              "    </tr>\n",
              "    <tr>\n",
              "      <th>6</th>\n",
              "      <td>7</td>\n",
              "      <td>True</td>\n",
              "      <td>True</td>\n",
              "      <td>True</td>\n",
              "      <td>False</td>\n",
              "      <td>True</td>\n",
              "      <td>True</td>\n",
              "      <td>True</td>\n",
              "      <td>True</td>\n",
              "      <td>True</td>\n",
              "      <td>True</td>\n",
              "    </tr>\n",
              "    <tr>\n",
              "      <th>7</th>\n",
              "      <td>8</td>\n",
              "      <td>True</td>\n",
              "      <td>True</td>\n",
              "      <td>True</td>\n",
              "      <td>False</td>\n",
              "      <td>False</td>\n",
              "      <td>True</td>\n",
              "      <td>True</td>\n",
              "      <td>True</td>\n",
              "      <td>True</td>\n",
              "      <td>True</td>\n",
              "    </tr>\n",
              "    <tr>\n",
              "      <th>8</th>\n",
              "      <td>9</td>\n",
              "      <td>True</td>\n",
              "      <td>True</td>\n",
              "      <td>True</td>\n",
              "      <td>False</td>\n",
              "      <td>False</td>\n",
              "      <td>False</td>\n",
              "      <td>True</td>\n",
              "      <td>False</td>\n",
              "      <td>False</td>\n",
              "      <td>True</td>\n",
              "    </tr>\n",
              "    <tr>\n",
              "      <th>9</th>\n",
              "      <td>10</td>\n",
              "      <td>True</td>\n",
              "      <td>True</td>\n",
              "      <td>True</td>\n",
              "      <td>False</td>\n",
              "      <td>True</td>\n",
              "      <td>False</td>\n",
              "      <td>True</td>\n",
              "      <td>False</td>\n",
              "      <td>False</td>\n",
              "      <td>False</td>\n",
              "    </tr>\n",
              "  </tbody>\n",
              "</table>\n",
              "</div>"
            ],
            "text/plain": [
              "   id  privatebath  privatetoilet  bathtoilet  sharedtoilet  shower  dryer  \\\n",
              "0   1         True           True        True         False    True   True   \n",
              "1   2        False           True       False         False    True  False   \n",
              "2   3         True           True        True         False    True   True   \n",
              "3   4         True           True        True         False    True  False   \n",
              "4   5         True           True        True         False    True  False   \n",
              "5   6         True           True        True         False    True   True   \n",
              "6   7         True           True        True         False    True   True   \n",
              "7   8         True           True        True         False   False   True   \n",
              "8   9         True           True        True         False   False  False   \n",
              "9  10         True           True        True         False    True  False   \n",
              "\n",
              "   washstand  dressing  warmseat  memorial  \n",
              "0      False     False      True     False  \n",
              "1      False     False      True     False  \n",
              "2       True      True      True     False  \n",
              "3       True     False      True     False  \n",
              "4      False     False     False      True  \n",
              "5       True      True      True     False  \n",
              "6       True      True      True      True  \n",
              "7       True      True      True      True  \n",
              "8       True     False     False      True  \n",
              "9       True     False     False     False  "
            ]
          },
          "metadata": {
            "tags": []
          },
          "execution_count": 42
        }
      ]
    },
    {
      "cell_type": "code",
      "metadata": {
        "pycharm": {
          "name": "#%%\n",
          "is_executing": false
        },
        "id": "ijjlWkMAvPNN",
        "colab_type": "code",
        "outputId": "8cc0fa08-26fe-49b8-9c6a-f1437faf2614",
        "colab": {
          "base_uri": "https://localhost:8080/",
          "height": 1000
        }
      },
      "source": [
        "train['Kitchen'].value_counts()"
      ],
      "execution_count": 0,
      "outputs": [
        {
          "output_type": "execute_result",
          "data": {
            "text/plain": [
              "ガスコンロ／\\tコンロ2口／\\tシステムキッチン\\t／\\t給湯                                     6016\n",
              "ガスコンロ／\\tコンロ2口／\\t給湯                                                  2272\n",
              "ガスコンロ／\\tコンロ3口／\\tシステムキッチン\\t／\\t給湯                                     1606\n",
              "給湯                                                                  1328\n",
              "ガスコンロ／\\tコンロ2口／\\tシステムキッチン\\t／\\t給湯／\\t独立キッチン                            1299\n",
              "ガスコンロ／\\tコンロ3口／\\tシステムキッチン\\t／\\tカウンターキッチン\\t／\\t給湯                       1249\n",
              "ガスコンロ／\\t給湯                                                           933\n",
              "ガスコンロ／\\tコンロ2口／\\tシステムキッチン                                             778\n",
              "IHコンロ\\t／\\tコンロ2口／\\tシステムキッチン\\t／\\t給湯                                    707\n",
              "ガスコンロ／\\tコンロ1口／\\t給湯                                                   624\n",
              "ガスコンロ／\\tコンロ2口／\\tシステムキッチン\\t／\\tカウンターキッチン\\t／\\t給湯                        621\n",
              "IHコンロ\\t／\\tコンロ1口／\\t給湯                                                 583\n",
              "コンロ2口／\\tシステムキッチン\\t／\\t給湯                                              569\n",
              "ガスコンロ／\\tシステムキッチン\\t／\\t給湯                                              544\n",
              "コンロ設置可（コンロ2口）／\\t給湯                                                   510\n",
              "コンロ2口／\\t給湯                                                           468\n",
              "ガスコンロ／\\tコンロ3口／\\tシステムキッチン\\t／\\t給湯／\\t独立キッチン                             456\n",
              "ガスコンロ／\\tコンロ2口／\\tシステムキッチン\\t／\\t独立キッチン                                  449\n",
              "IHコンロ\\t／\\t給湯                                                         428\n",
              "IHコンロ\\t／\\tコンロ1口／\\tシステムキッチン\\t／\\t給湯                                    420\n",
              "ガスコンロ／\\tコンロ1口／\\tシステムキッチン\\t／\\t給湯                                      414\n",
              "コンロ設置可（コンロ2口）／\\tシステムキッチン\\t／\\t給湯                                      406\n",
              "システムキッチン\\t／\\t給湯                                                      392\n",
              "ガスコンロ／\\tコンロ3口／\\tシステムキッチン                                             242\n",
              "ガスコンロ／\\tコンロ2口                                                        237\n",
              "IHコンロ\\t／\\tシステムキッチン\\t／\\t給湯                                            221\n",
              "コンロ設置可（口数不明）／\\t給湯                                                    200\n",
              "システムキッチン                                                             196\n",
              "ガスコンロ／\\tコンロ3口／\\tシステムキッチン\\t／\\tカウンターキッチン                               186\n",
              "IHコンロ\\t／\\tコンロ2口／\\tシステムキッチン\\t／\\tカウンターキッチン\\t／\\t給湯                      160\n",
              "                                                                    ... \n",
              "システムキッチン\\t／\\tカウンターキッチン\\t／\\t給湯／\\tL字キッチン                                 1\n",
              "IHコンロ\\t／\\t独立キッチン                                                       1\n",
              "電気コンロ／\\tIHコンロ\\t／\\tコンロ2口／\\tカウンターキッチン\\t／\\t給湯                             1\n",
              "給湯／\\t冷蔵庫あり／\\t独立キッチン                                                    1\n",
              "IHコンロ\\t／\\tコンロ2口／\\t給湯／\\t冷蔵庫あり                                           1\n",
              "IHコンロ\\t／\\tシステムキッチン\\t／\\tカウンターキッチン\\t／\\t独立キッチン                            1\n",
              "ガスコンロ／\\tコンロ1口／\\tコンロ設置可（コンロ1口）                                          1\n",
              "ガスコンロ／\\t電気コンロ／\\tコンロ3口／\\tシステムキッチン\\t／\\t給湯                                1\n",
              "ガスコンロ／\\tコンロ2口／\\tシステムキッチン\\t／\\tカウンターキッチン\\t／\\tL字キッチン                      1\n",
              "ガスコンロ／\\tコンロ設置可（口数不明）／\\t給湯／\\t独立キッチン                                     1\n",
              "ガスコンロ／\\tコンロ1口／\\tシステムキッチン\\t／\\t給湯／\\t独立キッチン／\\tL字キッチン                      1\n",
              "IHコンロ\\t／\\tシステムキッチン\\t／\\tカウンターキッチン\\t／\\t給湯／\\t独立キッチン                       1\n",
              "IHコンロ\\t／\\tコンロ2口／\\tシステムキッチン\\t／\\tカウンターキッチン\\t／\\t独立キッチン                    1\n",
              "ガスコンロ／\\t電気コンロ                                                          1\n",
              "給湯／\\t冷蔵庫あり／\\tL字キッチン                                                    1\n",
              "ガスコンロ／\\tコンロ2口／\\tシステムキッチン\\t／\\tカウンターキッチン\\t／\\t独立キッチン／\\tL字キッチン             1\n",
              "コンロ設置可（口数不明）／\\tカウンターキッチン\\t／\\t給湯                                        1\n",
              "電気コンロ／\\tIHコンロ\\t／\\tシステムキッチン\\t／\\tカウンターキッチン\\t／\\t給湯                        1\n",
              "電気コンロ／\\tコンロ2口／\\tシステムキッチン\\t／\\tカウンターキッチン\\t／\\t給湯／\\t冷蔵庫あり                  1\n",
              "ガスコンロ／\\tコンロ2口／\\t冷蔵庫あり                                                  1\n",
              "電気コンロ／\\tシステムキッチン\\t／\\t給湯／\\t独立キッチン                                       1\n",
              "ガスコンロ／\\tコンロ3口／\\tシステムキッチン\\t／\\t給湯／\\t冷蔵庫あり／\\tL字キッチン                       1\n",
              "IHコンロ\\t／\\tコンロ2口／\\t給湯／\\t独立キッチン                                          1\n",
              "IHコンロ\\t／\\tコンロ2口／\\tシステムキッチン\\t／\\tカウンターキッチン\\t／\\t給湯／\\t冷蔵庫あり／\\t独立キッチン       1\n",
              "IHコンロ\\t／\\tコンロ1口／\\tシステムキッチン\\t／\\t給湯／\\t冷蔵庫あり／\\t独立キッチン                     1\n",
              "ガスコンロ／\\tコンロ2口／\\tシステムキッチン\\t／\\tカウンターキッチン\\t／\\t給湯／\\t冷蔵庫あり                  1\n",
              "コンロ2口／\\tシステムキッチン\\t／\\tカウンターキッチン\\t／\\t給湯／\\t独立キッチン                         1\n",
              "ガスコンロ／\\tコンロ4口以上／\\tシステムキッチン\\t／\\tカウンターキッチン                               1\n",
              "電気コンロ／\\tカウンターキッチン                                                      1\n",
              "IHコンロ\\t／\\tコンロ設置可（コンロ1口）／\\tカウンターキッチン\\t／\\t給湯                             1\n",
              "Name: Kitchen, Length: 381, dtype: int64"
            ]
          },
          "metadata": {
            "tags": []
          },
          "execution_count": 43
        }
      ]
    },
    {
      "cell_type": "code",
      "metadata": {
        "pycharm": {
          "name": "#%%\n",
          "is_executing": false
        },
        "id": "cwDN2xDavPNP",
        "colab_type": "code",
        "colab": {}
      },
      "source": [
        "for dataset in train_test_data:\n",
        "    dataset['gasstove'] = dataset['Kitchen'].str.extract('(ガスコンロ)')\n",
        "    dataset['2stovetops'] = dataset['Kitchen'].str.extract('(コンロ2口)')\n",
        "    dataset['3stovetops'] = dataset['Kitchen'].str.extract('(コンロ3口)')\n",
        "    dataset['systemkitchen'] = dataset['Kitchen'].str.extract('(システムキッチン)')\n",
        "    dataset['hotwatersupply'] = dataset['Kitchen'].str.extract('(給湯)')\n",
        "    dataset['separatekitchen'] = dataset['Kitchen'].str.extract('(独立キッチン)')\n",
        "    dataset['IH'] = dataset['Kitchen'].str.extract('(IHコンロ)')\n",
        "    dataset['counterkitchen'] = dataset['Kitchen'].str.extract('(カウンターキッチン)')\n",
        "    dataset['shapekitchen'] = dataset['Kitchen'].str.extract('(字キッチン)')\n",
        "    dataset['fridge'] = dataset['Kitchen'].str.extract('(冷蔵庫あり)')"
      ],
      "execution_count": 0,
      "outputs": []
    },
    {
      "cell_type": "code",
      "metadata": {
        "pycharm": {
          "name": "#%%\n",
          "is_executing": false
        },
        "id": "dd0ewlpKvPNT",
        "colab_type": "code",
        "colab": {}
      },
      "source": [
        "for dataset in train_test_data:\n",
        "    dataset['gasstove'] = dataset['gasstove'].apply(lambda x: True if x == 'ガスコンロ' else False)\n",
        "    dataset['2stovetops'] = dataset['2stovetops'].apply(lambda x: True if x == 'コンロ2口' else False)\n",
        "    dataset['3stovetops'] = dataset['3stovetops'].apply(lambda x: True if x == 'コンロ3口' else False)\n",
        "    dataset['systemkitchen'] = dataset['systemkitchen'].apply(lambda x: True if x == 'システムキッチン' else False)\n",
        "    dataset['hotwatersupply'] = dataset['hotwatersupply'].apply(lambda x: True if x == '給湯' else False)\n",
        "    dataset['separatekitchen'] = dataset['separatekitchen'].apply(lambda x: True if x == '独立キッチン' else False)\n",
        "    dataset['IH'] = dataset['IH'].apply(lambda x: True if x == 'IHコンロ' else False)\n",
        "    dataset['counterkitchen'] = dataset['counterkitchen'].apply(lambda x: True if x == 'カウンターキッチン' else False)\n",
        "    dataset['shapekitchen'] = dataset['shapekitchen'].apply(lambda x: True if x == '字キッチン' else False)\n",
        "    dataset['fridge'] = dataset['fridge'].apply(lambda x: True if x == '冷蔵庫あり' else False)"
      ],
      "execution_count": 0,
      "outputs": []
    },
    {
      "cell_type": "code",
      "metadata": {
        "pycharm": {
          "name": "#%%\n",
          "is_executing": false
        },
        "id": "IaaRfLUmvPNV",
        "colab_type": "code",
        "outputId": "df8c23ba-fdd1-46fa-a890-12804276a37c",
        "colab": {
          "base_uri": "https://localhost:8080/",
          "height": 359
        }
      },
      "source": [
        "train[['id','gasstove','2stovetops','3stovetops','systemkitchen','hotwatersupply','separatekitchen',\n",
        "        'IH','counterkitchen','shapekitchen','fridge']].groupby(['id','gasstove'],as_index=False).mean().head(10)"
      ],
      "execution_count": 0,
      "outputs": [
        {
          "output_type": "execute_result",
          "data": {
            "text/html": [
              "<div>\n",
              "<style scoped>\n",
              "    .dataframe tbody tr th:only-of-type {\n",
              "        vertical-align: middle;\n",
              "    }\n",
              "\n",
              "    .dataframe tbody tr th {\n",
              "        vertical-align: top;\n",
              "    }\n",
              "\n",
              "    .dataframe thead th {\n",
              "        text-align: right;\n",
              "    }\n",
              "</style>\n",
              "<table border=\"1\" class=\"dataframe\">\n",
              "  <thead>\n",
              "    <tr style=\"text-align: right;\">\n",
              "      <th></th>\n",
              "      <th>id</th>\n",
              "      <th>gasstove</th>\n",
              "      <th>2stovetops</th>\n",
              "      <th>3stovetops</th>\n",
              "      <th>systemkitchen</th>\n",
              "      <th>hotwatersupply</th>\n",
              "      <th>separatekitchen</th>\n",
              "      <th>IH</th>\n",
              "      <th>counterkitchen</th>\n",
              "      <th>shapekitchen</th>\n",
              "      <th>fridge</th>\n",
              "    </tr>\n",
              "  </thead>\n",
              "  <tbody>\n",
              "    <tr>\n",
              "      <th>0</th>\n",
              "      <td>1</td>\n",
              "      <td>True</td>\n",
              "      <td>True</td>\n",
              "      <td>False</td>\n",
              "      <td>True</td>\n",
              "      <td>True</td>\n",
              "      <td>False</td>\n",
              "      <td>False</td>\n",
              "      <td>False</td>\n",
              "      <td>False</td>\n",
              "      <td>False</td>\n",
              "    </tr>\n",
              "    <tr>\n",
              "      <th>1</th>\n",
              "      <td>2</td>\n",
              "      <td>True</td>\n",
              "      <td>False</td>\n",
              "      <td>False</td>\n",
              "      <td>True</td>\n",
              "      <td>True</td>\n",
              "      <td>False</td>\n",
              "      <td>False</td>\n",
              "      <td>False</td>\n",
              "      <td>False</td>\n",
              "      <td>False</td>\n",
              "    </tr>\n",
              "    <tr>\n",
              "      <th>2</th>\n",
              "      <td>3</td>\n",
              "      <td>True</td>\n",
              "      <td>True</td>\n",
              "      <td>False</td>\n",
              "      <td>True</td>\n",
              "      <td>True</td>\n",
              "      <td>False</td>\n",
              "      <td>False</td>\n",
              "      <td>False</td>\n",
              "      <td>False</td>\n",
              "      <td>False</td>\n",
              "    </tr>\n",
              "    <tr>\n",
              "      <th>3</th>\n",
              "      <td>4</td>\n",
              "      <td>True</td>\n",
              "      <td>False</td>\n",
              "      <td>False</td>\n",
              "      <td>False</td>\n",
              "      <td>True</td>\n",
              "      <td>False</td>\n",
              "      <td>False</td>\n",
              "      <td>False</td>\n",
              "      <td>False</td>\n",
              "      <td>False</td>\n",
              "    </tr>\n",
              "    <tr>\n",
              "      <th>4</th>\n",
              "      <td>5</td>\n",
              "      <td>False</td>\n",
              "      <td>False</td>\n",
              "      <td>False</td>\n",
              "      <td>False</td>\n",
              "      <td>True</td>\n",
              "      <td>True</td>\n",
              "      <td>False</td>\n",
              "      <td>False</td>\n",
              "      <td>False</td>\n",
              "      <td>False</td>\n",
              "    </tr>\n",
              "    <tr>\n",
              "      <th>5</th>\n",
              "      <td>6</td>\n",
              "      <td>True</td>\n",
              "      <td>False</td>\n",
              "      <td>True</td>\n",
              "      <td>True</td>\n",
              "      <td>True</td>\n",
              "      <td>True</td>\n",
              "      <td>False</td>\n",
              "      <td>False</td>\n",
              "      <td>False</td>\n",
              "      <td>False</td>\n",
              "    </tr>\n",
              "    <tr>\n",
              "      <th>6</th>\n",
              "      <td>7</td>\n",
              "      <td>True</td>\n",
              "      <td>True</td>\n",
              "      <td>False</td>\n",
              "      <td>True</td>\n",
              "      <td>True</td>\n",
              "      <td>False</td>\n",
              "      <td>False</td>\n",
              "      <td>False</td>\n",
              "      <td>False</td>\n",
              "      <td>False</td>\n",
              "    </tr>\n",
              "    <tr>\n",
              "      <th>7</th>\n",
              "      <td>8</td>\n",
              "      <td>True</td>\n",
              "      <td>True</td>\n",
              "      <td>False</td>\n",
              "      <td>True</td>\n",
              "      <td>False</td>\n",
              "      <td>False</td>\n",
              "      <td>False</td>\n",
              "      <td>False</td>\n",
              "      <td>False</td>\n",
              "      <td>False</td>\n",
              "    </tr>\n",
              "    <tr>\n",
              "      <th>8</th>\n",
              "      <td>9</td>\n",
              "      <td>True</td>\n",
              "      <td>False</td>\n",
              "      <td>True</td>\n",
              "      <td>True</td>\n",
              "      <td>True</td>\n",
              "      <td>False</td>\n",
              "      <td>False</td>\n",
              "      <td>False</td>\n",
              "      <td>False</td>\n",
              "      <td>False</td>\n",
              "    </tr>\n",
              "    <tr>\n",
              "      <th>9</th>\n",
              "      <td>10</td>\n",
              "      <td>True</td>\n",
              "      <td>True</td>\n",
              "      <td>False</td>\n",
              "      <td>False</td>\n",
              "      <td>True</td>\n",
              "      <td>False</td>\n",
              "      <td>False</td>\n",
              "      <td>False</td>\n",
              "      <td>False</td>\n",
              "      <td>False</td>\n",
              "    </tr>\n",
              "  </tbody>\n",
              "</table>\n",
              "</div>"
            ],
            "text/plain": [
              "   id  gasstove  2stovetops  3stovetops  systemkitchen  hotwatersupply  \\\n",
              "0   1      True        True       False           True            True   \n",
              "1   2      True       False       False           True            True   \n",
              "2   3      True        True       False           True            True   \n",
              "3   4      True       False       False          False            True   \n",
              "4   5     False       False       False          False            True   \n",
              "5   6      True       False        True           True            True   \n",
              "6   7      True        True       False           True            True   \n",
              "7   8      True        True       False           True           False   \n",
              "8   9      True       False        True           True            True   \n",
              "9  10      True        True       False          False            True   \n",
              "\n",
              "   separatekitchen     IH  counterkitchen  shapekitchen  fridge  \n",
              "0            False  False           False         False   False  \n",
              "1            False  False           False         False   False  \n",
              "2            False  False           False         False   False  \n",
              "3            False  False           False         False   False  \n",
              "4             True  False           False         False   False  \n",
              "5             True  False           False         False   False  \n",
              "6            False  False           False         False   False  \n",
              "7            False  False           False         False   False  \n",
              "8            False  False           False         False   False  \n",
              "9            False  False           False         False   False  "
            ]
          },
          "metadata": {
            "tags": []
          },
          "execution_count": 46
        }
      ]
    },
    {
      "cell_type": "code",
      "metadata": {
        "pycharm": {
          "name": "#%%\n",
          "is_executing": false
        },
        "id": "4hvMidEGvPNZ",
        "colab_type": "code",
        "outputId": "41e55493-62ff-4268-935a-98e12bb08fd9",
        "colab": {
          "base_uri": "https://localhost:8080/",
          "height": 918
        }
      },
      "source": [
        "train.info()"
      ],
      "execution_count": 0,
      "outputs": [
        {
          "output_type": "stream",
          "text": [
            "<class 'pandas.core.frame.DataFrame'>\n",
            "RangeIndex: 31470 entries, 0 to 31469\n",
            "Data columns (total 48 columns):\n",
            "id                 31470 non-null int64\n",
            "Rent               31470 non-null int64\n",
            "Location           31470 non-null object\n",
            "Access             31470 non-null object\n",
            "Type               31470 non-null object\n",
            "Age                31470 non-null object\n",
            "Direction          31470 non-null object\n",
            "Area               31470 non-null object\n",
            "Floor              31470 non-null object\n",
            "Bath               31141 non-null object\n",
            "Kitchen            30849 non-null object\n",
            "Internet           28030 non-null object\n",
            "Facility           31388 non-null object\n",
            "Parking            26183 non-null object\n",
            "Surround           22038 non-null object\n",
            "Material           31470 non-null object\n",
            "Contract           31470 non-null object\n",
            "City               31470 non-null object\n",
            "R                  31470 non-null object\n",
            "K                  31470 non-null bool\n",
            "L                  31470 non-null bool\n",
            "D                  31470 non-null bool\n",
            "S                  31470 non-null bool\n",
            "period             100 non-null object\n",
            "month              31 non-null object\n",
            "Station            31470 non-null object\n",
            "Minute             31470 non-null object\n",
            "min                31470 non-null object\n",
            "privatebath        31470 non-null bool\n",
            "privatetoilet      31470 non-null bool\n",
            "bathtoilet         31470 non-null bool\n",
            "sharedtoilet       31470 non-null bool\n",
            "shower             31470 non-null bool\n",
            "dryer              31470 non-null bool\n",
            "washstand          31470 non-null bool\n",
            "dressing           31470 non-null bool\n",
            "warmseat           31470 non-null bool\n",
            "memorial           31470 non-null bool\n",
            "gasstove           31470 non-null bool\n",
            "2stovetops         31470 non-null bool\n",
            "3stovetops         31470 non-null bool\n",
            "systemkitchen      31470 non-null bool\n",
            "hotwatersupply     31470 non-null bool\n",
            "separatekitchen    31470 non-null bool\n",
            "IH                 31470 non-null bool\n",
            "counterkitchen     31470 non-null bool\n",
            "shapekitchen       31470 non-null bool\n",
            "fridge             31470 non-null bool\n",
            "dtypes: bool(24), int64(2), object(22)\n",
            "memory usage: 6.5+ MB\n"
          ],
          "name": "stdout"
        }
      ]
    },
    {
      "cell_type": "code",
      "metadata": {
        "pycharm": {
          "name": "#%%\n",
          "is_executing": false
        },
        "id": "Zd3qDBZ4vPNc",
        "colab_type": "code",
        "outputId": "d6808362-811d-411e-8122-82c4bd48c3f2",
        "colab": {
          "base_uri": "https://localhost:8080/",
          "height": 1000
        }
      },
      "source": [
        "train['Surround'].value_counts()"
      ],
      "execution_count": 0,
      "outputs": [
        {
          "output_type": "execute_result",
          "data": {
            "text/plain": [
              "【スーパー】 264m\\t【スーパー】 848m\\t【スーパー】 969m\\t【コンビニ】 191m\\t【コンビニ】 378m                                                          48\n",
              "【スーパー】 227m\\t【スーパー】 442m\\t【スーパー】 422m\\t【コンビニ】 260m\\t【コンビニ】 320m                                                          47\n",
              "【スーパー】 231m\\t【スーパー】 309m\\t【スーパー】 593m\\t【コンビニ】 103m\\t【コンビニ】 389m                                                          44\n",
              "【スーパー】 292m\\t【コンビニ】 341m                                                                                                 40\n",
              "【スーパー】 501m\\t【スーパー】 924m\\t【スーパー】 713m\\t【コンビニ】 108m\\t【コンビニ】 275m\\t【コンビニ】 469m                                             28\n",
              "【スーパー】 275m\\t【スーパー】 478m\\t【スーパー】 1118m\\t【コンビニ】 140m\\t【コンビニ】 153m\\t【コンビニ】 375m                                            25\n",
              "【スーパー】 702m\\t【スーパー】 789m\\t【スーパー】 959m\\t【コンビニ】 54m\\t【コンビニ】 195m                                                           24\n",
              "【スーパー】 422m\\t【スーパー】 442m\\t【スーパー】 686m\\t【コンビニ】 398m\\t【病院】 612m                                                            23\n",
              "【コンビニ】 100m\\t【コンビニ】 300m\\t【コンビニ】 410m\\t【スーパー】 10m\\t【幼稚園・保育園】 1800m\\t【公園】 330m                                            23\n",
              "【スーパー】 346m\\t【スーパー】 552m\\t【コンビニ】 238m\\t【コンビニ】 613m                                                                       22\n",
              "【スーパー】 205m\\t【スーパー】 325m\\t【コンビニ】 443m\\t【コンビニ】 447m\\t【コンビニ】 432m                                                          20\n",
              "【スーパー】 510m\\t【コンビニ】 205m\\t【コンビニ】 229m                                                                                    19\n",
              "【スーパー】 244m\\t【スーパー】 480m\\t【コンビニ】 283m\\t【コンビニ】 325m                                                                       18\n",
              "【スーパー】 557m\\t【スーパー】 841m\\t【スーパー】 1064m\\t【スーパー】 1148m\\t【コンビニ】 368m\\t【コンビニ】 572m                                           18\n",
              "【スーパー】 350m\\t【スーパー】 745m\\t【コンビニ】 486m\\t【コンビニ】 701m                                                                       18\n",
              "【スーパー】 241m\\t【スーパー】 579m\\t【スーパー】 579m\\t【コンビニ】 227m\\t【コンビニ】 326m                                                          17\n",
              "【スーパー】 501m\\t【スーパー】 773m\\t【コンビニ】 108m\\t【コンビニ】 600m                                                                       17\n",
              "【スーパー】 168m\\t【スーパー】 422m\\t【コンビニ】 225m\\t【コンビニ】 286m                                                                       17\n",
              "【スーパー】 528m\\t【スーパー】 1056m                                                                                                17\n",
              "【スーパー】 1023m\\t【コンビニ】 1129m\\t【病院】 790m                                                                                    16\n",
              "【スーパー】 255m\\t【コンビニ】 131m\\t【コンビニ】 417m\\t【病院】 367m                                                                         16\n",
              "【スーパー】 248m\\t【スーパー】 630m\\t【コンビニ】 355m\\t【コンビニ】 445m                                                                       16\n",
              "【スーパー】 295m\\t【コンビニ】 287m\\t【ドラッグストア】 599m\\t【郵便局】 911m\\t【総合病院】 1606m                                                       16\n",
              "【スーパー】 85m\\t【スーパー】 138m\\t【スーパー】 236m\\t【コンビニ】 236m\\t【コンビニ】 187m                                                           16\n",
              "【コンビニ】 215m\\t【コンビニ】 340m\\t【スーパー】 655m\\t【病院】 324m                                                                         16\n",
              "【スーパー】 347m\\t【スーパー】 545m\\t【スーパー】 662m\\t【スーパー】 721m\\t【コンビニ】 327m\\t【コンビニ】 418m                                             15\n",
              "【スーパー】 272m\\t【スーパー】 569m\\t【コンビニ】 491m\\t【コンビニ】 642m                                                                       15\n",
              "【スーパー】 761m\\t【スーパー】 839m\\t【スーパー】 839m\\t【コンビニ】 323m\\t【コンビニ】 334m\\t【コンビニ】 677m                                             14\n",
              "【スーパー】 396m\\t【スーパー】 589m\\t【スーパー】 675m\\t【コンビニ】 298m\\t【コンビニ】 372m\\t【コンビニ】 461m                                             14\n",
              "【スーパー】 405m\\t【スーパー】 548m\\t【スーパー】 621m\\t【スーパー】 841m\\t【コンビニ】 200m\\t【コンビニ】 575m                                             14\n",
              "                                                                                                                         ..\n",
              "【スーパー】 336m\\t【コンビニ】 234m\\t【スーパー】 724m                                                                                     1\n",
              "【スーパー】 1136m\\t【コンビニ】 1486m\\t【病院】 341m                                                                                     1\n",
              "【コンビニ】 329m\\t【スーパー】 362m\\t【スーパー】 688m\\t【スーパー】 531m\\t【スーパー】 507m\\t【コンビニ】 377m                                              1\n",
              "【スーパー】 570m\\t【コンビニ】 609m\\t【コンビニ】 775m\\t【コンビニ】 1049m                                                                       1\n",
              "【コンビニ】 439m\\t【コンビニ】 589m\\t【コンビニ】 578m\\t【郵便局】 359m\\t【スーパー】 88m\\t【飲食店】 591m\\t【小学校】 1058m                                    1\n",
              "【スーパー】 931m\\t【小学校】 700m\\t【スーパー】 750m\\t【公園】 145m                                                                           1\n",
              "【スーパー】 2521m                                                                                                              1\n",
              "【スーパー】 429m\\t【小学校】 707m\\t【スーパー】 872m\\t【飲食店】 872m\\t【飲食店】 1066m                                                             1\n",
              "【スーパー】 742m\\t【コンビニ】 290m\\t【病院】 270m                                                                                       1\n",
              "【コンビニ】 498m\\t【コンビニ】 492m\\t【飲食店】 700m\\t【スーパー】 895m\\t【ドラッグストア】 715m\\t【ドラッグストア】 839m\\t【飲食店】 715m                             1\n",
              "【スーパー】 325m\\t【スーパー】 639m\\t【コンビニ】 181m\\t【コンビニ】 687m\\t【公園】 450m                                                             1\n",
              "【大学】 2576m\\t【飲食店】 3957m\\t【飲食店】 7167m\\t【飲食店】 5328m\\t【飲食店】 2074m\\t【飲食店】 4876m\\t【飲食店】 7167m\\t【飲食店】 1242m\\t【飲食店】 1434m        1\n",
              "【コンビニ】 141m\\t【スーパー】 146m\\t【スーパー】 548m\\t【コンビニ】 618m\\t【コンビニ】 605m                                                           1\n",
              "【スーパー】 707m\\t【スーパー】 697m\\t【スーパー】 739m\\t【コンビニ】 441m\\t【コンビニ】 281m                                                           1\n",
              "【コンビニ】 74m\\t【コンビニ】 291m\\t【コンビニ】 376m\\t【スーパー】 427m\\t【スーパー】 443m                                                            1\n",
              "【スーパー】 2293m\\t【スーパー】 972m\\t【スーパー】 1683m                                                                                   1\n",
              "【コンビニ】 32m\\t【コンビニ】 102m\\t【コンビニ】 179m\\t【スーパー】 130m\\t【スーパー】 190m\\t【スーパー】 375m                                               1\n",
              "【スーパー】 261m\\t【スーパー】 261m\\t【スーパー】 423m\\t【コンビニ】 154m                                                                        1\n",
              "【コンビニ】 100m\\t【スーパー】 450m\\t【スーパー】 170m\\t【病院】 300m\\t【病院】 850m                                                               1\n",
              "【スーパー】 570m\\t【コンビニ】 183m                                                                                                  1\n",
              "【スーパー】 548m\\t【スーパー】 754m\\t【コンビニ】 266m\\t【コンビニ】 330m                                                                        1\n",
              "【スーパー】 22m\\t【病院】 768m\\t【スーパー】 639m\\t【ドラッグストア】 773m\\t【コンビニ】 519m\\t【小学校】 674m\\t【公園】 784m                                    1\n",
              "【コンビニ】 1307m\\t【ドラッグストア】 1379m\\t【ドラッグストア】 1507m                                                                            1\n",
              "【スーパー】 352m\\t【スーパー】 536m\\t【スーパー】 595m\\t【コンビニ】 514m\\t【コンビニ】 540m                                                           1\n",
              "【小学校】 750m\\t【学校】 600m\\t【スーパー】 400m\\t【スーパー】 450m\\t【コンビニ】 120m\\t【公園】 350m                                                   1\n",
              "【スーパー】 466m\\t【コンビニ】 310m\\t【コンビニ】 530m\\t【コンビニ】 429m                                                                        1\n",
              "【コンビニ】 200m\\t【スーパー】 100m\\t【スーパー】 305m\\t【スーパー】 245m                                                                        1\n",
              "【幼稚園・保育園】 916m\\t【小学校】 448m\\t【スーパー】 226m\\t【スーパー】 418m\\t【スーパー】 445m\\t【コンビニ】 287m\\t【コンビニ】 299m\\t【コンビニ】 325m\\t【総合病院】 929m     1\n",
              "【スーパー】 200m\\t【スーパー】 312m\\t【コンビニ】 213m\\t【ドラッグストア】 405m                                                                     1\n",
              "【コンビニ】 224m\\t【スーパー】 239m                                                                                                  1\n",
              "Name: Surround, Length: 17864, dtype: int64"
            ]
          },
          "metadata": {
            "tags": []
          },
          "execution_count": 48
        }
      ]
    },
    {
      "cell_type": "code",
      "metadata": {
        "pycharm": {
          "name": "#%%\n",
          "is_executing": false
        },
        "id": "TyY2xNu3vPNe",
        "colab_type": "code",
        "colab": {}
      },
      "source": [
        "for dataset in train_test_data:\n",
        "    dataset['supermarket'] = dataset['Surround'].str.extract('(スーパー)')\n",
        "    dataset['konbini'] = dataset['Surround'].str.extract('(コンビニ)')\n",
        "    dataset['univ'] = dataset['Surround'].str.extract('(大学)')\n",
        "    dataset['drugstore'] = dataset['Surround'].str.extract('(ドラッグストア)')\n",
        "    dataset['restaurant'] = dataset['Surround'].str.extract('(飲食店)')\n",
        "    dataset['hospital'] = dataset['Surround'].str.extract('(病院)')\n",
        "    dataset['park'] = dataset['Surround'].str.extract('(公園)')\n",
        "    dataset['library'] = dataset['Surround'].str.extract('(図書館)')\n",
        "    dataset['school'] = dataset['Surround'].str.extract('(学校)')\n",
        "    dataset['bank'] = dataset['Surround'].str.extract('(銀行)')"
      ],
      "execution_count": 0,
      "outputs": []
    },
    {
      "cell_type": "code",
      "metadata": {
        "pycharm": {
          "name": "#%%\n",
          "is_executing": false
        },
        "id": "YZ9tKEBUvPNf",
        "colab_type": "code",
        "colab": {}
      },
      "source": [
        "for dataset in train_test_data:\n",
        "    dataset['supermarket'] = dataset['supermarket'].apply(lambda x: True if x == 'スーパー' else False)\n",
        "    dataset['konbini'] = dataset['konbini'].apply(lambda x: True if x == 'コンビニ' else False)\n",
        "    dataset['univ'] = dataset['univ'].apply(lambda x: True if x == '大学' else False)\n",
        "    dataset['drugstore'] = dataset['drugstore'].apply(lambda x: True if x == 'ドラッグストア' else False)\n",
        "    dataset['restaurant'] = dataset['restaurant'].apply(lambda x: True if x == '飲食店' else False)\n",
        "    dataset['hospital'] = dataset['hospital'].apply(lambda x: True if x == '病院' else False)\n",
        "    dataset['park'] = dataset['park'].apply(lambda x: True if x == '公園' else False)\n",
        "    dataset['library'] = dataset['library'].apply(lambda x: True if x == '図書館' else False)\n",
        "    dataset['school'] = dataset['school'].apply(lambda x: True if x == '学校' else False)\n",
        "    dataset['bank'] = dataset['bank'].apply(lambda x: True if x == '銀行' else False)"
      ],
      "execution_count": 0,
      "outputs": []
    },
    {
      "cell_type": "code",
      "metadata": {
        "pycharm": {
          "name": "#%%\n",
          "is_executing": false
        },
        "id": "hHaUapV8vPNh",
        "colab_type": "code",
        "outputId": "0f3888ba-b192-4356-a296-e04abb565f57",
        "colab": {
          "base_uri": "https://localhost:8080/",
          "height": 359
        }
      },
      "source": [
        "train[['id','supermarket','konbini','univ','drugstore','restaurant',\n",
        "        'hospital','park','library','school','bank']].groupby(['id','supermarket'],as_index=False).mean().head(10)"
      ],
      "execution_count": 0,
      "outputs": [
        {
          "output_type": "execute_result",
          "data": {
            "text/html": [
              "<div>\n",
              "<style scoped>\n",
              "    .dataframe tbody tr th:only-of-type {\n",
              "        vertical-align: middle;\n",
              "    }\n",
              "\n",
              "    .dataframe tbody tr th {\n",
              "        vertical-align: top;\n",
              "    }\n",
              "\n",
              "    .dataframe thead th {\n",
              "        text-align: right;\n",
              "    }\n",
              "</style>\n",
              "<table border=\"1\" class=\"dataframe\">\n",
              "  <thead>\n",
              "    <tr style=\"text-align: right;\">\n",
              "      <th></th>\n",
              "      <th>id</th>\n",
              "      <th>supermarket</th>\n",
              "      <th>konbini</th>\n",
              "      <th>univ</th>\n",
              "      <th>drugstore</th>\n",
              "      <th>restaurant</th>\n",
              "      <th>hospital</th>\n",
              "      <th>park</th>\n",
              "      <th>library</th>\n",
              "      <th>school</th>\n",
              "      <th>bank</th>\n",
              "    </tr>\n",
              "  </thead>\n",
              "  <tbody>\n",
              "    <tr>\n",
              "      <th>0</th>\n",
              "      <td>1</td>\n",
              "      <td>True</td>\n",
              "      <td>True</td>\n",
              "      <td>True</td>\n",
              "      <td>True</td>\n",
              "      <td>True</td>\n",
              "      <td>False</td>\n",
              "      <td>True</td>\n",
              "      <td>False</td>\n",
              "      <td>True</td>\n",
              "      <td>False</td>\n",
              "    </tr>\n",
              "    <tr>\n",
              "      <th>1</th>\n",
              "      <td>2</td>\n",
              "      <td>True</td>\n",
              "      <td>False</td>\n",
              "      <td>False</td>\n",
              "      <td>False</td>\n",
              "      <td>False</td>\n",
              "      <td>False</td>\n",
              "      <td>False</td>\n",
              "      <td>False</td>\n",
              "      <td>False</td>\n",
              "      <td>False</td>\n",
              "    </tr>\n",
              "    <tr>\n",
              "      <th>2</th>\n",
              "      <td>3</td>\n",
              "      <td>True</td>\n",
              "      <td>True</td>\n",
              "      <td>False</td>\n",
              "      <td>False</td>\n",
              "      <td>False</td>\n",
              "      <td>False</td>\n",
              "      <td>False</td>\n",
              "      <td>False</td>\n",
              "      <td>False</td>\n",
              "      <td>False</td>\n",
              "    </tr>\n",
              "    <tr>\n",
              "      <th>3</th>\n",
              "      <td>4</td>\n",
              "      <td>True</td>\n",
              "      <td>True</td>\n",
              "      <td>False</td>\n",
              "      <td>False</td>\n",
              "      <td>False</td>\n",
              "      <td>False</td>\n",
              "      <td>False</td>\n",
              "      <td>False</td>\n",
              "      <td>False</td>\n",
              "      <td>False</td>\n",
              "    </tr>\n",
              "    <tr>\n",
              "      <th>4</th>\n",
              "      <td>5</td>\n",
              "      <td>True</td>\n",
              "      <td>True</td>\n",
              "      <td>False</td>\n",
              "      <td>False</td>\n",
              "      <td>False</td>\n",
              "      <td>False</td>\n",
              "      <td>False</td>\n",
              "      <td>False</td>\n",
              "      <td>False</td>\n",
              "      <td>False</td>\n",
              "    </tr>\n",
              "    <tr>\n",
              "      <th>5</th>\n",
              "      <td>6</td>\n",
              "      <td>True</td>\n",
              "      <td>True</td>\n",
              "      <td>False</td>\n",
              "      <td>False</td>\n",
              "      <td>False</td>\n",
              "      <td>False</td>\n",
              "      <td>False</td>\n",
              "      <td>False</td>\n",
              "      <td>False</td>\n",
              "      <td>False</td>\n",
              "    </tr>\n",
              "    <tr>\n",
              "      <th>6</th>\n",
              "      <td>7</td>\n",
              "      <td>True</td>\n",
              "      <td>True</td>\n",
              "      <td>False</td>\n",
              "      <td>False</td>\n",
              "      <td>False</td>\n",
              "      <td>False</td>\n",
              "      <td>False</td>\n",
              "      <td>False</td>\n",
              "      <td>False</td>\n",
              "      <td>False</td>\n",
              "    </tr>\n",
              "    <tr>\n",
              "      <th>7</th>\n",
              "      <td>8</td>\n",
              "      <td>True</td>\n",
              "      <td>True</td>\n",
              "      <td>False</td>\n",
              "      <td>False</td>\n",
              "      <td>False</td>\n",
              "      <td>False</td>\n",
              "      <td>False</td>\n",
              "      <td>False</td>\n",
              "      <td>False</td>\n",
              "      <td>False</td>\n",
              "    </tr>\n",
              "    <tr>\n",
              "      <th>8</th>\n",
              "      <td>9</td>\n",
              "      <td>False</td>\n",
              "      <td>False</td>\n",
              "      <td>False</td>\n",
              "      <td>False</td>\n",
              "      <td>False</td>\n",
              "      <td>False</td>\n",
              "      <td>False</td>\n",
              "      <td>False</td>\n",
              "      <td>False</td>\n",
              "      <td>False</td>\n",
              "    </tr>\n",
              "    <tr>\n",
              "      <th>9</th>\n",
              "      <td>10</td>\n",
              "      <td>False</td>\n",
              "      <td>False</td>\n",
              "      <td>False</td>\n",
              "      <td>False</td>\n",
              "      <td>False</td>\n",
              "      <td>False</td>\n",
              "      <td>False</td>\n",
              "      <td>False</td>\n",
              "      <td>False</td>\n",
              "      <td>False</td>\n",
              "    </tr>\n",
              "  </tbody>\n",
              "</table>\n",
              "</div>"
            ],
            "text/plain": [
              "   id  supermarket  konbini   univ  drugstore  restaurant  hospital   park  \\\n",
              "0   1         True     True   True       True        True     False   True   \n",
              "1   2         True    False  False      False       False     False  False   \n",
              "2   3         True     True  False      False       False     False  False   \n",
              "3   4         True     True  False      False       False     False  False   \n",
              "4   5         True     True  False      False       False     False  False   \n",
              "5   6         True     True  False      False       False     False  False   \n",
              "6   7         True     True  False      False       False     False  False   \n",
              "7   8         True     True  False      False       False     False  False   \n",
              "8   9        False    False  False      False       False     False  False   \n",
              "9  10        False    False  False      False       False     False  False   \n",
              "\n",
              "   library  school   bank  \n",
              "0    False    True  False  \n",
              "1    False   False  False  \n",
              "2    False   False  False  \n",
              "3    False   False  False  \n",
              "4    False   False  False  \n",
              "5    False   False  False  \n",
              "6    False   False  False  \n",
              "7    False   False  False  \n",
              "8    False   False  False  \n",
              "9    False   False  False  "
            ]
          },
          "metadata": {
            "tags": []
          },
          "execution_count": 51
        }
      ]
    },
    {
      "cell_type": "code",
      "metadata": {
        "pycharm": {
          "name": "#%%\n",
          "is_executing": false
        },
        "id": "qlhGEcNmvPNk",
        "colab_type": "code",
        "colab": {}
      },
      "source": [
        "for dataset in train_test_data:\n",
        "    dataset['metters'] = dataset['Surround'].str.extract('([0-9]*m)')\n",
        "    dataset['metter'] = dataset['metters'].str.extract('([0-9]*)')"
      ],
      "execution_count": 0,
      "outputs": []
    },
    {
      "cell_type": "code",
      "metadata": {
        "pycharm": {
          "name": "#%%\n",
          "is_executing": false
        },
        "id": "P6SBFqVBvPNm",
        "colab_type": "code",
        "outputId": "9802d420-f722-4335-a80c-54eaf7a111b8",
        "colab": {
          "base_uri": "https://localhost:8080/",
          "height": 1000
        }
      },
      "source": [
        "train['metter'].value_counts()"
      ],
      "execution_count": 0,
      "outputs": [
        {
          "output_type": "execute_result",
          "data": {
            "text/plain": [
              "350     117\n",
              "400     109\n",
              "300      91\n",
              "231      88\n",
              "200      83\n",
              "150      82\n",
              "100      81\n",
              "227      81\n",
              "250      77\n",
              "450      76\n",
              "500      75\n",
              "80       71\n",
              "244      71\n",
              "292      71\n",
              "501      71\n",
              "600      70\n",
              "248      69\n",
              "220      66\n",
              "264      66\n",
              "160      64\n",
              "255      64\n",
              "268      63\n",
              "346      62\n",
              "240      61\n",
              "230      61\n",
              "550      61\n",
              "159      60\n",
              "186      59\n",
              "270      59\n",
              "396      58\n",
              "       ... \n",
              "1917      1\n",
              "1629      1\n",
              "1176      1\n",
              "2003      1\n",
              "2519      1\n",
              "1763      1\n",
              "1707      1\n",
              "2081      1\n",
              "1345      1\n",
              "1636      1\n",
              "1159      1\n",
              "1888      1\n",
              "3033      1\n",
              "2379      1\n",
              "3189      1\n",
              "1677      1\n",
              "1773      1\n",
              "2884      1\n",
              "2267      1\n",
              "1839      1\n",
              "2192      1\n",
              "3473      1\n",
              "1072      1\n",
              "6848      1\n",
              "1339      1\n",
              "1037      1\n",
              "3672      1\n",
              "1980      1\n",
              "2386      1\n",
              "1427      1\n",
              "Name: metter, Length: 1903, dtype: int64"
            ]
          },
          "metadata": {
            "tags": []
          },
          "execution_count": 53
        }
      ]
    },
    {
      "cell_type": "code",
      "metadata": {
        "pycharm": {
          "name": "#%%\n",
          "is_executing": false
        },
        "id": "Af3Tz3b9vPNq",
        "colab_type": "code",
        "colab": {}
      },
      "source": [
        "train['metter'].fillna(350,inplace=True)\n",
        "test['metter'].fillna(350,inplace=True)"
      ],
      "execution_count": 0,
      "outputs": []
    },
    {
      "cell_type": "code",
      "metadata": {
        "pycharm": {
          "name": "#%%\n",
          "is_executing": false
        },
        "id": "_pMbpYF4vPNr",
        "colab_type": "code",
        "outputId": "3ef4bd9c-f9c4-4394-c7f3-e9dbf79dd849",
        "colab": {
          "base_uri": "https://localhost:8080/",
          "height": 359
        }
      },
      "source": [
        "train[['metter', 'Rent']].groupby(['metter'], as_index=False).mean().sort_values(by=\"Rent\",ascending=False).head(10)"
      ],
      "execution_count": 0,
      "outputs": [
        {
          "output_type": "execute_result",
          "data": {
            "text/html": [
              "<div>\n",
              "<style scoped>\n",
              "    .dataframe tbody tr th:only-of-type {\n",
              "        vertical-align: middle;\n",
              "    }\n",
              "\n",
              "    .dataframe tbody tr th {\n",
              "        vertical-align: top;\n",
              "    }\n",
              "\n",
              "    .dataframe thead th {\n",
              "        text-align: right;\n",
              "    }\n",
              "</style>\n",
              "<table border=\"1\" class=\"dataframe\">\n",
              "  <thead>\n",
              "    <tr style=\"text-align: right;\">\n",
              "      <th></th>\n",
              "      <th>metter</th>\n",
              "      <th>Rent</th>\n",
              "    </tr>\n",
              "  </thead>\n",
              "  <tbody>\n",
              "    <tr>\n",
              "      <th>1859</th>\n",
              "      <td>959</td>\n",
              "      <td>1.112750e+06</td>\n",
              "    </tr>\n",
              "    <tr>\n",
              "      <th>1890</th>\n",
              "      <td>987</td>\n",
              "      <td>4.300000e+05</td>\n",
              "    </tr>\n",
              "    <tr>\n",
              "      <th>683</th>\n",
              "      <td>1921</td>\n",
              "      <td>3.780000e+05</td>\n",
              "    </tr>\n",
              "    <tr>\n",
              "      <th>34</th>\n",
              "      <td>1027</td>\n",
              "      <td>3.445000e+05</td>\n",
              "    </tr>\n",
              "    <tr>\n",
              "      <th>1691</th>\n",
              "      <td>807</td>\n",
              "      <td>3.356000e+05</td>\n",
              "    </tr>\n",
              "    <tr>\n",
              "      <th>141</th>\n",
              "      <td>1129</td>\n",
              "      <td>3.080000e+05</td>\n",
              "    </tr>\n",
              "    <tr>\n",
              "      <th>96</th>\n",
              "      <td>1086</td>\n",
              "      <td>3.000000e+05</td>\n",
              "    </tr>\n",
              "    <tr>\n",
              "      <th>525</th>\n",
              "      <td>1636</td>\n",
              "      <td>2.950000e+05</td>\n",
              "    </tr>\n",
              "    <tr>\n",
              "      <th>101</th>\n",
              "      <td>1091</td>\n",
              "      <td>2.916667e+05</td>\n",
              "    </tr>\n",
              "    <tr>\n",
              "      <th>565</th>\n",
              "      <td>1715</td>\n",
              "      <td>2.894000e+05</td>\n",
              "    </tr>\n",
              "  </tbody>\n",
              "</table>\n",
              "</div>"
            ],
            "text/plain": [
              "     metter          Rent\n",
              "1859    959  1.112750e+06\n",
              "1890    987  4.300000e+05\n",
              "683    1921  3.780000e+05\n",
              "34     1027  3.445000e+05\n",
              "1691    807  3.356000e+05\n",
              "141    1129  3.080000e+05\n",
              "96     1086  3.000000e+05\n",
              "525    1636  2.950000e+05\n",
              "101    1091  2.916667e+05\n",
              "565    1715  2.894000e+05"
            ]
          },
          "metadata": {
            "tags": []
          },
          "execution_count": 55
        }
      ]
    },
    {
      "cell_type": "code",
      "metadata": {
        "pycharm": {
          "name": "#%%\n",
          "is_executing": false
        },
        "id": "f7U6cbHavPNs",
        "colab_type": "code",
        "outputId": "5e9fd5cf-6498-4ea1-a273-8d595452db5b",
        "colab": {
          "base_uri": "https://localhost:8080/",
          "height": 1000
        }
      },
      "source": [
        "train['Facility'].value_counts()"
      ],
      "execution_count": 0,
      "outputs": [
        {
          "output_type": "execute_result",
          "data": {
            "text/plain": [
              "エアコン付\\tシューズボックス／\\tバルコニー／\\tフローリング／\\t24時間換気システム\\t／\\t室内洗濯機置場／\\t敷地内ごみ置き場\\t／\\tエレベーター／\\tタイル張り\\t公営水道／\\t下水／\\t都市ガス                                     1540\n",
              "エアコン付\\tシューズボックス／\\tバルコニー／\\tフローリング／\\t室内洗濯機置場／\\t敷地内ごみ置き場\\t／\\tエレベーター／\\tタイル張り\\t公営水道／\\t下水／\\t都市ガス                                                     811\n",
              "冷房／\\tエアコン付\\tシューズボックス／\\tバルコニー／\\tフローリング／\\t24時間換気システム\\t／\\t室内洗濯機置場／\\t敷地内ごみ置き場\\t／\\tエレベーター／\\tタイル張り\\t公営水道／\\t下水／\\t都市ガス                                 602\n",
              "エアコン付\\tシューズボックス／\\tバルコニー／\\tフローリング／\\t24時間換気システム\\t／\\t2面採光／\\t室内洗濯機置場／\\t敷地内ごみ置き場\\t／\\tエレベーター／\\tタイル張り\\t公営水道／\\t下水／\\t都市ガス                               564\n",
              "エアコン付\\tシューズボックス／\\tバルコニー／\\tフローリング／\\t室内洗濯機置場／\\t敷地内ごみ置き場\\t／\\tエレベーター\\t公営水道／\\t下水／\\t都市ガス                                                             412\n",
              "エアコン付\\tシューズボックス／\\tバルコニー／\\tフローリング／\\t24時間換気システム\\t／\\t室内洗濯機置場／\\t敷地内ごみ置き場\\t／\\tエレベーター\\t公営水道／\\t下水／\\t都市ガス                                              369\n",
              "エアコン付\\tシューズボックス／\\tバルコニー／\\tフローリング／\\t室内洗濯機置場\\t公営水道／\\t下水／\\t都市ガス                                                                                   330\n",
              "エアコン付\\tウォークインクローゼット\\tシューズボックス／\\tバルコニー／\\tフローリング／\\t24時間換気システム\\t／\\t室内洗濯機置場／\\t敷地内ごみ置き場\\t／\\tエレベーター／\\tタイル張り\\t公営水道／\\t下水／\\t都市ガス                        321\n",
              "エアコン付\\tシューズボックス／\\tバルコニー／\\tフローリング／\\t室内洗濯機置場／\\t敷地内ごみ置き場\\t公営水道／\\t下水／\\t都市ガス                                                                        295\n",
              "エアコン付\\tシューズボックス／\\tバルコニー／\\tフローリング／\\t2面採光／\\t室内洗濯機置場／\\t敷地内ごみ置き場\\t／\\tエレベーター／\\tタイル張り\\t公営水道／\\t下水／\\t都市ガス                                              243\n",
              "エアコン付\\tバルコニー／\\tフローリング／\\t室内洗濯機置場／\\tエレベーター／\\tタイル張り\\t公営水道／\\t都市ガス                                                                                  231\n",
              "エアコン付\\tシューズボックス／\\tバルコニー／\\tフローリング／\\t室内洗濯機置場／\\t敷地内ごみ置き場\\t／\\tタイル張り\\t公営水道／\\t下水／\\t都市ガス                                                              229\n",
              "冷房／\\tエアコン付\\tシューズボックス／\\tバルコニー／\\tフローリング／\\t24時間換気システム\\t／\\t2面採光／\\t室内洗濯機置場／\\t敷地内ごみ置き場\\t／\\tエレベーター／\\tタイル張り\\t公営水道／\\t下水／\\t都市ガス                          217\n",
              "エアコン付\\tシューズボックス／\\tバルコニー／\\tフローリング／\\t室内洗濯機置場／\\tエレベーター／\\tタイル張り\\t公営水道／\\t下水／\\t都市ガス                                                                  212\n",
              "エアコン付\\tシューズボックス／\\tバルコニー／\\tフローリング／\\t室内洗濯機置場\\t都市ガス                                                                                               205\n",
              "エアコン付\\tシューズボックス／\\tバルコニー／\\tフローリング／\\t室内洗濯機置場／\\tエレベーター\\t都市ガス                                                                                      172\n",
              "エアコン付\\tシューズボックス／\\tバルコニー／\\tフローリング／\\t室内洗濯機置場／\\tエレベーター\\t公営水道／\\t下水／\\t都市ガス                                                                          170\n",
              "エアコン付\\tバルコニー／\\tフローリング／\\t室内洗濯機置場／\\tエレベーター\\t公営水道／\\t都市ガス                                                                                          169\n",
              "エアコン付\\tシューズボックス／\\tフローリング／\\t室内洗濯機置場\\t公営水道／\\t下水／\\t都市ガス                                                                                           167\n",
              "エアコン付\\tバルコニー／\\tフローリング／\\t室内洗濯機置場\\t公営水道／\\t下水／\\t都市ガス                                                                                              153\n",
              "エアコン付\\tシューズボックス／\\tバルコニー／\\tフローリング／\\t24時間換気システム\\t／\\t室内洗濯機置場／\\t敷地内ごみ置き場\\t／\\tタイル張り\\t公営水道／\\t下水／\\t都市ガス                                               152\n",
              "エアコン付\\tフローリング／\\t室内洗濯機置場\\t公営水道／\\t下水／\\t都市ガス                                                                                                      143\n",
              "エアコン付\\tバルコニー／\\tフローリング／\\t室内洗濯機置場\\t公営水道／\\t都市ガス                                                                                                   138\n",
              "エアコン付\\tシューズボックス／\\tバルコニー／\\tフローリング／\\t24時間換気システム\\t／\\t室内洗濯機置場／\\tエレベーター／\\tタイル張り\\t公営水道／\\t下水／\\t都市ガス                                                   135\n",
              "エアコン付\\tウォークインクローゼット\\tシューズボックス／\\tバルコニー／\\tフローリング／\\t24時間換気システム\\t／\\t2面採光／\\t室内洗濯機置場／\\t敷地内ごみ置き場\\t／\\tエレベーター／\\tタイル張り\\t公営水道／\\t下水／\\t都市ガス                 133\n",
              "エアコン付\\tシューズボックス／\\tバルコニー／\\tフローリング／\\t24時間換気システム\\t／\\t2面採光／\\t室内洗濯機置場／\\t敷地内ごみ置き場\\t／\\tエレベーター\\t公営水道／\\t下水／\\t都市ガス                                       132\n",
              "エアコン付\\tシューズボックス／\\tバルコニー／\\tフローリング／\\t室内洗濯機置場／\\tタイル張り\\t公営水道／\\t下水／\\t都市ガス                                                                           131\n",
              "エアコン付\\tウォークインクローゼット\\tシューズボックス／\\tバルコニー／\\tフローリング／\\t室内洗濯機置場／\\t敷地内ごみ置き場\\t／\\tエレベーター／\\tタイル張り\\t公営水道／\\t下水／\\t都市ガス                                       131\n",
              "冷房／\\tエアコン付\\tシューズボックス／\\tバルコニー／\\tフローリング／\\t室内洗濯機置場／\\t敷地内ごみ置き場\\t／\\tエレベーター／\\tタイル張り\\t公営水道／\\t下水／\\t都市ガス                                                130\n",
              "エアコン付\\tシューズボックス／\\tバルコニー／\\tフローリング／\\t2面採光／\\t室内洗濯機置場\\t公営水道／\\t下水／\\t都市ガス                                                                            128\n",
              "                                                                                                                                              ... \n",
              "エアコン付\\tウォークインクローゼット\\tシューズボックス／\\t出窓／\\tバルコニー／\\t24時間換気システム\\t／\\t2面採光／\\t室内洗濯機置場／\\t敷地内ごみ置き場\\t／\\tエレベーター／\\tタイル張り\\t公営水道／\\t下水／\\t都市ガス                       1\n",
              "冷房／\\tエアコン付\\tウォークインクローゼット\\tシューズボックス／\\tバルコニー／\\tフローリング／\\t24時間換気システム\\t／\\t2面採光／\\t3面採光／\\tペアガラス／\\t室内洗濯機置場／\\t敷地内ごみ置き場\\t／\\tエレベーター\\t公営水道／\\t下水／\\t都市ガス       1\n",
              "エアコン付／\\t床暖房\\tシューズボックス／\\tバルコニー／\\t室内洗濯機置場／\\t敷地内ごみ置き場\\t／\\tエレベーター\\t公営水道／\\t下水／\\t都市ガス                                                                  1\n",
              "シューズボックス／\\tバルコニー／\\tフローリング／\\t24時間換気システム\\t／\\tエレベーター／\\tタイル張り\\t公営水道／\\t下水／\\t都市ガス                                                                      1\n",
              "エアコン付\\tウォークインクローゼット\\tシューズボックス／\\tバルコニー／\\tフローリング／\\t室内洗濯機置場／\\tタイル張り／\\t専用庭\\t公営水道／\\t下水／\\t都市ガス                                                         1\n",
              "エアコン付\\tシューズボックス／\\t出窓／\\tバルコニー／\\tフローリング／\\t24時間換気システム\\t／\\t室内洗濯機置場／\\t敷地内ごみ置き場\\t／\\tエレベーター／\\tタイル張り                                                     1\n",
              "エアコン付\\t出窓／\\tバルコニー／\\tフローリング／\\t室内洗濯機置場／\\tエレベーター／\\tタイル張り／\\tオール電化                                                                                    1\n",
              "冷房／\\tエアコン付\\tシューズボックス／\\t出窓／\\tバルコニー／\\tフローリング／\\t室内洗濯機置場／\\t敷地内ごみ置き場\\t水道その他／\\t下水／\\t都市ガス                                                               1\n",
              "バルコニー／\\tフローリング／\\t室外洗濯機置場／\\t敷地内ごみ置き場\\tプロパンガス                                                                                                      1\n",
              "エアコン付\\tシューズボックス／\\tバルコニー／\\tフローリング／\\t24時間換気システム\\t／\\t室内洗濯機置場／\\t敷地内ごみ置き場\\t／\\tタイル張り／\\tオール電化\\t水道その他／\\t下水／\\tプロパンガス                                      1\n",
              "冷房／\\tエアコン付\\tシューズボックス／\\tフローリング／\\t24時間換気システム\\t／\\t2面採光／\\t室内洗濯機置場／\\t敷地内ごみ置き場\\t／\\tエレベーター\\t公営水道／\\t下水／\\t都市ガス                                            1\n",
              "エアコン付\\tシューズボックス／\\tフローリング／\\t24時間換気システム\\t／\\t2面採光／\\t3面採光／\\t室内洗濯機置場／\\t敷地内ごみ置き場\\t／\\tエレベーター／\\tタイル張り\\t公営水道／\\t下水／\\t都市ガス                                  1\n",
              "エアコン付\\tシューズボックス／\\tロフト付き／\\tバルコニー／\\tフローリング／\\t24時間換気システム\\t／\\t室内洗濯機置場／\\t敷地内ごみ置き場\\t／\\tタイル張り\\t公営水道／\\t下水                                                1\n",
              "エアコン付／\\t床暖房\\tウォークインクローゼット\\tバルコニー／\\tフローリング／\\t室内洗濯機置場／\\t敷地内ごみ置き場\\t／\\tエレベーター\\t公営水道／\\t下水／\\t都市ガス                                                      1\n",
              "エアコン付／\\t床暖房\\tシューズボックス／\\tロフト付き／\\tバルコニー／\\tフローリング／\\t室内洗濯機置場／\\t敷地内ごみ置き場\\t公営水道／\\t下水／\\t都市ガス                                                            1\n",
              "エアコン付\\t24時間換気システム\\t／\\tクッションフロア／\\t室内洗濯機置場／\\t敷地内ごみ置き場\\t公営水道／\\t下水／\\t都市ガス                                                                            1\n",
              "エアコン付\\tフローリング／\\t3面採光\\t公営水道／\\t下水                                                                                                                  1\n",
              "エアコン付\\tシューズボックス／\\tロフト付き／\\t出窓／\\tフローリング／\\t敷地内ごみ置き場\\t公営水道／\\t下水                                                                                      1\n",
              "冷房\\tシューズボックス／\\tバルコニー／\\tフローリング／\\t室内洗濯機置場\\t公営水道／\\t下水／\\t都市ガス                                                                                        1\n",
              "エアコン付\\tフローリング／\\t室内洗濯機置場／\\t専用庭\\t公営水道／\\t都市ガス                                                                                                       1\n",
              "冷房／\\tエアコン付\\tシューズボックス／\\t室内洗濯機置場\\t水道その他／\\t排水その他／\\t都市ガス                                                                                             1\n",
              "エアコン付\\tトランクルーム\\tシューズボックス／\\t出窓／\\tバルコニー／\\tフローリング／\\tエレベーター\\t公営水道／\\t下水／\\t都市ガス                                                                        1\n",
              "エアコン付\\tウォークインクローゼット\\tシューズボックス／\\t出窓／\\tバルコニー／\\tフローリング／\\t2面採光／\\t室内洗濯機置場／\\t敷地内ごみ置き場\\t公営水道／\\t下水／\\t都市ガス                                                1\n",
              "冷房／\\tエアコン付\\tシューズボックス／\\tロフト付き／\\tバルコニー／\\tフローリング／\\t室内洗濯機置場／\\t敷地内ごみ置き場\\t公営水道／\\t下水／\\tプロパンガス                                                           1\n",
              "冷房／\\tエアコン付／\\t床暖房\\t床下収納\\tシューズボックス／\\tバルコニー／\\tフローリング／\\t2面採光／\\t3面採光／\\t室内洗濯機置場／\\tエレベーター\\t公営水道／\\t下水／\\t都市ガス                                             1\n",
              "フローリング／\\t室内洗濯機置場／\\t敷地内ごみ置き場\\t／\\tタイル張り\\t公営水道／\\t下水／\\t都市ガス                                                                                          1\n",
              "エアコン付\\tシューズボックス／\\tバルコニー／\\t室内洗濯機置場／\\tエレベーター／\\tタイル張り／\\tオール電化                                                                                       1\n",
              "エアコン付\\tバルコニー／\\tフローリング／\\t2面採光／\\tペアガラス／\\t室内洗濯機置場\\t公営水道／\\t下水／\\t都市ガス                                                                                 1\n",
              "エアコン付\\tロフト付き／\\tバルコニー／\\tフローリング／\\t2面採光／\\t室内洗濯機置場／\\tタイル張り\\t公営水道／\\t下水／\\t都市ガス                                                                         1\n",
              "エアコン付\\t床下収納\\tシューズボックス／\\tフローリング／\\tペアガラス／\\t室内洗濯機置場\\t下水／\\t都市ガス                                                                                      1\n",
              "Name: Facility, Length: 6220, dtype: int64"
            ]
          },
          "metadata": {
            "tags": []
          },
          "execution_count": 56
        }
      ]
    },
    {
      "cell_type": "code",
      "metadata": {
        "pycharm": {
          "name": "#%%\n",
          "is_executing": false
        },
        "id": "e54vi-iYvPNu",
        "colab_type": "code",
        "colab": {}
      },
      "source": [
        "for dataset in train_test_data:\n",
        "    dataset['aircon'] = dataset['Facility'].str.extract('(エアコン付)')\n",
        "    dataset['shoesbox'] = dataset['Facility'].str.extract('(シューズボックス)')\n",
        "    dataset['balcony'] = dataset['Facility'].str.extract('(バルコニー)')\n",
        "    dataset['flooring'] = dataset['Facility'].str.extract('(フローリング)')\n",
        "    dataset['ventilation'] = dataset['Facility'].str.extract('(24時間換気システム)')\n",
        "    dataset['washingmachine'] = dataset['Facility'].str.extract('(室内洗濯機置場)')\n",
        "    dataset['garbage'] = dataset['Facility'].str.extract('(敷地内ごみ置き場)')\n",
        "    dataset['elevator'] = dataset['Facility'].str.extract('(エレベーター)')\n",
        "    dataset['tiled'] = dataset['Facility'].str.extract('(タイル張り)')\n",
        "    dataset['publicwater'] = dataset['Facility'].str.extract('(公営水道)')\n",
        "    dataset['sewage'] = dataset['Facility'].str.extract('(下水)')\n",
        "    dataset['citygas'] = dataset['Facility'].str.extract('(都市ガス)')"
      ],
      "execution_count": 0,
      "outputs": []
    },
    {
      "cell_type": "code",
      "metadata": {
        "pycharm": {
          "name": "#%%\n",
          "is_executing": false
        },
        "id": "ZXE0BVpsvPNv",
        "colab_type": "code",
        "colab": {}
      },
      "source": [
        "for dataset in train_test_data:\n",
        "    dataset['aircon'] = dataset['aircon'].apply(lambda x: True if x == 'エアコン付' else False)\n",
        "    dataset['shoesbox'] = dataset['shoesbox'].apply(lambda x: True if x == 'シューズボックス' else False)\n",
        "    dataset['balcony'] = dataset['balcony'].apply(lambda x: True if x == 'バルコニー' else False)\n",
        "    dataset['flooring'] = dataset['flooring'].apply(lambda x: True if x == 'フローリング' else False)\n",
        "    dataset['ventilation'] = dataset['ventilation'].apply(lambda x: True if x == '24時間換気システム' else False)\n",
        "    dataset['washingmachine'] = dataset['washingmachine'].apply(lambda x: True if x == '室内洗濯機置場' else False)\n",
        "    dataset['garbage'] = dataset['garbage'].apply(lambda x: True if x == '敷地内ごみ置き場' else False)\n",
        "    dataset['elevator'] = dataset['elevator'].apply(lambda x: True if x == 'エレベーター' else False)\n",
        "    dataset['tiled'] = dataset['tiled'].apply(lambda x: True if x == 'タイル張り' else False)\n",
        "    dataset['publicwater'] = dataset['publicwater'].apply(lambda x: True if x == '公営水道' else False)\n",
        "    dataset['sewage'] = dataset['sewage'].apply(lambda x: True if x == '下水' else False)\n",
        "    dataset['citygas'] = dataset['citygas'].apply(lambda x: True if x == '都市ガス' else False)"
      ],
      "execution_count": 0,
      "outputs": []
    },
    {
      "cell_type": "code",
      "metadata": {
        "pycharm": {
          "name": "#%%\n",
          "is_executing": false
        },
        "id": "2aIBryOXvPNw",
        "colab_type": "code",
        "outputId": "5044c28b-0649-4aba-a153-b8693d30fe2c",
        "colab": {
          "base_uri": "https://localhost:8080/",
          "height": 359
        }
      },
      "source": [
        "train[['id','aircon','shoesbox','balcony','flooring','ventilation','washingmachine',\n",
        "       'garbage','elevator','tiled','publicwater','sewage','citygas']].groupby(['id','aircon'],as_index=False).mean().head(10)"
      ],
      "execution_count": 0,
      "outputs": [
        {
          "output_type": "execute_result",
          "data": {
            "text/html": [
              "<div>\n",
              "<style scoped>\n",
              "    .dataframe tbody tr th:only-of-type {\n",
              "        vertical-align: middle;\n",
              "    }\n",
              "\n",
              "    .dataframe tbody tr th {\n",
              "        vertical-align: top;\n",
              "    }\n",
              "\n",
              "    .dataframe thead th {\n",
              "        text-align: right;\n",
              "    }\n",
              "</style>\n",
              "<table border=\"1\" class=\"dataframe\">\n",
              "  <thead>\n",
              "    <tr style=\"text-align: right;\">\n",
              "      <th></th>\n",
              "      <th>id</th>\n",
              "      <th>aircon</th>\n",
              "      <th>shoesbox</th>\n",
              "      <th>balcony</th>\n",
              "      <th>flooring</th>\n",
              "      <th>ventilation</th>\n",
              "      <th>washingmachine</th>\n",
              "      <th>garbage</th>\n",
              "      <th>elevator</th>\n",
              "      <th>tiled</th>\n",
              "      <th>publicwater</th>\n",
              "      <th>sewage</th>\n",
              "      <th>citygas</th>\n",
              "    </tr>\n",
              "  </thead>\n",
              "  <tbody>\n",
              "    <tr>\n",
              "      <th>0</th>\n",
              "      <td>1</td>\n",
              "      <td>True</td>\n",
              "      <td>True</td>\n",
              "      <td>True</td>\n",
              "      <td>True</td>\n",
              "      <td>False</td>\n",
              "      <td>True</td>\n",
              "      <td>True</td>\n",
              "      <td>True</td>\n",
              "      <td>False</td>\n",
              "      <td>True</td>\n",
              "      <td>True</td>\n",
              "      <td>True</td>\n",
              "    </tr>\n",
              "    <tr>\n",
              "      <th>1</th>\n",
              "      <td>2</td>\n",
              "      <td>True</td>\n",
              "      <td>True</td>\n",
              "      <td>True</td>\n",
              "      <td>True</td>\n",
              "      <td>False</td>\n",
              "      <td>True</td>\n",
              "      <td>True</td>\n",
              "      <td>True</td>\n",
              "      <td>True</td>\n",
              "      <td>False</td>\n",
              "      <td>False</td>\n",
              "      <td>False</td>\n",
              "    </tr>\n",
              "    <tr>\n",
              "      <th>2</th>\n",
              "      <td>3</td>\n",
              "      <td>True</td>\n",
              "      <td>True</td>\n",
              "      <td>True</td>\n",
              "      <td>True</td>\n",
              "      <td>False</td>\n",
              "      <td>True</td>\n",
              "      <td>True</td>\n",
              "      <td>True</td>\n",
              "      <td>True</td>\n",
              "      <td>True</td>\n",
              "      <td>True</td>\n",
              "      <td>True</td>\n",
              "    </tr>\n",
              "    <tr>\n",
              "      <th>3</th>\n",
              "      <td>4</td>\n",
              "      <td>True</td>\n",
              "      <td>True</td>\n",
              "      <td>True</td>\n",
              "      <td>False</td>\n",
              "      <td>False</td>\n",
              "      <td>True</td>\n",
              "      <td>False</td>\n",
              "      <td>True</td>\n",
              "      <td>False</td>\n",
              "      <td>True</td>\n",
              "      <td>True</td>\n",
              "      <td>True</td>\n",
              "    </tr>\n",
              "    <tr>\n",
              "      <th>4</th>\n",
              "      <td>5</td>\n",
              "      <td>False</td>\n",
              "      <td>False</td>\n",
              "      <td>True</td>\n",
              "      <td>True</td>\n",
              "      <td>False</td>\n",
              "      <td>True</td>\n",
              "      <td>False</td>\n",
              "      <td>False</td>\n",
              "      <td>False</td>\n",
              "      <td>True</td>\n",
              "      <td>True</td>\n",
              "      <td>False</td>\n",
              "    </tr>\n",
              "    <tr>\n",
              "      <th>5</th>\n",
              "      <td>6</td>\n",
              "      <td>True</td>\n",
              "      <td>True</td>\n",
              "      <td>True</td>\n",
              "      <td>True</td>\n",
              "      <td>True</td>\n",
              "      <td>True</td>\n",
              "      <td>False</td>\n",
              "      <td>True</td>\n",
              "      <td>True</td>\n",
              "      <td>True</td>\n",
              "      <td>True</td>\n",
              "      <td>True</td>\n",
              "    </tr>\n",
              "    <tr>\n",
              "      <th>6</th>\n",
              "      <td>7</td>\n",
              "      <td>True</td>\n",
              "      <td>True</td>\n",
              "      <td>True</td>\n",
              "      <td>True</td>\n",
              "      <td>True</td>\n",
              "      <td>True</td>\n",
              "      <td>True</td>\n",
              "      <td>True</td>\n",
              "      <td>False</td>\n",
              "      <td>True</td>\n",
              "      <td>True</td>\n",
              "      <td>True</td>\n",
              "    </tr>\n",
              "    <tr>\n",
              "      <th>7</th>\n",
              "      <td>8</td>\n",
              "      <td>True</td>\n",
              "      <td>True</td>\n",
              "      <td>True</td>\n",
              "      <td>True</td>\n",
              "      <td>True</td>\n",
              "      <td>True</td>\n",
              "      <td>True</td>\n",
              "      <td>True</td>\n",
              "      <td>True</td>\n",
              "      <td>True</td>\n",
              "      <td>True</td>\n",
              "      <td>True</td>\n",
              "    </tr>\n",
              "    <tr>\n",
              "      <th>8</th>\n",
              "      <td>9</td>\n",
              "      <td>True</td>\n",
              "      <td>False</td>\n",
              "      <td>True</td>\n",
              "      <td>True</td>\n",
              "      <td>False</td>\n",
              "      <td>True</td>\n",
              "      <td>False</td>\n",
              "      <td>False</td>\n",
              "      <td>False</td>\n",
              "      <td>True</td>\n",
              "      <td>False</td>\n",
              "      <td>True</td>\n",
              "    </tr>\n",
              "    <tr>\n",
              "      <th>9</th>\n",
              "      <td>10</td>\n",
              "      <td>True</td>\n",
              "      <td>False</td>\n",
              "      <td>True</td>\n",
              "      <td>True</td>\n",
              "      <td>False</td>\n",
              "      <td>True</td>\n",
              "      <td>False</td>\n",
              "      <td>False</td>\n",
              "      <td>False</td>\n",
              "      <td>True</td>\n",
              "      <td>False</td>\n",
              "      <td>True</td>\n",
              "    </tr>\n",
              "  </tbody>\n",
              "</table>\n",
              "</div>"
            ],
            "text/plain": [
              "   id  aircon  shoesbox  balcony  flooring  ventilation  washingmachine  \\\n",
              "0   1    True      True     True      True        False            True   \n",
              "1   2    True      True     True      True        False            True   \n",
              "2   3    True      True     True      True        False            True   \n",
              "3   4    True      True     True     False        False            True   \n",
              "4   5   False     False     True      True        False            True   \n",
              "5   6    True      True     True      True         True            True   \n",
              "6   7    True      True     True      True         True            True   \n",
              "7   8    True      True     True      True         True            True   \n",
              "8   9    True     False     True      True        False            True   \n",
              "9  10    True     False     True      True        False            True   \n",
              "\n",
              "   garbage  elevator  tiled  publicwater  sewage  citygas  \n",
              "0     True      True  False         True    True     True  \n",
              "1     True      True   True        False   False    False  \n",
              "2     True      True   True         True    True     True  \n",
              "3    False      True  False         True    True     True  \n",
              "4    False     False  False         True    True    False  \n",
              "5    False      True   True         True    True     True  \n",
              "6     True      True  False         True    True     True  \n",
              "7     True      True   True         True    True     True  \n",
              "8    False     False  False         True   False     True  \n",
              "9    False     False  False         True   False     True  "
            ]
          },
          "metadata": {
            "tags": []
          },
          "execution_count": 59
        }
      ]
    },
    {
      "cell_type": "code",
      "metadata": {
        "pycharm": {
          "name": "#%%\n",
          "is_executing": false
        },
        "id": "iM1j77-MvPNx",
        "colab_type": "code",
        "outputId": "e3ff3222-2ec4-4f09-f63b-6ae6f974e927",
        "colab": {
          "base_uri": "https://localhost:8080/",
          "height": 1000
        }
      },
      "source": [
        "train['Internet'].value_counts()"
      ],
      "execution_count": 0,
      "outputs": [
        {
          "output_type": "execute_result",
          "data": {
            "text/plain": [
              "インターネット対応                                                            2618\n",
              "光ファイバー                                                               2326\n",
              "インターネット対応／\\t光ファイバー                                                   1561\n",
              "光ファイバー／\\tCATV                                                        1480\n",
              "インターネット対応／\\t光ファイバー／\\tCATV／\\tCSアンテナ／\\tBSアンテナ                          1357\n",
              "インターネット対応／\\tCATV                                                     1226\n",
              "光ファイバー／\\tCATV／\\tCSアンテナ／\\tBSアンテナ                                      1212\n",
              "インターネット対応／\\t光ファイバー／\\tCSアンテナ／\\tBSアンテナ                                 1005\n",
              "CATV                                                                  979\n",
              "インターネット対応／\\t光ファイバー／\\tCATV                                             979\n",
              "インターネット対応／\\tインターネット使用料無料                                              801\n",
              "インターネット対応／\\tCATV／\\tCSアンテナ／\\tBSアンテナ                                    701\n",
              "インターネット対応／\\tCSアンテナ／\\tBSアンテナ                                           606\n",
              "光ファイバー／\\tCSアンテナ／\\tBSアンテナ                                              592\n",
              "光ファイバー／\\tCATV／\\tBSアンテナ                                                585\n",
              "インターネット対応／\\tBSアンテナ                                                    502\n",
              "インターネット対応／\\tCSアンテナ／\\tBSアンテナ／\\tインターネット使用料無料                            479\n",
              "インターネット対応／\\t光ファイバー／\\tBSアンテナ                                           467\n",
              "光ファイバー／\\tBSアンテナ                                                       458\n",
              "インターネット対応／\\t高速インターネット／\\t光ファイバー／\\tCATV／\\tCSアンテナ／\\tBSアンテナ               448\n",
              "インターネット対応／\\t光ファイバー／\\tCSアンテナ／\\tBSアンテナ／\\tインターネット使用料無料                   425\n",
              "インターネット対応／\\t光ファイバー／\\tCATV／\\tBSアンテナ                                    397\n",
              "インターネット対応／\\tCATV／\\tBSアンテナ                                             391\n",
              "インターネット対応／\\t光ファイバー／\\tインターネット使用料無料                                     368\n",
              "インターネット対応／\\tCATV／\\tインターネット使用料無料                                       366\n",
              "インターネット対応／\\t光ファイバー／\\tCATV／\\tCSアンテナ／\\tBSアンテナ／\\tインターネット使用料無料            364\n",
              "インターネット対応／\\tBSアンテナ／\\tインターネット使用料無料                                     359\n",
              "インターネット対応／\\tCATV／\\tCSアンテナ／\\tBSアンテナ／\\tインターネット使用料無料                     332\n",
              "BSアンテナ                                                                315\n",
              "光ファイバー／\\tインターネット使用料無料                                                 266\n",
              "                                                                     ... \n",
              "インターネット対応／\\t高速インターネット／\\t光ファイバー／\\tCATV／\\tCSアンテナ／\\tBSアンテナ／\\t有線放送          3\n",
              "インターネット対応／\\t光ファイバー／\\tCSアンテナ／\\tBSアンテナ／\\t有線放送                             3\n",
              "インターネット対応／\\tCSアンテナ／\\tBSアンテナ／\\t有線放送                                      3\n",
              "光ファイバー／\\t有線放送                                                           3\n",
              "高速インターネット／\\tCATV／\\tCSアンテナ                                               3\n",
              "インターネット対応／\\t高速インターネット／\\t光ファイバー／\\tCSアンテナ                                 2\n",
              "光ファイバー／\\tCATV／\\tCSアンテナ／\\tインターネット使用料無料                                   2\n",
              "インターネット対応／\\t高速インターネット／\\t光ファイバー／\\tCSアンテナ／\\tBSアンテナ／\\t有線放送                 2\n",
              "インターネット対応／\\tBSアンテナ／\\t有線放送                                               2\n",
              "光ファイバー／\\tBSアンテナ／\\t有線放送                                                  2\n",
              "光ファイバー／\\tCSアンテナ／\\tインターネット使用料無料                                          2\n",
              "インターネット対応／\\tCATV／\\tCSアンテナ／\\tインターネット使用料無料                                2\n",
              "インターネット対応／\\t光ファイバー／\\tCATV／\\t有線放送                                        2\n",
              "インターネット対応／\\t高速インターネット／\\t光ファイバー／\\tCSアンテナ／\\tインターネット使用料無料                  2\n",
              "インターネット対応／\\tCATV／\\tCSアンテナ／\\tBSアンテナ／\\t有線放送／\\tインターネット使用料無料                2\n",
              "光ファイバー／\\tCATV／\\tCSアンテナ／\\tBSアンテナ／\\t有線放送                                  2\n",
              "インターネット対応／\\t光ファイバー／\\tCATV／\\tCSアンテナ／\\tBSアンテナ／\\t有線放送／\\tインターネット使用料無料       2\n",
              "インターネット対応／\\t光ファイバー／\\t有線放送                                               2\n",
              "インターネット対応／\\tCSアンテナ／\\tBSアンテナ／\\t有線放送／\\tインターネット使用料無料                       1\n",
              "インターネット対応／\\t光ファイバー／\\tBSアンテナ／\\t有線放送                                      1\n",
              "インターネット対応／\\tCATV／\\t有線放送／\\tインターネット使用料無料                                  1\n",
              "高速インターネット／\\tCATV／\\tCSアンテナ／\\t有線放送                                        1\n",
              "インターネット対応／\\t高速インターネット／\\t光ファイバー／\\tCATV／\\tCSアンテナ／\\tインターネット使用料無料           1\n",
              "インターネット対応／\\t高速インターネット／\\tBSアンテナ／\\tインターネット使用料無料                           1\n",
              "光ファイバー／\\tCATV／\\t有線放送                                                    1\n",
              "インターネット対応／\\t高速インターネット／\\tCSアンテナ                                          1\n",
              "高速インターネット／\\tCSアンテナ                                                      1\n",
              "光ファイバー／\\t有線放送／\\tインターネット使用料無料                                            1\n",
              "CATV／\\t有線放送                                                             1\n",
              "インターネット対応／\\t有線放送                                                        1\n",
              "Name: Internet, Length: 139, dtype: int64"
            ]
          },
          "metadata": {
            "tags": []
          },
          "execution_count": 60
        }
      ]
    },
    {
      "cell_type": "code",
      "metadata": {
        "pycharm": {
          "name": "#%%\n",
          "is_executing": false
        },
        "id": "76Dp0VjHvPNy",
        "colab_type": "code",
        "colab": {}
      },
      "source": [
        "for dataset in train_test_data:\n",
        "    dataset['internetcompatible'] = dataset['Internet'].str.extract('(インターネット対応)')\n",
        "    dataset['opticalfiber'] = dataset['Internet'].str.extract('(光ファイバー)')\n",
        "    dataset['catv'] = dataset['Internet'].str.extract('(CATV)')\n",
        "    dataset['csantenna'] = dataset['Internet'].str.extract('(CSアンテナ)')\n",
        "    dataset['bsantenna'] = dataset['Internet'].str.extract('(BSアンテナ)')\n",
        "    dataset['freeusage'] = dataset['Internet'].str.extract('(インターネット使用料無料)')\n",
        "    dataset['highspeed'] = dataset['Internet'].str.extract('(高速インターネット)')\n",
        "    dataset['cable'] = dataset['Internet'].str.extract('(有線放送)')"
      ],
      "execution_count": 0,
      "outputs": []
    },
    {
      "cell_type": "code",
      "metadata": {
        "pycharm": {
          "name": "#%%\n",
          "is_executing": false
        },
        "id": "YBngLcZovPN1",
        "colab_type": "code",
        "colab": {}
      },
      "source": [
        "for dataset in train_test_data:\n",
        "    dataset['internetcompatible'] = dataset['internetcompatible'].apply(lambda x: True if x == 'インターネット対応' else False)\n",
        "    dataset['opticalfiber'] = dataset['opticalfiber'].apply(lambda x: True if x == '光ファイバー' else False)\n",
        "    dataset['catv'] = dataset['catv'].apply(lambda x: True if x == 'CATV' else False)\n",
        "    dataset['csantenna'] = dataset['csantenna'].apply(lambda x: True if x == 'CSアンテナ' else False)\n",
        "    dataset['bsantenna'] = dataset['bsantenna'].apply(lambda x: True if x == 'BSアンテナ' else False)\n",
        "    dataset['freeusage'] = dataset['freeusage'].apply(lambda x: True if x == 'インターネット使用料無料' else False)\n",
        "    dataset['highspeed'] = dataset['highspeed'].apply(lambda x: True if x == '高速インターネット' else False)\n",
        "    dataset['cable'] = dataset['cable'].apply(lambda x: True if x == '有線放送' else False)\n",
        "\n"
      ],
      "execution_count": 0,
      "outputs": []
    },
    {
      "cell_type": "code",
      "metadata": {
        "pycharm": {
          "name": "#%%\n",
          "is_executing": false
        },
        "id": "Mufczm9PvPN4",
        "colab_type": "code",
        "outputId": "bdf71f6b-9077-4575-cbc3-ee26f7e49b97",
        "colab": {
          "base_uri": "https://localhost:8080/",
          "height": 359
        }
      },
      "source": [
        "train[['id','internetcompatible','opticalfiber','catv','csantenna',\n",
        "       'bsantenna','freeusage','highspeed','cable']].groupby(['id','internetcompatible'],as_index=False).mean().head(10)"
      ],
      "execution_count": 0,
      "outputs": [
        {
          "output_type": "execute_result",
          "data": {
            "text/html": [
              "<div>\n",
              "<style scoped>\n",
              "    .dataframe tbody tr th:only-of-type {\n",
              "        vertical-align: middle;\n",
              "    }\n",
              "\n",
              "    .dataframe tbody tr th {\n",
              "        vertical-align: top;\n",
              "    }\n",
              "\n",
              "    .dataframe thead th {\n",
              "        text-align: right;\n",
              "    }\n",
              "</style>\n",
              "<table border=\"1\" class=\"dataframe\">\n",
              "  <thead>\n",
              "    <tr style=\"text-align: right;\">\n",
              "      <th></th>\n",
              "      <th>id</th>\n",
              "      <th>internetcompatible</th>\n",
              "      <th>opticalfiber</th>\n",
              "      <th>catv</th>\n",
              "      <th>csantenna</th>\n",
              "      <th>bsantenna</th>\n",
              "      <th>freeusage</th>\n",
              "      <th>highspeed</th>\n",
              "      <th>cable</th>\n",
              "    </tr>\n",
              "  </thead>\n",
              "  <tbody>\n",
              "    <tr>\n",
              "      <th>0</th>\n",
              "      <td>1</td>\n",
              "      <td>True</td>\n",
              "      <td>False</td>\n",
              "      <td>True</td>\n",
              "      <td>True</td>\n",
              "      <td>True</td>\n",
              "      <td>False</td>\n",
              "      <td>False</td>\n",
              "      <td>False</td>\n",
              "    </tr>\n",
              "    <tr>\n",
              "      <th>1</th>\n",
              "      <td>2</td>\n",
              "      <td>True</td>\n",
              "      <td>False</td>\n",
              "      <td>False</td>\n",
              "      <td>False</td>\n",
              "      <td>False</td>\n",
              "      <td>False</td>\n",
              "      <td>False</td>\n",
              "      <td>False</td>\n",
              "    </tr>\n",
              "    <tr>\n",
              "      <th>2</th>\n",
              "      <td>3</td>\n",
              "      <td>True</td>\n",
              "      <td>True</td>\n",
              "      <td>False</td>\n",
              "      <td>True</td>\n",
              "      <td>True</td>\n",
              "      <td>False</td>\n",
              "      <td>False</td>\n",
              "      <td>False</td>\n",
              "    </tr>\n",
              "    <tr>\n",
              "      <th>3</th>\n",
              "      <td>4</td>\n",
              "      <td>True</td>\n",
              "      <td>True</td>\n",
              "      <td>False</td>\n",
              "      <td>False</td>\n",
              "      <td>False</td>\n",
              "      <td>False</td>\n",
              "      <td>False</td>\n",
              "      <td>False</td>\n",
              "    </tr>\n",
              "    <tr>\n",
              "      <th>4</th>\n",
              "      <td>5</td>\n",
              "      <td>False</td>\n",
              "      <td>False</td>\n",
              "      <td>False</td>\n",
              "      <td>False</td>\n",
              "      <td>False</td>\n",
              "      <td>False</td>\n",
              "      <td>False</td>\n",
              "      <td>False</td>\n",
              "    </tr>\n",
              "    <tr>\n",
              "      <th>5</th>\n",
              "      <td>6</td>\n",
              "      <td>True</td>\n",
              "      <td>True</td>\n",
              "      <td>False</td>\n",
              "      <td>False</td>\n",
              "      <td>False</td>\n",
              "      <td>False</td>\n",
              "      <td>False</td>\n",
              "      <td>False</td>\n",
              "    </tr>\n",
              "    <tr>\n",
              "      <th>6</th>\n",
              "      <td>7</td>\n",
              "      <td>True</td>\n",
              "      <td>True</td>\n",
              "      <td>True</td>\n",
              "      <td>False</td>\n",
              "      <td>True</td>\n",
              "      <td>False</td>\n",
              "      <td>False</td>\n",
              "      <td>False</td>\n",
              "    </tr>\n",
              "    <tr>\n",
              "      <th>7</th>\n",
              "      <td>8</td>\n",
              "      <td>False</td>\n",
              "      <td>True</td>\n",
              "      <td>True</td>\n",
              "      <td>True</td>\n",
              "      <td>True</td>\n",
              "      <td>False</td>\n",
              "      <td>False</td>\n",
              "      <td>False</td>\n",
              "    </tr>\n",
              "    <tr>\n",
              "      <th>8</th>\n",
              "      <td>9</td>\n",
              "      <td>False</td>\n",
              "      <td>False</td>\n",
              "      <td>False</td>\n",
              "      <td>False</td>\n",
              "      <td>False</td>\n",
              "      <td>False</td>\n",
              "      <td>False</td>\n",
              "      <td>False</td>\n",
              "    </tr>\n",
              "    <tr>\n",
              "      <th>9</th>\n",
              "      <td>10</td>\n",
              "      <td>False</td>\n",
              "      <td>True</td>\n",
              "      <td>True</td>\n",
              "      <td>False</td>\n",
              "      <td>False</td>\n",
              "      <td>False</td>\n",
              "      <td>False</td>\n",
              "      <td>False</td>\n",
              "    </tr>\n",
              "  </tbody>\n",
              "</table>\n",
              "</div>"
            ],
            "text/plain": [
              "   id  internetcompatible  opticalfiber   catv  csantenna  bsantenna  \\\n",
              "0   1                True         False   True       True       True   \n",
              "1   2                True         False  False      False      False   \n",
              "2   3                True          True  False       True       True   \n",
              "3   4                True          True  False      False      False   \n",
              "4   5               False         False  False      False      False   \n",
              "5   6                True          True  False      False      False   \n",
              "6   7                True          True   True      False       True   \n",
              "7   8               False          True   True       True       True   \n",
              "8   9               False         False  False      False      False   \n",
              "9  10               False          True   True      False      False   \n",
              "\n",
              "   freeusage  highspeed  cable  \n",
              "0      False      False  False  \n",
              "1      False      False  False  \n",
              "2      False      False  False  \n",
              "3      False      False  False  \n",
              "4      False      False  False  \n",
              "5      False      False  False  \n",
              "6      False      False  False  \n",
              "7      False      False  False  \n",
              "8      False      False  False  \n",
              "9      False      False  False  "
            ]
          },
          "metadata": {
            "tags": []
          },
          "execution_count": 63
        }
      ]
    },
    {
      "cell_type": "code",
      "metadata": {
        "pycharm": {
          "name": "#%%\n",
          "is_executing": false
        },
        "id": "et5QSu48vPN6",
        "colab_type": "code",
        "outputId": "7aa437e5-c783-4961-b681-fd7683fa9780",
        "colab": {
          "base_uri": "https://localhost:8080/",
          "height": 1000
        }
      },
      "source": [
        "train['Parking'].value_counts()"
      ],
      "execution_count": 0,
      "outputs": [
        {
          "output_type": "execute_result",
          "data": {
            "text/plain": [
              "駐車場\\t無                                                            3269\n",
              "駐輪場\\t空有\\t駐車場\\t無\\tバイク置き場\\t無                                        2375\n",
              "駐車場\\t無\\t駐輪場\\t無\\tバイク置き場\\t無                                         1832\n",
              "駐輪場\\t空有                                                           1246\n",
              "駐輪場\\t空有\\tバイク置き場\\t無                                                 957\n",
              "駐輪場\\t無\\tバイク置き場\\t無                                                  941\n",
              "駐輪場\\t空有\\tバイク置き場\\t空有                                                756\n",
              "駐輪場\\t空有\\tバイク置き場\\t空有\\t駐車場\\t無                                        617\n",
              "駐輪場\\t空有\\t0円                                                        439\n",
              "駐車場\\t空有\\t32,400円(税込)\\t駐輪場\\t空有\\tバイク置き場\\t無                           139\n",
              "駐輪場\\t空有(1台)\\t0円\\t駐車場\\t無                                            124\n",
              "駐輪場\\t空有\\t駐車場\\t近隣\\t32,400円(税込)\\t距離300m\\tバイク置き場\\t無                    95\n",
              "駐輪場\\t空有\\t駐車場\\t近隣\\t30,000円(税込)\\t距離100m\\tバイク置き場\\t無                    95\n",
              "駐輪場\\t空有\\t駐車場\\t近隣\\t43,200円(税込)\\t距離300m\\tバイク置き場\\t無                    88\n",
              "駐輪場\\t空有\\t0円\\t駐車場\\t無                                                 87\n",
              "駐車場\\t空有\\t32,400円(税込)\\t駐輪場\\t空有\\tバイク置き場\\t空有                           85\n",
              "駐輪場\\t空有\\t駐車場\\t近隣\\t40,000円(税込)\\t距離200m\\tバイク置き場\\t無                    83\n",
              "駐車場\\t空有\\t43,200円(税込)\\t駐輪場\\t空有\\tバイク置き場\\t空有                           81\n",
              "駐車場\\t近隣\\t32,400円(税込)\\t距離300m\\t駐輪場\\t無\\tバイク置き場\\t無                     81\n",
              "駐輪場\\t空有\\t駐車場\\t空無\\tバイク置き場\\t無                                         76\n",
              "駐車場\\t空有\\t37,800円(税込)\\t駐輪場\\t空有\\tバイク置き場\\t空有                           74\n",
              "駐輪場\\t空有\\tバイク置き場\\t空有\\t駐車場\\t近隣\\t50,000円(税込)\\t距離400m                   72\n",
              "駐車場\\t空有\\t43,200円\\t駐輪場\\t空有                                           67\n",
              "駐輪場\\t空有\\t駐車場\\t近隣\\t20,000円(税込)\\t距離300m\\tバイク置き場\\t無                    67\n",
              "駐車場\\t空有\\t駐輪場\\t空有\\tバイク置き場\\t無                                         64\n",
              "駐輪場\\t空有\\t駐車場\\t近隣\\t35,000円(税込)\\t距離300m\\tバイク置き場\\t無                    63\n",
              "駐輪場\\t空有\\t駐車場\\t近隣\\t27,000円(税込)\\t距離200m\\tバイク置き場\\t無                    63\n",
              "駐車場\\t空有\\t20,000円(税込)\\t駐輪場\\t空有\\tバイク置き場\\t空有                           62\n",
              "駐輪場\\t空有\\t駐車場\\t近隣\\t21,600円(税込)\\t距離300m\\tバイク置き場\\t無                    61\n",
              "駐車場\\t空有\\t0円                                                         60\n",
              "                                                                  ... \n",
              "駐車場\\t空有\\t22,000円\\t(※要別途契約)\\t駐輪場\\t無\\tバイク置き場\\t無                        1\n",
              "駐車場\\t空有\\t35,000円\\t(※サイズ・空き要確認)                                       1\n",
              "駐車場\\t近隣\\t35,000円\\t距離111m                                             1\n",
              "駐車場\\t空有\\t18,500円\\t距離0m                                               1\n",
              "駐輪場\\t空有\\t駐車場\\t近隣\\t27,000円\\t距離150m                                    1\n",
              "駐車場\\t空有\\t24,840円(税込)\\t駐輪場\\t無\\tバイク置き場\\t無                              1\n",
              "駐車場\\t近隣\\t30,240円(税込)\\t距離50m\\t(敷金あり\\t1ヶ月)\\t駐輪場\\t無\\tバイク置き場\\t無          1\n",
              "駐輪場\\t空有\\t300円\\tバイク置き場\\t空有\\t500円                                      1\n",
              "駐輪場\\t空有\\t0円\\t駐車場\\t空無\\t27,000円                                        1\n",
              "駐車場\\t空有\\t22,000円(税込)\\t(屋根付)\\t駐輪場\\t空有\\tバイク置き場\\t空有                     1\n",
              "駐車場\\t空無(1台)\\t20,000円(税無)\\t(軽自動車のみ)\\t駐輪場\\t無\\tバイク置き場\\t無                1\n",
              "駐車場\\t近隣\\t23,000円(税込)\\t距離180m\\t駐輪場\\t無\\tバイク置き場\\t無                      1\n",
              "駐車場\\t近隣\\t48,600円(税込)\\t距離125m\\t駐輪場\\t無\\tバイク置き場\\t無                      1\n",
              "駐輪場\\t空有\\t0円\\t駐車場\\t空無\\t15,000円\\t距離0m                                  1\n",
              "駐車場\\t空有\\t22,000円\\t距離0m\\t駐輪場\\t空有\\t0円                                  1\n",
              "駐輪場\\t空有\\tバイク置き場\\t空有\\t駐車場\\t近隣\\t15,750円\\t距離200m                        1\n",
              "駐車場\\t空有\\t16,200円(税込)\\t(礼金あり\\t1ヶ月、敷金あり\\t1ヶ月)\\t駐輪場\\t無\\tバイク置き場\\t無       1\n",
              "駐輪場\\t空有\\t駐車場\\t近隣\\t距離135m                                             1\n",
              "駐車場\\t空有\\t55,000円(税込)\\t駐輪場\\t空有\\tバイク置き場\\t空有                            1\n",
              "駐輪場\\t空有\\t駐車場\\t近隣\\t31,000円\\t距離334m                                    1\n",
              "駐輪場\\t空有\\t駐車場\\t近隣\\t16,200円(税込)\\t距離180m\\tバイク置き場\\t無                     1\n",
              "駐輪場\\t空有\\t駐車場\\t近隣\\t25,000円(税込)\\t距離250m\\t(形状(機械))\\tバイク置き場\\t無           1\n",
              "駐車場\\t近隣\\t19,440円(税込)                                                 1\n",
              "駐輪場\\t空有\\t駐車場\\t近隣\\t23,760円\\t距離187m                                    1\n",
              "駐輪場\\t空有\\t駐車場\\t近隣\\t22,000円\\t距離300m\\tバイク置き場\\t無                         1\n",
              "駐車場\\t空有\\t20,500円\\t駐輪場\\t空有\\tバイク置き場\\t無                                 1\n",
              "駐車場\\t近隣\\t35,000円\\t距離307m                                             1\n",
              "駐輪場\\t空有\\tバイク置き場\\t空有\\t駐車場\\t近隣\\t13,000円\\t距離400m                        1\n",
              "駐輪場\\t空有\\t駐車場\\t近隣\\t30,240円(税込)\\t距離100m\\tバイク置き場\\t無                     1\n",
              "駐輪場\\t空有\\tバイク置き場\\t空有\\t駐車場\\t近隣\\t16,000円(税込)\\t距離250m                    1\n",
              "Name: Parking, Length: 3911, dtype: int64"
            ]
          },
          "metadata": {
            "tags": []
          },
          "execution_count": 64
        }
      ]
    },
    {
      "cell_type": "code",
      "metadata": {
        "pycharm": {
          "name": "#%%\n",
          "is_executing": false
        },
        "id": "FMB59gbcvPN8",
        "colab_type": "code",
        "colab": {}
      },
      "source": [
        "for dataset in train_test_data:\n",
        "    dataset['carparking'] = dataset['Parking'].str.extract('(駐車場空有)')\n",
        "    dataset['bikeparking'] = dataset['Parking'].str.extract('(駐輪場空有)')\n",
        "    dataset['motorparking'] = dataset['Parking'].str.extract('(バイク置き場空有)')"
      ],
      "execution_count": 0,
      "outputs": []
    },
    {
      "cell_type": "code",
      "metadata": {
        "pycharm": {
          "name": "#%%\n",
          "is_executing": false
        },
        "id": "-OVMCZ4jvPN-",
        "colab_type": "code",
        "colab": {}
      },
      "source": [
        "for dataset in train_test_data:\n",
        "    dataset['carparking'] = dataset['carparking'].apply(lambda x: True if x == '駐車場空有' else False)\n",
        "    dataset['bikeparking'] = dataset['bikeparking'].apply(lambda x: True if x == '駐輪場空有' else False)\n",
        "    dataset['motorparking'] = dataset['motorparking'].apply(lambda x: True if x == 'バイク置き場空有' else False)"
      ],
      "execution_count": 0,
      "outputs": []
    },
    {
      "cell_type": "code",
      "metadata": {
        "pycharm": {
          "name": "#%%\n",
          "is_executing": false
        },
        "id": "po2vUaqbvPN_",
        "colab_type": "code",
        "outputId": "03eec7fe-3855-46b4-d49b-c129677f149d",
        "colab": {
          "base_uri": "https://localhost:8080/",
          "height": 34
        }
      },
      "source": [
        "train.shape, test.shape"
      ],
      "execution_count": 0,
      "outputs": [
        {
          "output_type": "execute_result",
          "data": {
            "text/plain": [
              "((31470, 83), (31262, 82))"
            ]
          },
          "metadata": {
            "tags": []
          },
          "execution_count": 67
        }
      ]
    },
    {
      "cell_type": "code",
      "metadata": {
        "pycharm": {
          "name": "#%%\n",
          "is_executing": false
        },
        "id": "eBadKQpJvPOC",
        "colab_type": "code",
        "colab": {}
      },
      "source": [
        "#train.info()"
      ],
      "execution_count": 0,
      "outputs": []
    },
    {
      "cell_type": "code",
      "metadata": {
        "pycharm": {
          "name": "#%%\n",
          "is_executing": false
        },
        "id": "mvcJU5eqvPOD",
        "colab_type": "code",
        "colab": {}
      },
      "source": [
        "drop_columns = ['Location','Access','Type','Bath','Kitchen','Internet','Facility',\n",
        "                'Parking','Surround','period','month','Floor','Contract']\n",
        "train.drop(drop_columns,axis=1,inplace=True)"
      ],
      "execution_count": 0,
      "outputs": []
    },
    {
      "cell_type": "code",
      "metadata": {
        "pycharm": {
          "name": "#%%\n",
          "is_executing": false
        },
        "id": "rYtbdqI4vPOE",
        "colab_type": "code",
        "outputId": "4cfed85a-e544-4f4f-fb1b-76779d50100a",
        "colab": {
          "base_uri": "https://localhost:8080/",
          "height": 34
        }
      },
      "source": [
        "train.shape"
      ],
      "execution_count": 0,
      "outputs": [
        {
          "output_type": "execute_result",
          "data": {
            "text/plain": [
              "(31470, 70)"
            ]
          },
          "metadata": {
            "tags": []
          },
          "execution_count": 70
        }
      ]
    },
    {
      "cell_type": "code",
      "metadata": {
        "pycharm": {
          "name": "#%%\n",
          "is_executing": false
        },
        "id": "xU5ngCN2vPOG",
        "colab_type": "code",
        "colab": {}
      },
      "source": [
        "#train.info()"
      ],
      "execution_count": 0,
      "outputs": []
    },
    {
      "cell_type": "code",
      "metadata": {
        "pycharm": {
          "name": "#%%\n",
          "is_executing": false
        },
        "id": "BtSqqTuVvPOH",
        "colab_type": "code",
        "colab": {}
      },
      "source": [
        "def makeCountFull(train, test, categorical_features=None, report=True):\n",
        "    add_cols = categorical_features\n",
        "    if report:\n",
        "        print('add_cols: ', add_cols)\n",
        "    for add_col in add_cols:\n",
        "        train[add_col + '_le'] = train[add_col].map(pd.concat([train[add_col], test[add_col]], ignore_index=True).value_counts(dropna=False))\n",
        "        test[add_col + '_le'] = test[add_col].map(pd.concat([train[add_col], test[add_col]], ignore_index=True).value_counts(dropna=False))\n",
        "    return train, test"
      ],
      "execution_count": 0,
      "outputs": []
    },
    {
      "cell_type": "code",
      "metadata": {
        "pycharm": {
          "name": "#%%\n",
          "is_executing": false
        },
        "id": "l_BwNbX9vPOJ",
        "colab_type": "code",
        "outputId": "c0910a1e-6177-428c-8bae-1489504dac3e",
        "colab": {
          "base_uri": "https://localhost:8080/",
          "height": 34
        }
      },
      "source": [
        "from sklearn.preprocessing import LabelEncoder\n",
        "\n",
        "cat_features = ['Direction','Material','City','Station']\n",
        "train, test = makeCountFull(train, test, cat_features)\n",
        "cat_cols = ['Direction','Material','City','Station']\n",
        "for col in cat_cols:\n",
        "    train[col] = train[col].astype(str)\n",
        "    test[col] = test[col].astype(str)\n",
        "    le = LabelEncoder()\n",
        "    le.fit(list(train[col])+list(test[col]))\n",
        "    train[col] = le.transform(train[col])\n",
        "    test[col]    = le.transform(test[col])    \n",
        "    train[col] = train[col].astype('category')\n",
        "    test[col] = test[col].astype('category')"
      ],
      "execution_count": 0,
      "outputs": [
        {
          "output_type": "stream",
          "text": [
            "add_cols:  ['Direction', 'Material', 'City', 'Station']\n"
          ],
          "name": "stdout"
        }
      ]
    },
    {
      "cell_type": "code",
      "metadata": {
        "pycharm": {
          "name": "#%%\n",
          "is_executing": false
        },
        "id": "CdoRM2jfvPOK",
        "colab_type": "code",
        "colab": {}
      },
      "source": [
        "train.drop(cat_features,axis=1,inplace=True)"
      ],
      "execution_count": 0,
      "outputs": []
    },
    {
      "cell_type": "code",
      "metadata": {
        "pycharm": {
          "name": "#%%\n",
          "is_executing": false
        },
        "id": "oNxuirc9vPOM",
        "colab_type": "code",
        "outputId": "bf0878bb-d954-495f-e731-2ad5169711b4",
        "colab": {
          "base_uri": "https://localhost:8080/",
          "height": 1000
        }
      },
      "source": [
        "train.info()"
      ],
      "execution_count": 0,
      "outputs": [
        {
          "output_type": "stream",
          "text": [
            "<class 'pandas.core.frame.DataFrame'>\n",
            "RangeIndex: 31470 entries, 0 to 31469\n",
            "Data columns (total 70 columns):\n",
            "id                    31470 non-null int64\n",
            "Rent                  31470 non-null int64\n",
            "Age                   31470 non-null object\n",
            "Area                  31470 non-null object\n",
            "R                     31470 non-null object\n",
            "K                     31470 non-null bool\n",
            "L                     31470 non-null bool\n",
            "D                     31470 non-null bool\n",
            "S                     31470 non-null bool\n",
            "Minute                31470 non-null object\n",
            "min                   31470 non-null object\n",
            "privatebath           31470 non-null bool\n",
            "privatetoilet         31470 non-null bool\n",
            "bathtoilet            31470 non-null bool\n",
            "sharedtoilet          31470 non-null bool\n",
            "shower                31470 non-null bool\n",
            "dryer                 31470 non-null bool\n",
            "washstand             31470 non-null bool\n",
            "dressing              31470 non-null bool\n",
            "warmseat              31470 non-null bool\n",
            "memorial              31470 non-null bool\n",
            "gasstove              31470 non-null bool\n",
            "2stovetops            31470 non-null bool\n",
            "3stovetops            31470 non-null bool\n",
            "systemkitchen         31470 non-null bool\n",
            "hotwatersupply        31470 non-null bool\n",
            "separatekitchen       31470 non-null bool\n",
            "IH                    31470 non-null bool\n",
            "counterkitchen        31470 non-null bool\n",
            "shapekitchen          31470 non-null bool\n",
            "fridge                31470 non-null bool\n",
            "supermarket           31470 non-null bool\n",
            "konbini               31470 non-null bool\n",
            "univ                  31470 non-null bool\n",
            "drugstore             31470 non-null bool\n",
            "restaurant            31470 non-null bool\n",
            "hospital              31470 non-null bool\n",
            "park                  31470 non-null bool\n",
            "library               31470 non-null bool\n",
            "school                31470 non-null bool\n",
            "bank                  31470 non-null bool\n",
            "metters               22038 non-null object\n",
            "metter                31470 non-null object\n",
            "aircon                31470 non-null bool\n",
            "shoesbox              31470 non-null bool\n",
            "balcony               31470 non-null bool\n",
            "flooring              31470 non-null bool\n",
            "ventilation           31470 non-null bool\n",
            "washingmachine        31470 non-null bool\n",
            "garbage               31470 non-null bool\n",
            "elevator              31470 non-null bool\n",
            "tiled                 31470 non-null bool\n",
            "publicwater           31470 non-null bool\n",
            "sewage                31470 non-null bool\n",
            "citygas               31470 non-null bool\n",
            "internetcompatible    31470 non-null bool\n",
            "opticalfiber          31470 non-null bool\n",
            "catv                  31470 non-null bool\n",
            "csantenna             31470 non-null bool\n",
            "bsantenna             31470 non-null bool\n",
            "freeusage             31470 non-null bool\n",
            "highspeed             31470 non-null bool\n",
            "cable                 31470 non-null bool\n",
            "carparking            31470 non-null bool\n",
            "bikeparking           31470 non-null bool\n",
            "motorparking          31470 non-null bool\n",
            "Direction_le          31470 non-null int64\n",
            "Material_le           31470 non-null int64\n",
            "City_le               31470 non-null int64\n",
            "Station_le            31470 non-null int64\n",
            "dtypes: bool(57), int64(6), object(7)\n",
            "memory usage: 4.8+ MB\n"
          ],
          "name": "stdout"
        }
      ]
    },
    {
      "cell_type": "code",
      "metadata": {
        "pycharm": {
          "name": "#%%\n",
          "is_executing": false
        },
        "id": "PIaIc-DZvPOQ",
        "colab_type": "code",
        "outputId": "3ae112ea-89a8-4c0f-c169-1eab52e0e140",
        "colab": {
          "base_uri": "https://localhost:8080/",
          "height": 34
        }
      },
      "source": [
        "train['Age'].isnull().sum()"
      ],
      "execution_count": 0,
      "outputs": [
        {
          "output_type": "execute_result",
          "data": {
            "text/plain": [
              "0"
            ]
          },
          "metadata": {
            "tags": []
          },
          "execution_count": 76
        }
      ]
    },
    {
      "cell_type": "code",
      "metadata": {
        "pycharm": {
          "name": "#%%\n",
          "is_executing": false
        },
        "id": "K_A8s2_8vPOS",
        "colab_type": "code",
        "outputId": "146c1a35-338d-496d-b282-ea14386ba6a7",
        "colab": {
          "base_uri": "https://localhost:8080/",
          "height": 34
        }
      },
      "source": [
        "num_features = ['Age','Area','R','min','metter']\n",
        "train, test = makeCountFull(train, test, num_features)\n",
        "num_cols = ['Age','Area','R','min','metter']\n",
        "for col in num_cols:\n",
        "    train[col] = train[col].astype(int)\n",
        "    test[col] = test[col].astype(int)\n",
        "    le = LabelEncoder()\n",
        "    le.fit(list(train[col])+list(test[col]))\n",
        "    #le.fit(list(train[col]))\n",
        "    train[col] = le.transform(train[col])\n",
        "    test[col]    = le.transform(test[col])    \n",
        "    train[col] = train[col].astype('int64')\n",
        "    test[col] = test[col].astype('int64')\n",
        "    #train['Age'].astype(int)\n",
        "    #train['Area'].astype(int)\n",
        "    #train['Floor'].astype(int)\n",
        "    #train['Contract'].astype(int)\n",
        "    #train['R'].astype(int)"
      ],
      "execution_count": 0,
      "outputs": [
        {
          "output_type": "stream",
          "text": [
            "add_cols:  ['Age', 'Area', 'R', 'min', 'metter']\n"
          ],
          "name": "stdout"
        }
      ]
    },
    {
      "cell_type": "code",
      "metadata": {
        "pycharm": {
          "name": "#%%\n",
          "is_executing": false
        },
        "id": "hssiAajavPOT",
        "colab_type": "code",
        "outputId": "ba060efb-5f48-46ce-94d3-4f093ed87424",
        "colab": {
          "base_uri": "https://localhost:8080/",
          "height": 1000
        }
      },
      "source": [
        "train.info()"
      ],
      "execution_count": 0,
      "outputs": [
        {
          "output_type": "stream",
          "text": [
            "<class 'pandas.core.frame.DataFrame'>\n",
            "RangeIndex: 31470 entries, 0 to 31469\n",
            "Data columns (total 75 columns):\n",
            "id                    31470 non-null int64\n",
            "Rent                  31470 non-null int64\n",
            "Age                   31470 non-null int64\n",
            "Area                  31470 non-null int64\n",
            "R                     31470 non-null int64\n",
            "K                     31470 non-null bool\n",
            "L                     31470 non-null bool\n",
            "D                     31470 non-null bool\n",
            "S                     31470 non-null bool\n",
            "Minute                31470 non-null object\n",
            "min                   31470 non-null int64\n",
            "privatebath           31470 non-null bool\n",
            "privatetoilet         31470 non-null bool\n",
            "bathtoilet            31470 non-null bool\n",
            "sharedtoilet          31470 non-null bool\n",
            "shower                31470 non-null bool\n",
            "dryer                 31470 non-null bool\n",
            "washstand             31470 non-null bool\n",
            "dressing              31470 non-null bool\n",
            "warmseat              31470 non-null bool\n",
            "memorial              31470 non-null bool\n",
            "gasstove              31470 non-null bool\n",
            "2stovetops            31470 non-null bool\n",
            "3stovetops            31470 non-null bool\n",
            "systemkitchen         31470 non-null bool\n",
            "hotwatersupply        31470 non-null bool\n",
            "separatekitchen       31470 non-null bool\n",
            "IH                    31470 non-null bool\n",
            "counterkitchen        31470 non-null bool\n",
            "shapekitchen          31470 non-null bool\n",
            "fridge                31470 non-null bool\n",
            "supermarket           31470 non-null bool\n",
            "konbini               31470 non-null bool\n",
            "univ                  31470 non-null bool\n",
            "drugstore             31470 non-null bool\n",
            "restaurant            31470 non-null bool\n",
            "hospital              31470 non-null bool\n",
            "park                  31470 non-null bool\n",
            "library               31470 non-null bool\n",
            "school                31470 non-null bool\n",
            "bank                  31470 non-null bool\n",
            "metters               22038 non-null object\n",
            "metter                31470 non-null int64\n",
            "aircon                31470 non-null bool\n",
            "shoesbox              31470 non-null bool\n",
            "balcony               31470 non-null bool\n",
            "flooring              31470 non-null bool\n",
            "ventilation           31470 non-null bool\n",
            "washingmachine        31470 non-null bool\n",
            "garbage               31470 non-null bool\n",
            "elevator              31470 non-null bool\n",
            "tiled                 31470 non-null bool\n",
            "publicwater           31470 non-null bool\n",
            "sewage                31470 non-null bool\n",
            "citygas               31470 non-null bool\n",
            "internetcompatible    31470 non-null bool\n",
            "opticalfiber          31470 non-null bool\n",
            "catv                  31470 non-null bool\n",
            "csantenna             31470 non-null bool\n",
            "bsantenna             31470 non-null bool\n",
            "freeusage             31470 non-null bool\n",
            "highspeed             31470 non-null bool\n",
            "cable                 31470 non-null bool\n",
            "carparking            31470 non-null bool\n",
            "bikeparking           31470 non-null bool\n",
            "motorparking          31470 non-null bool\n",
            "Direction_le          31470 non-null int64\n",
            "Material_le           31470 non-null int64\n",
            "City_le               31470 non-null int64\n",
            "Station_le            31470 non-null int64\n",
            "Age_le                31470 non-null int64\n",
            "Area_le               31470 non-null int64\n",
            "R_le                  31470 non-null int64\n",
            "min_le                31470 non-null int64\n",
            "metter_le             31470 non-null int64\n",
            "dtypes: bool(57), int64(16), object(2)\n",
            "memory usage: 6.0+ MB\n"
          ],
          "name": "stdout"
        }
      ]
    },
    {
      "cell_type": "code",
      "metadata": {
        "pycharm": {
          "name": "#%%\n",
          "is_executing": false
        },
        "id": "aCTYA34tvPOV",
        "colab_type": "code",
        "colab": {}
      },
      "source": [
        "train.drop(['S','separatekitchen','shapekitchen','fridge','univ','park','library','bank','highspeed','cable','carparking','bikeparking','motorparking','Minute','Age_le','min_le','Area_le','R_le','metters'],axis=1,inplace=True)"
      ],
      "execution_count": 0,
      "outputs": []
    },
    {
      "cell_type": "code",
      "metadata": {
        "pycharm": {
          "name": "#%%\n",
          "is_executing": false
        },
        "id": "5MDfGD56vPOY",
        "colab_type": "code",
        "outputId": "e3dfcfcc-6525-4bee-ecdb-cd0fe724e8a2",
        "colab": {
          "base_uri": "https://localhost:8080/",
          "height": 1000
        }
      },
      "source": [
        "train.info()"
      ],
      "execution_count": 0,
      "outputs": [
        {
          "output_type": "stream",
          "text": [
            "<class 'pandas.core.frame.DataFrame'>\n",
            "RangeIndex: 31470 entries, 0 to 31469\n",
            "Data columns (total 56 columns):\n",
            "id                    31470 non-null int64\n",
            "Rent                  31470 non-null int64\n",
            "Age                   31470 non-null int64\n",
            "Area                  31470 non-null int64\n",
            "R                     31470 non-null int64\n",
            "K                     31470 non-null bool\n",
            "L                     31470 non-null bool\n",
            "D                     31470 non-null bool\n",
            "min                   31470 non-null int64\n",
            "privatebath           31470 non-null bool\n",
            "privatetoilet         31470 non-null bool\n",
            "bathtoilet            31470 non-null bool\n",
            "sharedtoilet          31470 non-null bool\n",
            "shower                31470 non-null bool\n",
            "dryer                 31470 non-null bool\n",
            "washstand             31470 non-null bool\n",
            "dressing              31470 non-null bool\n",
            "warmseat              31470 non-null bool\n",
            "memorial              31470 non-null bool\n",
            "gasstove              31470 non-null bool\n",
            "2stovetops            31470 non-null bool\n",
            "3stovetops            31470 non-null bool\n",
            "systemkitchen         31470 non-null bool\n",
            "hotwatersupply        31470 non-null bool\n",
            "IH                    31470 non-null bool\n",
            "counterkitchen        31470 non-null bool\n",
            "supermarket           31470 non-null bool\n",
            "konbini               31470 non-null bool\n",
            "drugstore             31470 non-null bool\n",
            "restaurant            31470 non-null bool\n",
            "hospital              31470 non-null bool\n",
            "school                31470 non-null bool\n",
            "metter                31470 non-null int64\n",
            "aircon                31470 non-null bool\n",
            "shoesbox              31470 non-null bool\n",
            "balcony               31470 non-null bool\n",
            "flooring              31470 non-null bool\n",
            "ventilation           31470 non-null bool\n",
            "washingmachine        31470 non-null bool\n",
            "garbage               31470 non-null bool\n",
            "elevator              31470 non-null bool\n",
            "tiled                 31470 non-null bool\n",
            "publicwater           31470 non-null bool\n",
            "sewage                31470 non-null bool\n",
            "citygas               31470 non-null bool\n",
            "internetcompatible    31470 non-null bool\n",
            "opticalfiber          31470 non-null bool\n",
            "catv                  31470 non-null bool\n",
            "csantenna             31470 non-null bool\n",
            "bsantenna             31470 non-null bool\n",
            "freeusage             31470 non-null bool\n",
            "Direction_le          31470 non-null int64\n",
            "Material_le           31470 non-null int64\n",
            "City_le               31470 non-null int64\n",
            "Station_le            31470 non-null int64\n",
            "metter_le             31470 non-null int64\n",
            "dtypes: bool(44), int64(12)\n",
            "memory usage: 4.2 MB\n"
          ],
          "name": "stdout"
        }
      ]
    },
    {
      "cell_type": "code",
      "metadata": {
        "pycharm": {
          "name": "#%%\n",
          "is_executing": false
        },
        "id": "xP7PxHE5vPOb",
        "colab_type": "code",
        "colab": {}
      },
      "source": [
        "test.drop(drop_columns,axis=1,inplace=True)"
      ],
      "execution_count": 0,
      "outputs": []
    },
    {
      "cell_type": "code",
      "metadata": {
        "pycharm": {
          "name": "#%%\n",
          "is_executing": false
        },
        "id": "4jOm33sovPOc",
        "colab_type": "code",
        "colab": {}
      },
      "source": [
        "test.drop(cat_features,axis=1,inplace=True)\n",
        "test.drop(['S','separatekitchen','shapekitchen','fridge','univ','park','library','bank','highspeed','cable','carparking','bikeparking','motorparking','Minute','Age_le','min_le','Area_le','R_le','metters'],axis=1,inplace=True)"
      ],
      "execution_count": 0,
      "outputs": []
    },
    {
      "cell_type": "code",
      "metadata": {
        "pycharm": {
          "name": "#%%\n",
          "is_executing": false
        },
        "id": "LmZvrFpJvPOd",
        "colab_type": "code",
        "outputId": "22d1c4fd-ed73-446e-a6b2-694784e2d0bc",
        "colab": {
          "base_uri": "https://localhost:8080/",
          "height": 1000
        }
      },
      "source": [
        "test.info()"
      ],
      "execution_count": 0,
      "outputs": [
        {
          "output_type": "stream",
          "text": [
            "<class 'pandas.core.frame.DataFrame'>\n",
            "RangeIndex: 31262 entries, 0 to 31261\n",
            "Data columns (total 55 columns):\n",
            "id                    31262 non-null int64\n",
            "Age                   31262 non-null int64\n",
            "Area                  31262 non-null int64\n",
            "R                     31262 non-null int64\n",
            "K                     31262 non-null bool\n",
            "L                     31262 non-null bool\n",
            "D                     31262 non-null bool\n",
            "min                   31262 non-null int64\n",
            "privatebath           31262 non-null bool\n",
            "privatetoilet         31262 non-null bool\n",
            "bathtoilet            31262 non-null bool\n",
            "sharedtoilet          31262 non-null bool\n",
            "shower                31262 non-null bool\n",
            "dryer                 31262 non-null bool\n",
            "washstand             31262 non-null bool\n",
            "dressing              31262 non-null bool\n",
            "warmseat              31262 non-null bool\n",
            "memorial              31262 non-null bool\n",
            "gasstove              31262 non-null bool\n",
            "2stovetops            31262 non-null bool\n",
            "3stovetops            31262 non-null bool\n",
            "systemkitchen         31262 non-null bool\n",
            "hotwatersupply        31262 non-null bool\n",
            "IH                    31262 non-null bool\n",
            "counterkitchen        31262 non-null bool\n",
            "supermarket           31262 non-null bool\n",
            "konbini               31262 non-null bool\n",
            "drugstore             31262 non-null bool\n",
            "restaurant            31262 non-null bool\n",
            "hospital              31262 non-null bool\n",
            "school                31262 non-null bool\n",
            "metter                31262 non-null int64\n",
            "aircon                31262 non-null bool\n",
            "shoesbox              31262 non-null bool\n",
            "balcony               31262 non-null bool\n",
            "flooring              31262 non-null bool\n",
            "ventilation           31262 non-null bool\n",
            "washingmachine        31262 non-null bool\n",
            "garbage               31262 non-null bool\n",
            "elevator              31262 non-null bool\n",
            "tiled                 31262 non-null bool\n",
            "publicwater           31262 non-null bool\n",
            "sewage                31262 non-null bool\n",
            "citygas               31262 non-null bool\n",
            "internetcompatible    31262 non-null bool\n",
            "opticalfiber          31262 non-null bool\n",
            "catv                  31262 non-null bool\n",
            "csantenna             31262 non-null bool\n",
            "bsantenna             31262 non-null bool\n",
            "freeusage             31262 non-null bool\n",
            "Direction_le          31262 non-null int64\n",
            "Material_le           31262 non-null int64\n",
            "City_le               31262 non-null int64\n",
            "Station_le            31262 non-null int64\n",
            "metter_le             31262 non-null int64\n",
            "dtypes: bool(44), int64(11)\n",
            "memory usage: 3.9 MB\n"
          ],
          "name": "stdout"
        }
      ]
    },
    {
      "cell_type": "code",
      "metadata": {
        "pycharm": {
          "name": "#%%\n",
          "is_executing": false
        },
        "id": "W79zIFMtvPOe",
        "colab_type": "code",
        "colab": {}
      },
      "source": [
        "X = train.drop(['id', 'Rent'], axis=1)\n",
        "y = train['Rent']\n",
        "X_test = test.drop(['id'], axis=1)"
      ],
      "execution_count": 0,
      "outputs": []
    },
    {
      "cell_type": "code",
      "metadata": {
        "id": "O29ew3hC3zTZ",
        "colab_type": "code",
        "outputId": "e7f40453-a306-4a6a-fa1b-777bbe20641b",
        "colab": {
          "base_uri": "https://localhost:8080/",
          "height": 1000
        }
      },
      "source": [
        "from skopt import BayesSearchCV \n",
        "import warnings\n",
        "warnings.filterwarnings('ignore', message='The objective has been evaluated at this point before.')\n",
        "\n",
        "params={'min_child_weight': (0, 50,),\n",
        "        'max_depth': (0, 10),\n",
        "        'subsample': (0.5, 1.0),\n",
        "        'colsample_bytree': (0.5, 1.0),\n",
        "        'reg_lambda':(1e-5,100,'log-uniform'),\n",
        "        'reg_alpha':(1e-5,100,'log-uniform'),\n",
        "        'learning-rate':(0.01,0.2,'log-uniform'),\n",
        "        'gamma':(0,1),\n",
        "        }\n",
        "\n",
        "bayes=BayesSearchCV(xgb.XGBRegressor(),params,n_iter=10,scoring='neg_mean_squared_error',cv=10,random_state=42)\n",
        "res=bayes.fit(X,y)\n",
        "print(res.best_params_)\n"
      ],
      "execution_count": 0,
      "outputs": [
        {
          "output_type": "stream",
          "text": [
            "/usr/local/lib/python3.6/dist-packages/xgboost/core.py:587: FutureWarning: Series.base is deprecated and will be removed in a future version\n",
            "  if getattr(data, 'base', None) is not None and \\\n"
          ],
          "name": "stderr"
        },
        {
          "output_type": "stream",
          "text": [
            "[16:25:22] WARNING: /workspace/src/objective/regression_obj.cu:152: reg:linear is now deprecated in favor of reg:squarederror.\n"
          ],
          "name": "stdout"
        },
        {
          "output_type": "stream",
          "text": [
            "/usr/local/lib/python3.6/dist-packages/xgboost/core.py:587: FutureWarning: Series.base is deprecated and will be removed in a future version\n",
            "  if getattr(data, 'base', None) is not None and \\\n"
          ],
          "name": "stderr"
        },
        {
          "output_type": "stream",
          "text": [
            "[16:25:26] WARNING: /workspace/src/objective/regression_obj.cu:152: reg:linear is now deprecated in favor of reg:squarederror.\n"
          ],
          "name": "stdout"
        },
        {
          "output_type": "stream",
          "text": [
            "/usr/local/lib/python3.6/dist-packages/xgboost/core.py:587: FutureWarning: Series.base is deprecated and will be removed in a future version\n",
            "  if getattr(data, 'base', None) is not None and \\\n"
          ],
          "name": "stderr"
        },
        {
          "output_type": "stream",
          "text": [
            "[16:25:29] WARNING: /workspace/src/objective/regression_obj.cu:152: reg:linear is now deprecated in favor of reg:squarederror.\n"
          ],
          "name": "stdout"
        },
        {
          "output_type": "stream",
          "text": [
            "/usr/local/lib/python3.6/dist-packages/xgboost/core.py:587: FutureWarning: Series.base is deprecated and will be removed in a future version\n",
            "  if getattr(data, 'base', None) is not None and \\\n"
          ],
          "name": "stderr"
        },
        {
          "output_type": "stream",
          "text": [
            "[16:25:33] WARNING: /workspace/src/objective/regression_obj.cu:152: reg:linear is now deprecated in favor of reg:squarederror.\n"
          ],
          "name": "stdout"
        },
        {
          "output_type": "stream",
          "text": [
            "/usr/local/lib/python3.6/dist-packages/xgboost/core.py:587: FutureWarning: Series.base is deprecated and will be removed in a future version\n",
            "  if getattr(data, 'base', None) is not None and \\\n"
          ],
          "name": "stderr"
        },
        {
          "output_type": "stream",
          "text": [
            "[16:25:36] WARNING: /workspace/src/objective/regression_obj.cu:152: reg:linear is now deprecated in favor of reg:squarederror.\n"
          ],
          "name": "stdout"
        },
        {
          "output_type": "stream",
          "text": [
            "/usr/local/lib/python3.6/dist-packages/xgboost/core.py:587: FutureWarning: Series.base is deprecated and will be removed in a future version\n",
            "  if getattr(data, 'base', None) is not None and \\\n"
          ],
          "name": "stderr"
        },
        {
          "output_type": "stream",
          "text": [
            "[16:25:40] WARNING: /workspace/src/objective/regression_obj.cu:152: reg:linear is now deprecated in favor of reg:squarederror.\n"
          ],
          "name": "stdout"
        },
        {
          "output_type": "stream",
          "text": [
            "/usr/local/lib/python3.6/dist-packages/xgboost/core.py:587: FutureWarning: Series.base is deprecated and will be removed in a future version\n",
            "  if getattr(data, 'base', None) is not None and \\\n"
          ],
          "name": "stderr"
        },
        {
          "output_type": "stream",
          "text": [
            "[16:25:43] WARNING: /workspace/src/objective/regression_obj.cu:152: reg:linear is now deprecated in favor of reg:squarederror.\n"
          ],
          "name": "stdout"
        },
        {
          "output_type": "stream",
          "text": [
            "/usr/local/lib/python3.6/dist-packages/xgboost/core.py:587: FutureWarning: Series.base is deprecated and will be removed in a future version\n",
            "  if getattr(data, 'base', None) is not None and \\\n"
          ],
          "name": "stderr"
        },
        {
          "output_type": "stream",
          "text": [
            "[16:25:47] WARNING: /workspace/src/objective/regression_obj.cu:152: reg:linear is now deprecated in favor of reg:squarederror.\n"
          ],
          "name": "stdout"
        },
        {
          "output_type": "stream",
          "text": [
            "/usr/local/lib/python3.6/dist-packages/xgboost/core.py:587: FutureWarning: Series.base is deprecated and will be removed in a future version\n",
            "  if getattr(data, 'base', None) is not None and \\\n"
          ],
          "name": "stderr"
        },
        {
          "output_type": "stream",
          "text": [
            "[16:25:50] WARNING: /workspace/src/objective/regression_obj.cu:152: reg:linear is now deprecated in favor of reg:squarederror.\n"
          ],
          "name": "stdout"
        },
        {
          "output_type": "stream",
          "text": [
            "/usr/local/lib/python3.6/dist-packages/xgboost/core.py:587: FutureWarning: Series.base is deprecated and will be removed in a future version\n",
            "  if getattr(data, 'base', None) is not None and \\\n"
          ],
          "name": "stderr"
        },
        {
          "output_type": "stream",
          "text": [
            "[16:25:54] WARNING: /workspace/src/objective/regression_obj.cu:152: reg:linear is now deprecated in favor of reg:squarederror.\n"
          ],
          "name": "stdout"
        },
        {
          "output_type": "stream",
          "text": [
            "/usr/local/lib/python3.6/dist-packages/xgboost/core.py:587: FutureWarning: Series.base is deprecated and will be removed in a future version\n",
            "  if getattr(data, 'base', None) is not None and \\\n"
          ],
          "name": "stderr"
        },
        {
          "output_type": "stream",
          "text": [
            "[16:25:57] WARNING: /workspace/src/objective/regression_obj.cu:152: reg:linear is now deprecated in favor of reg:squarederror.\n"
          ],
          "name": "stdout"
        },
        {
          "output_type": "stream",
          "text": [
            "/usr/local/lib/python3.6/dist-packages/xgboost/core.py:587: FutureWarning: Series.base is deprecated and will be removed in a future version\n",
            "  if getattr(data, 'base', None) is not None and \\\n"
          ],
          "name": "stderr"
        },
        {
          "output_type": "stream",
          "text": [
            "[16:26:12] WARNING: /workspace/src/objective/regression_obj.cu:152: reg:linear is now deprecated in favor of reg:squarederror.\n"
          ],
          "name": "stdout"
        },
        {
          "output_type": "stream",
          "text": [
            "/usr/local/lib/python3.6/dist-packages/xgboost/core.py:587: FutureWarning: Series.base is deprecated and will be removed in a future version\n",
            "  if getattr(data, 'base', None) is not None and \\\n"
          ],
          "name": "stderr"
        },
        {
          "output_type": "stream",
          "text": [
            "[16:26:26] WARNING: /workspace/src/objective/regression_obj.cu:152: reg:linear is now deprecated in favor of reg:squarederror.\n"
          ],
          "name": "stdout"
        },
        {
          "output_type": "stream",
          "text": [
            "/usr/local/lib/python3.6/dist-packages/xgboost/core.py:587: FutureWarning: Series.base is deprecated and will be removed in a future version\n",
            "  if getattr(data, 'base', None) is not None and \\\n"
          ],
          "name": "stderr"
        },
        {
          "output_type": "stream",
          "text": [
            "[16:26:40] WARNING: /workspace/src/objective/regression_obj.cu:152: reg:linear is now deprecated in favor of reg:squarederror.\n"
          ],
          "name": "stdout"
        },
        {
          "output_type": "stream",
          "text": [
            "/usr/local/lib/python3.6/dist-packages/xgboost/core.py:587: FutureWarning: Series.base is deprecated and will be removed in a future version\n",
            "  if getattr(data, 'base', None) is not None and \\\n"
          ],
          "name": "stderr"
        },
        {
          "output_type": "stream",
          "text": [
            "[16:26:54] WARNING: /workspace/src/objective/regression_obj.cu:152: reg:linear is now deprecated in favor of reg:squarederror.\n"
          ],
          "name": "stdout"
        },
        {
          "output_type": "stream",
          "text": [
            "/usr/local/lib/python3.6/dist-packages/xgboost/core.py:587: FutureWarning: Series.base is deprecated and will be removed in a future version\n",
            "  if getattr(data, 'base', None) is not None and \\\n"
          ],
          "name": "stderr"
        },
        {
          "output_type": "stream",
          "text": [
            "[16:27:08] WARNING: /workspace/src/objective/regression_obj.cu:152: reg:linear is now deprecated in favor of reg:squarederror.\n"
          ],
          "name": "stdout"
        },
        {
          "output_type": "stream",
          "text": [
            "/usr/local/lib/python3.6/dist-packages/xgboost/core.py:587: FutureWarning: Series.base is deprecated and will be removed in a future version\n",
            "  if getattr(data, 'base', None) is not None and \\\n"
          ],
          "name": "stderr"
        },
        {
          "output_type": "stream",
          "text": [
            "[16:27:22] WARNING: /workspace/src/objective/regression_obj.cu:152: reg:linear is now deprecated in favor of reg:squarederror.\n"
          ],
          "name": "stdout"
        },
        {
          "output_type": "stream",
          "text": [
            "/usr/local/lib/python3.6/dist-packages/xgboost/core.py:587: FutureWarning: Series.base is deprecated and will be removed in a future version\n",
            "  if getattr(data, 'base', None) is not None and \\\n"
          ],
          "name": "stderr"
        },
        {
          "output_type": "stream",
          "text": [
            "[16:27:36] WARNING: /workspace/src/objective/regression_obj.cu:152: reg:linear is now deprecated in favor of reg:squarederror.\n"
          ],
          "name": "stdout"
        },
        {
          "output_type": "stream",
          "text": [
            "/usr/local/lib/python3.6/dist-packages/xgboost/core.py:587: FutureWarning: Series.base is deprecated and will be removed in a future version\n",
            "  if getattr(data, 'base', None) is not None and \\\n"
          ],
          "name": "stderr"
        },
        {
          "output_type": "stream",
          "text": [
            "[16:27:51] WARNING: /workspace/src/objective/regression_obj.cu:152: reg:linear is now deprecated in favor of reg:squarederror.\n"
          ],
          "name": "stdout"
        },
        {
          "output_type": "stream",
          "text": [
            "/usr/local/lib/python3.6/dist-packages/xgboost/core.py:587: FutureWarning: Series.base is deprecated and will be removed in a future version\n",
            "  if getattr(data, 'base', None) is not None and \\\n"
          ],
          "name": "stderr"
        },
        {
          "output_type": "stream",
          "text": [
            "[16:28:05] WARNING: /workspace/src/objective/regression_obj.cu:152: reg:linear is now deprecated in favor of reg:squarederror.\n"
          ],
          "name": "stdout"
        },
        {
          "output_type": "stream",
          "text": [
            "/usr/local/lib/python3.6/dist-packages/xgboost/core.py:587: FutureWarning: Series.base is deprecated and will be removed in a future version\n",
            "  if getattr(data, 'base', None) is not None and \\\n"
          ],
          "name": "stderr"
        },
        {
          "output_type": "stream",
          "text": [
            "[16:28:19] WARNING: /workspace/src/objective/regression_obj.cu:152: reg:linear is now deprecated in favor of reg:squarederror.\n"
          ],
          "name": "stdout"
        },
        {
          "output_type": "stream",
          "text": [
            "/usr/local/lib/python3.6/dist-packages/xgboost/core.py:587: FutureWarning: Series.base is deprecated and will be removed in a future version\n",
            "  if getattr(data, 'base', None) is not None and \\\n"
          ],
          "name": "stderr"
        },
        {
          "output_type": "stream",
          "text": [
            "[16:28:23] WARNING: /workspace/src/objective/regression_obj.cu:152: reg:linear is now deprecated in favor of reg:squarederror.\n"
          ],
          "name": "stdout"
        },
        {
          "output_type": "stream",
          "text": [
            "/usr/local/lib/python3.6/dist-packages/xgboost/core.py:587: FutureWarning: Series.base is deprecated and will be removed in a future version\n",
            "  if getattr(data, 'base', None) is not None and \\\n"
          ],
          "name": "stderr"
        },
        {
          "output_type": "stream",
          "text": [
            "[16:28:28] WARNING: /workspace/src/objective/regression_obj.cu:152: reg:linear is now deprecated in favor of reg:squarederror.\n"
          ],
          "name": "stdout"
        },
        {
          "output_type": "stream",
          "text": [
            "/usr/local/lib/python3.6/dist-packages/xgboost/core.py:587: FutureWarning: Series.base is deprecated and will be removed in a future version\n",
            "  if getattr(data, 'base', None) is not None and \\\n"
          ],
          "name": "stderr"
        },
        {
          "output_type": "stream",
          "text": [
            "[16:28:32] WARNING: /workspace/src/objective/regression_obj.cu:152: reg:linear is now deprecated in favor of reg:squarederror.\n"
          ],
          "name": "stdout"
        },
        {
          "output_type": "stream",
          "text": [
            "/usr/local/lib/python3.6/dist-packages/xgboost/core.py:587: FutureWarning: Series.base is deprecated and will be removed in a future version\n",
            "  if getattr(data, 'base', None) is not None and \\\n"
          ],
          "name": "stderr"
        },
        {
          "output_type": "stream",
          "text": [
            "[16:28:37] WARNING: /workspace/src/objective/regression_obj.cu:152: reg:linear is now deprecated in favor of reg:squarederror.\n"
          ],
          "name": "stdout"
        },
        {
          "output_type": "stream",
          "text": [
            "/usr/local/lib/python3.6/dist-packages/xgboost/core.py:587: FutureWarning: Series.base is deprecated and will be removed in a future version\n",
            "  if getattr(data, 'base', None) is not None and \\\n"
          ],
          "name": "stderr"
        },
        {
          "output_type": "stream",
          "text": [
            "[16:28:41] WARNING: /workspace/src/objective/regression_obj.cu:152: reg:linear is now deprecated in favor of reg:squarederror.\n"
          ],
          "name": "stdout"
        },
        {
          "output_type": "stream",
          "text": [
            "/usr/local/lib/python3.6/dist-packages/xgboost/core.py:587: FutureWarning: Series.base is deprecated and will be removed in a future version\n",
            "  if getattr(data, 'base', None) is not None and \\\n"
          ],
          "name": "stderr"
        },
        {
          "output_type": "stream",
          "text": [
            "[16:28:45] WARNING: /workspace/src/objective/regression_obj.cu:152: reg:linear is now deprecated in favor of reg:squarederror.\n"
          ],
          "name": "stdout"
        },
        {
          "output_type": "stream",
          "text": [
            "/usr/local/lib/python3.6/dist-packages/xgboost/core.py:587: FutureWarning: Series.base is deprecated and will be removed in a future version\n",
            "  if getattr(data, 'base', None) is not None and \\\n"
          ],
          "name": "stderr"
        },
        {
          "output_type": "stream",
          "text": [
            "[16:28:50] WARNING: /workspace/src/objective/regression_obj.cu:152: reg:linear is now deprecated in favor of reg:squarederror.\n"
          ],
          "name": "stdout"
        },
        {
          "output_type": "stream",
          "text": [
            "/usr/local/lib/python3.6/dist-packages/xgboost/core.py:587: FutureWarning: Series.base is deprecated and will be removed in a future version\n",
            "  if getattr(data, 'base', None) is not None and \\\n"
          ],
          "name": "stderr"
        },
        {
          "output_type": "stream",
          "text": [
            "[16:28:54] WARNING: /workspace/src/objective/regression_obj.cu:152: reg:linear is now deprecated in favor of reg:squarederror.\n"
          ],
          "name": "stdout"
        },
        {
          "output_type": "stream",
          "text": [
            "/usr/local/lib/python3.6/dist-packages/xgboost/core.py:587: FutureWarning: Series.base is deprecated and will be removed in a future version\n",
            "  if getattr(data, 'base', None) is not None and \\\n"
          ],
          "name": "stderr"
        },
        {
          "output_type": "stream",
          "text": [
            "[16:28:59] WARNING: /workspace/src/objective/regression_obj.cu:152: reg:linear is now deprecated in favor of reg:squarederror.\n"
          ],
          "name": "stdout"
        },
        {
          "output_type": "stream",
          "text": [
            "/usr/local/lib/python3.6/dist-packages/xgboost/core.py:587: FutureWarning: Series.base is deprecated and will be removed in a future version\n",
            "  if getattr(data, 'base', None) is not None and \\\n"
          ],
          "name": "stderr"
        },
        {
          "output_type": "stream",
          "text": [
            "[16:29:03] WARNING: /workspace/src/objective/regression_obj.cu:152: reg:linear is now deprecated in favor of reg:squarederror.\n"
          ],
          "name": "stdout"
        },
        {
          "output_type": "stream",
          "text": [
            "/usr/local/lib/python3.6/dist-packages/xgboost/core.py:587: FutureWarning: Series.base is deprecated and will be removed in a future version\n",
            "  if getattr(data, 'base', None) is not None and \\\n"
          ],
          "name": "stderr"
        },
        {
          "output_type": "stream",
          "text": [
            "[16:29:12] WARNING: /workspace/src/objective/regression_obj.cu:152: reg:linear is now deprecated in favor of reg:squarederror.\n"
          ],
          "name": "stdout"
        },
        {
          "output_type": "stream",
          "text": [
            "/usr/local/lib/python3.6/dist-packages/xgboost/core.py:587: FutureWarning: Series.base is deprecated and will be removed in a future version\n",
            "  if getattr(data, 'base', None) is not None and \\\n"
          ],
          "name": "stderr"
        },
        {
          "output_type": "stream",
          "text": [
            "[16:29:21] WARNING: /workspace/src/objective/regression_obj.cu:152: reg:linear is now deprecated in favor of reg:squarederror.\n"
          ],
          "name": "stdout"
        },
        {
          "output_type": "stream",
          "text": [
            "/usr/local/lib/python3.6/dist-packages/xgboost/core.py:587: FutureWarning: Series.base is deprecated and will be removed in a future version\n",
            "  if getattr(data, 'base', None) is not None and \\\n"
          ],
          "name": "stderr"
        },
        {
          "output_type": "stream",
          "text": [
            "[16:29:31] WARNING: /workspace/src/objective/regression_obj.cu:152: reg:linear is now deprecated in favor of reg:squarederror.\n"
          ],
          "name": "stdout"
        },
        {
          "output_type": "stream",
          "text": [
            "/usr/local/lib/python3.6/dist-packages/xgboost/core.py:587: FutureWarning: Series.base is deprecated and will be removed in a future version\n",
            "  if getattr(data, 'base', None) is not None and \\\n"
          ],
          "name": "stderr"
        },
        {
          "output_type": "stream",
          "text": [
            "[16:29:40] WARNING: /workspace/src/objective/regression_obj.cu:152: reg:linear is now deprecated in favor of reg:squarederror.\n"
          ],
          "name": "stdout"
        },
        {
          "output_type": "stream",
          "text": [
            "/usr/local/lib/python3.6/dist-packages/xgboost/core.py:587: FutureWarning: Series.base is deprecated and will be removed in a future version\n",
            "  if getattr(data, 'base', None) is not None and \\\n"
          ],
          "name": "stderr"
        },
        {
          "output_type": "stream",
          "text": [
            "[16:29:49] WARNING: /workspace/src/objective/regression_obj.cu:152: reg:linear is now deprecated in favor of reg:squarederror.\n"
          ],
          "name": "stdout"
        },
        {
          "output_type": "stream",
          "text": [
            "/usr/local/lib/python3.6/dist-packages/xgboost/core.py:587: FutureWarning: Series.base is deprecated and will be removed in a future version\n",
            "  if getattr(data, 'base', None) is not None and \\\n"
          ],
          "name": "stderr"
        },
        {
          "output_type": "stream",
          "text": [
            "[16:29:58] WARNING: /workspace/src/objective/regression_obj.cu:152: reg:linear is now deprecated in favor of reg:squarederror.\n"
          ],
          "name": "stdout"
        },
        {
          "output_type": "stream",
          "text": [
            "/usr/local/lib/python3.6/dist-packages/xgboost/core.py:587: FutureWarning: Series.base is deprecated and will be removed in a future version\n",
            "  if getattr(data, 'base', None) is not None and \\\n"
          ],
          "name": "stderr"
        },
        {
          "output_type": "stream",
          "text": [
            "[16:30:08] WARNING: /workspace/src/objective/regression_obj.cu:152: reg:linear is now deprecated in favor of reg:squarederror.\n"
          ],
          "name": "stdout"
        },
        {
          "output_type": "stream",
          "text": [
            "/usr/local/lib/python3.6/dist-packages/xgboost/core.py:587: FutureWarning: Series.base is deprecated and will be removed in a future version\n",
            "  if getattr(data, 'base', None) is not None and \\\n"
          ],
          "name": "stderr"
        },
        {
          "output_type": "stream",
          "text": [
            "[16:30:17] WARNING: /workspace/src/objective/regression_obj.cu:152: reg:linear is now deprecated in favor of reg:squarederror.\n"
          ],
          "name": "stdout"
        },
        {
          "output_type": "stream",
          "text": [
            "/usr/local/lib/python3.6/dist-packages/xgboost/core.py:587: FutureWarning: Series.base is deprecated and will be removed in a future version\n",
            "  if getattr(data, 'base', None) is not None and \\\n"
          ],
          "name": "stderr"
        },
        {
          "output_type": "stream",
          "text": [
            "[16:30:26] WARNING: /workspace/src/objective/regression_obj.cu:152: reg:linear is now deprecated in favor of reg:squarederror.\n"
          ],
          "name": "stdout"
        },
        {
          "output_type": "stream",
          "text": [
            "/usr/local/lib/python3.6/dist-packages/xgboost/core.py:587: FutureWarning: Series.base is deprecated and will be removed in a future version\n",
            "  if getattr(data, 'base', None) is not None and \\\n"
          ],
          "name": "stderr"
        },
        {
          "output_type": "stream",
          "text": [
            "[16:30:36] WARNING: /workspace/src/objective/regression_obj.cu:152: reg:linear is now deprecated in favor of reg:squarederror.\n"
          ],
          "name": "stdout"
        },
        {
          "output_type": "stream",
          "text": [
            "/usr/local/lib/python3.6/dist-packages/xgboost/core.py:587: FutureWarning: Series.base is deprecated and will be removed in a future version\n",
            "  if getattr(data, 'base', None) is not None and \\\n"
          ],
          "name": "stderr"
        },
        {
          "output_type": "stream",
          "text": [
            "[16:30:44] WARNING: /workspace/src/objective/regression_obj.cu:152: reg:linear is now deprecated in favor of reg:squarederror.\n"
          ],
          "name": "stdout"
        },
        {
          "output_type": "stream",
          "text": [
            "/usr/local/lib/python3.6/dist-packages/xgboost/core.py:587: FutureWarning: Series.base is deprecated and will be removed in a future version\n",
            "  if getattr(data, 'base', None) is not None and \\\n"
          ],
          "name": "stderr"
        },
        {
          "output_type": "stream",
          "text": [
            "[16:30:53] WARNING: /workspace/src/objective/regression_obj.cu:152: reg:linear is now deprecated in favor of reg:squarederror.\n"
          ],
          "name": "stdout"
        },
        {
          "output_type": "stream",
          "text": [
            "/usr/local/lib/python3.6/dist-packages/xgboost/core.py:587: FutureWarning: Series.base is deprecated and will be removed in a future version\n",
            "  if getattr(data, 'base', None) is not None and \\\n"
          ],
          "name": "stderr"
        },
        {
          "output_type": "stream",
          "text": [
            "[16:31:01] WARNING: /workspace/src/objective/regression_obj.cu:152: reg:linear is now deprecated in favor of reg:squarederror.\n"
          ],
          "name": "stdout"
        },
        {
          "output_type": "stream",
          "text": [
            "/usr/local/lib/python3.6/dist-packages/xgboost/core.py:587: FutureWarning: Series.base is deprecated and will be removed in a future version\n",
            "  if getattr(data, 'base', None) is not None and \\\n"
          ],
          "name": "stderr"
        },
        {
          "output_type": "stream",
          "text": [
            "[16:31:10] WARNING: /workspace/src/objective/regression_obj.cu:152: reg:linear is now deprecated in favor of reg:squarederror.\n"
          ],
          "name": "stdout"
        },
        {
          "output_type": "stream",
          "text": [
            "/usr/local/lib/python3.6/dist-packages/xgboost/core.py:587: FutureWarning: Series.base is deprecated and will be removed in a future version\n",
            "  if getattr(data, 'base', None) is not None and \\\n"
          ],
          "name": "stderr"
        },
        {
          "output_type": "stream",
          "text": [
            "[16:31:18] WARNING: /workspace/src/objective/regression_obj.cu:152: reg:linear is now deprecated in favor of reg:squarederror.\n"
          ],
          "name": "stdout"
        },
        {
          "output_type": "stream",
          "text": [
            "/usr/local/lib/python3.6/dist-packages/xgboost/core.py:587: FutureWarning: Series.base is deprecated and will be removed in a future version\n",
            "  if getattr(data, 'base', None) is not None and \\\n"
          ],
          "name": "stderr"
        },
        {
          "output_type": "stream",
          "text": [
            "[16:31:27] WARNING: /workspace/src/objective/regression_obj.cu:152: reg:linear is now deprecated in favor of reg:squarederror.\n"
          ],
          "name": "stdout"
        },
        {
          "output_type": "stream",
          "text": [
            "/usr/local/lib/python3.6/dist-packages/xgboost/core.py:587: FutureWarning: Series.base is deprecated and will be removed in a future version\n",
            "  if getattr(data, 'base', None) is not None and \\\n"
          ],
          "name": "stderr"
        },
        {
          "output_type": "stream",
          "text": [
            "[16:31:35] WARNING: /workspace/src/objective/regression_obj.cu:152: reg:linear is now deprecated in favor of reg:squarederror.\n"
          ],
          "name": "stdout"
        },
        {
          "output_type": "stream",
          "text": [
            "/usr/local/lib/python3.6/dist-packages/xgboost/core.py:587: FutureWarning: Series.base is deprecated and will be removed in a future version\n",
            "  if getattr(data, 'base', None) is not None and \\\n"
          ],
          "name": "stderr"
        },
        {
          "output_type": "stream",
          "text": [
            "[16:31:44] WARNING: /workspace/src/objective/regression_obj.cu:152: reg:linear is now deprecated in favor of reg:squarederror.\n"
          ],
          "name": "stdout"
        },
        {
          "output_type": "stream",
          "text": [
            "/usr/local/lib/python3.6/dist-packages/xgboost/core.py:587: FutureWarning: Series.base is deprecated and will be removed in a future version\n",
            "  if getattr(data, 'base', None) is not None and \\\n"
          ],
          "name": "stderr"
        },
        {
          "output_type": "stream",
          "text": [
            "[16:31:53] WARNING: /workspace/src/objective/regression_obj.cu:152: reg:linear is now deprecated in favor of reg:squarederror.\n"
          ],
          "name": "stdout"
        },
        {
          "output_type": "stream",
          "text": [
            "/usr/local/lib/python3.6/dist-packages/xgboost/core.py:587: FutureWarning: Series.base is deprecated and will be removed in a future version\n",
            "  if getattr(data, 'base', None) is not None and \\\n"
          ],
          "name": "stderr"
        },
        {
          "output_type": "stream",
          "text": [
            "[16:32:01] WARNING: /workspace/src/objective/regression_obj.cu:152: reg:linear is now deprecated in favor of reg:squarederror.\n"
          ],
          "name": "stdout"
        },
        {
          "output_type": "stream",
          "text": [
            "/usr/local/lib/python3.6/dist-packages/xgboost/core.py:587: FutureWarning: Series.base is deprecated and will be removed in a future version\n",
            "  if getattr(data, 'base', None) is not None and \\\n"
          ],
          "name": "stderr"
        },
        {
          "output_type": "stream",
          "text": [
            "[16:32:04] WARNING: /workspace/src/objective/regression_obj.cu:152: reg:linear is now deprecated in favor of reg:squarederror.\n"
          ],
          "name": "stdout"
        },
        {
          "output_type": "stream",
          "text": [
            "/usr/local/lib/python3.6/dist-packages/xgboost/core.py:587: FutureWarning: Series.base is deprecated and will be removed in a future version\n",
            "  if getattr(data, 'base', None) is not None and \\\n"
          ],
          "name": "stderr"
        },
        {
          "output_type": "stream",
          "text": [
            "[16:32:08] WARNING: /workspace/src/objective/regression_obj.cu:152: reg:linear is now deprecated in favor of reg:squarederror.\n"
          ],
          "name": "stdout"
        },
        {
          "output_type": "stream",
          "text": [
            "/usr/local/lib/python3.6/dist-packages/xgboost/core.py:587: FutureWarning: Series.base is deprecated and will be removed in a future version\n",
            "  if getattr(data, 'base', None) is not None and \\\n"
          ],
          "name": "stderr"
        },
        {
          "output_type": "stream",
          "text": [
            "[16:32:11] WARNING: /workspace/src/objective/regression_obj.cu:152: reg:linear is now deprecated in favor of reg:squarederror.\n"
          ],
          "name": "stdout"
        },
        {
          "output_type": "stream",
          "text": [
            "/usr/local/lib/python3.6/dist-packages/xgboost/core.py:587: FutureWarning: Series.base is deprecated and will be removed in a future version\n",
            "  if getattr(data, 'base', None) is not None and \\\n"
          ],
          "name": "stderr"
        },
        {
          "output_type": "stream",
          "text": [
            "[16:32:14] WARNING: /workspace/src/objective/regression_obj.cu:152: reg:linear is now deprecated in favor of reg:squarederror.\n"
          ],
          "name": "stdout"
        },
        {
          "output_type": "stream",
          "text": [
            "/usr/local/lib/python3.6/dist-packages/xgboost/core.py:587: FutureWarning: Series.base is deprecated and will be removed in a future version\n",
            "  if getattr(data, 'base', None) is not None and \\\n"
          ],
          "name": "stderr"
        },
        {
          "output_type": "stream",
          "text": [
            "[16:32:17] WARNING: /workspace/src/objective/regression_obj.cu:152: reg:linear is now deprecated in favor of reg:squarederror.\n"
          ],
          "name": "stdout"
        },
        {
          "output_type": "stream",
          "text": [
            "/usr/local/lib/python3.6/dist-packages/xgboost/core.py:587: FutureWarning: Series.base is deprecated and will be removed in a future version\n",
            "  if getattr(data, 'base', None) is not None and \\\n"
          ],
          "name": "stderr"
        },
        {
          "output_type": "stream",
          "text": [
            "[16:32:20] WARNING: /workspace/src/objective/regression_obj.cu:152: reg:linear is now deprecated in favor of reg:squarederror.\n"
          ],
          "name": "stdout"
        },
        {
          "output_type": "stream",
          "text": [
            "/usr/local/lib/python3.6/dist-packages/xgboost/core.py:587: FutureWarning: Series.base is deprecated and will be removed in a future version\n",
            "  if getattr(data, 'base', None) is not None and \\\n"
          ],
          "name": "stderr"
        },
        {
          "output_type": "stream",
          "text": [
            "[16:32:24] WARNING: /workspace/src/objective/regression_obj.cu:152: reg:linear is now deprecated in favor of reg:squarederror.\n"
          ],
          "name": "stdout"
        },
        {
          "output_type": "stream",
          "text": [
            "/usr/local/lib/python3.6/dist-packages/xgboost/core.py:587: FutureWarning: Series.base is deprecated and will be removed in a future version\n",
            "  if getattr(data, 'base', None) is not None and \\\n"
          ],
          "name": "stderr"
        },
        {
          "output_type": "stream",
          "text": [
            "[16:32:27] WARNING: /workspace/src/objective/regression_obj.cu:152: reg:linear is now deprecated in favor of reg:squarederror.\n"
          ],
          "name": "stdout"
        },
        {
          "output_type": "stream",
          "text": [
            "/usr/local/lib/python3.6/dist-packages/xgboost/core.py:587: FutureWarning: Series.base is deprecated and will be removed in a future version\n",
            "  if getattr(data, 'base', None) is not None and \\\n"
          ],
          "name": "stderr"
        },
        {
          "output_type": "stream",
          "text": [
            "[16:32:30] WARNING: /workspace/src/objective/regression_obj.cu:152: reg:linear is now deprecated in favor of reg:squarederror.\n"
          ],
          "name": "stdout"
        },
        {
          "output_type": "stream",
          "text": [
            "/usr/local/lib/python3.6/dist-packages/xgboost/core.py:587: FutureWarning: Series.base is deprecated and will be removed in a future version\n",
            "  if getattr(data, 'base', None) is not None and \\\n"
          ],
          "name": "stderr"
        },
        {
          "output_type": "stream",
          "text": [
            "[16:32:33] WARNING: /workspace/src/objective/regression_obj.cu:152: reg:linear is now deprecated in favor of reg:squarederror.\n"
          ],
          "name": "stdout"
        },
        {
          "output_type": "stream",
          "text": [
            "/usr/local/lib/python3.6/dist-packages/xgboost/core.py:587: FutureWarning: Series.base is deprecated and will be removed in a future version\n",
            "  if getattr(data, 'base', None) is not None and \\\n"
          ],
          "name": "stderr"
        },
        {
          "output_type": "stream",
          "text": [
            "[16:32:45] WARNING: /workspace/src/objective/regression_obj.cu:152: reg:linear is now deprecated in favor of reg:squarederror.\n"
          ],
          "name": "stdout"
        },
        {
          "output_type": "stream",
          "text": [
            "/usr/local/lib/python3.6/dist-packages/xgboost/core.py:587: FutureWarning: Series.base is deprecated and will be removed in a future version\n",
            "  if getattr(data, 'base', None) is not None and \\\n"
          ],
          "name": "stderr"
        },
        {
          "output_type": "stream",
          "text": [
            "[16:32:56] WARNING: /workspace/src/objective/regression_obj.cu:152: reg:linear is now deprecated in favor of reg:squarederror.\n"
          ],
          "name": "stdout"
        },
        {
          "output_type": "stream",
          "text": [
            "/usr/local/lib/python3.6/dist-packages/xgboost/core.py:587: FutureWarning: Series.base is deprecated and will be removed in a future version\n",
            "  if getattr(data, 'base', None) is not None and \\\n"
          ],
          "name": "stderr"
        },
        {
          "output_type": "stream",
          "text": [
            "[16:33:07] WARNING: /workspace/src/objective/regression_obj.cu:152: reg:linear is now deprecated in favor of reg:squarederror.\n"
          ],
          "name": "stdout"
        },
        {
          "output_type": "stream",
          "text": [
            "/usr/local/lib/python3.6/dist-packages/xgboost/core.py:587: FutureWarning: Series.base is deprecated and will be removed in a future version\n",
            "  if getattr(data, 'base', None) is not None and \\\n"
          ],
          "name": "stderr"
        },
        {
          "output_type": "stream",
          "text": [
            "[16:33:19] WARNING: /workspace/src/objective/regression_obj.cu:152: reg:linear is now deprecated in favor of reg:squarederror.\n"
          ],
          "name": "stdout"
        },
        {
          "output_type": "stream",
          "text": [
            "/usr/local/lib/python3.6/dist-packages/xgboost/core.py:587: FutureWarning: Series.base is deprecated and will be removed in a future version\n",
            "  if getattr(data, 'base', None) is not None and \\\n"
          ],
          "name": "stderr"
        },
        {
          "output_type": "stream",
          "text": [
            "[16:33:30] WARNING: /workspace/src/objective/regression_obj.cu:152: reg:linear is now deprecated in favor of reg:squarederror.\n"
          ],
          "name": "stdout"
        },
        {
          "output_type": "stream",
          "text": [
            "/usr/local/lib/python3.6/dist-packages/xgboost/core.py:587: FutureWarning: Series.base is deprecated and will be removed in a future version\n",
            "  if getattr(data, 'base', None) is not None and \\\n"
          ],
          "name": "stderr"
        },
        {
          "output_type": "stream",
          "text": [
            "[16:33:42] WARNING: /workspace/src/objective/regression_obj.cu:152: reg:linear is now deprecated in favor of reg:squarederror.\n"
          ],
          "name": "stdout"
        },
        {
          "output_type": "stream",
          "text": [
            "/usr/local/lib/python3.6/dist-packages/xgboost/core.py:587: FutureWarning: Series.base is deprecated and will be removed in a future version\n",
            "  if getattr(data, 'base', None) is not None and \\\n"
          ],
          "name": "stderr"
        },
        {
          "output_type": "stream",
          "text": [
            "[16:33:53] WARNING: /workspace/src/objective/regression_obj.cu:152: reg:linear is now deprecated in favor of reg:squarederror.\n"
          ],
          "name": "stdout"
        },
        {
          "output_type": "stream",
          "text": [
            "/usr/local/lib/python3.6/dist-packages/xgboost/core.py:587: FutureWarning: Series.base is deprecated and will be removed in a future version\n",
            "  if getattr(data, 'base', None) is not None and \\\n"
          ],
          "name": "stderr"
        },
        {
          "output_type": "stream",
          "text": [
            "[16:34:04] WARNING: /workspace/src/objective/regression_obj.cu:152: reg:linear is now deprecated in favor of reg:squarederror.\n"
          ],
          "name": "stdout"
        },
        {
          "output_type": "stream",
          "text": [
            "/usr/local/lib/python3.6/dist-packages/xgboost/core.py:587: FutureWarning: Series.base is deprecated and will be removed in a future version\n",
            "  if getattr(data, 'base', None) is not None and \\\n"
          ],
          "name": "stderr"
        },
        {
          "output_type": "stream",
          "text": [
            "[16:34:16] WARNING: /workspace/src/objective/regression_obj.cu:152: reg:linear is now deprecated in favor of reg:squarederror.\n"
          ],
          "name": "stdout"
        },
        {
          "output_type": "stream",
          "text": [
            "/usr/local/lib/python3.6/dist-packages/xgboost/core.py:587: FutureWarning: Series.base is deprecated and will be removed in a future version\n",
            "  if getattr(data, 'base', None) is not None and \\\n"
          ],
          "name": "stderr"
        },
        {
          "output_type": "stream",
          "text": [
            "[16:34:27] WARNING: /workspace/src/objective/regression_obj.cu:152: reg:linear is now deprecated in favor of reg:squarederror.\n"
          ],
          "name": "stdout"
        },
        {
          "output_type": "stream",
          "text": [
            "/usr/local/lib/python3.6/dist-packages/xgboost/core.py:587: FutureWarning: Series.base is deprecated and will be removed in a future version\n",
            "  if getattr(data, 'base', None) is not None and \\\n"
          ],
          "name": "stderr"
        },
        {
          "output_type": "stream",
          "text": [
            "[16:34:38] WARNING: /workspace/src/objective/regression_obj.cu:152: reg:linear is now deprecated in favor of reg:squarederror.\n"
          ],
          "name": "stdout"
        },
        {
          "output_type": "stream",
          "text": [
            "/usr/local/lib/python3.6/dist-packages/xgboost/core.py:587: FutureWarning: Series.base is deprecated and will be removed in a future version\n",
            "  if getattr(data, 'base', None) is not None and \\\n"
          ],
          "name": "stderr"
        },
        {
          "output_type": "stream",
          "text": [
            "[16:34:49] WARNING: /workspace/src/objective/regression_obj.cu:152: reg:linear is now deprecated in favor of reg:squarederror.\n"
          ],
          "name": "stdout"
        },
        {
          "output_type": "stream",
          "text": [
            "/usr/local/lib/python3.6/dist-packages/xgboost/core.py:587: FutureWarning: Series.base is deprecated and will be removed in a future version\n",
            "  if getattr(data, 'base', None) is not None and \\\n"
          ],
          "name": "stderr"
        },
        {
          "output_type": "stream",
          "text": [
            "[16:34:59] WARNING: /workspace/src/objective/regression_obj.cu:152: reg:linear is now deprecated in favor of reg:squarederror.\n"
          ],
          "name": "stdout"
        },
        {
          "output_type": "stream",
          "text": [
            "/usr/local/lib/python3.6/dist-packages/xgboost/core.py:587: FutureWarning: Series.base is deprecated and will be removed in a future version\n",
            "  if getattr(data, 'base', None) is not None and \\\n"
          ],
          "name": "stderr"
        },
        {
          "output_type": "stream",
          "text": [
            "[16:35:10] WARNING: /workspace/src/objective/regression_obj.cu:152: reg:linear is now deprecated in favor of reg:squarederror.\n"
          ],
          "name": "stdout"
        },
        {
          "output_type": "stream",
          "text": [
            "/usr/local/lib/python3.6/dist-packages/xgboost/core.py:587: FutureWarning: Series.base is deprecated and will be removed in a future version\n",
            "  if getattr(data, 'base', None) is not None and \\\n"
          ],
          "name": "stderr"
        },
        {
          "output_type": "stream",
          "text": [
            "[16:35:21] WARNING: /workspace/src/objective/regression_obj.cu:152: reg:linear is now deprecated in favor of reg:squarederror.\n"
          ],
          "name": "stdout"
        },
        {
          "output_type": "stream",
          "text": [
            "/usr/local/lib/python3.6/dist-packages/xgboost/core.py:587: FutureWarning: Series.base is deprecated and will be removed in a future version\n",
            "  if getattr(data, 'base', None) is not None and \\\n"
          ],
          "name": "stderr"
        },
        {
          "output_type": "stream",
          "text": [
            "[16:35:32] WARNING: /workspace/src/objective/regression_obj.cu:152: reg:linear is now deprecated in favor of reg:squarederror.\n"
          ],
          "name": "stdout"
        },
        {
          "output_type": "stream",
          "text": [
            "/usr/local/lib/python3.6/dist-packages/xgboost/core.py:587: FutureWarning: Series.base is deprecated and will be removed in a future version\n",
            "  if getattr(data, 'base', None) is not None and \\\n"
          ],
          "name": "stderr"
        },
        {
          "output_type": "stream",
          "text": [
            "[16:35:42] WARNING: /workspace/src/objective/regression_obj.cu:152: reg:linear is now deprecated in favor of reg:squarederror.\n"
          ],
          "name": "stdout"
        },
        {
          "output_type": "stream",
          "text": [
            "/usr/local/lib/python3.6/dist-packages/xgboost/core.py:587: FutureWarning: Series.base is deprecated and will be removed in a future version\n",
            "  if getattr(data, 'base', None) is not None and \\\n"
          ],
          "name": "stderr"
        },
        {
          "output_type": "stream",
          "text": [
            "[16:35:53] WARNING: /workspace/src/objective/regression_obj.cu:152: reg:linear is now deprecated in favor of reg:squarederror.\n"
          ],
          "name": "stdout"
        },
        {
          "output_type": "stream",
          "text": [
            "/usr/local/lib/python3.6/dist-packages/xgboost/core.py:587: FutureWarning: Series.base is deprecated and will be removed in a future version\n",
            "  if getattr(data, 'base', None) is not None and \\\n"
          ],
          "name": "stderr"
        },
        {
          "output_type": "stream",
          "text": [
            "[16:36:04] WARNING: /workspace/src/objective/regression_obj.cu:152: reg:linear is now deprecated in favor of reg:squarederror.\n"
          ],
          "name": "stdout"
        },
        {
          "output_type": "stream",
          "text": [
            "/usr/local/lib/python3.6/dist-packages/xgboost/core.py:587: FutureWarning: Series.base is deprecated and will be removed in a future version\n",
            "  if getattr(data, 'base', None) is not None and \\\n"
          ],
          "name": "stderr"
        },
        {
          "output_type": "stream",
          "text": [
            "[16:36:14] WARNING: /workspace/src/objective/regression_obj.cu:152: reg:linear is now deprecated in favor of reg:squarederror.\n"
          ],
          "name": "stdout"
        },
        {
          "output_type": "stream",
          "text": [
            "/usr/local/lib/python3.6/dist-packages/xgboost/core.py:587: FutureWarning: Series.base is deprecated and will be removed in a future version\n",
            "  if getattr(data, 'base', None) is not None and \\\n"
          ],
          "name": "stderr"
        },
        {
          "output_type": "stream",
          "text": [
            "[16:36:20] WARNING: /workspace/src/objective/regression_obj.cu:152: reg:linear is now deprecated in favor of reg:squarederror.\n"
          ],
          "name": "stdout"
        },
        {
          "output_type": "stream",
          "text": [
            "/usr/local/lib/python3.6/dist-packages/xgboost/core.py:587: FutureWarning: Series.base is deprecated and will be removed in a future version\n",
            "  if getattr(data, 'base', None) is not None and \\\n"
          ],
          "name": "stderr"
        },
        {
          "output_type": "stream",
          "text": [
            "[16:36:26] WARNING: /workspace/src/objective/regression_obj.cu:152: reg:linear is now deprecated in favor of reg:squarederror.\n"
          ],
          "name": "stdout"
        },
        {
          "output_type": "stream",
          "text": [
            "/usr/local/lib/python3.6/dist-packages/xgboost/core.py:587: FutureWarning: Series.base is deprecated and will be removed in a future version\n",
            "  if getattr(data, 'base', None) is not None and \\\n"
          ],
          "name": "stderr"
        },
        {
          "output_type": "stream",
          "text": [
            "[16:36:32] WARNING: /workspace/src/objective/regression_obj.cu:152: reg:linear is now deprecated in favor of reg:squarederror.\n"
          ],
          "name": "stdout"
        },
        {
          "output_type": "stream",
          "text": [
            "/usr/local/lib/python3.6/dist-packages/xgboost/core.py:587: FutureWarning: Series.base is deprecated and will be removed in a future version\n",
            "  if getattr(data, 'base', None) is not None and \\\n"
          ],
          "name": "stderr"
        },
        {
          "output_type": "stream",
          "text": [
            "[16:36:38] WARNING: /workspace/src/objective/regression_obj.cu:152: reg:linear is now deprecated in favor of reg:squarederror.\n"
          ],
          "name": "stdout"
        },
        {
          "output_type": "stream",
          "text": [
            "/usr/local/lib/python3.6/dist-packages/xgboost/core.py:587: FutureWarning: Series.base is deprecated and will be removed in a future version\n",
            "  if getattr(data, 'base', None) is not None and \\\n"
          ],
          "name": "stderr"
        },
        {
          "output_type": "stream",
          "text": [
            "[16:36:44] WARNING: /workspace/src/objective/regression_obj.cu:152: reg:linear is now deprecated in favor of reg:squarederror.\n"
          ],
          "name": "stdout"
        },
        {
          "output_type": "stream",
          "text": [
            "/usr/local/lib/python3.6/dist-packages/xgboost/core.py:587: FutureWarning: Series.base is deprecated and will be removed in a future version\n",
            "  if getattr(data, 'base', None) is not None and \\\n"
          ],
          "name": "stderr"
        },
        {
          "output_type": "stream",
          "text": [
            "[16:36:51] WARNING: /workspace/src/objective/regression_obj.cu:152: reg:linear is now deprecated in favor of reg:squarederror.\n"
          ],
          "name": "stdout"
        },
        {
          "output_type": "stream",
          "text": [
            "/usr/local/lib/python3.6/dist-packages/xgboost/core.py:587: FutureWarning: Series.base is deprecated and will be removed in a future version\n",
            "  if getattr(data, 'base', None) is not None and \\\n"
          ],
          "name": "stderr"
        },
        {
          "output_type": "stream",
          "text": [
            "[16:36:57] WARNING: /workspace/src/objective/regression_obj.cu:152: reg:linear is now deprecated in favor of reg:squarederror.\n"
          ],
          "name": "stdout"
        },
        {
          "output_type": "stream",
          "text": [
            "/usr/local/lib/python3.6/dist-packages/xgboost/core.py:587: FutureWarning: Series.base is deprecated and will be removed in a future version\n",
            "  if getattr(data, 'base', None) is not None and \\\n"
          ],
          "name": "stderr"
        },
        {
          "output_type": "stream",
          "text": [
            "[16:37:03] WARNING: /workspace/src/objective/regression_obj.cu:152: reg:linear is now deprecated in favor of reg:squarederror.\n"
          ],
          "name": "stdout"
        },
        {
          "output_type": "stream",
          "text": [
            "/usr/local/lib/python3.6/dist-packages/xgboost/core.py:587: FutureWarning: Series.base is deprecated and will be removed in a future version\n",
            "  if getattr(data, 'base', None) is not None and \\\n"
          ],
          "name": "stderr"
        },
        {
          "output_type": "stream",
          "text": [
            "[16:37:09] WARNING: /workspace/src/objective/regression_obj.cu:152: reg:linear is now deprecated in favor of reg:squarederror.\n"
          ],
          "name": "stdout"
        },
        {
          "output_type": "stream",
          "text": [
            "/usr/local/lib/python3.6/dist-packages/xgboost/core.py:587: FutureWarning: Series.base is deprecated and will be removed in a future version\n",
            "  if getattr(data, 'base', None) is not None and \\\n"
          ],
          "name": "stderr"
        },
        {
          "output_type": "stream",
          "text": [
            "[16:37:15] WARNING: /workspace/src/objective/regression_obj.cu:152: reg:linear is now deprecated in favor of reg:squarederror.\n"
          ],
          "name": "stdout"
        },
        {
          "output_type": "stream",
          "text": [
            "/usr/local/lib/python3.6/dist-packages/xgboost/core.py:587: FutureWarning: Series.base is deprecated and will be removed in a future version\n",
            "  if getattr(data, 'base', None) is not None and \\\n"
          ],
          "name": "stderr"
        },
        {
          "output_type": "stream",
          "text": [
            "[16:37:19] WARNING: /workspace/src/objective/regression_obj.cu:152: reg:linear is now deprecated in favor of reg:squarederror.\n"
          ],
          "name": "stdout"
        },
        {
          "output_type": "stream",
          "text": [
            "/usr/local/lib/python3.6/dist-packages/xgboost/core.py:587: FutureWarning: Series.base is deprecated and will be removed in a future version\n",
            "  if getattr(data, 'base', None) is not None and \\\n"
          ],
          "name": "stderr"
        },
        {
          "output_type": "stream",
          "text": [
            "[16:37:22] WARNING: /workspace/src/objective/regression_obj.cu:152: reg:linear is now deprecated in favor of reg:squarederror.\n"
          ],
          "name": "stdout"
        },
        {
          "output_type": "stream",
          "text": [
            "/usr/local/lib/python3.6/dist-packages/xgboost/core.py:587: FutureWarning: Series.base is deprecated and will be removed in a future version\n",
            "  if getattr(data, 'base', None) is not None and \\\n"
          ],
          "name": "stderr"
        },
        {
          "output_type": "stream",
          "text": [
            "[16:37:26] WARNING: /workspace/src/objective/regression_obj.cu:152: reg:linear is now deprecated in favor of reg:squarederror.\n"
          ],
          "name": "stdout"
        },
        {
          "output_type": "stream",
          "text": [
            "/usr/local/lib/python3.6/dist-packages/xgboost/core.py:587: FutureWarning: Series.base is deprecated and will be removed in a future version\n",
            "  if getattr(data, 'base', None) is not None and \\\n"
          ],
          "name": "stderr"
        },
        {
          "output_type": "stream",
          "text": [
            "[16:37:29] WARNING: /workspace/src/objective/regression_obj.cu:152: reg:linear is now deprecated in favor of reg:squarederror.\n"
          ],
          "name": "stdout"
        },
        {
          "output_type": "stream",
          "text": [
            "/usr/local/lib/python3.6/dist-packages/xgboost/core.py:587: FutureWarning: Series.base is deprecated and will be removed in a future version\n",
            "  if getattr(data, 'base', None) is not None and \\\n"
          ],
          "name": "stderr"
        },
        {
          "output_type": "stream",
          "text": [
            "[16:37:33] WARNING: /workspace/src/objective/regression_obj.cu:152: reg:linear is now deprecated in favor of reg:squarederror.\n"
          ],
          "name": "stdout"
        },
        {
          "output_type": "stream",
          "text": [
            "/usr/local/lib/python3.6/dist-packages/xgboost/core.py:587: FutureWarning: Series.base is deprecated and will be removed in a future version\n",
            "  if getattr(data, 'base', None) is not None and \\\n"
          ],
          "name": "stderr"
        },
        {
          "output_type": "stream",
          "text": [
            "[16:37:36] WARNING: /workspace/src/objective/regression_obj.cu:152: reg:linear is now deprecated in favor of reg:squarederror.\n"
          ],
          "name": "stdout"
        },
        {
          "output_type": "stream",
          "text": [
            "/usr/local/lib/python3.6/dist-packages/xgboost/core.py:587: FutureWarning: Series.base is deprecated and will be removed in a future version\n",
            "  if getattr(data, 'base', None) is not None and \\\n"
          ],
          "name": "stderr"
        },
        {
          "output_type": "stream",
          "text": [
            "[16:37:40] WARNING: /workspace/src/objective/regression_obj.cu:152: reg:linear is now deprecated in favor of reg:squarederror.\n"
          ],
          "name": "stdout"
        },
        {
          "output_type": "stream",
          "text": [
            "/usr/local/lib/python3.6/dist-packages/xgboost/core.py:587: FutureWarning: Series.base is deprecated and will be removed in a future version\n",
            "  if getattr(data, 'base', None) is not None and \\\n"
          ],
          "name": "stderr"
        },
        {
          "output_type": "stream",
          "text": [
            "[16:37:43] WARNING: /workspace/src/objective/regression_obj.cu:152: reg:linear is now deprecated in favor of reg:squarederror.\n"
          ],
          "name": "stdout"
        },
        {
          "output_type": "stream",
          "text": [
            "/usr/local/lib/python3.6/dist-packages/xgboost/core.py:587: FutureWarning: Series.base is deprecated and will be removed in a future version\n",
            "  if getattr(data, 'base', None) is not None and \\\n"
          ],
          "name": "stderr"
        },
        {
          "output_type": "stream",
          "text": [
            "[16:37:47] WARNING: /workspace/src/objective/regression_obj.cu:152: reg:linear is now deprecated in favor of reg:squarederror.\n"
          ],
          "name": "stdout"
        },
        {
          "output_type": "stream",
          "text": [
            "/usr/local/lib/python3.6/dist-packages/xgboost/core.py:587: FutureWarning: Series.base is deprecated and will be removed in a future version\n",
            "  if getattr(data, 'base', None) is not None and \\\n",
            "/usr/local/lib/python3.6/dist-packages/xgboost/core.py:588: FutureWarning: Series.base is deprecated and will be removed in a future version\n",
            "  data.base is not None and isinstance(data, np.ndarray) \\\n"
          ],
          "name": "stderr"
        },
        {
          "output_type": "stream",
          "text": [
            "[16:37:50] WARNING: /workspace/src/objective/regression_obj.cu:152: reg:linear is now deprecated in favor of reg:squarederror.\n",
            "{'colsample_bytree': 0.7717015338451563, 'gamma': 1, 'learning-rate': 0.04425048888775232, 'max_depth': 8, 'min_child_weight': 16, 'reg_alpha': 2.28003690043291e-05, 'reg_lambda': 0.0989565666374099, 'subsample': 0.5129005425267605}\n"
          ],
          "name": "stdout"
        }
      ]
    },
    {
      "cell_type": "code",
      "metadata": {
        "pycharm": {
          "name": "#%%\n",
          "is_executing": false
        },
        "id": "OrMLxoBIvPOg",
        "colab_type": "code",
        "colab": {}
      },
      "source": [
        "#let's create this function to make it easier and clean to fit the model and use the cross_val_score and obtain results\n",
        "import time #implementing in this function the time spent on training the model\n",
        "from sklearn import metrics\n",
        "from sklearn.metrics import mean_squared_error\n",
        "from sklearn.model_selection import cross_val_score, KFold\n",
        "\n",
        "def modelfit(alg, dtrain, target, only_predict = False):\n",
        "    #Fit the algorithm on the data\n",
        "    time_start = time.perf_counter() #start counting the time\n",
        "    if not only_predict:\n",
        "        alg.fit(dtrain, target)\n",
        "        \n",
        "    #Predict training set:\n",
        "    dtrain_predictions = alg.predict(dtrain)\n",
        "    \n",
        "    kfolds = KFold(n_splits=10, shuffle=True, random_state=42)\n",
        "    \n",
        "    cv_score = cross_val_score(alg, dtrain,target, cv=kfolds, scoring='neg_mean_squared_error')\n",
        "    cv_score = np.sqrt(-cv_score)\n",
        "    \n",
        "    time_end = time.perf_counter()\n",
        "    \n",
        "    total_time = time_end-time_start\n",
        "    #Print model report:\n",
        "    print(\"\\nModel Report\")\n",
        "    print(\"RMSE :  {:.4f}\".format(np.sqrt(mean_squared_error(target, dtrain_predictions))))\n",
        "    print(\"CV Score : Mean -  %.4f | Std -  %.4f | Min -  %.4f | Max - %.4f\" % (np.mean(cv_score),np.std(cv_score),np.min(cv_score),np.max(cv_score)))\n",
        "    print(\"Amount of time spent during training the model and cross validation: %4.3f seconds\" % (total_time))"
      ],
      "execution_count": 0,
      "outputs": []
    },
    {
      "cell_type": "code",
      "metadata": {
        "id": "VXnR4F3NvlzA",
        "colab_type": "code",
        "colab": {}
      },
      "source": [
        "# Plot feature importance\n",
        "def plot_feature_importance(model, df):\n",
        "    feature_importance = model.feature_importances_[:30]\n",
        "    # make importances relative to max importance\n",
        "    plt.figure(figsize=(20, 20)) #figure size\n",
        "    feature_importance = 100.0 * (feature_importance / feature_importance.max()) #making it a percentage relative to the max value\n",
        "    sorted_idx = np.argsort(feature_importance)\n",
        "    pos = np.arange(sorted_idx.shape[0]) + .5\n",
        "    plt.barh(pos, feature_importance[sorted_idx], align='center')\n",
        "    plt.yticks(pos, df.columns[sorted_idx], fontsize=15) #used train_drop here to show the name of each feature instead of our train_prepared \n",
        "    plt.xlabel('Relative Importance', fontsize=20)\n",
        "    plt.ylabel('Features', fontsize=20)\n",
        "    plt.title('Variable Importance', fontsize=30)"
      ],
      "execution_count": 0,
      "outputs": []
    },
    {
      "cell_type": "code",
      "metadata": {
        "pycharm": {
          "name": "#%%\n",
          "is_executing": true
        },
        "id": "onlfzKqEvPOh",
        "colab_type": "code",
        "outputId": "be93355a-78fe-4907-d734-ae6e28f71479",
        "colab": {
          "base_uri": "https://localhost:8080/",
          "height": 476
        }
      },
      "source": [
        "model_xgb = xgb.XGBRegressor(colsample_bytree=0.7717015338451563, gamma=1, \n",
        "                             learning_rate=0.04425048888775232, max_depth=8, \n",
        "                             min_child_weight=16, n_estimators=2200,\n",
        "                             reg_alpha= 2.28003690043291e-05, reg_lambda=0.0989565666374099,\n",
        "                             subsample=0.5129005425267605, silent=1,\n",
        "                             random_state =7, nthread = -1)\n",
        "modelfit(model_xgb, X, y)"
      ],
      "execution_count": 0,
      "outputs": [
        {
          "output_type": "stream",
          "text": [
            "/usr/local/lib/python3.6/dist-packages/xgboost/core.py:587: FutureWarning: Series.base is deprecated and will be removed in a future version\n",
            "  if getattr(data, 'base', None) is not None and \\\n",
            "/usr/local/lib/python3.6/dist-packages/xgboost/core.py:588: FutureWarning: Series.base is deprecated and will be removed in a future version\n",
            "  data.base is not None and isinstance(data, np.ndarray) \\\n",
            "/usr/local/lib/python3.6/dist-packages/xgboost/core.py:587: FutureWarning: Series.base is deprecated and will be removed in a future version\n",
            "  if getattr(data, 'base', None) is not None and \\\n",
            "/usr/local/lib/python3.6/dist-packages/xgboost/core.py:587: FutureWarning: Series.base is deprecated and will be removed in a future version\n",
            "  if getattr(data, 'base', None) is not None and \\\n",
            "/usr/local/lib/python3.6/dist-packages/xgboost/core.py:587: FutureWarning: Series.base is deprecated and will be removed in a future version\n",
            "  if getattr(data, 'base', None) is not None and \\\n",
            "/usr/local/lib/python3.6/dist-packages/xgboost/core.py:587: FutureWarning: Series.base is deprecated and will be removed in a future version\n",
            "  if getattr(data, 'base', None) is not None and \\\n",
            "/usr/local/lib/python3.6/dist-packages/xgboost/core.py:587: FutureWarning: Series.base is deprecated and will be removed in a future version\n",
            "  if getattr(data, 'base', None) is not None and \\\n",
            "/usr/local/lib/python3.6/dist-packages/xgboost/core.py:587: FutureWarning: Series.base is deprecated and will be removed in a future version\n",
            "  if getattr(data, 'base', None) is not None and \\\n",
            "/usr/local/lib/python3.6/dist-packages/xgboost/core.py:587: FutureWarning: Series.base is deprecated and will be removed in a future version\n",
            "  if getattr(data, 'base', None) is not None and \\\n",
            "/usr/local/lib/python3.6/dist-packages/xgboost/core.py:587: FutureWarning: Series.base is deprecated and will be removed in a future version\n",
            "  if getattr(data, 'base', None) is not None and \\\n",
            "/usr/local/lib/python3.6/dist-packages/xgboost/core.py:587: FutureWarning: Series.base is deprecated and will be removed in a future version\n",
            "  if getattr(data, 'base', None) is not None and \\\n"
          ],
          "name": "stderr"
        },
        {
          "output_type": "stream",
          "text": [
            "\n",
            "Model Report\n",
            "RMSE :  8638.3299\n",
            "CV Score : Mean -  21868.1085 | Std -  4051.2302 | Min -  17257.6006 | Max - 31841.0330\n",
            "Amount of time spent during training the model and cross validation: 2503.584 seconds\n"
          ],
          "name": "stdout"
        }
      ]
    },
    {
      "cell_type": "code",
      "metadata": {
        "id": "cajXlsLD4MMO",
        "colab_type": "code",
        "outputId": "164b1427-f5ea-49ec-e4e5-a6709ce0af7d",
        "colab": {
          "base_uri": "https://localhost:8080/",
          "height": 170
        }
      },
      "source": [
        "!pip install scikit-optimize"
      ],
      "execution_count": 0,
      "outputs": [
        {
          "output_type": "stream",
          "text": [
            "Collecting scikit-optimize\n",
            "\u001b[?25l  Downloading https://files.pythonhosted.org/packages/f4/44/60f82c97d1caa98752c7da2c1681cab5c7a390a0fdd3a55fac672b321cac/scikit_optimize-0.5.2-py2.py3-none-any.whl (74kB)\n",
            "\u001b[K     |████████████████████████████████| 81kB 3.0MB/s \n",
            "\u001b[?25hRequirement already satisfied: scikit-learn>=0.19.1 in /usr/local/lib/python3.6/dist-packages (from scikit-optimize) (0.21.3)\n",
            "Requirement already satisfied: numpy in /usr/local/lib/python3.6/dist-packages (from scikit-optimize) (1.16.5)\n",
            "Requirement already satisfied: scipy>=0.14.0 in /usr/local/lib/python3.6/dist-packages (from scikit-optimize) (1.3.1)\n",
            "Requirement already satisfied: joblib>=0.11 in /usr/local/lib/python3.6/dist-packages (from scikit-learn>=0.19.1->scikit-optimize) (0.13.2)\n",
            "Installing collected packages: scikit-optimize\n",
            "Successfully installed scikit-optimize-0.5.2\n"
          ],
          "name": "stdout"
        }
      ]
    },
    {
      "cell_type": "code",
      "metadata": {
        "id": "R8ewZh-p4mTH",
        "colab_type": "code",
        "outputId": "c9ca3d7a-a759-4326-c309-40fa2c9a2792",
        "colab": {
          "base_uri": "https://localhost:8080/",
          "height": 272
        }
      },
      "source": [
        "!pip install scikit-learn==0.20.3"
      ],
      "execution_count": 0,
      "outputs": [
        {
          "output_type": "stream",
          "text": [
            "Collecting scikit-learn==0.20.3\n",
            "\u001b[?25l  Downloading https://files.pythonhosted.org/packages/5e/82/c0de5839d613b82bddd088599ac0bbfbbbcbd8ca470680658352d2c435bd/scikit_learn-0.20.3-cp36-cp36m-manylinux1_x86_64.whl (5.4MB)\n",
            "\u001b[K     |████████████████████████████████| 5.4MB 2.8MB/s \n",
            "\u001b[?25hRequirement already satisfied: scipy>=0.13.3 in /usr/local/lib/python3.6/dist-packages (from scikit-learn==0.20.3) (1.3.1)\n",
            "Requirement already satisfied: numpy>=1.8.2 in /usr/local/lib/python3.6/dist-packages (from scikit-learn==0.20.3) (1.16.5)\n",
            "Installing collected packages: scikit-learn\n",
            "  Found existing installation: scikit-learn 0.21.3\n",
            "    Uninstalling scikit-learn-0.21.3:\n",
            "      Successfully uninstalled scikit-learn-0.21.3\n",
            "Successfully installed scikit-learn-0.20.3\n"
          ],
          "name": "stdout"
        },
        {
          "output_type": "display_data",
          "data": {
            "application/vnd.colab-display-data+json": {
              "pip_warning": {
                "packages": [
                  "sklearn"
                ]
              }
            }
          },
          "metadata": {
            "tags": []
          }
        }
      ]
    },
    {
      "cell_type": "code",
      "metadata": {
        "id": "rlV0h7JrGZ-G",
        "colab_type": "code",
        "outputId": "4eeabdd6-0745-42cb-f45c-fc575037eb28",
        "colab": {
          "base_uri": "https://localhost:8080/",
          "height": 379
        }
      },
      "source": [
        "train.head(10)"
      ],
      "execution_count": 0,
      "outputs": [
        {
          "output_type": "execute_result",
          "data": {
            "text/html": [
              "<div>\n",
              "<style scoped>\n",
              "    .dataframe tbody tr th:only-of-type {\n",
              "        vertical-align: middle;\n",
              "    }\n",
              "\n",
              "    .dataframe tbody tr th {\n",
              "        vertical-align: top;\n",
              "    }\n",
              "\n",
              "    .dataframe thead th {\n",
              "        text-align: right;\n",
              "    }\n",
              "</style>\n",
              "<table border=\"1\" class=\"dataframe\">\n",
              "  <thead>\n",
              "    <tr style=\"text-align: right;\">\n",
              "      <th></th>\n",
              "      <th>id</th>\n",
              "      <th>Rent</th>\n",
              "      <th>Age</th>\n",
              "      <th>Area</th>\n",
              "      <th>R</th>\n",
              "      <th>K</th>\n",
              "      <th>L</th>\n",
              "      <th>D</th>\n",
              "      <th>min</th>\n",
              "      <th>privatebath</th>\n",
              "      <th>privatetoilet</th>\n",
              "      <th>bathtoilet</th>\n",
              "      <th>sharedtoilet</th>\n",
              "      <th>shower</th>\n",
              "      <th>dryer</th>\n",
              "      <th>washstand</th>\n",
              "      <th>dressing</th>\n",
              "      <th>warmseat</th>\n",
              "      <th>memorial</th>\n",
              "      <th>gasstove</th>\n",
              "      <th>2stovetops</th>\n",
              "      <th>3stovetops</th>\n",
              "      <th>systemkitchen</th>\n",
              "      <th>hotwatersupply</th>\n",
              "      <th>IH</th>\n",
              "      <th>counterkitchen</th>\n",
              "      <th>supermarket</th>\n",
              "      <th>konbini</th>\n",
              "      <th>drugstore</th>\n",
              "      <th>restaurant</th>\n",
              "      <th>hospital</th>\n",
              "      <th>school</th>\n",
              "      <th>metter</th>\n",
              "      <th>aircon</th>\n",
              "      <th>shoesbox</th>\n",
              "      <th>balcony</th>\n",
              "      <th>flooring</th>\n",
              "      <th>ventilation</th>\n",
              "      <th>washingmachine</th>\n",
              "      <th>garbage</th>\n",
              "      <th>elevator</th>\n",
              "      <th>tiled</th>\n",
              "      <th>publicwater</th>\n",
              "      <th>sewage</th>\n",
              "      <th>citygas</th>\n",
              "      <th>internetcompatible</th>\n",
              "      <th>opticalfiber</th>\n",
              "      <th>catv</th>\n",
              "      <th>csantenna</th>\n",
              "      <th>bsantenna</th>\n",
              "      <th>freeusage</th>\n",
              "      <th>Direction_le</th>\n",
              "      <th>Material_le</th>\n",
              "      <th>City_le</th>\n",
              "      <th>Station_le</th>\n",
              "      <th>metter_le</th>\n",
              "    </tr>\n",
              "  </thead>\n",
              "  <tbody>\n",
              "    <tr>\n",
              "      <th>0</th>\n",
              "      <td>1</td>\n",
              "      <td>75000</td>\n",
              "      <td>9</td>\n",
              "      <td>17</td>\n",
              "      <td>0</td>\n",
              "      <td>True</td>\n",
              "      <td>False</td>\n",
              "      <td>False</td>\n",
              "      <td>3</td>\n",
              "      <td>True</td>\n",
              "      <td>True</td>\n",
              "      <td>True</td>\n",
              "      <td>False</td>\n",
              "      <td>True</td>\n",
              "      <td>True</td>\n",
              "      <td>False</td>\n",
              "      <td>False</td>\n",
              "      <td>True</td>\n",
              "      <td>False</td>\n",
              "      <td>True</td>\n",
              "      <td>True</td>\n",
              "      <td>False</td>\n",
              "      <td>True</td>\n",
              "      <td>True</td>\n",
              "      <td>False</td>\n",
              "      <td>False</td>\n",
              "      <td>True</td>\n",
              "      <td>True</td>\n",
              "      <td>True</td>\n",
              "      <td>True</td>\n",
              "      <td>False</td>\n",
              "      <td>True</td>\n",
              "      <td>495</td>\n",
              "      <td>True</td>\n",
              "      <td>True</td>\n",
              "      <td>True</td>\n",
              "      <td>True</td>\n",
              "      <td>False</td>\n",
              "      <td>True</td>\n",
              "      <td>True</td>\n",
              "      <td>True</td>\n",
              "      <td>False</td>\n",
              "      <td>True</td>\n",
              "      <td>True</td>\n",
              "      <td>True</td>\n",
              "      <td>True</td>\n",
              "      <td>False</td>\n",
              "      <td>True</td>\n",
              "      <td>True</td>\n",
              "      <td>True</td>\n",
              "      <td>False</td>\n",
              "      <td>6150</td>\n",
              "      <td>34810</td>\n",
              "      <td>2061</td>\n",
              "      <td>216</td>\n",
              "      <td>47</td>\n",
              "    </tr>\n",
              "    <tr>\n",
              "      <th>1</th>\n",
              "      <td>2</td>\n",
              "      <td>76000</td>\n",
              "      <td>40</td>\n",
              "      <td>13</td>\n",
              "      <td>0</td>\n",
              "      <td>False</td>\n",
              "      <td>False</td>\n",
              "      <td>False</td>\n",
              "      <td>4</td>\n",
              "      <td>False</td>\n",
              "      <td>True</td>\n",
              "      <td>False</td>\n",
              "      <td>False</td>\n",
              "      <td>True</td>\n",
              "      <td>False</td>\n",
              "      <td>False</td>\n",
              "      <td>False</td>\n",
              "      <td>True</td>\n",
              "      <td>False</td>\n",
              "      <td>True</td>\n",
              "      <td>False</td>\n",
              "      <td>False</td>\n",
              "      <td>True</td>\n",
              "      <td>True</td>\n",
              "      <td>False</td>\n",
              "      <td>False</td>\n",
              "      <td>True</td>\n",
              "      <td>False</td>\n",
              "      <td>False</td>\n",
              "      <td>False</td>\n",
              "      <td>False</td>\n",
              "      <td>False</td>\n",
              "      <td>1271</td>\n",
              "      <td>True</td>\n",
              "      <td>True</td>\n",
              "      <td>True</td>\n",
              "      <td>True</td>\n",
              "      <td>False</td>\n",
              "      <td>True</td>\n",
              "      <td>True</td>\n",
              "      <td>True</td>\n",
              "      <td>True</td>\n",
              "      <td>False</td>\n",
              "      <td>False</td>\n",
              "      <td>False</td>\n",
              "      <td>True</td>\n",
              "      <td>False</td>\n",
              "      <td>False</td>\n",
              "      <td>False</td>\n",
              "      <td>False</td>\n",
              "      <td>False</td>\n",
              "      <td>20446</td>\n",
              "      <td>7495</td>\n",
              "      <td>2532</td>\n",
              "      <td>370</td>\n",
              "      <td>4</td>\n",
              "    </tr>\n",
              "    <tr>\n",
              "      <th>2</th>\n",
              "      <td>3</td>\n",
              "      <td>110000</td>\n",
              "      <td>8</td>\n",
              "      <td>19</td>\n",
              "      <td>0</td>\n",
              "      <td>True</td>\n",
              "      <td>False</td>\n",
              "      <td>False</td>\n",
              "      <td>5</td>\n",
              "      <td>True</td>\n",
              "      <td>True</td>\n",
              "      <td>True</td>\n",
              "      <td>False</td>\n",
              "      <td>True</td>\n",
              "      <td>True</td>\n",
              "      <td>True</td>\n",
              "      <td>True</td>\n",
              "      <td>True</td>\n",
              "      <td>False</td>\n",
              "      <td>True</td>\n",
              "      <td>True</td>\n",
              "      <td>False</td>\n",
              "      <td>True</td>\n",
              "      <td>True</td>\n",
              "      <td>False</td>\n",
              "      <td>False</td>\n",
              "      <td>True</td>\n",
              "      <td>True</td>\n",
              "      <td>False</td>\n",
              "      <td>False</td>\n",
              "      <td>False</td>\n",
              "      <td>False</td>\n",
              "      <td>89</td>\n",
              "      <td>True</td>\n",
              "      <td>True</td>\n",
              "      <td>True</td>\n",
              "      <td>True</td>\n",
              "      <td>False</td>\n",
              "      <td>True</td>\n",
              "      <td>True</td>\n",
              "      <td>True</td>\n",
              "      <td>True</td>\n",
              "      <td>True</td>\n",
              "      <td>True</td>\n",
              "      <td>True</td>\n",
              "      <td>True</td>\n",
              "      <td>True</td>\n",
              "      <td>False</td>\n",
              "      <td>True</td>\n",
              "      <td>True</td>\n",
              "      <td>False</td>\n",
              "      <td>20446</td>\n",
              "      <td>34810</td>\n",
              "      <td>1978</td>\n",
              "      <td>360</td>\n",
              "      <td>43</td>\n",
              "    </tr>\n",
              "    <tr>\n",
              "      <th>3</th>\n",
              "      <td>4</td>\n",
              "      <td>150000</td>\n",
              "      <td>27</td>\n",
              "      <td>57</td>\n",
              "      <td>1</td>\n",
              "      <td>True</td>\n",
              "      <td>True</td>\n",
              "      <td>True</td>\n",
              "      <td>8</td>\n",
              "      <td>True</td>\n",
              "      <td>True</td>\n",
              "      <td>True</td>\n",
              "      <td>False</td>\n",
              "      <td>True</td>\n",
              "      <td>False</td>\n",
              "      <td>True</td>\n",
              "      <td>False</td>\n",
              "      <td>True</td>\n",
              "      <td>False</td>\n",
              "      <td>True</td>\n",
              "      <td>False</td>\n",
              "      <td>False</td>\n",
              "      <td>False</td>\n",
              "      <td>True</td>\n",
              "      <td>False</td>\n",
              "      <td>False</td>\n",
              "      <td>True</td>\n",
              "      <td>True</td>\n",
              "      <td>False</td>\n",
              "      <td>False</td>\n",
              "      <td>False</td>\n",
              "      <td>False</td>\n",
              "      <td>225</td>\n",
              "      <td>True</td>\n",
              "      <td>True</td>\n",
              "      <td>True</td>\n",
              "      <td>False</td>\n",
              "      <td>False</td>\n",
              "      <td>True</td>\n",
              "      <td>False</td>\n",
              "      <td>True</td>\n",
              "      <td>False</td>\n",
              "      <td>True</td>\n",
              "      <td>True</td>\n",
              "      <td>True</td>\n",
              "      <td>True</td>\n",
              "      <td>True</td>\n",
              "      <td>False</td>\n",
              "      <td>False</td>\n",
              "      <td>False</td>\n",
              "      <td>False</td>\n",
              "      <td>20446</td>\n",
              "      <td>34810</td>\n",
              "      <td>3542</td>\n",
              "      <td>348</td>\n",
              "      <td>88</td>\n",
              "    </tr>\n",
              "    <tr>\n",
              "      <th>4</th>\n",
              "      <td>5</td>\n",
              "      <td>74000</td>\n",
              "      <td>28</td>\n",
              "      <td>36</td>\n",
              "      <td>1</td>\n",
              "      <td>True</td>\n",
              "      <td>False</td>\n",
              "      <td>True</td>\n",
              "      <td>4</td>\n",
              "      <td>True</td>\n",
              "      <td>True</td>\n",
              "      <td>True</td>\n",
              "      <td>False</td>\n",
              "      <td>True</td>\n",
              "      <td>False</td>\n",
              "      <td>False</td>\n",
              "      <td>False</td>\n",
              "      <td>False</td>\n",
              "      <td>True</td>\n",
              "      <td>False</td>\n",
              "      <td>False</td>\n",
              "      <td>False</td>\n",
              "      <td>False</td>\n",
              "      <td>True</td>\n",
              "      <td>False</td>\n",
              "      <td>False</td>\n",
              "      <td>True</td>\n",
              "      <td>True</td>\n",
              "      <td>False</td>\n",
              "      <td>False</td>\n",
              "      <td>False</td>\n",
              "      <td>False</td>\n",
              "      <td>193</td>\n",
              "      <td>False</td>\n",
              "      <td>False</td>\n",
              "      <td>True</td>\n",
              "      <td>True</td>\n",
              "      <td>False</td>\n",
              "      <td>True</td>\n",
              "      <td>False</td>\n",
              "      <td>False</td>\n",
              "      <td>False</td>\n",
              "      <td>True</td>\n",
              "      <td>True</td>\n",
              "      <td>False</td>\n",
              "      <td>False</td>\n",
              "      <td>False</td>\n",
              "      <td>False</td>\n",
              "      <td>False</td>\n",
              "      <td>False</td>\n",
              "      <td>False</td>\n",
              "      <td>20446</td>\n",
              "      <td>11062</td>\n",
              "      <td>2387</td>\n",
              "      <td>57</td>\n",
              "      <td>63</td>\n",
              "    </tr>\n",
              "    <tr>\n",
              "      <th>5</th>\n",
              "      <td>6</td>\n",
              "      <td>160000</td>\n",
              "      <td>7</td>\n",
              "      <td>47</td>\n",
              "      <td>1</td>\n",
              "      <td>True</td>\n",
              "      <td>True</td>\n",
              "      <td>True</td>\n",
              "      <td>1</td>\n",
              "      <td>True</td>\n",
              "      <td>True</td>\n",
              "      <td>True</td>\n",
              "      <td>False</td>\n",
              "      <td>True</td>\n",
              "      <td>True</td>\n",
              "      <td>True</td>\n",
              "      <td>True</td>\n",
              "      <td>True</td>\n",
              "      <td>False</td>\n",
              "      <td>True</td>\n",
              "      <td>False</td>\n",
              "      <td>True</td>\n",
              "      <td>True</td>\n",
              "      <td>True</td>\n",
              "      <td>False</td>\n",
              "      <td>False</td>\n",
              "      <td>True</td>\n",
              "      <td>True</td>\n",
              "      <td>False</td>\n",
              "      <td>False</td>\n",
              "      <td>False</td>\n",
              "      <td>False</td>\n",
              "      <td>251</td>\n",
              "      <td>True</td>\n",
              "      <td>True</td>\n",
              "      <td>True</td>\n",
              "      <td>True</td>\n",
              "      <td>True</td>\n",
              "      <td>True</td>\n",
              "      <td>False</td>\n",
              "      <td>True</td>\n",
              "      <td>True</td>\n",
              "      <td>True</td>\n",
              "      <td>True</td>\n",
              "      <td>True</td>\n",
              "      <td>True</td>\n",
              "      <td>True</td>\n",
              "      <td>False</td>\n",
              "      <td>False</td>\n",
              "      <td>False</td>\n",
              "      <td>False</td>\n",
              "      <td>9943</td>\n",
              "      <td>34810</td>\n",
              "      <td>1135</td>\n",
              "      <td>212</td>\n",
              "      <td>80</td>\n",
              "    </tr>\n",
              "    <tr>\n",
              "      <th>6</th>\n",
              "      <td>7</td>\n",
              "      <td>78500</td>\n",
              "      <td>10</td>\n",
              "      <td>20</td>\n",
              "      <td>0</td>\n",
              "      <td>True</td>\n",
              "      <td>False</td>\n",
              "      <td>False</td>\n",
              "      <td>3</td>\n",
              "      <td>True</td>\n",
              "      <td>True</td>\n",
              "      <td>True</td>\n",
              "      <td>False</td>\n",
              "      <td>True</td>\n",
              "      <td>True</td>\n",
              "      <td>True</td>\n",
              "      <td>True</td>\n",
              "      <td>True</td>\n",
              "      <td>True</td>\n",
              "      <td>True</td>\n",
              "      <td>True</td>\n",
              "      <td>False</td>\n",
              "      <td>True</td>\n",
              "      <td>True</td>\n",
              "      <td>False</td>\n",
              "      <td>False</td>\n",
              "      <td>True</td>\n",
              "      <td>True</td>\n",
              "      <td>False</td>\n",
              "      <td>False</td>\n",
              "      <td>False</td>\n",
              "      <td>False</td>\n",
              "      <td>812</td>\n",
              "      <td>True</td>\n",
              "      <td>True</td>\n",
              "      <td>True</td>\n",
              "      <td>True</td>\n",
              "      <td>True</td>\n",
              "      <td>True</td>\n",
              "      <td>True</td>\n",
              "      <td>True</td>\n",
              "      <td>False</td>\n",
              "      <td>True</td>\n",
              "      <td>True</td>\n",
              "      <td>True</td>\n",
              "      <td>True</td>\n",
              "      <td>True</td>\n",
              "      <td>True</td>\n",
              "      <td>False</td>\n",
              "      <td>True</td>\n",
              "      <td>False</td>\n",
              "      <td>20446</td>\n",
              "      <td>34810</td>\n",
              "      <td>3522</td>\n",
              "      <td>497</td>\n",
              "      <td>15</td>\n",
              "    </tr>\n",
              "    <tr>\n",
              "      <th>7</th>\n",
              "      <td>8</td>\n",
              "      <td>115000</td>\n",
              "      <td>13</td>\n",
              "      <td>29</td>\n",
              "      <td>0</td>\n",
              "      <td>True</td>\n",
              "      <td>False</td>\n",
              "      <td>False</td>\n",
              "      <td>6</td>\n",
              "      <td>True</td>\n",
              "      <td>True</td>\n",
              "      <td>True</td>\n",
              "      <td>False</td>\n",
              "      <td>False</td>\n",
              "      <td>True</td>\n",
              "      <td>True</td>\n",
              "      <td>True</td>\n",
              "      <td>True</td>\n",
              "      <td>True</td>\n",
              "      <td>True</td>\n",
              "      <td>True</td>\n",
              "      <td>False</td>\n",
              "      <td>True</td>\n",
              "      <td>False</td>\n",
              "      <td>False</td>\n",
              "      <td>False</td>\n",
              "      <td>True</td>\n",
              "      <td>True</td>\n",
              "      <td>False</td>\n",
              "      <td>False</td>\n",
              "      <td>False</td>\n",
              "      <td>False</td>\n",
              "      <td>334</td>\n",
              "      <td>True</td>\n",
              "      <td>True</td>\n",
              "      <td>True</td>\n",
              "      <td>True</td>\n",
              "      <td>True</td>\n",
              "      <td>True</td>\n",
              "      <td>True</td>\n",
              "      <td>True</td>\n",
              "      <td>True</td>\n",
              "      <td>True</td>\n",
              "      <td>True</td>\n",
              "      <td>True</td>\n",
              "      <td>False</td>\n",
              "      <td>True</td>\n",
              "      <td>True</td>\n",
              "      <td>True</td>\n",
              "      <td>True</td>\n",
              "      <td>False</td>\n",
              "      <td>20446</td>\n",
              "      <td>34810</td>\n",
              "      <td>1942</td>\n",
              "      <td>391</td>\n",
              "      <td>66</td>\n",
              "    </tr>\n",
              "    <tr>\n",
              "      <th>8</th>\n",
              "      <td>9</td>\n",
              "      <td>184327</td>\n",
              "      <td>40</td>\n",
              "      <td>62</td>\n",
              "      <td>1</td>\n",
              "      <td>True</td>\n",
              "      <td>False</td>\n",
              "      <td>True</td>\n",
              "      <td>2</td>\n",
              "      <td>True</td>\n",
              "      <td>True</td>\n",
              "      <td>True</td>\n",
              "      <td>False</td>\n",
              "      <td>False</td>\n",
              "      <td>False</td>\n",
              "      <td>True</td>\n",
              "      <td>False</td>\n",
              "      <td>False</td>\n",
              "      <td>True</td>\n",
              "      <td>True</td>\n",
              "      <td>False</td>\n",
              "      <td>True</td>\n",
              "      <td>True</td>\n",
              "      <td>True</td>\n",
              "      <td>False</td>\n",
              "      <td>False</td>\n",
              "      <td>False</td>\n",
              "      <td>False</td>\n",
              "      <td>False</td>\n",
              "      <td>False</td>\n",
              "      <td>False</td>\n",
              "      <td>False</td>\n",
              "      <td>350</td>\n",
              "      <td>True</td>\n",
              "      <td>False</td>\n",
              "      <td>True</td>\n",
              "      <td>True</td>\n",
              "      <td>False</td>\n",
              "      <td>True</td>\n",
              "      <td>False</td>\n",
              "      <td>False</td>\n",
              "      <td>False</td>\n",
              "      <td>True</td>\n",
              "      <td>False</td>\n",
              "      <td>True</td>\n",
              "      <td>False</td>\n",
              "      <td>False</td>\n",
              "      <td>False</td>\n",
              "      <td>False</td>\n",
              "      <td>False</td>\n",
              "      <td>False</td>\n",
              "      <td>2742</td>\n",
              "      <td>4792</td>\n",
              "      <td>1814</td>\n",
              "      <td>78</td>\n",
              "      <td>18673</td>\n",
              "    </tr>\n",
              "    <tr>\n",
              "      <th>9</th>\n",
              "      <td>10</td>\n",
              "      <td>76000</td>\n",
              "      <td>35</td>\n",
              "      <td>27</td>\n",
              "      <td>0</td>\n",
              "      <td>True</td>\n",
              "      <td>False</td>\n",
              "      <td>True</td>\n",
              "      <td>7</td>\n",
              "      <td>True</td>\n",
              "      <td>True</td>\n",
              "      <td>True</td>\n",
              "      <td>False</td>\n",
              "      <td>True</td>\n",
              "      <td>False</td>\n",
              "      <td>True</td>\n",
              "      <td>False</td>\n",
              "      <td>False</td>\n",
              "      <td>False</td>\n",
              "      <td>True</td>\n",
              "      <td>True</td>\n",
              "      <td>False</td>\n",
              "      <td>False</td>\n",
              "      <td>True</td>\n",
              "      <td>False</td>\n",
              "      <td>False</td>\n",
              "      <td>False</td>\n",
              "      <td>False</td>\n",
              "      <td>False</td>\n",
              "      <td>False</td>\n",
              "      <td>False</td>\n",
              "      <td>False</td>\n",
              "      <td>350</td>\n",
              "      <td>True</td>\n",
              "      <td>False</td>\n",
              "      <td>True</td>\n",
              "      <td>True</td>\n",
              "      <td>False</td>\n",
              "      <td>True</td>\n",
              "      <td>False</td>\n",
              "      <td>False</td>\n",
              "      <td>False</td>\n",
              "      <td>True</td>\n",
              "      <td>False</td>\n",
              "      <td>True</td>\n",
              "      <td>False</td>\n",
              "      <td>True</td>\n",
              "      <td>True</td>\n",
              "      <td>False</td>\n",
              "      <td>False</td>\n",
              "      <td>False</td>\n",
              "      <td>6150</td>\n",
              "      <td>7495</td>\n",
              "      <td>3270</td>\n",
              "      <td>250</td>\n",
              "      <td>18673</td>\n",
              "    </tr>\n",
              "  </tbody>\n",
              "</table>\n",
              "</div>"
            ],
            "text/plain": [
              "   id    Rent  Age  Area  R      K      L      D  min  privatebath  \\\n",
              "0   1   75000    9    17  0   True  False  False    3         True   \n",
              "1   2   76000   40    13  0  False  False  False    4        False   \n",
              "2   3  110000    8    19  0   True  False  False    5         True   \n",
              "3   4  150000   27    57  1   True   True   True    8         True   \n",
              "4   5   74000   28    36  1   True  False   True    4         True   \n",
              "5   6  160000    7    47  1   True   True   True    1         True   \n",
              "6   7   78500   10    20  0   True  False  False    3         True   \n",
              "7   8  115000   13    29  0   True  False  False    6         True   \n",
              "8   9  184327   40    62  1   True  False   True    2         True   \n",
              "9  10   76000   35    27  0   True  False   True    7         True   \n",
              "\n",
              "   privatetoilet  bathtoilet  sharedtoilet  shower  dryer  washstand  \\\n",
              "0           True        True         False    True   True      False   \n",
              "1           True       False         False    True  False      False   \n",
              "2           True        True         False    True   True       True   \n",
              "3           True        True         False    True  False       True   \n",
              "4           True        True         False    True  False      False   \n",
              "5           True        True         False    True   True       True   \n",
              "6           True        True         False    True   True       True   \n",
              "7           True        True         False   False   True       True   \n",
              "8           True        True         False   False  False       True   \n",
              "9           True        True         False    True  False       True   \n",
              "\n",
              "   dressing  warmseat  memorial  gasstove  2stovetops  3stovetops  \\\n",
              "0     False      True     False      True        True       False   \n",
              "1     False      True     False      True       False       False   \n",
              "2      True      True     False      True        True       False   \n",
              "3     False      True     False      True       False       False   \n",
              "4     False     False      True     False       False       False   \n",
              "5      True      True     False      True       False        True   \n",
              "6      True      True      True      True        True       False   \n",
              "7      True      True      True      True        True       False   \n",
              "8     False     False      True      True       False        True   \n",
              "9     False     False     False      True        True       False   \n",
              "\n",
              "   systemkitchen  hotwatersupply     IH  counterkitchen  supermarket  konbini  \\\n",
              "0           True            True  False           False         True     True   \n",
              "1           True            True  False           False         True    False   \n",
              "2           True            True  False           False         True     True   \n",
              "3          False            True  False           False         True     True   \n",
              "4          False            True  False           False         True     True   \n",
              "5           True            True  False           False         True     True   \n",
              "6           True            True  False           False         True     True   \n",
              "7           True           False  False           False         True     True   \n",
              "8           True            True  False           False        False    False   \n",
              "9          False            True  False           False        False    False   \n",
              "\n",
              "   drugstore  restaurant  hospital  school  metter  aircon  shoesbox  balcony  \\\n",
              "0       True        True     False    True     495    True      True     True   \n",
              "1      False       False     False   False    1271    True      True     True   \n",
              "2      False       False     False   False      89    True      True     True   \n",
              "3      False       False     False   False     225    True      True     True   \n",
              "4      False       False     False   False     193   False     False     True   \n",
              "5      False       False     False   False     251    True      True     True   \n",
              "6      False       False     False   False     812    True      True     True   \n",
              "7      False       False     False   False     334    True      True     True   \n",
              "8      False       False     False   False     350    True     False     True   \n",
              "9      False       False     False   False     350    True     False     True   \n",
              "\n",
              "   flooring  ventilation  washingmachine  garbage  elevator  tiled  \\\n",
              "0      True        False            True     True      True  False   \n",
              "1      True        False            True     True      True   True   \n",
              "2      True        False            True     True      True   True   \n",
              "3     False        False            True    False      True  False   \n",
              "4      True        False            True    False     False  False   \n",
              "5      True         True            True    False      True   True   \n",
              "6      True         True            True     True      True  False   \n",
              "7      True         True            True     True      True   True   \n",
              "8      True        False            True    False     False  False   \n",
              "9      True        False            True    False     False  False   \n",
              "\n",
              "   publicwater  sewage  citygas  internetcompatible  opticalfiber   catv  \\\n",
              "0         True    True     True                True         False   True   \n",
              "1        False   False    False                True         False  False   \n",
              "2         True    True     True                True          True  False   \n",
              "3         True    True     True                True          True  False   \n",
              "4         True    True    False               False         False  False   \n",
              "5         True    True     True                True          True  False   \n",
              "6         True    True     True                True          True   True   \n",
              "7         True    True     True               False          True   True   \n",
              "8         True   False     True               False         False  False   \n",
              "9         True   False     True               False          True   True   \n",
              "\n",
              "   csantenna  bsantenna  freeusage  Direction_le  Material_le  City_le  \\\n",
              "0       True       True      False          6150        34810     2061   \n",
              "1      False      False      False         20446         7495     2532   \n",
              "2       True       True      False         20446        34810     1978   \n",
              "3      False      False      False         20446        34810     3542   \n",
              "4      False      False      False         20446        11062     2387   \n",
              "5      False      False      False          9943        34810     1135   \n",
              "6      False       True      False         20446        34810     3522   \n",
              "7       True       True      False         20446        34810     1942   \n",
              "8      False      False      False          2742         4792     1814   \n",
              "9      False      False      False          6150         7495     3270   \n",
              "\n",
              "   Station_le  metter_le  \n",
              "0         216         47  \n",
              "1         370          4  \n",
              "2         360         43  \n",
              "3         348         88  \n",
              "4          57         63  \n",
              "5         212         80  \n",
              "6         497         15  \n",
              "7         391         66  \n",
              "8          78      18673  \n",
              "9         250      18673  "
            ]
          },
          "metadata": {
            "tags": []
          },
          "execution_count": 91
        }
      ]
    },
    {
      "cell_type": "code",
      "metadata": {
        "id": "AeVSZt5GvnxS",
        "colab_type": "code",
        "outputId": "837cd2f1-1657-4c61-8c8c-1059ca42a7fe",
        "colab": {
          "base_uri": "https://localhost:8080/",
          "height": 1000
        }
      },
      "source": [
        "plot_feature_importance(model_xgb, X)\n"
      ],
      "execution_count": 0,
      "outputs": [
        {
          "output_type": "display_data",
          "data": {
            "image/png": "[encoded data removed]",
            "text/plain": [
              "<Figure size 1440x1440 with 1 Axes>"
            ]
          },
          "metadata": {
            "tags": []
          }
        }
      ]
    },
    {
      "cell_type": "code",
      "metadata": {
        "id": "Ny-Fs-wexvnQ",
        "colab_type": "code",
        "outputId": "7365c6f0-4f9c-483b-d239-d33ce3ddde74",
        "colab": {
          "base_uri": "https://localhost:8080/",
          "height": 102
        }
      },
      "source": [
        "model_lgb = lgb.LGBMRegressor(objective='regression',num_leaves=5,\n",
        "                              learning_rate=0.05, n_estimators=720,\n",
        "                              max_bin = 55, bagging_fraction = 0.8,\n",
        "                              bagging_freq = 5, feature_fraction = 0.2319,\n",
        "                              feature_fraction_seed=9, bagging_seed=9,\n",
        "                              min_data_in_leaf =6, min_sum_hessian_in_leaf = 11)\n",
        "modelfit(model_lgb, X, y)"
      ],
      "execution_count": 0,
      "outputs": [
        {
          "output_type": "stream",
          "text": [
            "\n",
            "Model Report\n",
            "RMSE :  24985.5207\n",
            "CV Score : Mean -  27749.1043 | Std -  4880.0551 | Min -  21692.5936 | Max - 37656.8892\n",
            "Amount of time spent during training the model and cross validation: 20.687 seconds\n"
          ],
          "name": "stdout"
        }
      ]
    },
    {
      "cell_type": "code",
      "metadata": {
        "id": "COt5SmZcxy-i",
        "colab_type": "code",
        "outputId": "badb9070-a773-4584-ddc4-69530cd660a7",
        "colab": {
          "base_uri": "https://localhost:8080/",
          "height": 1000
        }
      },
      "source": [
        "plot_feature_importance(model_lgb, X)\n"
      ],
      "execution_count": 0,
      "outputs": [
        {
          "output_type": "display_data",
          "data": {
            "image/png": "[encoded data removed]",
            "text/plain": [
              "<Figure size 1440x1440 with 1 Axes>"
            ]
          },
          "metadata": {
            "tags": []
          }
        }
      ]
    },
    {
      "cell_type": "code",
      "metadata": {
        "pycharm": {
          "name": "#%%\n",
          "is_executing": true
        },
        "id": "5PKG_zSEvPOi",
        "colab_type": "code",
        "outputId": "4083be03-c679-46f3-f6cb-fe6cf644e72f",
        "colab": {
          "base_uri": "https://localhost:8080/",
          "height": 666
        }
      },
      "source": [
        "\n",
        "y_pred = np.zeros(X_test.shape[0], dtype='float32')\n",
        "train_pred = np.zeros(X.shape[0], dtype='float32')\n",
        "\n",
        "cv_score = 0\n",
        "X_train, X_valid, y_train, y_valid = train_test_split(X, y, random_state=0)\n",
        "train_data = lgb.Dataset(X_train, y_train)\n",
        "valid_data = lgb.Dataset(X_valid, y_valid)\n",
        "params = {\n",
        "    'objective': 'regression',\n",
        "    'metric': 'rmse',\n",
        "    'learning_rate': 0.05,\n",
        "    'max_depth': -1,\n",
        "    'num_leaves': 5,\n",
        "    'max_bin': 55,\n",
        "    'colsample_bytree': 0.8,\n",
        "    'subsample': 0.8,\n",
        "    'nthread': -1,\n",
        "    'bagging_freq': 5,\n",
        "    'verbose': -1,\n",
        "    'seed': 1,\n",
        "}\n",
        "N_FOLDS = 5\n",
        "MAX_BOOST_ROUNDS = 700\n",
        "LEARNING_RATE = .0022\n",
        "model = lgb.cv(params, train_data, num_boost_round=MAX_BOOST_ROUNDS, nfold=N_FOLDS, \n",
        "                    verbose_eval=20, early_stopping_rounds=40)\n"
      ],
      "execution_count": 0,
      "outputs": [
        {
          "output_type": "stream",
          "text": [
            "/usr/local/lib/python3.6/dist-packages/sklearn/model_selection/_split.py:657: Warning: The least populated class in y has only 1 members, which is too few. The minimum number of members in any class cannot be less than n_splits=5.\n",
            "  % (min_groups, self.n_splits)), Warning)\n"
          ],
          "name": "stderr"
        },
        {
          "output_type": "stream",
          "text": [
            "[20]\tcv_agg's rmse: 63099.8 + 1758.33\n",
            "[40]\tcv_agg's rmse: 55015.1 + 1630.76\n",
            "[60]\tcv_agg's rmse: 48342.3 + 1504.03\n",
            "[80]\tcv_agg's rmse: 43127.6 + 1460.44\n",
            "[100]\tcv_agg's rmse: 38963.8 + 1491.87\n",
            "[120]\tcv_agg's rmse: 35775.6 + 1571.75\n",
            "[140]\tcv_agg's rmse: 33386.1 + 1661.91\n",
            "[160]\tcv_agg's rmse: 31377.7 + 1788.06\n",
            "[180]\tcv_agg's rmse: 29878.2 + 1879.82\n",
            "[200]\tcv_agg's rmse: 28712.1 + 1987.97\n",
            "[220]\tcv_agg's rmse: 27761.2 + 2102.73\n",
            "[240]\tcv_agg's rmse: 27061.8 + 2176.71\n",
            "[260]\tcv_agg's rmse: 26448.2 + 2240.68\n",
            "[280]\tcv_agg's rmse: 25927.9 + 2305.19\n",
            "[300]\tcv_agg's rmse: 25541.6 + 2374.47\n",
            "[320]\tcv_agg's rmse: 25201.6 + 2408.25\n",
            "[340]\tcv_agg's rmse: 24909.5 + 2430.94\n",
            "[360]\tcv_agg's rmse: 24692.2 + 2467.13\n",
            "[380]\tcv_agg's rmse: 24495.1 + 2479.55\n",
            "[400]\tcv_agg's rmse: 24303.3 + 2497.69\n",
            "[420]\tcv_agg's rmse: 24159.5 + 2536.39\n",
            "[440]\tcv_agg's rmse: 24024.4 + 2561.7\n",
            "[460]\tcv_agg's rmse: 23923.9 + 2575.03\n",
            "[480]\tcv_agg's rmse: 23770.7 + 2572.99\n",
            "[500]\tcv_agg's rmse: 23665.4 + 2588.33\n",
            "[520]\tcv_agg's rmse: 23566.1 + 2581.84\n",
            "[540]\tcv_agg's rmse: 23463.7 + 2585.71\n",
            "[560]\tcv_agg's rmse: 23371.4 + 2578.36\n",
            "[580]\tcv_agg's rmse: 23314.9 + 2584.85\n",
            "[600]\tcv_agg's rmse: 23275.7 + 2600.71\n",
            "[620]\tcv_agg's rmse: 23230.5 + 2611.85\n",
            "[640]\tcv_agg's rmse: 23181.6 + 2616.62\n",
            "[660]\tcv_agg's rmse: 23115.2 + 2612.57\n",
            "[680]\tcv_agg's rmse: 23062.5 + 2608.79\n",
            "[700]\tcv_agg's rmse: 23000.9 + 2604.4\n"
          ],
          "name": "stdout"
        }
      ]
    },
    {
      "cell_type": "code",
      "metadata": {
        "pycharm": {
          "name": "#%%\n",
          "is_executing": true
        },
        "id": "f4u5d2aKvPOk",
        "colab_type": "code",
        "colab": {}
      },
      "source": [
        "submit = pd.read_csv('sample_submit.csv', names=('id', 'Rent'))\n",
        "submit['Rent'] = model_xgb.predict(X_test)\n",
        "submit.head(10)\n",
        "submit.to_csv('submission.csv', header=False, index=False)"
      ],
      "execution_count": 0,
      "outputs": []
    },
    {
      "cell_type": "code",
      "metadata": {
        "id": "dehkva1-HMml",
        "colab_type": "code",
        "outputId": "4ced7561-41e3-46a4-a1ad-a1edbe1be179",
        "colab": {
          "base_uri": "https://localhost:8080/",
          "height": 359
        }
      },
      "source": [
        "submit.head(10)"
      ],
      "execution_count": 0,
      "outputs": [
        {
          "output_type": "execute_result",
          "data": {
            "text/html": [
              "<div>\n",
              "<style scoped>\n",
              "    .dataframe tbody tr th:only-of-type {\n",
              "        vertical-align: middle;\n",
              "    }\n",
              "\n",
              "    .dataframe tbody tr th {\n",
              "        vertical-align: top;\n",
              "    }\n",
              "\n",
              "    .dataframe thead th {\n",
              "        text-align: right;\n",
              "    }\n",
              "</style>\n",
              "<table border=\"1\" class=\"dataframe\">\n",
              "  <thead>\n",
              "    <tr style=\"text-align: right;\">\n",
              "      <th></th>\n",
              "      <th>id</th>\n",
              "      <th>Rent</th>\n",
              "    </tr>\n",
              "  </thead>\n",
              "  <tbody>\n",
              "    <tr>\n",
              "      <th>0</th>\n",
              "      <td>31471</td>\n",
              "      <td>120801.023438</td>\n",
              "    </tr>\n",
              "    <tr>\n",
              "      <th>1</th>\n",
              "      <td>31472</td>\n",
              "      <td>116773.148438</td>\n",
              "    </tr>\n",
              "    <tr>\n",
              "      <th>2</th>\n",
              "      <td>31473</td>\n",
              "      <td>77042.406250</td>\n",
              "    </tr>\n",
              "    <tr>\n",
              "      <th>3</th>\n",
              "      <td>31474</td>\n",
              "      <td>55664.562500</td>\n",
              "    </tr>\n",
              "    <tr>\n",
              "      <th>4</th>\n",
              "      <td>31475</td>\n",
              "      <td>118792.515625</td>\n",
              "    </tr>\n",
              "    <tr>\n",
              "      <th>5</th>\n",
              "      <td>31476</td>\n",
              "      <td>71040.585938</td>\n",
              "    </tr>\n",
              "    <tr>\n",
              "      <th>6</th>\n",
              "      <td>31477</td>\n",
              "      <td>94932.515625</td>\n",
              "    </tr>\n",
              "    <tr>\n",
              "      <th>7</th>\n",
              "      <td>31478</td>\n",
              "      <td>93855.500000</td>\n",
              "    </tr>\n",
              "    <tr>\n",
              "      <th>8</th>\n",
              "      <td>31479</td>\n",
              "      <td>83917.718750</td>\n",
              "    </tr>\n",
              "    <tr>\n",
              "      <th>9</th>\n",
              "      <td>31480</td>\n",
              "      <td>121846.296875</td>\n",
              "    </tr>\n",
              "  </tbody>\n",
              "</table>\n",
              "</div>"
            ],
            "text/plain": [
              "      id           Rent\n",
              "0  31471  120801.023438\n",
              "1  31472  116773.148438\n",
              "2  31473   77042.406250\n",
              "3  31474   55664.562500\n",
              "4  31475  118792.515625\n",
              "5  31476   71040.585938\n",
              "6  31477   94932.515625\n",
              "7  31478   93855.500000\n",
              "8  31479   83917.718750\n",
              "9  31480  121846.296875"
            ]
          },
          "metadata": {
            "tags": []
          },
          "execution_count": 93
        }
      ]
    },
    {
      "cell_type": "code",
      "metadata": {
        "pycharm": {
          "name": "#%%\n",
          "is_executing": true
        },
        "id": "U7etYtfCvPOl",
        "colab_type": "code",
        "colab": {}
      },
      "source": [
        "\"\"\"\n",
        "train['Rent'] = 1\n",
        "test['Rent'] = 0\n",
        "df = pd.concat([train, test])\n",
        "X = df.drop(['id', 'Rent'], axis=1)\n",
        "y = df['Rent']\n",
        "\"\"\""
      ],
      "execution_count": 0,
      "outputs": []
    },
    {
      "cell_type": "code",
      "metadata": {
        "pycharm": {
          "name": "#%%\n",
          "is_executing": true
        },
        "id": "_WaZMKKnvPOm",
        "colab_type": "code",
        "colab": {}
      },
      "source": [
        "\"\"\"\n",
        "from sklearn.metrics import mean_squared_error, roc_auc_score\n",
        "X_train, X_valid, y_train, y_valid = train_test_split(X, y, random_state=0)\n",
        "train_data = lgb.Dataset(X_train, y_train)\n",
        "valid_data = lgb.Dataset(X_valid, y_valid)\n",
        "params = {\n",
        "    'objective': 'binary',\n",
        "    'metric': 'auc',\n",
        "    'learning_rate': 0.01,\n",
        "    'max_depth': -1,\n",
        "    'num_leaves': 255,\n",
        "    'max_bin': 255,\n",
        "    'colsample_bytree': 0.8,\n",
        "    'subsample': 0.8,\n",
        "    'nthread': -1,\n",
        "    'bagging_freq': 1,\n",
        "    'verbose': -1,\n",
        "    'seed': 1,\n",
        "}\n",
        "model = lgb.train(params, train_data, valid_sets=[train_data, valid_data],\n",
        "                  num_boost_round=5000, early_stopping_rounds=200,\n",
        "                  verbose_eval=200)\n",
        "\n",
        "y_val_pred = model.predict(X_valid)\n",
        "val_score =roc_auc_score(y_valid, y_val_pred)\n",
        "print('AUC:', val_score)\n",
        "\"\"\""
      ],
      "execution_count": 0,
      "outputs": []
    },
    {
      "cell_type": "code",
      "metadata": {
        "pycharm": {
          "name": "#%%\n",
          "is_executing": true
        },
        "id": "YrgPAJScvPOo",
        "colab_type": "code",
        "outputId": "00672d7e-f1e2-45fd-e5ae-fd05d89d3504",
        "colab": {
          "base_uri": "https://localhost:8080/",
          "height": 231
        }
      },
      "source": [
        "\n",
        "feature_importances = pd.DataFrame()\n",
        "feature_importances['feature'] = X.columns\n",
        "feature_importances['importance'] = model.feature_importance()\n",
        "feature_importances = feature_importances.sort_values(by='importance', ascending=False)\n",
        "feature_importances\n"
      ],
      "execution_count": 0,
      "outputs": [
        {
          "output_type": "error",
          "ename": "AttributeError",
          "evalue": "ignored",
          "traceback": [
            "\u001b[0;31m---------------------------------------------------------------------------\u001b[0m",
            "\u001b[0;31mAttributeError\u001b[0m                            Traceback (most recent call last)",
            "\u001b[0;32m<ipython-input-93-fb1c569af57f>\u001b[0m in \u001b[0;36m<module>\u001b[0;34m()\u001b[0m\n\u001b[1;32m      2\u001b[0m \u001b[0mfeature_importances\u001b[0m \u001b[0;34m=\u001b[0m \u001b[0mpd\u001b[0m\u001b[0;34m.\u001b[0m\u001b[0mDataFrame\u001b[0m\u001b[0;34m(\u001b[0m\u001b[0;34m)\u001b[0m\u001b[0;34m\u001b[0m\u001b[0;34m\u001b[0m\u001b[0m\n\u001b[1;32m      3\u001b[0m \u001b[0mfeature_importances\u001b[0m\u001b[0;34m[\u001b[0m\u001b[0;34m'feature'\u001b[0m\u001b[0;34m]\u001b[0m \u001b[0;34m=\u001b[0m \u001b[0mX\u001b[0m\u001b[0;34m.\u001b[0m\u001b[0mcolumns\u001b[0m\u001b[0;34m\u001b[0m\u001b[0;34m\u001b[0m\u001b[0m\n\u001b[0;32m----> 4\u001b[0;31m \u001b[0mfeature_importances\u001b[0m\u001b[0;34m[\u001b[0m\u001b[0;34m'importance'\u001b[0m\u001b[0;34m]\u001b[0m \u001b[0;34m=\u001b[0m \u001b[0mmodel\u001b[0m\u001b[0;34m.\u001b[0m\u001b[0mfeature_importance\u001b[0m\u001b[0;34m(\u001b[0m\u001b[0;34m)\u001b[0m\u001b[0;34m\u001b[0m\u001b[0;34m\u001b[0m\u001b[0m\n\u001b[0m\u001b[1;32m      5\u001b[0m \u001b[0mfeature_importances\u001b[0m \u001b[0;34m=\u001b[0m \u001b[0mfeature_importances\u001b[0m\u001b[0;34m.\u001b[0m\u001b[0msort_values\u001b[0m\u001b[0;34m(\u001b[0m\u001b[0mby\u001b[0m\u001b[0;34m=\u001b[0m\u001b[0;34m'importance'\u001b[0m\u001b[0;34m,\u001b[0m \u001b[0mascending\u001b[0m\u001b[0;34m=\u001b[0m\u001b[0;32mFalse\u001b[0m\u001b[0;34m)\u001b[0m\u001b[0;34m\u001b[0m\u001b[0;34m\u001b[0m\u001b[0m\n\u001b[1;32m      6\u001b[0m \u001b[0mfeature_importances\u001b[0m\u001b[0;34m\u001b[0m\u001b[0;34m\u001b[0m\u001b[0m\n",
            "\u001b[0;31mAttributeError\u001b[0m: 'dict' object has no attribute 'feature_importance'"
          ]
        }
      ]
    },
    {
      "cell_type": "code",
      "metadata": {
        "pycharm": {
          "name": "#%%\n",
          "is_executing": true
        },
        "id": "-VbcFvVDvPOp",
        "colab_type": "code",
        "colab": {}
      },
      "source": [
        "\"\"\"\n",
        "plt.figure(figsize=(16, 16))\n",
        "sns.barplot(data=feature_importances.head(50), x='importance', y='feature')\n",
        "\"\"\""
      ],
      "execution_count": 0,
      "outputs": []
    },
    {
      "cell_type": "code",
      "metadata": {
        "pycharm": {
          "name": "#%%\n",
          "is_executing": true
        },
        "id": "XvCd6PODvPOq",
        "colab_type": "code",
        "colab": {}
      },
      "source": [
        "\n"
      ],
      "execution_count": 0,
      "outputs": []
    }
  ]
}