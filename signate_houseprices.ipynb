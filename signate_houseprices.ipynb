{
 "cells": [
  {
   "cell_type": "code",
   "execution_count": 1,
   "metadata": {
    "collapsed": true,
    "pycharm": {
     "is_executing": false
    }
   },
   "outputs": [
    {
     "name": "stderr",
     "text": [
      "Duplicate key in file 'C:\\\\Users\\\\AnhNQ\\\\.matplotlib\\\\matplotlibrc' line #623.\n"
     ],
     "output_type": "stream"
    }
   ],
   "source": [
    "import numpy as np\n",
    "import pandas as pd\n",
    "pd.set_option('max_columns', 105)\n",
    "import matplotlib.pyplot as plt\n",
    "import seaborn as sns\n",
    "from scipy import stats\n",
    "%matplotlib inline\n",
    "sns.set()\n",
    "from sklearn.linear_model import LogisticRegression  # for Logistic Regression algorithm\n",
    "from sklearn.model_selection import train_test_split #to split the dataset for training and testing\n",
    "from sklearn.neighbors import KNeighborsClassifier  # for K nearest neighbours\n",
    "from sklearn import svm  #for Support Vector Machine (SVM) Algorithm\n",
    "from sklearn import metrics #for checking the model accuracy\n",
    "from sklearn.metrics import mean_squared_error #for checking the model accuracy\n",
    "from sklearn.tree import DecisionTreeClassifier #for using Decision Tree Algoithm\n",
    "from sklearn.linear_model import ElasticNet, Lasso,  BayesianRidge, LassoLarsIC\n",
    "from sklearn.ensemble import RandomForestRegressor,  GradientBoostingRegressor\n",
    "from sklearn.model_selection import KFold, cross_val_score, train_test_split\n",
    "from sklearn.metrics import mean_squared_error\n",
    "import xgboost as xgb\n",
    "import lightgbm as lgb\n"
   ]
  },
  {
   "cell_type": "code",
   "execution_count": 2,
   "outputs": [],
   "source": [
    "train = pd.read_csv(\"train.csv\")\n",
    "test = pd.read_csv(\"test.csv\")"
   ],
   "metadata": {
    "collapsed": false,
    "pycharm": {
     "name": "#%%\n",
     "is_executing": false
    }
   }
  },
  {
   "cell_type": "code",
   "execution_count": 3,
   "outputs": [],
   "source": [
    "train = train.rename(columns={'賃料':'Rent', '契約期間':'Contract', '間取り':'Type', \n",
    "                              '築年数':'Age', '駐車場':'Parking', '室内設備':'Facility', \n",
    "                              '放送・通信':'Internet', '周辺環境':'Surround', '建物構造':'Material', \n",
    "                              '面積':'Area', 'キッチン':'Kitchen', '所在地':'Location',\n",
    "                              'バス・トイレ':'Bath', '所在階':'Floor', 'アクセス':'Access', \n",
    "                              '方角':'Direction'})\n",
    "test = test.rename(columns={'契約期間':'Contract', '間取り':'Type', \n",
    "                              '築年数':'Age', '駐車場':'Parking', '室内設備':'Facility', \n",
    "                              '放送・通信':'Internet', '周辺環境':'Surround', '建物構造':'Material', \n",
    "                              '面積':'Area', 'キッチン':'Kitchen', '所在地':'Location',\n",
    "                              'バス・トイレ':'Bath', '所在階':'Floor', 'アクセス':'Access', \n",
    "                              '方角':'Direction'})"
   ],
   "metadata": {
    "collapsed": false,
    "pycharm": {
     "name": "#%%\n",
     "is_executing": false
    }
   }
  },
  {
   "cell_type": "code",
   "execution_count": 4,
   "outputs": [
    {
     "data": {
      "text/plain": "東京都板橋区板橋３丁目1-8         54\n東京都世田谷区太子堂２丁目          53\n東京都足立区新田１丁目            47\n東京都中野区白鷺２丁目1-21        45\n東京都中央区日本橋馬喰町２丁目4-12    44\n                       ..\n東京都渋谷区代々木４丁目52-11       1\n東京都江東区門前仲町１丁目１６－６       1\n東京都港区白金１丁目9-4           1\n東京都大田区上池台１丁目14-11       1\n東京都葛飾区東金町６丁目２４－１４       1\nName: Location, Length: 11333, dtype: int64"
     },
     "metadata": {},
     "output_type": "execute_result",
     "execution_count": 4
    }
   ],
   "source": [
    "train['Location'].value_counts()"
   ],
   "metadata": {
    "collapsed": false,
    "pycharm": {
     "name": "#%%\n",
     "is_executing": false
    }
   }
  },
  {
   "cell_type": "code",
   "execution_count": 5,
   "outputs": [],
   "source": [
    "train_test_data = [train, test] # combining train and test dataset\n",
    "for dataset in train_test_data:\n",
    "    dataset['City'] = dataset['Location'].str.extract('(千代田区|中央区|港区|新宿区|文京区|'\n",
    "                                                 '台東区|墨田区|江東区|品川区|目黒区|'\n",
    "                                                 '大田区|世田谷区|渋谷区|中野区|杉並区|'\n",
    "                                                 '豊島区|北区|荒川区|板橋区|練馬区|足立区|葛飾区|江戸川区)')"
   ],
   "metadata": {
    "collapsed": false,
    "pycharm": {
     "name": "#%%\n",
     "is_executing": false
    }
   }
  },
  {
   "cell_type": "code",
   "execution_count": 6,
   "outputs": [
    {
     "data": {
      "text/plain": "世田谷区    3023\n足立区     2191\n大田区     2000\n杉並区     1769\n練馬区     1752\n江戸川区    1702\n板橋区     1624\n港区      1513\n江東区     1508\n中央区     1279\n品川区     1272\n豊島区     1271\n新宿区     1223\n葛飾区     1212\n中野区     1211\n北区      1045\n目黒区     1023\n墨田区     1010\n渋谷区      985\n台東区      932\n文京区      892\n荒川区      576\n千代田区     457\nName: City, dtype: int64"
     },
     "metadata": {},
     "output_type": "execute_result",
     "execution_count": 6
    }
   ],
   "source": [
    "train['City'].value_counts()"
   ],
   "metadata": {
    "collapsed": false,
    "pycharm": {
     "name": "#%%\n",
     "is_executing": false
    }
   }
  },
  {
   "cell_type": "code",
   "execution_count": 7,
   "outputs": [],
   "source": [
    "train['City'].fillna('東京都板橋区板橋',inplace=True)"
   ],
   "metadata": {
    "collapsed": false,
    "pycharm": {
     "name": "#%%\n",
     "is_executing": false
    }
   }
  },
  {
   "cell_type": "code",
   "execution_count": 8,
   "outputs": [
    {
     "data": {
      "text/plain": "    City           Rent\n16    港区  214061.744878\n4   千代田区  182706.236324\n1    中央区  180887.865520\n15   渋谷区  171839.786802\n17   目黒区  145674.389052\n10   新宿区  130573.957482\n9    文京区  128562.070628\n5    台東区  127625.944206\n14   江東区  126217.110743\n6    品川区  124609.473270\n19   荒川区  116817.881944\n7    墨田区  116201.346535\n0   世田谷区  113781.270261\n21   豊島区  110916.884343\n8    大田区  106981.675000\n2    中野区  101578.398018\n3     北区   99506.602871\n11   杉並区   97708.174675\n18   練馬区   92724.943493\n12   板橋区   90003.879310\n13  江戸川区   86592.302585\n22   足立区   85872.540849\n20   葛飾区   79114.657591",
      "text/html": "<div>\n<style scoped>\n    .dataframe tbody tr th:only-of-type {\n        vertical-align: middle;\n    }\n\n    .dataframe tbody tr th {\n        vertical-align: top;\n    }\n\n    .dataframe thead th {\n        text-align: right;\n    }\n</style>\n<table border=\"1\" class=\"dataframe\">\n  <thead>\n    <tr style=\"text-align: right;\">\n      <th></th>\n      <th>City</th>\n      <th>Rent</th>\n    </tr>\n  </thead>\n  <tbody>\n    <tr>\n      <td>16</td>\n      <td>港区</td>\n      <td>214061.744878</td>\n    </tr>\n    <tr>\n      <td>4</td>\n      <td>千代田区</td>\n      <td>182706.236324</td>\n    </tr>\n    <tr>\n      <td>1</td>\n      <td>中央区</td>\n      <td>180887.865520</td>\n    </tr>\n    <tr>\n      <td>15</td>\n      <td>渋谷区</td>\n      <td>171839.786802</td>\n    </tr>\n    <tr>\n      <td>17</td>\n      <td>目黒区</td>\n      <td>145674.389052</td>\n    </tr>\n    <tr>\n      <td>10</td>\n      <td>新宿区</td>\n      <td>130573.957482</td>\n    </tr>\n    <tr>\n      <td>9</td>\n      <td>文京区</td>\n      <td>128562.070628</td>\n    </tr>\n    <tr>\n      <td>5</td>\n      <td>台東区</td>\n      <td>127625.944206</td>\n    </tr>\n    <tr>\n      <td>14</td>\n      <td>江東区</td>\n      <td>126217.110743</td>\n    </tr>\n    <tr>\n      <td>6</td>\n      <td>品川区</td>\n      <td>124609.473270</td>\n    </tr>\n    <tr>\n      <td>19</td>\n      <td>荒川区</td>\n      <td>116817.881944</td>\n    </tr>\n    <tr>\n      <td>7</td>\n      <td>墨田区</td>\n      <td>116201.346535</td>\n    </tr>\n    <tr>\n      <td>0</td>\n      <td>世田谷区</td>\n      <td>113781.270261</td>\n    </tr>\n    <tr>\n      <td>21</td>\n      <td>豊島区</td>\n      <td>110916.884343</td>\n    </tr>\n    <tr>\n      <td>8</td>\n      <td>大田区</td>\n      <td>106981.675000</td>\n    </tr>\n    <tr>\n      <td>2</td>\n      <td>中野区</td>\n      <td>101578.398018</td>\n    </tr>\n    <tr>\n      <td>3</td>\n      <td>北区</td>\n      <td>99506.602871</td>\n    </tr>\n    <tr>\n      <td>11</td>\n      <td>杉並区</td>\n      <td>97708.174675</td>\n    </tr>\n    <tr>\n      <td>18</td>\n      <td>練馬区</td>\n      <td>92724.943493</td>\n    </tr>\n    <tr>\n      <td>12</td>\n      <td>板橋区</td>\n      <td>90003.879310</td>\n    </tr>\n    <tr>\n      <td>13</td>\n      <td>江戸川区</td>\n      <td>86592.302585</td>\n    </tr>\n    <tr>\n      <td>22</td>\n      <td>足立区</td>\n      <td>85872.540849</td>\n    </tr>\n    <tr>\n      <td>20</td>\n      <td>葛飾区</td>\n      <td>79114.657591</td>\n    </tr>\n  </tbody>\n</table>\n</div>"
     },
     "metadata": {},
     "output_type": "execute_result",
     "execution_count": 8
    }
   ],
   "source": [
    "train[['City', 'Rent']].groupby(['City'], as_index=False).mean().sort_values(by=\"Rent\",ascending=False)"
   ],
   "metadata": {
    "collapsed": false,
    "pycharm": {
     "name": "#%%\n",
     "is_executing": false
    }
   }
  },
  {
   "cell_type": "code",
   "execution_count": 9,
   "outputs": [],
   "source": [
    "for dataset in train_test_data:\n",
    "    dataset['R'] = dataset['Type'].str.extract('([0-9])')\n",
    "    dataset['K'] = dataset['Type'].str.extract('(K)')\n",
    "    dataset['L'] = dataset['Type'].str.extract('(L)')\n",
    "    dataset['D'] = dataset['Type'].str.extract('(D)')\n",
    "    dataset['S'] = dataset['Type'].str.extract('(S)')\n"
   ],
   "metadata": {
    "collapsed": false,
    "pycharm": {
     "name": "#%%\n",
     "is_executing": false
    }
   }
  },
  {
   "cell_type": "code",
   "execution_count": 10,
   "outputs": [],
   "source": [
    "for dataset in train_test_data:\n",
    "    dataset['K'] = dataset['K'].apply(lambda x: True if x == 'K' else False)\n",
    "    dataset['D'] = dataset['D'].apply(lambda x: True if x == 'D' else False)\n",
    "    dataset['L'] = dataset['L'].apply(lambda x: True if x == 'L' else False)\n",
    "    dataset['S'] = dataset['S'].apply(lambda x: True if x == 'S' else False)"
   ],
   "metadata": {
    "collapsed": false,
    "pycharm": {
     "name": "#%%\n",
     "is_executing": false
    }
   }
  },
  {
   "cell_type": "code",
   "execution_count": 11,
   "outputs": [
    {
     "data": {
      "text/plain": "   id  R      K      D      L      S\n0   1  1   True  False  False  False\n1   2  1  False  False  False  False\n2   3  1   True  False  False  False\n3   4  2   True   True   True  False\n4   5  2   True   True  False  False\n5   6  2   True   True   True  False\n6   7  1   True  False  False  False\n7   8  1   True  False  False  False\n8   9  2   True   True  False  False\n9  10  1   True   True  False  False",
      "text/html": "<div>\n<style scoped>\n    .dataframe tbody tr th:only-of-type {\n        vertical-align: middle;\n    }\n\n    .dataframe tbody tr th {\n        vertical-align: top;\n    }\n\n    .dataframe thead th {\n        text-align: right;\n    }\n</style>\n<table border=\"1\" class=\"dataframe\">\n  <thead>\n    <tr style=\"text-align: right;\">\n      <th></th>\n      <th>id</th>\n      <th>R</th>\n      <th>K</th>\n      <th>D</th>\n      <th>L</th>\n      <th>S</th>\n    </tr>\n  </thead>\n  <tbody>\n    <tr>\n      <td>0</td>\n      <td>1</td>\n      <td>1</td>\n      <td>True</td>\n      <td>False</td>\n      <td>False</td>\n      <td>False</td>\n    </tr>\n    <tr>\n      <td>1</td>\n      <td>2</td>\n      <td>1</td>\n      <td>False</td>\n      <td>False</td>\n      <td>False</td>\n      <td>False</td>\n    </tr>\n    <tr>\n      <td>2</td>\n      <td>3</td>\n      <td>1</td>\n      <td>True</td>\n      <td>False</td>\n      <td>False</td>\n      <td>False</td>\n    </tr>\n    <tr>\n      <td>3</td>\n      <td>4</td>\n      <td>2</td>\n      <td>True</td>\n      <td>True</td>\n      <td>True</td>\n      <td>False</td>\n    </tr>\n    <tr>\n      <td>4</td>\n      <td>5</td>\n      <td>2</td>\n      <td>True</td>\n      <td>True</td>\n      <td>False</td>\n      <td>False</td>\n    </tr>\n    <tr>\n      <td>5</td>\n      <td>6</td>\n      <td>2</td>\n      <td>True</td>\n      <td>True</td>\n      <td>True</td>\n      <td>False</td>\n    </tr>\n    <tr>\n      <td>6</td>\n      <td>7</td>\n      <td>1</td>\n      <td>True</td>\n      <td>False</td>\n      <td>False</td>\n      <td>False</td>\n    </tr>\n    <tr>\n      <td>7</td>\n      <td>8</td>\n      <td>1</td>\n      <td>True</td>\n      <td>False</td>\n      <td>False</td>\n      <td>False</td>\n    </tr>\n    <tr>\n      <td>8</td>\n      <td>9</td>\n      <td>2</td>\n      <td>True</td>\n      <td>True</td>\n      <td>False</td>\n      <td>False</td>\n    </tr>\n    <tr>\n      <td>9</td>\n      <td>10</td>\n      <td>1</td>\n      <td>True</td>\n      <td>True</td>\n      <td>False</td>\n      <td>False</td>\n    </tr>\n  </tbody>\n</table>\n</div>"
     },
     "metadata": {},
     "output_type": "execute_result",
     "execution_count": 11
    }
   ],
   "source": [
    "train[['id','R','K','D','L','S']].groupby(['id','R'],as_index=False).mean().head(10)"
   ],
   "metadata": {
    "collapsed": false,
    "pycharm": {
     "name": "#%%\n",
     "is_executing": false
    }
   }
  },
  {
   "cell_type": "code",
   "execution_count": 12,
   "outputs": [
    {
     "data": {
      "text/plain": "0年1ヶ月      983\n新築         889\n0年0ヶ月      704\n0年2ヶ月      644\n0年3ヶ月      508\n          ... \n56年5ヶ月       1\n57年1ヶ月       1\n63年10ヶ月      1\n60年9ヶ月       1\n62年7ヶ月       1\nName: Age, Length: 746, dtype: int64"
     },
     "metadata": {},
     "output_type": "execute_result",
     "execution_count": 12
    }
   ],
   "source": [
    "train['Age'].value_counts()"
   ],
   "metadata": {
    "collapsed": false,
    "pycharm": {
     "name": "#%%\n",
     "is_executing": false
    }
   }
  },
  {
   "cell_type": "code",
   "execution_count": 13,
   "outputs": [],
   "source": [
    "for dataset in train_test_data:\n",
    "    dataset['Age'] = dataset['Age'].str.replace('0年([0-9])*ヶ月', '1年', regex=True)\n",
    "    dataset['Age'] = dataset['Age'].str.replace('新築', '0年', regex=True)"
   ],
   "metadata": {
    "collapsed": false,
    "pycharm": {
     "name": "#%%\n",
     "is_executing": false
    }
   }
  },
  {
   "cell_type": "code",
   "execution_count": 14,
   "outputs": [
    {
     "data": {
      "text/plain": "1年         4508\n0年          889\n31年         850\n11年         725\n21年         435\n           ... \n64年7ヶ月        1\n52年0ヶ月        1\n57年11ヶ月       1\n71年           1\n58年3ヶ月        1\nName: Age, Length: 673, dtype: int64"
     },
     "metadata": {},
     "output_type": "execute_result",
     "execution_count": 14
    }
   ],
   "source": [
    "train['Age'].value_counts()"
   ],
   "metadata": {
    "collapsed": false,
    "pycharm": {
     "name": "#%%\n",
     "is_executing": false
    }
   }
  },
  {
   "cell_type": "code",
   "execution_count": 15,
   "outputs": [],
   "source": [
    "for dataset in train_test_data:\n",
    "    dataset['Age'] = dataset['Age'].str.extract('([0-9]*年)')\n",
    "    dataset['Age'] = dataset['Age'].str.extract('([0-9]*)')"
   ],
   "metadata": {
    "collapsed": false,
    "pycharm": {
     "name": "#%%\n",
     "is_executing": false
    }
   }
  },
  {
   "cell_type": "code",
   "execution_count": 16,
   "outputs": [
    {
     "data": {
      "text/plain": "0"
     },
     "metadata": {},
     "output_type": "execute_result",
     "execution_count": 16
    }
   ],
   "source": [
    "train['Age'].isnull().sum()"
   ],
   "metadata": {
    "collapsed": false,
    "pycharm": {
     "name": "#%%\n",
     "is_executing": false
    }
   }
  },
  {
   "cell_type": "code",
   "execution_count": 17,
   "outputs": [],
   "source": [
    "train['Direction'].fillna('南',inplace=True)"
   ],
   "metadata": {
    "collapsed": false,
    "pycharm": {
     "name": "#%%\n",
     "is_executing": false
    }
   }
  },
  {
   "cell_type": "code",
   "execution_count": 18,
   "outputs": [
    {
     "data": {
      "text/plain": "  Direction           Rent\n0         北  126057.842319\n1        北東  127517.737320\n2        北西  135791.875566\n3         南  110610.190084\n4        南東  131210.768238\n5        南西  126737.894481\n6         東  113991.111311\n7         西  116873.421510",
      "text/html": "<div>\n<style scoped>\n    .dataframe tbody tr th:only-of-type {\n        vertical-align: middle;\n    }\n\n    .dataframe tbody tr th {\n        vertical-align: top;\n    }\n\n    .dataframe thead th {\n        text-align: right;\n    }\n</style>\n<table border=\"1\" class=\"dataframe\">\n  <thead>\n    <tr style=\"text-align: right;\">\n      <th></th>\n      <th>Direction</th>\n      <th>Rent</th>\n    </tr>\n  </thead>\n  <tbody>\n    <tr>\n      <td>0</td>\n      <td>北</td>\n      <td>126057.842319</td>\n    </tr>\n    <tr>\n      <td>1</td>\n      <td>北東</td>\n      <td>127517.737320</td>\n    </tr>\n    <tr>\n      <td>2</td>\n      <td>北西</td>\n      <td>135791.875566</td>\n    </tr>\n    <tr>\n      <td>3</td>\n      <td>南</td>\n      <td>110610.190084</td>\n    </tr>\n    <tr>\n      <td>4</td>\n      <td>南東</td>\n      <td>131210.768238</td>\n    </tr>\n    <tr>\n      <td>5</td>\n      <td>南西</td>\n      <td>126737.894481</td>\n    </tr>\n    <tr>\n      <td>6</td>\n      <td>東</td>\n      <td>113991.111311</td>\n    </tr>\n    <tr>\n      <td>7</td>\n      <td>西</td>\n      <td>116873.421510</td>\n    </tr>\n  </tbody>\n</table>\n</div>"
     },
     "metadata": {},
     "output_type": "execute_result",
     "execution_count": 18
    }
   ],
   "source": [
    "train[['Direction', 'Rent']].groupby(['Direction'], as_index=False).mean()"
   ],
   "metadata": {
    "collapsed": false,
    "pycharm": {
     "name": "#%%\n",
     "is_executing": false
    }
   }
  },
  {
   "cell_type": "code",
   "execution_count": 19,
   "outputs": [],
   "source": [
    "for dataset in train_test_data:\n",
    "    dataset['Area'] = dataset['Area'].str.extract('([0-9]*)')"
   ],
   "metadata": {
    "collapsed": false,
    "pycharm": {
     "name": "#%%\n",
     "is_executing": false
    }
   }
  },
  {
   "cell_type": "code",
   "execution_count": 20,
   "outputs": [
    {
     "data": {
      "text/plain": "25     3382\n20     1483\n26     1289\n40     1246\n22     1149\n       ... \n270       1\n172       1\n164       1\n132       1\n232       1\nName: Area, Length: 174, dtype: int64"
     },
     "metadata": {},
     "output_type": "execute_result",
     "execution_count": 20
    }
   ],
   "source": [
    "train['Area'].value_counts()"
   ],
   "metadata": {
    "collapsed": false,
    "pycharm": {
     "name": "#%%\n",
     "is_executing": false
    }
   }
  },
  {
   "cell_type": "code",
   "execution_count": 21,
   "outputs": [
    {
     "data": {
      "text/plain": "    Area       Rent\n80   217  2500000.0\n101  341  1660000.0\n86   232  1450000.0\n83   223  1300000.0\n28   125  1300000.0\n57   163  1200000.0\n82   221  1120000.0\n65   171  1100000.0\n75   192  1100000.0\n68   176  1100000.0",
      "text/html": "<div>\n<style scoped>\n    .dataframe tbody tr th:only-of-type {\n        vertical-align: middle;\n    }\n\n    .dataframe tbody tr th {\n        vertical-align: top;\n    }\n\n    .dataframe thead th {\n        text-align: right;\n    }\n</style>\n<table border=\"1\" class=\"dataframe\">\n  <thead>\n    <tr style=\"text-align: right;\">\n      <th></th>\n      <th>Area</th>\n      <th>Rent</th>\n    </tr>\n  </thead>\n  <tbody>\n    <tr>\n      <td>80</td>\n      <td>217</td>\n      <td>2500000.0</td>\n    </tr>\n    <tr>\n      <td>101</td>\n      <td>341</td>\n      <td>1660000.0</td>\n    </tr>\n    <tr>\n      <td>86</td>\n      <td>232</td>\n      <td>1450000.0</td>\n    </tr>\n    <tr>\n      <td>83</td>\n      <td>223</td>\n      <td>1300000.0</td>\n    </tr>\n    <tr>\n      <td>28</td>\n      <td>125</td>\n      <td>1300000.0</td>\n    </tr>\n    <tr>\n      <td>57</td>\n      <td>163</td>\n      <td>1200000.0</td>\n    </tr>\n    <tr>\n      <td>82</td>\n      <td>221</td>\n      <td>1120000.0</td>\n    </tr>\n    <tr>\n      <td>65</td>\n      <td>171</td>\n      <td>1100000.0</td>\n    </tr>\n    <tr>\n      <td>75</td>\n      <td>192</td>\n      <td>1100000.0</td>\n    </tr>\n    <tr>\n      <td>68</td>\n      <td>176</td>\n      <td>1100000.0</td>\n    </tr>\n  </tbody>\n</table>\n</div>"
     },
     "metadata": {},
     "output_type": "execute_result",
     "execution_count": 21
    }
   ],
   "source": [
    "train[['Area', 'Rent']].groupby(['Area'], as_index=False).mean().sort_values(by=\"Rent\",ascending=False).head(10)"
   ],
   "metadata": {
    "collapsed": false,
    "pycharm": {
     "name": "#%%\n",
     "is_executing": false
    }
   }
  },
  {
   "cell_type": "code",
   "execution_count": 22,
   "outputs": [],
   "source": [
    "for dataset in train_test_data:\n",
    "    dataset['Floor'] = dataset['Floor'].str.extract('([0-9]*階／)')\n",
    "    dataset['Floor'] = dataset['Floor'].str.extract('([0-9]*)')"
   ],
   "metadata": {
    "collapsed": false,
    "pycharm": {
     "name": "#%%\n",
     "is_executing": false
    }
   }
  },
  {
   "cell_type": "code",
   "execution_count": 23,
   "outputs": [],
   "source": [
    "train['Floor'].fillna(2,inplace=True)"
   ],
   "metadata": {
    "collapsed": false,
    "pycharm": {
     "name": "#%%\n",
     "is_executing": false
    }
   }
  },
  {
   "cell_type": "code",
   "execution_count": 24,
   "outputs": [
    {
     "data": {
      "text/plain": "   Floor           Rent\n38    43  648250.000000\n44    50  620000.000000\n46    53  505000.000000\n31    37  428000.000000\n33    39  393250.000000\n37    42  384285.714286\n30    36  379600.000000\n32    38  376812.500000\n36    41  330000.000000\n21    28  327066.666667",
      "text/html": "<div>\n<style scoped>\n    .dataframe tbody tr th:only-of-type {\n        vertical-align: middle;\n    }\n\n    .dataframe tbody tr th {\n        vertical-align: top;\n    }\n\n    .dataframe thead th {\n        text-align: right;\n    }\n</style>\n<table border=\"1\" class=\"dataframe\">\n  <thead>\n    <tr style=\"text-align: right;\">\n      <th></th>\n      <th>Floor</th>\n      <th>Rent</th>\n    </tr>\n  </thead>\n  <tbody>\n    <tr>\n      <td>38</td>\n      <td>43</td>\n      <td>648250.000000</td>\n    </tr>\n    <tr>\n      <td>44</td>\n      <td>50</td>\n      <td>620000.000000</td>\n    </tr>\n    <tr>\n      <td>46</td>\n      <td>53</td>\n      <td>505000.000000</td>\n    </tr>\n    <tr>\n      <td>31</td>\n      <td>37</td>\n      <td>428000.000000</td>\n    </tr>\n    <tr>\n      <td>33</td>\n      <td>39</td>\n      <td>393250.000000</td>\n    </tr>\n    <tr>\n      <td>37</td>\n      <td>42</td>\n      <td>384285.714286</td>\n    </tr>\n    <tr>\n      <td>30</td>\n      <td>36</td>\n      <td>379600.000000</td>\n    </tr>\n    <tr>\n      <td>32</td>\n      <td>38</td>\n      <td>376812.500000</td>\n    </tr>\n    <tr>\n      <td>36</td>\n      <td>41</td>\n      <td>330000.000000</td>\n    </tr>\n    <tr>\n      <td>21</td>\n      <td>28</td>\n      <td>327066.666667</td>\n    </tr>\n  </tbody>\n</table>\n</div>"
     },
     "metadata": {},
     "output_type": "execute_result",
     "execution_count": 24
    }
   ],
   "source": [
    "train[['Floor', 'Rent']].groupby(['Floor'], as_index=False).mean().sort_values(by=\"Rent\",ascending=False).head(10)"
   ],
   "metadata": {
    "collapsed": false,
    "pycharm": {
     "name": "#%%\n",
     "is_executing": false
    }
   }
  },
  {
   "cell_type": "code",
   "execution_count": 25,
   "outputs": [
    {
     "data": {
      "text/plain": "RC（鉄筋コンクリート）                   17505\n木造                              5512\n鉄骨造                             3726\nSRC（鉄骨鉄筋コンクリート）                 2429\n軽量鉄骨                            1812\nALC（軽量気泡コンクリート）                  297\nその他                              136\nPC（プレキャスト・コンクリート（鉄筋コンクリート））       46\nHPC（プレキャスト・コンクリート（重量鉄骨））           4\nブロック                               3\nName: Material, dtype: int64"
     },
     "metadata": {},
     "output_type": "execute_result",
     "execution_count": 25
    }
   ],
   "source": [
    "train['Material'].value_counts()"
   ],
   "metadata": {
    "collapsed": false,
    "pycharm": {
     "name": "#%%\n",
     "is_executing": false
    }
   }
  },
  {
   "cell_type": "code",
   "execution_count": 26,
   "outputs": [
    {
     "data": {
      "text/plain": "                      Material           Rent\n4              SRC（鉄骨鉄筋コンクリート）  142525.408399\n3                 RC（鉄筋コンクリート）  134366.134704\n0              ALC（軽量気泡コンクリート）  107103.703704\n2  PC（プレキャスト・コンクリート（鉄筋コンクリート））  106195.652174\n8                         軽量鉄骨   94458.160044\n1     HPC（プレキャスト・コンクリート（重量鉄骨））   93000.000000\n9                          鉄骨造   91993.971014\n7                           木造   83823.202286\n5                          その他   81724.448529\n6                         ブロック   60000.000000",
      "text/html": "<div>\n<style scoped>\n    .dataframe tbody tr th:only-of-type {\n        vertical-align: middle;\n    }\n\n    .dataframe tbody tr th {\n        vertical-align: top;\n    }\n\n    .dataframe thead th {\n        text-align: right;\n    }\n</style>\n<table border=\"1\" class=\"dataframe\">\n  <thead>\n    <tr style=\"text-align: right;\">\n      <th></th>\n      <th>Material</th>\n      <th>Rent</th>\n    </tr>\n  </thead>\n  <tbody>\n    <tr>\n      <td>4</td>\n      <td>SRC（鉄骨鉄筋コンクリート）</td>\n      <td>142525.408399</td>\n    </tr>\n    <tr>\n      <td>3</td>\n      <td>RC（鉄筋コンクリート）</td>\n      <td>134366.134704</td>\n    </tr>\n    <tr>\n      <td>0</td>\n      <td>ALC（軽量気泡コンクリート）</td>\n      <td>107103.703704</td>\n    </tr>\n    <tr>\n      <td>2</td>\n      <td>PC（プレキャスト・コンクリート（鉄筋コンクリート））</td>\n      <td>106195.652174</td>\n    </tr>\n    <tr>\n      <td>8</td>\n      <td>軽量鉄骨</td>\n      <td>94458.160044</td>\n    </tr>\n    <tr>\n      <td>1</td>\n      <td>HPC（プレキャスト・コンクリート（重量鉄骨））</td>\n      <td>93000.000000</td>\n    </tr>\n    <tr>\n      <td>9</td>\n      <td>鉄骨造</td>\n      <td>91993.971014</td>\n    </tr>\n    <tr>\n      <td>7</td>\n      <td>木造</td>\n      <td>83823.202286</td>\n    </tr>\n    <tr>\n      <td>5</td>\n      <td>その他</td>\n      <td>81724.448529</td>\n    </tr>\n    <tr>\n      <td>6</td>\n      <td>ブロック</td>\n      <td>60000.000000</td>\n    </tr>\n  </tbody>\n</table>\n</div>"
     },
     "metadata": {},
     "output_type": "execute_result",
     "execution_count": 26
    }
   ],
   "source": [
    "train[['Material', 'Rent']].groupby(['Material'], as_index=False).mean().sort_values(by=\"Rent\",ascending=False).head(10)\n"
   ],
   "metadata": {
    "collapsed": false,
    "pycharm": {
     "name": "#%%\n",
     "is_executing": false
    }
   }
  },
  {
   "cell_type": "code",
   "execution_count": 27,
   "outputs": [
    {
     "data": {
      "text/plain": "2年間                             22555\n2年間\\t※この物件は\\t定期借家\\tです。            931\n5年間\\t※この物件は\\t定期借家\\tです。            240\n3年間\\t※この物件は\\t定期借家\\tです。            230\n1年間                                87\n                                ...  \n4年8ヶ月間\\t※この物件は\\t定期借家\\tです。           1\n2022年5月まで\\t※この物件は\\t定期借家\\tです。        1\n2021年1月まで\\t※この物件は\\t定期借家\\tです。        1\n1年6ヶ月間\\t※この物件は\\t定期借家\\tです。           1\n2020年1月まで\\t※この物件は\\t定期借家\\tです。        1\nName: Contract, Length: 66, dtype: int64"
     },
     "metadata": {},
     "output_type": "execute_result",
     "execution_count": 27
    }
   ],
   "source": [
    "train['Contract'].value_counts()"
   ],
   "metadata": {
    "collapsed": false,
    "pycharm": {
     "name": "#%%\n",
     "is_executing": false
    }
   }
  },
  {
   "cell_type": "code",
   "execution_count": 28,
   "outputs": [],
   "source": [
    "for dataset in train_test_data:\n",
    "    dataset['period'] = dataset['Contract'].str.extract('([0-9]*年[0-9]*月まで)')\n",
    "    dataset['month'] = dataset['Contract'].str.extract('([0-9]*ヶ月)')"
   ],
   "metadata": {
    "collapsed": false,
    "pycharm": {
     "name": "#%%\n",
     "is_executing": false
    }
   }
  },
  {
   "cell_type": "code",
   "execution_count": 29,
   "outputs": [
    {
     "data": {
      "text/plain": "2ヶ月     11\n6ヶ月      7\n9ヶ月      3\n8ヶ月      2\n10ヶ月     2\n7ヶ月      2\n3ヶ月      1\n4ヶ月      1\n1ヶ月      1\n5ヶ月      1\nName: month, dtype: int64"
     },
     "metadata": {},
     "output_type": "execute_result",
     "execution_count": 29
    }
   ],
   "source": [
    "train['month'].value_counts()"
   ],
   "metadata": {
    "collapsed": false,
    "pycharm": {
     "name": "#%%\n",
     "is_executing": false
    }
   }
  },
  {
   "cell_type": "code",
   "execution_count": 30,
   "outputs": [
    {
     "data": {
      "text/plain": "2022年3月まで     9\n2021年3月まで     8\n2020年5月まで     7\n2020年3月まで     6\n2022年6月まで     6\n2020年6月まで     5\n2024年3月まで     5\n2021年2月まで     5\n2020年8月まで     5\n2022年2月まで     4\n2021年4月まで     4\n2022年7月まで     4\n2021年12月まで    3\n2023年2月まで     2\n2019年12月まで    2\n2024年2月まで     2\n2023年8月まで     2\n2020年12月まで    2\n2020年2月まで     2\n2021年8月まで     2\n2024年9月まで     2\n2021年7月まで     2\n2022年9月まで     1\n2023年3月まで     1\n2021年6月まで     1\n2020年1月まで     1\n2021年9月まで     1\n2021年5月まで     1\n2023年10月まで    1\n2021年1月まで     1\n2020年7月まで     1\n2022年8月まで     1\n2022年5月まで     1\nName: period, dtype: int64"
     },
     "metadata": {},
     "output_type": "execute_result",
     "execution_count": 30
    }
   ],
   "source": [
    "train['period'].value_counts()\n",
    "\n"
   ],
   "metadata": {
    "collapsed": false,
    "pycharm": {
     "name": "#%%\n",
     "is_executing": false
    }
   }
  },
  {
   "cell_type": "code",
   "execution_count": 31,
   "outputs": [],
   "source": [
    "for dataset in train_test_data:\n",
    "    #dataset['Contract'] = dataset['Contract'].str.extract('([0-9]*ヶ月)')\n",
    "    dataset['Contract'] = dataset['Contract'].str.replace('2019年', '0年', regex=True)\n",
    "    dataset['Contract'] = dataset['Contract'].str.replace('2020年', '1年', regex=True)\n",
    "    dataset['Contract'] = dataset['Contract'].str.replace('2021年', '2年', regex=True)\n",
    "    dataset['Contract'] = dataset['Contract'].str.replace('2022年', '3年', regex=True)\n",
    "    dataset['Contract'] = dataset['Contract'].str.replace('2023年', '4年', regex=True)\n",
    "    dataset['Contract'] = dataset['Contract'].str.replace('2024年', '5年', regex=True)\n",
    "    dataset['Contract'] = dataset['Contract'].str.extract('([0-9]*年)')\n",
    "    dataset['Contract'] = dataset['Contract'].str.extract('([0-9]*)')\n",
    "    "
   ],
   "metadata": {
    "collapsed": false,
    "pycharm": {
     "name": "#%%\n",
     "is_executing": false
    }
   }
  },
  {
   "cell_type": "code",
   "execution_count": 32,
   "outputs": [],
   "source": [
    "train['Contract'].fillna(2,inplace=True)"
   ],
   "metadata": {
    "collapsed": false,
    "pycharm": {
     "name": "#%%\n",
     "is_executing": false
    }
   }
  },
  {
   "cell_type": "code",
   "execution_count": 33,
   "outputs": [
    {
     "data": {
      "text/plain": "0"
     },
     "metadata": {},
     "output_type": "execute_result",
     "execution_count": 33
    }
   ],
   "source": [
    "train['Contract'].isnull().sum()"
   ],
   "metadata": {
    "collapsed": false,
    "pycharm": {
     "name": "#%%\n",
     "is_executing": false
    }
   }
  },
  {
   "cell_type": "code",
   "execution_count": 34,
   "outputs": [],
   "source": [
    "for dataset in train_test_data:\n",
    "    dataset['Station'] = dataset['Access'].str.extract('([\\u4E00-\\u9FAF|\\u3040-\\u3096|\\u30A1-\\u30FA|\\uFF66-\\uFF9D|\\u31F0-\\u31FF]*)駅')"
   ],
   "metadata": {
    "collapsed": false,
    "pycharm": {
     "name": "#%%\n",
     "is_executing": false
    }
   }
  },
  {
   "cell_type": "code",
   "execution_count": 35,
   "outputs": [
    {
     "data": {
      "text/plain": "          3807\n三軒茶屋       352\n葛西         337\n小岩         335\n池袋         320\n          ... \n国立競技場        1\n川崎           1\n東池袋四丁目       1\n新宿西口         1\n京成上野         1\nName: Station, Length: 407, dtype: int64"
     },
     "metadata": {},
     "output_type": "execute_result",
     "execution_count": 35
    }
   ],
   "source": [
    "train['Station'].value_counts()"
   ],
   "metadata": {
    "collapsed": false,
    "pycharm": {
     "name": "#%%\n",
     "is_executing": false
    }
   }
  },
  {
   "cell_type": "code",
   "execution_count": 36,
   "outputs": [
    {
     "data": {
      "text/plain": "    Station           Rent\n384   青山一丁目  547000.000000\n333     虎ノ門  420000.000000\n242     永田町  407500.000000\n405      麹町  405000.000000\n40      乃木坂  342543.478261\n112     外苑前  325166.666667\n93      半蔵門  317621.621622\n294     神谷町  305547.619048\n62      代官山  294111.111111\n244      汐留  282538.461538",
      "text/html": "<div>\n<style scoped>\n    .dataframe tbody tr th:only-of-type {\n        vertical-align: middle;\n    }\n\n    .dataframe tbody tr th {\n        vertical-align: top;\n    }\n\n    .dataframe thead th {\n        text-align: right;\n    }\n</style>\n<table border=\"1\" class=\"dataframe\">\n  <thead>\n    <tr style=\"text-align: right;\">\n      <th></th>\n      <th>Station</th>\n      <th>Rent</th>\n    </tr>\n  </thead>\n  <tbody>\n    <tr>\n      <td>384</td>\n      <td>青山一丁目</td>\n      <td>547000.000000</td>\n    </tr>\n    <tr>\n      <td>333</td>\n      <td>虎ノ門</td>\n      <td>420000.000000</td>\n    </tr>\n    <tr>\n      <td>242</td>\n      <td>永田町</td>\n      <td>407500.000000</td>\n    </tr>\n    <tr>\n      <td>405</td>\n      <td>麹町</td>\n      <td>405000.000000</td>\n    </tr>\n    <tr>\n      <td>40</td>\n      <td>乃木坂</td>\n      <td>342543.478261</td>\n    </tr>\n    <tr>\n      <td>112</td>\n      <td>外苑前</td>\n      <td>325166.666667</td>\n    </tr>\n    <tr>\n      <td>93</td>\n      <td>半蔵門</td>\n      <td>317621.621622</td>\n    </tr>\n    <tr>\n      <td>294</td>\n      <td>神谷町</td>\n      <td>305547.619048</td>\n    </tr>\n    <tr>\n      <td>62</td>\n      <td>代官山</td>\n      <td>294111.111111</td>\n    </tr>\n    <tr>\n      <td>244</td>\n      <td>汐留</td>\n      <td>282538.461538</td>\n    </tr>\n  </tbody>\n</table>\n</div>"
     },
     "metadata": {},
     "output_type": "execute_result",
     "execution_count": 36
    }
   ],
   "source": [
    "train[['Station','Rent']].groupby(['Station'],as_index=False).mean().sort_values(by=\"Rent\",ascending=False).head(10)\n"
   ],
   "metadata": {
    "collapsed": false,
    "pycharm": {
     "name": "#%%\n",
     "is_executing": false
    }
   }
  },
  {
   "cell_type": "code",
   "execution_count": 37,
   "outputs": [],
   "source": [
    "for dataset in train_test_data:\n",
    "    dataset['Minute'] = dataset['Access'].str.extract('(徒歩[0-9]*分)')\n",
    "    dataset['Minute'] = dataset['Minute'].str.extract('([0-9]*分)')\n",
    "    dataset['min'] = dataset['Minute'].str.extract('([0-9]*)')"
   ],
   "metadata": {
    "collapsed": false,
    "pycharm": {
     "name": "#%%\n",
     "is_executing": false
    }
   }
  },
  {
   "cell_type": "code",
   "execution_count": 38,
   "outputs": [
    {
     "data": {
      "text/plain": "   min           Rent\n0    1  133140.359712\n11   2  129289.728832\n22   3  126990.969928\n35   5  126507.136564\n32   4  125807.425414\n36   6  125109.245926\n38   8  120992.301773\n39   9  115518.258303\n37   7  114301.947524\n3   12  112107.297872\n13  21  112033.333333\n2   11  111395.395395\n1   10  109515.786495\n33  42  108000.000000\n5   14  105645.074627\n4   13  100838.635383\n31  39   98000.000000\n6   15   97433.433875\n7   16   96488.479087\n30  38   96375.000000\n17  25   95605.864407\n9   18   95059.285714\n34  45   94000.000000\n8   17   93934.539474\n12  20   92045.226131\n14  22   91689.390244\n10  19   90750.000000\n18  26   90524.137931\n29  37   90500.000000\n16  24   90402.439024\n21  29   90400.000000\n23  30   88740.000000\n15  23   84126.829268\n19  27   81778.125000\n20  28   80722.222222\n28  36   80500.000000\n24  31   79000.000000\n26  33   73575.000000\n25  32   68666.666667\n27  34   57000.000000",
      "text/html": "<div>\n<style scoped>\n    .dataframe tbody tr th:only-of-type {\n        vertical-align: middle;\n    }\n\n    .dataframe tbody tr th {\n        vertical-align: top;\n    }\n\n    .dataframe thead th {\n        text-align: right;\n    }\n</style>\n<table border=\"1\" class=\"dataframe\">\n  <thead>\n    <tr style=\"text-align: right;\">\n      <th></th>\n      <th>min</th>\n      <th>Rent</th>\n    </tr>\n  </thead>\n  <tbody>\n    <tr>\n      <td>0</td>\n      <td>1</td>\n      <td>133140.359712</td>\n    </tr>\n    <tr>\n      <td>11</td>\n      <td>2</td>\n      <td>129289.728832</td>\n    </tr>\n    <tr>\n      <td>22</td>\n      <td>3</td>\n      <td>126990.969928</td>\n    </tr>\n    <tr>\n      <td>35</td>\n      <td>5</td>\n      <td>126507.136564</td>\n    </tr>\n    <tr>\n      <td>32</td>\n      <td>4</td>\n      <td>125807.425414</td>\n    </tr>\n    <tr>\n      <td>36</td>\n      <td>6</td>\n      <td>125109.245926</td>\n    </tr>\n    <tr>\n      <td>38</td>\n      <td>8</td>\n      <td>120992.301773</td>\n    </tr>\n    <tr>\n      <td>39</td>\n      <td>9</td>\n      <td>115518.258303</td>\n    </tr>\n    <tr>\n      <td>37</td>\n      <td>7</td>\n      <td>114301.947524</td>\n    </tr>\n    <tr>\n      <td>3</td>\n      <td>12</td>\n      <td>112107.297872</td>\n    </tr>\n    <tr>\n      <td>13</td>\n      <td>21</td>\n      <td>112033.333333</td>\n    </tr>\n    <tr>\n      <td>2</td>\n      <td>11</td>\n      <td>111395.395395</td>\n    </tr>\n    <tr>\n      <td>1</td>\n      <td>10</td>\n      <td>109515.786495</td>\n    </tr>\n    <tr>\n      <td>33</td>\n      <td>42</td>\n      <td>108000.000000</td>\n    </tr>\n    <tr>\n      <td>5</td>\n      <td>14</td>\n      <td>105645.074627</td>\n    </tr>\n    <tr>\n      <td>4</td>\n      <td>13</td>\n      <td>100838.635383</td>\n    </tr>\n    <tr>\n      <td>31</td>\n      <td>39</td>\n      <td>98000.000000</td>\n    </tr>\n    <tr>\n      <td>6</td>\n      <td>15</td>\n      <td>97433.433875</td>\n    </tr>\n    <tr>\n      <td>7</td>\n      <td>16</td>\n      <td>96488.479087</td>\n    </tr>\n    <tr>\n      <td>30</td>\n      <td>38</td>\n      <td>96375.000000</td>\n    </tr>\n    <tr>\n      <td>17</td>\n      <td>25</td>\n      <td>95605.864407</td>\n    </tr>\n    <tr>\n      <td>9</td>\n      <td>18</td>\n      <td>95059.285714</td>\n    </tr>\n    <tr>\n      <td>34</td>\n      <td>45</td>\n      <td>94000.000000</td>\n    </tr>\n    <tr>\n      <td>8</td>\n      <td>17</td>\n      <td>93934.539474</td>\n    </tr>\n    <tr>\n      <td>12</td>\n      <td>20</td>\n      <td>92045.226131</td>\n    </tr>\n    <tr>\n      <td>14</td>\n      <td>22</td>\n      <td>91689.390244</td>\n    </tr>\n    <tr>\n      <td>10</td>\n      <td>19</td>\n      <td>90750.000000</td>\n    </tr>\n    <tr>\n      <td>18</td>\n      <td>26</td>\n      <td>90524.137931</td>\n    </tr>\n    <tr>\n      <td>29</td>\n      <td>37</td>\n      <td>90500.000000</td>\n    </tr>\n    <tr>\n      <td>16</td>\n      <td>24</td>\n      <td>90402.439024</td>\n    </tr>\n    <tr>\n      <td>21</td>\n      <td>29</td>\n      <td>90400.000000</td>\n    </tr>\n    <tr>\n      <td>23</td>\n      <td>30</td>\n      <td>88740.000000</td>\n    </tr>\n    <tr>\n      <td>15</td>\n      <td>23</td>\n      <td>84126.829268</td>\n    </tr>\n    <tr>\n      <td>19</td>\n      <td>27</td>\n      <td>81778.125000</td>\n    </tr>\n    <tr>\n      <td>20</td>\n      <td>28</td>\n      <td>80722.222222</td>\n    </tr>\n    <tr>\n      <td>28</td>\n      <td>36</td>\n      <td>80500.000000</td>\n    </tr>\n    <tr>\n      <td>24</td>\n      <td>31</td>\n      <td>79000.000000</td>\n    </tr>\n    <tr>\n      <td>26</td>\n      <td>33</td>\n      <td>73575.000000</td>\n    </tr>\n    <tr>\n      <td>25</td>\n      <td>32</td>\n      <td>68666.666667</td>\n    </tr>\n    <tr>\n      <td>27</td>\n      <td>34</td>\n      <td>57000.000000</td>\n    </tr>\n  </tbody>\n</table>\n</div>"
     },
     "metadata": {},
     "output_type": "execute_result",
     "execution_count": 38
    }
   ],
   "source": [
    "train[['min','Rent']].groupby(['min'],as_index=False).mean().sort_values(by=\"Rent\",ascending=False)"
   ],
   "metadata": {
    "collapsed": false,
    "pycharm": {
     "name": "#%%\n",
     "is_executing": false
    }
   }
  },
  {
   "cell_type": "code",
   "execution_count": 39,
   "outputs": [
    {
     "data": {
      "text/plain": "専用バス／\\t専用トイレ／\\tバス・トイレ別／\\tシャワー／\\t追焚機能／\\t浴室乾燥機\\t／\\t温水洗浄便座／\\t洗面台独立／\\t脱衣所    4606\n専用バス／\\t専用トイレ／\\tバス・トイレ別／\\tシャワー／\\t浴室乾燥機\\t／\\t温水洗浄便座／\\t洗面台独立／\\t脱衣所           2936\n専用バス／\\t専用トイレ／\\tシャワー                                                      2133\n専用バス／\\t専用トイレ／\\tバス・トイレ別／\\tシャワー                                            1495\n専用バス／\\t専用トイレ／\\tバス・トイレ別／\\tシャワー／\\t追焚機能／\\t浴室乾燥機\\t／\\t温水洗浄便座／\\t洗面台独立           873\n                                                                         ... \n専用バス／\\t共同トイレ／\\tバス・トイレ別／\\tシャワー／\\t追焚機能／\\t浴室乾燥機\\t／\\t洗面台独立／\\t脱衣所                1\nバスなし／\\tバス・トイレ別／\\tシャワー／\\t追焚機能／\\t浴室乾燥機\\t／\\t温水洗浄便座／\\t洗面台独立                     1\n専用バス／\\t専用トイレ／\\t温水洗浄便座／\\t洗面台独立／\\t脱衣所                                         1\n専用バス／\\tバス・トイレ別／\\t浴室乾燥機                                                      1\n専用バス／\\t専用トイレ／\\tシャワー／\\t追焚機能／\\t温水洗浄便座／\\t脱衣所                                   1\nName: Bath, Length: 360, dtype: int64"
     },
     "metadata": {},
     "output_type": "execute_result",
     "execution_count": 39
    }
   ],
   "source": [
    "#Bath\n",
    "train['Bath'].value_counts()"
   ],
   "metadata": {
    "collapsed": false,
    "pycharm": {
     "name": "#%%\n",
     "is_executing": false
    }
   }
  },
  {
   "cell_type": "code",
   "execution_count": 40,
   "outputs": [],
   "source": [
    "for dataset in train_test_data:\n",
    "    dataset['privatebath'] = dataset['Bath'].str.extract('(専用バス)')\n",
    "    dataset['privatetoilet'] = dataset['Bath'].str.extract('(専用トイレ)')\n",
    "    dataset['bathtoilet'] = dataset['Bath'].str.extract('(バス・トイレ別)')\n",
    "    dataset['sharedtoilet'] = dataset['Bath'].str.extract('(共同トイレ)')\n",
    "    dataset['shower'] = dataset['Bath'].str.extract('(シャワー)')\n",
    "    dataset['dryer'] = dataset['Bath'].str.extract('(浴室乾燥機)')\n",
    "    dataset['washstand'] = dataset['Bath'].str.extract('(洗面台独立)')\n",
    "    dataset['dressing'] = dataset['Bath'].str.extract('(脱衣所)')\n",
    "    dataset['warmseat'] = dataset['Bath'].str.extract('(温水洗浄便座)')\n",
    "    dataset['memorial'] = dataset['Bath'].str.extract('(追焚機能)')"
   ],
   "metadata": {
    "collapsed": false,
    "pycharm": {
     "name": "#%%\n",
     "is_executing": false
    }
   }
  },
  {
   "cell_type": "code",
   "execution_count": 41,
   "outputs": [],
   "source": [
    "for dataset in train_test_data:\n",
    "    dataset['privatebath'] = dataset['privatebath'].apply(lambda x: True if x == '専用バス' else False)\n",
    "    dataset['privatetoilet'] = dataset['privatetoilet'].apply(lambda x: True if x == '専用トイレ' else False)\n",
    "    dataset['bathtoilet'] = dataset['bathtoilet'].apply(lambda x: True if x == 'バス・トイレ別' else False)\n",
    "    dataset['sharedtoilet'] = dataset['sharedtoilet'].apply(lambda x: True if x == '共同トイレ' else False)\n",
    "    dataset['shower'] = dataset['shower'].apply(lambda x: True if x == 'シャワー' else False)\n",
    "    dataset['dryer'] = dataset['dryer'].apply(lambda x: True if x == '浴室乾燥機' else False)\n",
    "    dataset['washstand'] = dataset['washstand'].apply(lambda x: True if x == '洗面台独立' else False)\n",
    "    dataset['dressing'] = dataset['dressing'].apply(lambda x: True if x == '脱衣所' else False)\n",
    "    dataset['warmseat'] = dataset['warmseat'].apply(lambda x: True if x == '温水洗浄便座' else False)\n",
    "    dataset['memorial'] = dataset['memorial'].apply(lambda x: True if x == '追焚機能' else False)"
   ],
   "metadata": {
    "collapsed": false,
    "pycharm": {
     "name": "#%%\n",
     "is_executing": false
    }
   }
  },
  {
   "cell_type": "code",
   "execution_count": 42,
   "outputs": [
    {
     "data": {
      "text/plain": "   id  privatebath  privatetoilet  bathtoilet  sharedtoilet  shower  dryer  \\\n0   1         True           True        True         False    True   True   \n1   2        False           True       False         False    True  False   \n2   3         True           True        True         False    True   True   \n3   4         True           True        True         False    True  False   \n4   5         True           True        True         False    True  False   \n5   6         True           True        True         False    True   True   \n6   7         True           True        True         False    True   True   \n7   8         True           True        True         False   False   True   \n8   9         True           True        True         False   False  False   \n9  10         True           True        True         False    True  False   \n\n   washstand  dressing  warmseat  memorial  \n0      False     False      True     False  \n1      False     False      True     False  \n2       True      True      True     False  \n3       True     False      True     False  \n4      False     False     False      True  \n5       True      True      True     False  \n6       True      True      True      True  \n7       True      True      True      True  \n8       True     False     False      True  \n9       True     False     False     False  ",
      "text/html": "<div>\n<style scoped>\n    .dataframe tbody tr th:only-of-type {\n        vertical-align: middle;\n    }\n\n    .dataframe tbody tr th {\n        vertical-align: top;\n    }\n\n    .dataframe thead th {\n        text-align: right;\n    }\n</style>\n<table border=\"1\" class=\"dataframe\">\n  <thead>\n    <tr style=\"text-align: right;\">\n      <th></th>\n      <th>id</th>\n      <th>privatebath</th>\n      <th>privatetoilet</th>\n      <th>bathtoilet</th>\n      <th>sharedtoilet</th>\n      <th>shower</th>\n      <th>dryer</th>\n      <th>washstand</th>\n      <th>dressing</th>\n      <th>warmseat</th>\n      <th>memorial</th>\n    </tr>\n  </thead>\n  <tbody>\n    <tr>\n      <td>0</td>\n      <td>1</td>\n      <td>True</td>\n      <td>True</td>\n      <td>True</td>\n      <td>False</td>\n      <td>True</td>\n      <td>True</td>\n      <td>False</td>\n      <td>False</td>\n      <td>True</td>\n      <td>False</td>\n    </tr>\n    <tr>\n      <td>1</td>\n      <td>2</td>\n      <td>False</td>\n      <td>True</td>\n      <td>False</td>\n      <td>False</td>\n      <td>True</td>\n      <td>False</td>\n      <td>False</td>\n      <td>False</td>\n      <td>True</td>\n      <td>False</td>\n    </tr>\n    <tr>\n      <td>2</td>\n      <td>3</td>\n      <td>True</td>\n      <td>True</td>\n      <td>True</td>\n      <td>False</td>\n      <td>True</td>\n      <td>True</td>\n      <td>True</td>\n      <td>True</td>\n      <td>True</td>\n      <td>False</td>\n    </tr>\n    <tr>\n      <td>3</td>\n      <td>4</td>\n      <td>True</td>\n      <td>True</td>\n      <td>True</td>\n      <td>False</td>\n      <td>True</td>\n      <td>False</td>\n      <td>True</td>\n      <td>False</td>\n      <td>True</td>\n      <td>False</td>\n    </tr>\n    <tr>\n      <td>4</td>\n      <td>5</td>\n      <td>True</td>\n      <td>True</td>\n      <td>True</td>\n      <td>False</td>\n      <td>True</td>\n      <td>False</td>\n      <td>False</td>\n      <td>False</td>\n      <td>False</td>\n      <td>True</td>\n    </tr>\n    <tr>\n      <td>5</td>\n      <td>6</td>\n      <td>True</td>\n      <td>True</td>\n      <td>True</td>\n      <td>False</td>\n      <td>True</td>\n      <td>True</td>\n      <td>True</td>\n      <td>True</td>\n      <td>True</td>\n      <td>False</td>\n    </tr>\n    <tr>\n      <td>6</td>\n      <td>7</td>\n      <td>True</td>\n      <td>True</td>\n      <td>True</td>\n      <td>False</td>\n      <td>True</td>\n      <td>True</td>\n      <td>True</td>\n      <td>True</td>\n      <td>True</td>\n      <td>True</td>\n    </tr>\n    <tr>\n      <td>7</td>\n      <td>8</td>\n      <td>True</td>\n      <td>True</td>\n      <td>True</td>\n      <td>False</td>\n      <td>False</td>\n      <td>True</td>\n      <td>True</td>\n      <td>True</td>\n      <td>True</td>\n      <td>True</td>\n    </tr>\n    <tr>\n      <td>8</td>\n      <td>9</td>\n      <td>True</td>\n      <td>True</td>\n      <td>True</td>\n      <td>False</td>\n      <td>False</td>\n      <td>False</td>\n      <td>True</td>\n      <td>False</td>\n      <td>False</td>\n      <td>True</td>\n    </tr>\n    <tr>\n      <td>9</td>\n      <td>10</td>\n      <td>True</td>\n      <td>True</td>\n      <td>True</td>\n      <td>False</td>\n      <td>True</td>\n      <td>False</td>\n      <td>True</td>\n      <td>False</td>\n      <td>False</td>\n      <td>False</td>\n    </tr>\n  </tbody>\n</table>\n</div>"
     },
     "metadata": {},
     "output_type": "execute_result",
     "execution_count": 42
    }
   ],
   "source": [
    "train[['id','privatebath','privatetoilet','bathtoilet','sharedtoilet','shower',\n",
    "        'dryer','washstand','dressing','warmseat','memorial']].groupby(['id','privatebath'],as_index=False).mean().head(10)"
   ],
   "metadata": {
    "collapsed": false,
    "pycharm": {
     "name": "#%%\n",
     "is_executing": false
    }
   }
  },
  {
   "cell_type": "code",
   "execution_count": 43,
   "outputs": [
    {
     "data": {
      "text/plain": "ガスコンロ／\\tコンロ2口／\\tシステムキッチン\\t／\\t給湯                           6016\nガスコンロ／\\tコンロ2口／\\t給湯                                        2272\nガスコンロ／\\tコンロ3口／\\tシステムキッチン\\t／\\t給湯                           1606\n給湯                                                        1328\nガスコンロ／\\tコンロ2口／\\tシステムキッチン\\t／\\t給湯／\\t独立キッチン                  1299\n                                                          ... \nガスコンロ／\\tコンロ設置可（コンロ2口）／\\tシステムキッチン                             1\nIHコンロ\\t／\\tコンロ4口以上／\\tシステムキッチン\\t／\\t給湯／\\t冷蔵庫あり／\\t独立キッチン         1\nガスコンロ／\\tコンロ2口／\\tシステムキッチン\\t／\\tカウンターキッチン\\t／\\t給湯／\\tL字キッチン       1\n電気コンロ／\\tIHコンロ\\t／\\tシステムキッチン\\t／\\tカウンターキッチン\\t／\\t給湯              1\n電気コンロ／\\t給湯／\\t独立キッチン                                          1\nName: Kitchen, Length: 381, dtype: int64"
     },
     "metadata": {},
     "output_type": "execute_result",
     "execution_count": 43
    }
   ],
   "source": [
    "train['Kitchen'].value_counts()"
   ],
   "metadata": {
    "collapsed": false,
    "pycharm": {
     "name": "#%%\n",
     "is_executing": false
    }
   }
  },
  {
   "cell_type": "code",
   "execution_count": 44,
   "outputs": [],
   "source": [
    "for dataset in train_test_data:\n",
    "    dataset['gasstove'] = dataset['Kitchen'].str.extract('(ガスコンロ)')\n",
    "    dataset['2stovetops'] = dataset['Kitchen'].str.extract('(コンロ2口)')\n",
    "    dataset['3stovetops'] = dataset['Kitchen'].str.extract('(コンロ3口)')\n",
    "    dataset['systemkitchen'] = dataset['Kitchen'].str.extract('(システムキッチン)')\n",
    "    dataset['hotwatersupply'] = dataset['Kitchen'].str.extract('(給湯)')\n",
    "    dataset['separatekitchen'] = dataset['Kitchen'].str.extract('(独立キッチン)')\n",
    "    dataset['IH'] = dataset['Kitchen'].str.extract('(IHコンロ)')\n",
    "    dataset['counterkitchen'] = dataset['Kitchen'].str.extract('(カウンターキッチン)')\n",
    "    dataset['shapekitchen'] = dataset['Kitchen'].str.extract('(字キッチン)')\n",
    "    dataset['fridge'] = dataset['Kitchen'].str.extract('(冷蔵庫あり)')"
   ],
   "metadata": {
    "collapsed": false,
    "pycharm": {
     "name": "#%%\n",
     "is_executing": false
    }
   }
  },
  {
   "cell_type": "code",
   "execution_count": 45,
   "outputs": [],
   "source": [
    "for dataset in train_test_data:\n",
    "    dataset['gasstove'] = dataset['gasstove'].apply(lambda x: True if x == 'ガスコンロ' else False)\n",
    "    dataset['2stovetops'] = dataset['2stovetops'].apply(lambda x: True if x == 'コンロ2口' else False)\n",
    "    dataset['3stovetops'] = dataset['3stovetops'].apply(lambda x: True if x == 'コンロ3口' else False)\n",
    "    dataset['systemkitchen'] = dataset['systemkitchen'].apply(lambda x: True if x == 'システムキッチン' else False)\n",
    "    dataset['hotwatersupply'] = dataset['hotwatersupply'].apply(lambda x: True if x == '給湯' else False)\n",
    "    dataset['separatekitchen'] = dataset['separatekitchen'].apply(lambda x: True if x == '独立キッチン' else False)\n",
    "    dataset['IH'] = dataset['IH'].apply(lambda x: True if x == 'IHコンロ' else False)\n",
    "    dataset['counterkitchen'] = dataset['counterkitchen'].apply(lambda x: True if x == 'カウンターキッチン' else False)\n",
    "    dataset['shapekitchen'] = dataset['shapekitchen'].apply(lambda x: True if x == '字キッチン' else False)\n",
    "    dataset['fridge'] = dataset['fridge'].apply(lambda x: True if x == '冷蔵庫あり' else False)"
   ],
   "metadata": {
    "collapsed": false,
    "pycharm": {
     "name": "#%%\n",
     "is_executing": false
    }
   }
  },
  {
   "cell_type": "code",
   "execution_count": 46,
   "outputs": [
    {
     "data": {
      "text/plain": "   id  gasstove  2stovetops  3stovetops  systemkitchen  hotwatersupply  \\\n0   1      True        True       False           True            True   \n1   2      True       False       False           True            True   \n2   3      True        True       False           True            True   \n3   4      True       False       False          False            True   \n4   5     False       False       False          False            True   \n5   6      True       False        True           True            True   \n6   7      True        True       False           True            True   \n7   8      True        True       False           True           False   \n8   9      True       False        True           True            True   \n9  10      True        True       False          False            True   \n\n   separatekitchen     IH  counterkitchen  shapekitchen  fridge  \n0            False  False           False         False   False  \n1            False  False           False         False   False  \n2            False  False           False         False   False  \n3            False  False           False         False   False  \n4             True  False           False         False   False  \n5             True  False           False         False   False  \n6            False  False           False         False   False  \n7            False  False           False         False   False  \n8            False  False           False         False   False  \n9            False  False           False         False   False  ",
      "text/html": "<div>\n<style scoped>\n    .dataframe tbody tr th:only-of-type {\n        vertical-align: middle;\n    }\n\n    .dataframe tbody tr th {\n        vertical-align: top;\n    }\n\n    .dataframe thead th {\n        text-align: right;\n    }\n</style>\n<table border=\"1\" class=\"dataframe\">\n  <thead>\n    <tr style=\"text-align: right;\">\n      <th></th>\n      <th>id</th>\n      <th>gasstove</th>\n      <th>2stovetops</th>\n      <th>3stovetops</th>\n      <th>systemkitchen</th>\n      <th>hotwatersupply</th>\n      <th>separatekitchen</th>\n      <th>IH</th>\n      <th>counterkitchen</th>\n      <th>shapekitchen</th>\n      <th>fridge</th>\n    </tr>\n  </thead>\n  <tbody>\n    <tr>\n      <td>0</td>\n      <td>1</td>\n      <td>True</td>\n      <td>True</td>\n      <td>False</td>\n      <td>True</td>\n      <td>True</td>\n      <td>False</td>\n      <td>False</td>\n      <td>False</td>\n      <td>False</td>\n      <td>False</td>\n    </tr>\n    <tr>\n      <td>1</td>\n      <td>2</td>\n      <td>True</td>\n      <td>False</td>\n      <td>False</td>\n      <td>True</td>\n      <td>True</td>\n      <td>False</td>\n      <td>False</td>\n      <td>False</td>\n      <td>False</td>\n      <td>False</td>\n    </tr>\n    <tr>\n      <td>2</td>\n      <td>3</td>\n      <td>True</td>\n      <td>True</td>\n      <td>False</td>\n      <td>True</td>\n      <td>True</td>\n      <td>False</td>\n      <td>False</td>\n      <td>False</td>\n      <td>False</td>\n      <td>False</td>\n    </tr>\n    <tr>\n      <td>3</td>\n      <td>4</td>\n      <td>True</td>\n      <td>False</td>\n      <td>False</td>\n      <td>False</td>\n      <td>True</td>\n      <td>False</td>\n      <td>False</td>\n      <td>False</td>\n      <td>False</td>\n      <td>False</td>\n    </tr>\n    <tr>\n      <td>4</td>\n      <td>5</td>\n      <td>False</td>\n      <td>False</td>\n      <td>False</td>\n      <td>False</td>\n      <td>True</td>\n      <td>True</td>\n      <td>False</td>\n      <td>False</td>\n      <td>False</td>\n      <td>False</td>\n    </tr>\n    <tr>\n      <td>5</td>\n      <td>6</td>\n      <td>True</td>\n      <td>False</td>\n      <td>True</td>\n      <td>True</td>\n      <td>True</td>\n      <td>True</td>\n      <td>False</td>\n      <td>False</td>\n      <td>False</td>\n      <td>False</td>\n    </tr>\n    <tr>\n      <td>6</td>\n      <td>7</td>\n      <td>True</td>\n      <td>True</td>\n      <td>False</td>\n      <td>True</td>\n      <td>True</td>\n      <td>False</td>\n      <td>False</td>\n      <td>False</td>\n      <td>False</td>\n      <td>False</td>\n    </tr>\n    <tr>\n      <td>7</td>\n      <td>8</td>\n      <td>True</td>\n      <td>True</td>\n      <td>False</td>\n      <td>True</td>\n      <td>False</td>\n      <td>False</td>\n      <td>False</td>\n      <td>False</td>\n      <td>False</td>\n      <td>False</td>\n    </tr>\n    <tr>\n      <td>8</td>\n      <td>9</td>\n      <td>True</td>\n      <td>False</td>\n      <td>True</td>\n      <td>True</td>\n      <td>True</td>\n      <td>False</td>\n      <td>False</td>\n      <td>False</td>\n      <td>False</td>\n      <td>False</td>\n    </tr>\n    <tr>\n      <td>9</td>\n      <td>10</td>\n      <td>True</td>\n      <td>True</td>\n      <td>False</td>\n      <td>False</td>\n      <td>True</td>\n      <td>False</td>\n      <td>False</td>\n      <td>False</td>\n      <td>False</td>\n      <td>False</td>\n    </tr>\n  </tbody>\n</table>\n</div>"
     },
     "metadata": {},
     "output_type": "execute_result",
     "execution_count": 46
    }
   ],
   "source": [
    "train[['id','gasstove','2stovetops','3stovetops','systemkitchen','hotwatersupply','separatekitchen',\n",
    "        'IH','counterkitchen','shapekitchen','fridge']].groupby(['id','gasstove'],as_index=False).mean().head(10)"
   ],
   "metadata": {
    "collapsed": false,
    "pycharm": {
     "name": "#%%\n",
     "is_executing": false
    }
   }
  },
  {
   "cell_type": "code",
   "execution_count": 47,
   "outputs": [
    {
     "name": "stdout",
     "text": [
      "<class 'pandas.core.frame.DataFrame'>\nRangeIndex: 31470 entries, 0 to 31469\nData columns (total 48 columns):\nid                 31470 non-null int64\nRent               31470 non-null int64\nLocation           31470 non-null object\nAccess             31470 non-null object\nType               31470 non-null object\nAge                31470 non-null object\nDirection          31470 non-null object\nArea               31470 non-null object\nFloor              31470 non-null object\nBath               31141 non-null object\nKitchen            30849 non-null object\nInternet           28030 non-null object\nFacility           31388 non-null object\nParking            26183 non-null object\nSurround           22038 non-null object\nMaterial           31470 non-null object\nContract           31470 non-null object\nCity               31470 non-null object\nR                  31470 non-null object\nK                  31470 non-null bool\nL                  31470 non-null bool\nD                  31470 non-null bool\nS                  31470 non-null bool\nperiod             100 non-null object\nmonth              31 non-null object\nStation            31470 non-null object\nMinute             31470 non-null object\nmin                31470 non-null object\nprivatebath        31470 non-null bool\nprivatetoilet      31470 non-null bool\nbathtoilet         31470 non-null bool\nsharedtoilet       31470 non-null bool\nshower             31470 non-null bool\ndryer              31470 non-null bool\nwashstand          31470 non-null bool\ndressing           31470 non-null bool\nwarmseat           31470 non-null bool\nmemorial           31470 non-null bool\ngasstove           31470 non-null bool\n2stovetops         31470 non-null bool\n3stovetops         31470 non-null bool\nsystemkitchen      31470 non-null bool\nhotwatersupply     31470 non-null bool\nseparatekitchen    31470 non-null bool\nIH                 31470 non-null bool\ncounterkitchen     31470 non-null bool\nshapekitchen       31470 non-null bool\nfridge             31470 non-null bool\ndtypes: bool(24), int64(2), object(22)\nmemory usage: 6.5+ MB\n"
     ],
     "output_type": "stream"
    }
   ],
   "source": [
    "train.info()"
   ],
   "metadata": {
    "collapsed": false,
    "pycharm": {
     "name": "#%%\n",
     "is_executing": false
    }
   }
  },
  {
   "cell_type": "code",
   "execution_count": 48,
   "outputs": [
    {
     "data": {
      "text/plain": "【スーパー】 264m\\t【スーパー】 848m\\t【スーパー】 969m\\t【コンビニ】 191m\\t【コンビニ】 378m                 48\n【スーパー】 227m\\t【スーパー】 442m\\t【スーパー】 422m\\t【コンビニ】 260m\\t【コンビニ】 320m                 47\n【スーパー】 231m\\t【スーパー】 309m\\t【スーパー】 593m\\t【コンビニ】 103m\\t【コンビニ】 389m                 44\n【スーパー】 292m\\t【コンビニ】 341m                                                        40\n【スーパー】 501m\\t【スーパー】 924m\\t【スーパー】 713m\\t【コンビニ】 108m\\t【コンビニ】 275m\\t【コンビニ】 469m    28\n                                                                                ..\n【コンビニ】 180m\\t【スーパー】 760m\\t【小学校】 390m                                             1\n【スーパー】 353m\\t【スーパー】 573m\\t【スーパー】 491m\\t【コンビニ】 242m\\t【コンビニ】 355m\\t【コンビニ】 374m     1\n【スーパー】 96m\\t【ドラッグストア】 241m\\t【コンビニ】 300m                                          1\n【大学】 4756m\\t【大学】 4467m\\t【大学】 2834m\\t【スーパー】 476m\\t【スーパー】 2742m\\t【スーパー】 2906m      1\n【スーパー】 585m\\t【スーパー】 572m\\t【スーパー】 837m\\t【コンビニ】 282m\\t【コンビニ】 407m                  1\nName: Surround, Length: 17864, dtype: int64"
     },
     "metadata": {},
     "output_type": "execute_result",
     "execution_count": 48
    }
   ],
   "source": [
    "train['Surround'].value_counts()"
   ],
   "metadata": {
    "collapsed": false,
    "pycharm": {
     "name": "#%%\n",
     "is_executing": false
    }
   }
  },
  {
   "cell_type": "code",
   "execution_count": 49,
   "outputs": [],
   "source": [
    "for dataset in train_test_data:\n",
    "    dataset['supermarket'] = dataset['Surround'].str.extract('(スーパー)')\n",
    "    dataset['konbini'] = dataset['Surround'].str.extract('(コンビニ)')\n",
    "    dataset['univ'] = dataset['Surround'].str.extract('(大学)')\n",
    "    dataset['drugstore'] = dataset['Surround'].str.extract('(ドラッグストア)')\n",
    "    dataset['restaurant'] = dataset['Surround'].str.extract('(飲食店)')\n",
    "    dataset['hospital'] = dataset['Surround'].str.extract('(病院)')\n",
    "    dataset['park'] = dataset['Surround'].str.extract('(公園)')\n",
    "    dataset['library'] = dataset['Surround'].str.extract('(図書館)')\n",
    "    dataset['school'] = dataset['Surround'].str.extract('(学校)')\n",
    "    dataset['bank'] = dataset['Surround'].str.extract('(銀行)')"
   ],
   "metadata": {
    "collapsed": false,
    "pycharm": {
     "name": "#%%\n",
     "is_executing": false
    }
   }
  },
  {
   "cell_type": "code",
   "execution_count": 50,
   "outputs": [],
   "source": [
    "for dataset in train_test_data:\n",
    "    dataset['supermarket'] = dataset['supermarket'].apply(lambda x: True if x == 'スーパー' else False)\n",
    "    dataset['konbini'] = dataset['konbini'].apply(lambda x: True if x == 'コンビニ' else False)\n",
    "    dataset['univ'] = dataset['univ'].apply(lambda x: True if x == '大学' else False)\n",
    "    dataset['drugstore'] = dataset['drugstore'].apply(lambda x: True if x == 'ドラッグストア' else False)\n",
    "    dataset['restaurant'] = dataset['restaurant'].apply(lambda x: True if x == '飲食店' else False)\n",
    "    dataset['hospital'] = dataset['hospital'].apply(lambda x: True if x == '病院' else False)\n",
    "    dataset['park'] = dataset['park'].apply(lambda x: True if x == '公園' else False)\n",
    "    dataset['library'] = dataset['library'].apply(lambda x: True if x == '図書館' else False)\n",
    "    dataset['school'] = dataset['school'].apply(lambda x: True if x == '学校' else False)\n",
    "    dataset['bank'] = dataset['bank'].apply(lambda x: True if x == '銀行' else False)"
   ],
   "metadata": {
    "collapsed": false,
    "pycharm": {
     "name": "#%%\n",
     "is_executing": false
    }
   }
  },
  {
   "cell_type": "code",
   "execution_count": 51,
   "outputs": [
    {
     "data": {
      "text/plain": "   id  supermarket  konbini   univ  drugstore  restaurant  hospital   park  \\\n0   1         True     True   True       True        True     False   True   \n1   2         True    False  False      False       False     False  False   \n2   3         True     True  False      False       False     False  False   \n3   4         True     True  False      False       False     False  False   \n4   5         True     True  False      False       False     False  False   \n5   6         True     True  False      False       False     False  False   \n6   7         True     True  False      False       False     False  False   \n7   8         True     True  False      False       False     False  False   \n8   9        False    False  False      False       False     False  False   \n9  10        False    False  False      False       False     False  False   \n\n   library  school   bank  \n0    False    True  False  \n1    False   False  False  \n2    False   False  False  \n3    False   False  False  \n4    False   False  False  \n5    False   False  False  \n6    False   False  False  \n7    False   False  False  \n8    False   False  False  \n9    False   False  False  ",
      "text/html": "<div>\n<style scoped>\n    .dataframe tbody tr th:only-of-type {\n        vertical-align: middle;\n    }\n\n    .dataframe tbody tr th {\n        vertical-align: top;\n    }\n\n    .dataframe thead th {\n        text-align: right;\n    }\n</style>\n<table border=\"1\" class=\"dataframe\">\n  <thead>\n    <tr style=\"text-align: right;\">\n      <th></th>\n      <th>id</th>\n      <th>supermarket</th>\n      <th>konbini</th>\n      <th>univ</th>\n      <th>drugstore</th>\n      <th>restaurant</th>\n      <th>hospital</th>\n      <th>park</th>\n      <th>library</th>\n      <th>school</th>\n      <th>bank</th>\n    </tr>\n  </thead>\n  <tbody>\n    <tr>\n      <td>0</td>\n      <td>1</td>\n      <td>True</td>\n      <td>True</td>\n      <td>True</td>\n      <td>True</td>\n      <td>True</td>\n      <td>False</td>\n      <td>True</td>\n      <td>False</td>\n      <td>True</td>\n      <td>False</td>\n    </tr>\n    <tr>\n      <td>1</td>\n      <td>2</td>\n      <td>True</td>\n      <td>False</td>\n      <td>False</td>\n      <td>False</td>\n      <td>False</td>\n      <td>False</td>\n      <td>False</td>\n      <td>False</td>\n      <td>False</td>\n      <td>False</td>\n    </tr>\n    <tr>\n      <td>2</td>\n      <td>3</td>\n      <td>True</td>\n      <td>True</td>\n      <td>False</td>\n      <td>False</td>\n      <td>False</td>\n      <td>False</td>\n      <td>False</td>\n      <td>False</td>\n      <td>False</td>\n      <td>False</td>\n    </tr>\n    <tr>\n      <td>3</td>\n      <td>4</td>\n      <td>True</td>\n      <td>True</td>\n      <td>False</td>\n      <td>False</td>\n      <td>False</td>\n      <td>False</td>\n      <td>False</td>\n      <td>False</td>\n      <td>False</td>\n      <td>False</td>\n    </tr>\n    <tr>\n      <td>4</td>\n      <td>5</td>\n      <td>True</td>\n      <td>True</td>\n      <td>False</td>\n      <td>False</td>\n      <td>False</td>\n      <td>False</td>\n      <td>False</td>\n      <td>False</td>\n      <td>False</td>\n      <td>False</td>\n    </tr>\n    <tr>\n      <td>5</td>\n      <td>6</td>\n      <td>True</td>\n      <td>True</td>\n      <td>False</td>\n      <td>False</td>\n      <td>False</td>\n      <td>False</td>\n      <td>False</td>\n      <td>False</td>\n      <td>False</td>\n      <td>False</td>\n    </tr>\n    <tr>\n      <td>6</td>\n      <td>7</td>\n      <td>True</td>\n      <td>True</td>\n      <td>False</td>\n      <td>False</td>\n      <td>False</td>\n      <td>False</td>\n      <td>False</td>\n      <td>False</td>\n      <td>False</td>\n      <td>False</td>\n    </tr>\n    <tr>\n      <td>7</td>\n      <td>8</td>\n      <td>True</td>\n      <td>True</td>\n      <td>False</td>\n      <td>False</td>\n      <td>False</td>\n      <td>False</td>\n      <td>False</td>\n      <td>False</td>\n      <td>False</td>\n      <td>False</td>\n    </tr>\n    <tr>\n      <td>8</td>\n      <td>9</td>\n      <td>False</td>\n      <td>False</td>\n      <td>False</td>\n      <td>False</td>\n      <td>False</td>\n      <td>False</td>\n      <td>False</td>\n      <td>False</td>\n      <td>False</td>\n      <td>False</td>\n    </tr>\n    <tr>\n      <td>9</td>\n      <td>10</td>\n      <td>False</td>\n      <td>False</td>\n      <td>False</td>\n      <td>False</td>\n      <td>False</td>\n      <td>False</td>\n      <td>False</td>\n      <td>False</td>\n      <td>False</td>\n      <td>False</td>\n    </tr>\n  </tbody>\n</table>\n</div>"
     },
     "metadata": {},
     "output_type": "execute_result",
     "execution_count": 51
    }
   ],
   "source": [
    "train[['id','supermarket','konbini','univ','drugstore','restaurant',\n",
    "        'hospital','park','library','school','bank']].groupby(['id','supermarket'],as_index=False).mean().head(10)"
   ],
   "metadata": {
    "collapsed": false,
    "pycharm": {
     "name": "#%%\n",
     "is_executing": false
    }
   }
  },
  {
   "cell_type": "code",
   "execution_count": 52,
   "outputs": [],
   "source": [
    "for dataset in train_test_data:\n",
    "    dataset['metters'] = dataset['Surround'].str.extract('([0-9]*m)')\n",
    "    dataset['metter'] = dataset['metters'].str.extract('([0-9]*)')"
   ],
   "metadata": {
    "collapsed": false,
    "pycharm": {
     "name": "#%%\n",
     "is_executing": false
    }
   }
  },
  {
   "cell_type": "code",
   "execution_count": 53,
   "outputs": [
    {
     "data": {
      "text/plain": "350     117\n400     109\n300      91\n231      88\n200      83\n       ... \n3675      1\n2102      1\n1521      1\n1241      1\n1281      1\nName: metter, Length: 1903, dtype: int64"
     },
     "metadata": {},
     "output_type": "execute_result",
     "execution_count": 53
    }
   ],
   "source": [
    "train['metter'].value_counts()"
   ],
   "metadata": {
    "collapsed": false,
    "pycharm": {
     "name": "#%%\n",
     "is_executing": false
    }
   }
  },
  {
   "cell_type": "code",
   "execution_count": 54,
   "outputs": [],
   "source": [
    "train['metter'].fillna(350,inplace=True)\n",
    "test['metter'].fillna(350,inplace=True)"
   ],
   "metadata": {
    "collapsed": false,
    "pycharm": {
     "name": "#%%\n",
     "is_executing": false
    }
   }
  },
  {
   "cell_type": "code",
   "execution_count": 55,
   "outputs": [
    {
     "data": {
      "text/plain": "     metter          Rent\n1859    959  1.112750e+06\n1890    987  4.300000e+05\n683    1921  3.780000e+05\n34     1027  3.445000e+05\n1691    807  3.356000e+05\n141    1129  3.080000e+05\n96     1086  3.000000e+05\n525    1636  2.950000e+05\n101    1091  2.916667e+05\n565    1715  2.894000e+05",
      "text/html": "<div>\n<style scoped>\n    .dataframe tbody tr th:only-of-type {\n        vertical-align: middle;\n    }\n\n    .dataframe tbody tr th {\n        vertical-align: top;\n    }\n\n    .dataframe thead th {\n        text-align: right;\n    }\n</style>\n<table border=\"1\" class=\"dataframe\">\n  <thead>\n    <tr style=\"text-align: right;\">\n      <th></th>\n      <th>metter</th>\n      <th>Rent</th>\n    </tr>\n  </thead>\n  <tbody>\n    <tr>\n      <td>1859</td>\n      <td>959</td>\n      <td>1.112750e+06</td>\n    </tr>\n    <tr>\n      <td>1890</td>\n      <td>987</td>\n      <td>4.300000e+05</td>\n    </tr>\n    <tr>\n      <td>683</td>\n      <td>1921</td>\n      <td>3.780000e+05</td>\n    </tr>\n    <tr>\n      <td>34</td>\n      <td>1027</td>\n      <td>3.445000e+05</td>\n    </tr>\n    <tr>\n      <td>1691</td>\n      <td>807</td>\n      <td>3.356000e+05</td>\n    </tr>\n    <tr>\n      <td>141</td>\n      <td>1129</td>\n      <td>3.080000e+05</td>\n    </tr>\n    <tr>\n      <td>96</td>\n      <td>1086</td>\n      <td>3.000000e+05</td>\n    </tr>\n    <tr>\n      <td>525</td>\n      <td>1636</td>\n      <td>2.950000e+05</td>\n    </tr>\n    <tr>\n      <td>101</td>\n      <td>1091</td>\n      <td>2.916667e+05</td>\n    </tr>\n    <tr>\n      <td>565</td>\n      <td>1715</td>\n      <td>2.894000e+05</td>\n    </tr>\n  </tbody>\n</table>\n</div>"
     },
     "metadata": {},
     "output_type": "execute_result",
     "execution_count": 55
    }
   ],
   "source": [
    "train[['metter', 'Rent']].groupby(['metter'], as_index=False).mean().sort_values(by=\"Rent\",ascending=False).head(10)"
   ],
   "metadata": {
    "collapsed": false,
    "pycharm": {
     "name": "#%%\n",
     "is_executing": false
    }
   }
  },
  {
   "cell_type": "code",
   "execution_count": 56,
   "outputs": [
    {
     "data": {
      "text/plain": "エアコン付\\tシューズボックス／\\tバルコニー／\\tフローリング／\\t24時間換気システム\\t／\\t室内洗濯機置場／\\t敷地内ごみ置き場\\t／\\tエレベーター／\\tタイル張り\\t公営水道／\\t下水／\\t都市ガス                                1540\nエアコン付\\tシューズボックス／\\tバルコニー／\\tフローリング／\\t室内洗濯機置場／\\t敷地内ごみ置き場\\t／\\tエレベーター／\\tタイル張り\\t公営水道／\\t下水／\\t都市ガス                                                811\n冷房／\\tエアコン付\\tシューズボックス／\\tバルコニー／\\tフローリング／\\t24時間換気システム\\t／\\t室内洗濯機置場／\\t敷地内ごみ置き場\\t／\\tエレベーター／\\tタイル張り\\t公営水道／\\t下水／\\t都市ガス                            602\nエアコン付\\tシューズボックス／\\tバルコニー／\\tフローリング／\\t24時間換気システム\\t／\\t2面採光／\\t室内洗濯機置場／\\t敷地内ごみ置き場\\t／\\tエレベーター／\\tタイル張り\\t公営水道／\\t下水／\\t都市ガス                          564\nエアコン付\\tシューズボックス／\\tバルコニー／\\tフローリング／\\t室内洗濯機置場／\\t敷地内ごみ置き場\\t／\\tエレベーター\\t公営水道／\\t下水／\\t都市ガス                                                        412\n                                                                                                                                         ... \nエアコン付／\\t床暖房\\tウォークインクローゼット\\tバルコニー／\\tフローリング\\t公営水道／\\t下水／\\t都市ガス                                                                                 1\n床下収納\\tシューズボックス／\\tバルコニー／\\tフローリング／\\t室内洗濯機置場／\\t敷地内ごみ置き場\\t／\\tタイル張り\\t公営水道／\\t下水／\\t都市ガス                                                            1\nエアコン付\\tバルコニー／\\tフローリング／\\t24時間換気システム\\t／\\t2面採光／\\t室外洗濯機置場\\t公営水道／\\t下水／\\tプロパンガス                                                                   1\n冷房／\\tエアコン付／\\t床暖房\\tシューズボックス／\\tバルコニー／\\tフローリング／\\t24時間換気システム\\t／\\t室内洗濯機置場／\\t敷地内ごみ置き場\\t／\\tエレベーター／\\tタイル張り／\\tオール電化／\\tバリアフリー\\t公営水道／\\t下水／\\t都市ガス       1\nシューズボックス／\\tバルコニー／\\tフローリング／\\t2面採光／\\tペアガラス／\\t室内洗濯機置場／\\tタイル張り\\t公営水道／\\t下水／\\t都市ガス                                                                1\nName: Facility, Length: 6220, dtype: int64"
     },
     "metadata": {},
     "output_type": "execute_result",
     "execution_count": 56
    }
   ],
   "source": [
    "train['Facility'].value_counts()"
   ],
   "metadata": {
    "collapsed": false,
    "pycharm": {
     "name": "#%%\n",
     "is_executing": false
    }
   }
  },
  {
   "cell_type": "code",
   "execution_count": 57,
   "outputs": [],
   "source": [
    "for dataset in train_test_data:\n",
    "    dataset['aircon'] = dataset['Facility'].str.extract('(エアコン付)')\n",
    "    dataset['shoesbox'] = dataset['Facility'].str.extract('(シューズボックス)')\n",
    "    dataset['balcony'] = dataset['Facility'].str.extract('(バルコニー)')\n",
    "    dataset['flooring'] = dataset['Facility'].str.extract('(フローリング)')\n",
    "    dataset['ventilation'] = dataset['Facility'].str.extract('(24時間換気システム)')\n",
    "    dataset['washingmachine'] = dataset['Facility'].str.extract('(室内洗濯機置場)')\n",
    "    dataset['garbage'] = dataset['Facility'].str.extract('(敷地内ごみ置き場)')\n",
    "    dataset['elevator'] = dataset['Facility'].str.extract('(エレベーター)')\n",
    "    dataset['tiled'] = dataset['Facility'].str.extract('(タイル張り)')\n",
    "    dataset['publicwater'] = dataset['Facility'].str.extract('(公営水道)')\n",
    "    dataset['sewage'] = dataset['Facility'].str.extract('(下水)')\n",
    "    dataset['citygas'] = dataset['Facility'].str.extract('(都市ガス)')"
   ],
   "metadata": {
    "collapsed": false,
    "pycharm": {
     "name": "#%%\n",
     "is_executing": false
    }
   }
  },
  {
   "cell_type": "code",
   "execution_count": 58,
   "outputs": [],
   "source": [
    "for dataset in train_test_data:\n",
    "    dataset['aircon'] = dataset['aircon'].apply(lambda x: True if x == 'エアコン付' else False)\n",
    "    dataset['shoesbox'] = dataset['shoesbox'].apply(lambda x: True if x == 'シューズボックス' else False)\n",
    "    dataset['balcony'] = dataset['balcony'].apply(lambda x: True if x == 'バルコニー' else False)\n",
    "    dataset['flooring'] = dataset['flooring'].apply(lambda x: True if x == 'フローリング' else False)\n",
    "    dataset['ventilation'] = dataset['ventilation'].apply(lambda x: True if x == '24時間換気システム' else False)\n",
    "    dataset['washingmachine'] = dataset['washingmachine'].apply(lambda x: True if x == '室内洗濯機置場' else False)\n",
    "    dataset['garbage'] = dataset['garbage'].apply(lambda x: True if x == '敷地内ごみ置き場' else False)\n",
    "    dataset['elevator'] = dataset['elevator'].apply(lambda x: True if x == 'エレベーター' else False)\n",
    "    dataset['tiled'] = dataset['tiled'].apply(lambda x: True if x == 'タイル張り' else False)\n",
    "    dataset['publicwater'] = dataset['publicwater'].apply(lambda x: True if x == '公営水道' else False)\n",
    "    dataset['sewage'] = dataset['sewage'].apply(lambda x: True if x == '下水' else False)\n",
    "    dataset['citygas'] = dataset['citygas'].apply(lambda x: True if x == '都市ガス' else False)"
   ],
   "metadata": {
    "collapsed": false,
    "pycharm": {
     "name": "#%%\n",
     "is_executing": false
    }
   }
  },
  {
   "cell_type": "code",
   "execution_count": 59,
   "outputs": [
    {
     "data": {
      "text/plain": "   id  aircon  shoesbox  balcony  flooring  ventilation  washingmachine  \\\n0   1    True      True     True      True        False            True   \n1   2    True      True     True      True        False            True   \n2   3    True      True     True      True        False            True   \n3   4    True      True     True     False        False            True   \n4   5   False     False     True      True        False            True   \n5   6    True      True     True      True         True            True   \n6   7    True      True     True      True         True            True   \n7   8    True      True     True      True         True            True   \n8   9    True     False     True      True        False            True   \n9  10    True     False     True      True        False            True   \n\n   garbage  elevator  tiled  publicwater  sewage  citygas  \n0     True      True  False         True    True     True  \n1     True      True   True        False   False    False  \n2     True      True   True         True    True     True  \n3    False      True  False         True    True     True  \n4    False     False  False         True    True    False  \n5    False      True   True         True    True     True  \n6     True      True  False         True    True     True  \n7     True      True   True         True    True     True  \n8    False     False  False         True   False     True  \n9    False     False  False         True   False     True  ",
      "text/html": "<div>\n<style scoped>\n    .dataframe tbody tr th:only-of-type {\n        vertical-align: middle;\n    }\n\n    .dataframe tbody tr th {\n        vertical-align: top;\n    }\n\n    .dataframe thead th {\n        text-align: right;\n    }\n</style>\n<table border=\"1\" class=\"dataframe\">\n  <thead>\n    <tr style=\"text-align: right;\">\n      <th></th>\n      <th>id</th>\n      <th>aircon</th>\n      <th>shoesbox</th>\n      <th>balcony</th>\n      <th>flooring</th>\n      <th>ventilation</th>\n      <th>washingmachine</th>\n      <th>garbage</th>\n      <th>elevator</th>\n      <th>tiled</th>\n      <th>publicwater</th>\n      <th>sewage</th>\n      <th>citygas</th>\n    </tr>\n  </thead>\n  <tbody>\n    <tr>\n      <td>0</td>\n      <td>1</td>\n      <td>True</td>\n      <td>True</td>\n      <td>True</td>\n      <td>True</td>\n      <td>False</td>\n      <td>True</td>\n      <td>True</td>\n      <td>True</td>\n      <td>False</td>\n      <td>True</td>\n      <td>True</td>\n      <td>True</td>\n    </tr>\n    <tr>\n      <td>1</td>\n      <td>2</td>\n      <td>True</td>\n      <td>True</td>\n      <td>True</td>\n      <td>True</td>\n      <td>False</td>\n      <td>True</td>\n      <td>True</td>\n      <td>True</td>\n      <td>True</td>\n      <td>False</td>\n      <td>False</td>\n      <td>False</td>\n    </tr>\n    <tr>\n      <td>2</td>\n      <td>3</td>\n      <td>True</td>\n      <td>True</td>\n      <td>True</td>\n      <td>True</td>\n      <td>False</td>\n      <td>True</td>\n      <td>True</td>\n      <td>True</td>\n      <td>True</td>\n      <td>True</td>\n      <td>True</td>\n      <td>True</td>\n    </tr>\n    <tr>\n      <td>3</td>\n      <td>4</td>\n      <td>True</td>\n      <td>True</td>\n      <td>True</td>\n      <td>False</td>\n      <td>False</td>\n      <td>True</td>\n      <td>False</td>\n      <td>True</td>\n      <td>False</td>\n      <td>True</td>\n      <td>True</td>\n      <td>True</td>\n    </tr>\n    <tr>\n      <td>4</td>\n      <td>5</td>\n      <td>False</td>\n      <td>False</td>\n      <td>True</td>\n      <td>True</td>\n      <td>False</td>\n      <td>True</td>\n      <td>False</td>\n      <td>False</td>\n      <td>False</td>\n      <td>True</td>\n      <td>True</td>\n      <td>False</td>\n    </tr>\n    <tr>\n      <td>5</td>\n      <td>6</td>\n      <td>True</td>\n      <td>True</td>\n      <td>True</td>\n      <td>True</td>\n      <td>True</td>\n      <td>True</td>\n      <td>False</td>\n      <td>True</td>\n      <td>True</td>\n      <td>True</td>\n      <td>True</td>\n      <td>True</td>\n    </tr>\n    <tr>\n      <td>6</td>\n      <td>7</td>\n      <td>True</td>\n      <td>True</td>\n      <td>True</td>\n      <td>True</td>\n      <td>True</td>\n      <td>True</td>\n      <td>True</td>\n      <td>True</td>\n      <td>False</td>\n      <td>True</td>\n      <td>True</td>\n      <td>True</td>\n    </tr>\n    <tr>\n      <td>7</td>\n      <td>8</td>\n      <td>True</td>\n      <td>True</td>\n      <td>True</td>\n      <td>True</td>\n      <td>True</td>\n      <td>True</td>\n      <td>True</td>\n      <td>True</td>\n      <td>True</td>\n      <td>True</td>\n      <td>True</td>\n      <td>True</td>\n    </tr>\n    <tr>\n      <td>8</td>\n      <td>9</td>\n      <td>True</td>\n      <td>False</td>\n      <td>True</td>\n      <td>True</td>\n      <td>False</td>\n      <td>True</td>\n      <td>False</td>\n      <td>False</td>\n      <td>False</td>\n      <td>True</td>\n      <td>False</td>\n      <td>True</td>\n    </tr>\n    <tr>\n      <td>9</td>\n      <td>10</td>\n      <td>True</td>\n      <td>False</td>\n      <td>True</td>\n      <td>True</td>\n      <td>False</td>\n      <td>True</td>\n      <td>False</td>\n      <td>False</td>\n      <td>False</td>\n      <td>True</td>\n      <td>False</td>\n      <td>True</td>\n    </tr>\n  </tbody>\n</table>\n</div>"
     },
     "metadata": {},
     "output_type": "execute_result",
     "execution_count": 59
    }
   ],
   "source": [
    "train[['id','aircon','shoesbox','balcony','flooring','ventilation','washingmachine',\n",
    "       'garbage','elevator','tiled','publicwater','sewage','citygas']].groupby(['id','aircon'],as_index=False).mean().head(10)"
   ],
   "metadata": {
    "collapsed": false,
    "pycharm": {
     "name": "#%%\n",
     "is_executing": false
    }
   }
  },
  {
   "cell_type": "code",
   "execution_count": 60,
   "outputs": [
    {
     "data": {
      "text/plain": "インターネット対応                                                        2618\n光ファイバー                                                           2326\nインターネット対応／\\t光ファイバー                                               1561\n光ファイバー／\\tCATV                                                    1480\nインターネット対応／\\t光ファイバー／\\tCATV／\\tCSアンテナ／\\tBSアンテナ                      1357\n                                                                 ... \nインターネット対応／\\t高速インターネット／\\tBSアンテナ／\\tインターネット使用料無料                       1\n光ファイバー／\\tCATV／\\t有線放送                                                1\nインターネット対応／\\tCSアンテナ／\\tBSアンテナ／\\t有線放送／\\tインターネット使用料無料                   1\n高速インターネット／\\tCATV／\\tCSアンテナ／\\t有線放送                                    1\nインターネット対応／\\t高速インターネット／\\t光ファイバー／\\tCATV／\\tCSアンテナ／\\tインターネット使用料無料       1\nName: Internet, Length: 139, dtype: int64"
     },
     "metadata": {},
     "output_type": "execute_result",
     "execution_count": 60
    }
   ],
   "source": [
    "train['Internet'].value_counts()"
   ],
   "metadata": {
    "collapsed": false,
    "pycharm": {
     "name": "#%%\n",
     "is_executing": false
    }
   }
  },
  {
   "cell_type": "code",
   "execution_count": 61,
   "outputs": [],
   "source": [
    "for dataset in train_test_data:\n",
    "    dataset['internetcompatible'] = dataset['Internet'].str.extract('(インターネット対応)')\n",
    "    dataset['opticalfiber'] = dataset['Internet'].str.extract('(光ファイバー)')\n",
    "    dataset['catv'] = dataset['Internet'].str.extract('(CATV)')\n",
    "    dataset['csantenna'] = dataset['Internet'].str.extract('(CSアンテナ)')\n",
    "    dataset['bsantenna'] = dataset['Internet'].str.extract('(BSアンテナ)')\n",
    "    dataset['freeusage'] = dataset['Internet'].str.extract('(インターネット使用料無料)')\n",
    "    dataset['highspeed'] = dataset['Internet'].str.extract('(高速インターネット)')\n",
    "    dataset['cable'] = dataset['Internet'].str.extract('(有線放送)')"
   ],
   "metadata": {
    "collapsed": false,
    "pycharm": {
     "name": "#%%\n",
     "is_executing": false
    }
   }
  },
  {
   "cell_type": "code",
   "execution_count": 62,
   "outputs": [],
   "source": [
    "for dataset in train_test_data:\n",
    "    dataset['internetcompatible'] = dataset['internetcompatible'].apply(lambda x: True if x == 'インターネット対応' else False)\n",
    "    dataset['opticalfiber'] = dataset['opticalfiber'].apply(lambda x: True if x == '光ファイバー' else False)\n",
    "    dataset['catv'] = dataset['catv'].apply(lambda x: True if x == 'CATV' else False)\n",
    "    dataset['csantenna'] = dataset['csantenna'].apply(lambda x: True if x == 'CSアンテナ' else False)\n",
    "    dataset['bsantenna'] = dataset['bsantenna'].apply(lambda x: True if x == 'BSアンテナ' else False)\n",
    "    dataset['freeusage'] = dataset['freeusage'].apply(lambda x: True if x == 'インターネット使用料無料' else False)\n",
    "    dataset['highspeed'] = dataset['highspeed'].apply(lambda x: True if x == '高速インターネット' else False)\n",
    "    dataset['cable'] = dataset['cable'].apply(lambda x: True if x == '有線放送' else False)\n",
    "\n"
   ],
   "metadata": {
    "collapsed": false,
    "pycharm": {
     "name": "#%%\n",
     "is_executing": false
    }
   }
  },
  {
   "cell_type": "code",
   "execution_count": 63,
   "outputs": [
    {
     "data": {
      "text/plain": "   id  internetcompatible  opticalfiber   catv  csantenna  bsantenna  \\\n0   1                True         False   True       True       True   \n1   2                True         False  False      False      False   \n2   3                True          True  False       True       True   \n3   4                True          True  False      False      False   \n4   5               False         False  False      False      False   \n5   6                True          True  False      False      False   \n6   7                True          True   True      False       True   \n7   8               False          True   True       True       True   \n8   9               False         False  False      False      False   \n9  10               False          True   True      False      False   \n\n   freeusage  highspeed  cable  \n0      False      False  False  \n1      False      False  False  \n2      False      False  False  \n3      False      False  False  \n4      False      False  False  \n5      False      False  False  \n6      False      False  False  \n7      False      False  False  \n8      False      False  False  \n9      False      False  False  ",
      "text/html": "<div>\n<style scoped>\n    .dataframe tbody tr th:only-of-type {\n        vertical-align: middle;\n    }\n\n    .dataframe tbody tr th {\n        vertical-align: top;\n    }\n\n    .dataframe thead th {\n        text-align: right;\n    }\n</style>\n<table border=\"1\" class=\"dataframe\">\n  <thead>\n    <tr style=\"text-align: right;\">\n      <th></th>\n      <th>id</th>\n      <th>internetcompatible</th>\n      <th>opticalfiber</th>\n      <th>catv</th>\n      <th>csantenna</th>\n      <th>bsantenna</th>\n      <th>freeusage</th>\n      <th>highspeed</th>\n      <th>cable</th>\n    </tr>\n  </thead>\n  <tbody>\n    <tr>\n      <td>0</td>\n      <td>1</td>\n      <td>True</td>\n      <td>False</td>\n      <td>True</td>\n      <td>True</td>\n      <td>True</td>\n      <td>False</td>\n      <td>False</td>\n      <td>False</td>\n    </tr>\n    <tr>\n      <td>1</td>\n      <td>2</td>\n      <td>True</td>\n      <td>False</td>\n      <td>False</td>\n      <td>False</td>\n      <td>False</td>\n      <td>False</td>\n      <td>False</td>\n      <td>False</td>\n    </tr>\n    <tr>\n      <td>2</td>\n      <td>3</td>\n      <td>True</td>\n      <td>True</td>\n      <td>False</td>\n      <td>True</td>\n      <td>True</td>\n      <td>False</td>\n      <td>False</td>\n      <td>False</td>\n    </tr>\n    <tr>\n      <td>3</td>\n      <td>4</td>\n      <td>True</td>\n      <td>True</td>\n      <td>False</td>\n      <td>False</td>\n      <td>False</td>\n      <td>False</td>\n      <td>False</td>\n      <td>False</td>\n    </tr>\n    <tr>\n      <td>4</td>\n      <td>5</td>\n      <td>False</td>\n      <td>False</td>\n      <td>False</td>\n      <td>False</td>\n      <td>False</td>\n      <td>False</td>\n      <td>False</td>\n      <td>False</td>\n    </tr>\n    <tr>\n      <td>5</td>\n      <td>6</td>\n      <td>True</td>\n      <td>True</td>\n      <td>False</td>\n      <td>False</td>\n      <td>False</td>\n      <td>False</td>\n      <td>False</td>\n      <td>False</td>\n    </tr>\n    <tr>\n      <td>6</td>\n      <td>7</td>\n      <td>True</td>\n      <td>True</td>\n      <td>True</td>\n      <td>False</td>\n      <td>True</td>\n      <td>False</td>\n      <td>False</td>\n      <td>False</td>\n    </tr>\n    <tr>\n      <td>7</td>\n      <td>8</td>\n      <td>False</td>\n      <td>True</td>\n      <td>True</td>\n      <td>True</td>\n      <td>True</td>\n      <td>False</td>\n      <td>False</td>\n      <td>False</td>\n    </tr>\n    <tr>\n      <td>8</td>\n      <td>9</td>\n      <td>False</td>\n      <td>False</td>\n      <td>False</td>\n      <td>False</td>\n      <td>False</td>\n      <td>False</td>\n      <td>False</td>\n      <td>False</td>\n    </tr>\n    <tr>\n      <td>9</td>\n      <td>10</td>\n      <td>False</td>\n      <td>True</td>\n      <td>True</td>\n      <td>False</td>\n      <td>False</td>\n      <td>False</td>\n      <td>False</td>\n      <td>False</td>\n    </tr>\n  </tbody>\n</table>\n</div>"
     },
     "metadata": {},
     "output_type": "execute_result",
     "execution_count": 63
    }
   ],
   "source": [
    "train[['id','internetcompatible','opticalfiber','catv','csantenna',\n",
    "       'bsantenna','freeusage','highspeed','cable']].groupby(['id','internetcompatible'],as_index=False).mean().head(10)"
   ],
   "metadata": {
    "collapsed": false,
    "pycharm": {
     "name": "#%%\n",
     "is_executing": false
    }
   }
  },
  {
   "cell_type": "code",
   "execution_count": 64,
   "outputs": [
    {
     "data": {
      "text/plain": "駐車場\\t無                                                     3269\n駐輪場\\t空有\\t駐車場\\t無\\tバイク置き場\\t無                                 2375\n駐車場\\t無\\t駐輪場\\t無\\tバイク置き場\\t無                                  1832\n駐輪場\\t空有                                                    1246\n駐輪場\\t空有\\tバイク置き場\\t無                                          957\n                                                           ... \n駐輪場\\t空有\\t0円\\t駐車場\\t近隣\\t16,200円\\t距離100m\\t(平置駐)\\tバイク置き場\\t無       1\n駐車場\\t空有(1台)\\t29,160円                                          1\n駐車場\\t空有(1台)\\t24,840円\\t距離2m\\t駐輪場\\t空有\\t0円                       1\n駐輪場\\t空有\\t駐車場\\t近隣\\t32,000円\\t距離100m                             1\n駐輪場\\t空有\\tバイク置き場\\t空有\\t駐車場\\t近隣\\t35,000円\\t距離159m                 1\nName: Parking, Length: 3911, dtype: int64"
     },
     "metadata": {},
     "output_type": "execute_result",
     "execution_count": 64
    }
   ],
   "source": [
    "train['Parking'].value_counts()"
   ],
   "metadata": {
    "collapsed": false,
    "pycharm": {
     "name": "#%%\n",
     "is_executing": false
    }
   }
  },
  {
   "cell_type": "code",
   "execution_count": 65,
   "outputs": [],
   "source": [
    "for dataset in train_test_data:\n",
    "    dataset['carparking'] = dataset['Parking'].str.extract('(駐車場空有)')\n",
    "    dataset['bikeparking'] = dataset['Parking'].str.extract('(駐輪場空有)')\n",
    "    dataset['motorparking'] = dataset['Parking'].str.extract('(バイク置き場空有)')"
   ],
   "metadata": {
    "collapsed": false,
    "pycharm": {
     "name": "#%%\n",
     "is_executing": false
    }
   }
  },
  {
   "cell_type": "code",
   "execution_count": 66,
   "outputs": [],
   "source": [
    "for dataset in train_test_data:\n",
    "    dataset['carparking'] = dataset['carparking'].apply(lambda x: True if x == '駐車場空有' else False)\n",
    "    dataset['bikeparking'] = dataset['bikeparking'].apply(lambda x: True if x == '駐輪場空有' else False)\n",
    "    dataset['motorparking'] = dataset['motorparking'].apply(lambda x: True if x == 'バイク置き場空有' else False)"
   ],
   "metadata": {
    "collapsed": false,
    "pycharm": {
     "name": "#%%\n",
     "is_executing": false
    }
   }
  },
  {
   "cell_type": "code",
   "execution_count": 67,
   "outputs": [
    {
     "data": {
      "text/plain": "((31470, 83), (31262, 82))"
     },
     "metadata": {},
     "output_type": "execute_result",
     "execution_count": 67
    }
   ],
   "source": [
    "train.shape, test.shape"
   ],
   "metadata": {
    "collapsed": false,
    "pycharm": {
     "name": "#%%\n",
     "is_executing": false
    }
   }
  },
  {
   "cell_type": "code",
   "execution_count": 68,
   "outputs": [],
   "source": [
    "#train.info()"
   ],
   "metadata": {
    "collapsed": false,
    "pycharm": {
     "name": "#%%\n",
     "is_executing": false
    }
   }
  },
  {
   "cell_type": "code",
   "execution_count": 69,
   "outputs": [],
   "source": [
    "drop_columns = ['Location','Access','Type','Bath','Kitchen','Internet','Facility',\n",
    "                'Parking','Surround','period','month','Floor','Contract']\n",
    "train.drop(drop_columns,axis=1,inplace=True)"
   ],
   "metadata": {
    "collapsed": false,
    "pycharm": {
     "name": "#%%\n",
     "is_executing": false
    }
   }
  },
  {
   "cell_type": "code",
   "execution_count": 70,
   "outputs": [
    {
     "data": {
      "text/plain": "(31470, 70)"
     },
     "metadata": {},
     "output_type": "execute_result",
     "execution_count": 70
    }
   ],
   "source": [
    "train.shape"
   ],
   "metadata": {
    "collapsed": false,
    "pycharm": {
     "name": "#%%\n",
     "is_executing": false
    }
   }
  },
  {
   "cell_type": "code",
   "execution_count": 71,
   "outputs": [],
   "source": [
    "#train.info()"
   ],
   "metadata": {
    "collapsed": false,
    "pycharm": {
     "name": "#%%\n",
     "is_executing": false
    }
   }
  },
  {
   "cell_type": "code",
   "execution_count": 72,
   "outputs": [],
   "source": [
    "def makeCountFull(train, test, categorical_features=None, report=True):\n",
    "    add_cols = categorical_features\n",
    "    if report:\n",
    "        print('add_cols: ', add_cols)\n",
    "    for add_col in add_cols:\n",
    "        train[add_col + '_le'] = train[add_col].map(pd.concat([train[add_col], test[add_col]], ignore_index=True).value_counts(dropna=False))\n",
    "        test[add_col + '_le'] = test[add_col].map(pd.concat([train[add_col], test[add_col]], ignore_index=True).value_counts(dropna=False))\n",
    "    return train, test"
   ],
   "metadata": {
    "collapsed": false,
    "pycharm": {
     "name": "#%%\n",
     "is_executing": false
    }
   }
  },
  {
   "cell_type": "code",
   "execution_count": 73,
   "outputs": [
    {
     "name": "stdout",
     "text": [
      "add_cols:  ['Direction', 'Material', 'City', 'Station']\n"
     ],
     "output_type": "stream"
    }
   ],
   "source": [
    "from sklearn.preprocessing import LabelEncoder\n",
    "\n",
    "cat_features = ['Direction','Material','City','Station']\n",
    "train, test = makeCountFull(train, test, cat_features)\n",
    "cat_cols = ['Direction','Material','City','Station']\n",
    "for col in cat_cols:\n",
    "    train[col] = train[col].astype(str)\n",
    "    test[col] = test[col].astype(str)\n",
    "    le = LabelEncoder()\n",
    "    le.fit(list(train[col])+list(test[col]))\n",
    "    train[col] = le.transform(train[col])\n",
    "    test[col]    = le.transform(test[col])    \n",
    "    train[col] = train[col].astype('category')\n",
    "    test[col] = test[col].astype('category')"
   ],
   "metadata": {
    "collapsed": false,
    "pycharm": {
     "name": "#%%\n",
     "is_executing": false
    }
   }
  },
  {
   "cell_type": "code",
   "execution_count": 74,
   "outputs": [],
   "source": [
    "train.drop(cat_features,axis=1,inplace=True)"
   ],
   "metadata": {
    "collapsed": false,
    "pycharm": {
     "name": "#%%\n",
     "is_executing": false
    }
   }
  },
  {
   "cell_type": "code",
   "execution_count": 75,
   "outputs": [
    {
     "name": "stdout",
     "text": [
      "<class 'pandas.core.frame.DataFrame'>\nRangeIndex: 31470 entries, 0 to 31469\nData columns (total 70 columns):\nid                    31470 non-null int64\nRent                  31470 non-null int64\nAge                   31470 non-null object\nArea                  31470 non-null object\nR                     31470 non-null object\nK                     31470 non-null bool\nL                     31470 non-null bool\nD                     31470 non-null bool\nS                     31470 non-null bool\nMinute                31470 non-null object\nmin                   31470 non-null object\nprivatebath           31470 non-null bool\nprivatetoilet         31470 non-null bool\nbathtoilet            31470 non-null bool\nsharedtoilet          31470 non-null bool\nshower                31470 non-null bool\ndryer                 31470 non-null bool\nwashstand             31470 non-null bool\ndressing              31470 non-null bool\nwarmseat              31470 non-null bool\nmemorial              31470 non-null bool\ngasstove              31470 non-null bool\n2stovetops            31470 non-null bool\n3stovetops            31470 non-null bool\nsystemkitchen         31470 non-null bool\nhotwatersupply        31470 non-null bool\nseparatekitchen       31470 non-null bool\nIH                    31470 non-null bool\ncounterkitchen        31470 non-null bool\nshapekitchen          31470 non-null bool\nfridge                31470 non-null bool\nsupermarket           31470 non-null bool\nkonbini               31470 non-null bool\nuniv                  31470 non-null bool\ndrugstore             31470 non-null bool\nrestaurant            31470 non-null bool\nhospital              31470 non-null bool\npark                  31470 non-null bool\nlibrary               31470 non-null bool\nschool                31470 non-null bool\nbank                  31470 non-null bool\nmetters               22038 non-null object\nmetter                31470 non-null object\naircon                31470 non-null bool\nshoesbox              31470 non-null bool\nbalcony               31470 non-null bool\nflooring              31470 non-null bool\nventilation           31470 non-null bool\nwashingmachine        31470 non-null bool\ngarbage               31470 non-null bool\nelevator              31470 non-null bool\ntiled                 31470 non-null bool\npublicwater           31470 non-null bool\nsewage                31470 non-null bool\ncitygas               31470 non-null bool\ninternetcompatible    31470 non-null bool\nopticalfiber          31470 non-null bool\ncatv                  31470 non-null bool\ncsantenna             31470 non-null bool\nbsantenna             31470 non-null bool\nfreeusage             31470 non-null bool\nhighspeed             31470 non-null bool\ncable                 31470 non-null bool\ncarparking            31470 non-null bool\nbikeparking           31470 non-null bool\nmotorparking          31470 non-null bool\nDirection_le          31470 non-null int64\nMaterial_le           31470 non-null int64\nCity_le               31470 non-null int64\nStation_le            31470 non-null int64\ndtypes: bool(57), int64(6), object(7)\nmemory usage: 4.8+ MB\n"
     ],
     "output_type": "stream"
    }
   ],
   "source": [
    "train.info()"
   ],
   "metadata": {
    "collapsed": false,
    "pycharm": {
     "name": "#%%\n",
     "is_executing": false
    }
   }
  },
  {
   "cell_type": "code",
   "execution_count": 76,
   "outputs": [
    {
     "data": {
      "text/plain": "0"
     },
     "metadata": {},
     "output_type": "execute_result",
     "execution_count": 76
    }
   ],
   "source": [
    "train['Age'].isnull().sum()"
   ],
   "metadata": {
    "collapsed": false,
    "pycharm": {
     "name": "#%%\n",
     "is_executing": false
    }
   }
  },
  {
   "cell_type": "code",
   "execution_count": 77,
   "outputs": [
    {
     "name": "stdout",
     "text": [
      "add_cols:  ['Age', 'Area', 'R', 'min', 'metter']\n"
     ],
     "output_type": "stream"
    }
   ],
   "source": [
    "num_features = ['Age','Area','R','min','metter']\n",
    "train, test = makeCountFull(train, test, num_features)\n",
    "num_cols = ['Age','Area','R','min','metter']\n",
    "for col in num_cols:\n",
    "    train[col] = train[col].astype(int)\n",
    "    test[col] = test[col].astype(int)\n",
    "    le = LabelEncoder()\n",
    "    le.fit(list(train[col])+list(test[col]))\n",
    "    #le.fit(list(train[col]))\n",
    "    train[col] = le.transform(train[col])\n",
    "    test[col]    = le.transform(test[col])    \n",
    "    train[col] = train[col].astype('int64')\n",
    "    test[col] = test[col].astype('int64')\n",
    "    #train['Age'].astype(int)\n",
    "    #train['Area'].astype(int)\n",
    "    #train['Floor'].astype(int)\n",
    "    #train['Contract'].astype(int)\n",
    "    #train['R'].astype(int)"
   ],
   "metadata": {
    "collapsed": false,
    "pycharm": {
     "name": "#%%\n",
     "is_executing": false
    }
   }
  },
  {
   "cell_type": "code",
   "execution_count": 78,
   "outputs": [
    {
     "name": "stdout",
     "text": [
      "<class 'pandas.core.frame.DataFrame'>\nRangeIndex: 31470 entries, 0 to 31469\nData columns (total 75 columns):\nid                    31470 non-null int64\nRent                  31470 non-null int64\nAge                   31470 non-null int64\nArea                  31470 non-null int64\nR                     31470 non-null int64\nK                     31470 non-null bool\nL                     31470 non-null bool\nD                     31470 non-null bool\nS                     31470 non-null bool\nMinute                31470 non-null object\nmin                   31470 non-null int64\nprivatebath           31470 non-null bool\nprivatetoilet         31470 non-null bool\nbathtoilet            31470 non-null bool\nsharedtoilet          31470 non-null bool\nshower                31470 non-null bool\ndryer                 31470 non-null bool\nwashstand             31470 non-null bool\ndressing              31470 non-null bool\nwarmseat              31470 non-null bool\nmemorial              31470 non-null bool\ngasstove              31470 non-null bool\n2stovetops            31470 non-null bool\n3stovetops            31470 non-null bool\nsystemkitchen         31470 non-null bool\nhotwatersupply        31470 non-null bool\nseparatekitchen       31470 non-null bool\nIH                    31470 non-null bool\ncounterkitchen        31470 non-null bool\nshapekitchen          31470 non-null bool\nfridge                31470 non-null bool\nsupermarket           31470 non-null bool\nkonbini               31470 non-null bool\nuniv                  31470 non-null bool\ndrugstore             31470 non-null bool\nrestaurant            31470 non-null bool\nhospital              31470 non-null bool\npark                  31470 non-null bool\nlibrary               31470 non-null bool\nschool                31470 non-null bool\nbank                  31470 non-null bool\nmetters               22038 non-null object\nmetter                31470 non-null int64\naircon                31470 non-null bool\nshoesbox              31470 non-null bool\nbalcony               31470 non-null bool\nflooring              31470 non-null bool\nventilation           31470 non-null bool\nwashingmachine        31470 non-null bool\ngarbage               31470 non-null bool\nelevator              31470 non-null bool\ntiled                 31470 non-null bool\npublicwater           31470 non-null bool\nsewage                31470 non-null bool\ncitygas               31470 non-null bool\ninternetcompatible    31470 non-null bool\nopticalfiber          31470 non-null bool\ncatv                  31470 non-null bool\ncsantenna             31470 non-null bool\nbsantenna             31470 non-null bool\nfreeusage             31470 non-null bool\nhighspeed             31470 non-null bool\ncable                 31470 non-null bool\ncarparking            31470 non-null bool\nbikeparking           31470 non-null bool\nmotorparking          31470 non-null bool\nDirection_le          31470 non-null int64\nMaterial_le           31470 non-null int64\nCity_le               31470 non-null int64\nStation_le            31470 non-null int64\nAge_le                31470 non-null int64\nArea_le               31470 non-null int64\nR_le                  31470 non-null int64\nmin_le                31470 non-null int64\nmetter_le             31470 non-null int64\ndtypes: bool(57), int64(16), object(2)\nmemory usage: 6.0+ MB\n"
     ],
     "output_type": "stream"
    }
   ],
   "source": [
    "train.info()"
   ],
   "metadata": {
    "collapsed": false,
    "pycharm": {
     "name": "#%%\n",
     "is_executing": false
    }
   }
  },
  {
   "cell_type": "code",
   "execution_count": 79,
   "outputs": [],
   "source": [
    "train.drop(['S','separatekitchen','shapekitchen','fridge','univ','park','library','bank','highspeed','cable','carparking','bikeparking','motorparking','Minute','Age_le','min_le','Area_le','R_le','metters'],axis=1,inplace=True)"
   ],
   "metadata": {
    "collapsed": false,
    "pycharm": {
     "name": "#%%\n",
     "is_executing": false
    }
   }
  },
  {
   "cell_type": "code",
   "execution_count": 80,
   "outputs": [
    {
     "name": "stdout",
     "text": [
      "<class 'pandas.core.frame.DataFrame'>\nRangeIndex: 31470 entries, 0 to 31469\nData columns (total 56 columns):\nid                    31470 non-null int64\nRent                  31470 non-null int64\nAge                   31470 non-null int64\nArea                  31470 non-null int64\nR                     31470 non-null int64\nK                     31470 non-null bool\nL                     31470 non-null bool\nD                     31470 non-null bool\nmin                   31470 non-null int64\nprivatebath           31470 non-null bool\nprivatetoilet         31470 non-null bool\nbathtoilet            31470 non-null bool\nsharedtoilet          31470 non-null bool\nshower                31470 non-null bool\ndryer                 31470 non-null bool\nwashstand             31470 non-null bool\ndressing              31470 non-null bool\nwarmseat              31470 non-null bool\nmemorial              31470 non-null bool\ngasstove              31470 non-null bool\n2stovetops            31470 non-null bool\n3stovetops            31470 non-null bool\nsystemkitchen         31470 non-null bool\nhotwatersupply        31470 non-null bool\nIH                    31470 non-null bool\ncounterkitchen        31470 non-null bool\nsupermarket           31470 non-null bool\nkonbini               31470 non-null bool\ndrugstore             31470 non-null bool\nrestaurant            31470 non-null bool\nhospital              31470 non-null bool\nschool                31470 non-null bool\nmetter                31470 non-null int64\naircon                31470 non-null bool\nshoesbox              31470 non-null bool\nbalcony               31470 non-null bool\nflooring              31470 non-null bool\nventilation           31470 non-null bool\nwashingmachine        31470 non-null bool\ngarbage               31470 non-null bool\nelevator              31470 non-null bool\ntiled                 31470 non-null bool\npublicwater           31470 non-null bool\nsewage                31470 non-null bool\ncitygas               31470 non-null bool\ninternetcompatible    31470 non-null bool\nopticalfiber          31470 non-null bool\ncatv                  31470 non-null bool\ncsantenna             31470 non-null bool\nbsantenna             31470 non-null bool\nfreeusage             31470 non-null bool\nDirection_le          31470 non-null int64\nMaterial_le           31470 non-null int64\nCity_le               31470 non-null int64\nStation_le            31470 non-null int64\nmetter_le             31470 non-null int64\ndtypes: bool(44), int64(12)\nmemory usage: 4.2 MB\n"
     ],
     "output_type": "stream"
    }
   ],
   "source": [
    "train.info()"
   ],
   "metadata": {
    "collapsed": false,
    "pycharm": {
     "name": "#%%\n",
     "is_executing": false
    }
   }
  },
  {
   "cell_type": "code",
   "execution_count": 81,
   "outputs": [],
   "source": [
    "test.drop(drop_columns,axis=1,inplace=True)"
   ],
   "metadata": {
    "collapsed": false,
    "pycharm": {
     "name": "#%%\n",
     "is_executing": false
    }
   }
  },
  {
   "cell_type": "code",
   "execution_count": 82,
   "outputs": [],
   "source": [
    "test.drop(cat_features,axis=1,inplace=True)\n",
    "test.drop(['S','separatekitchen','shapekitchen','fridge','univ','park','library','bank','highspeed','cable','carparking','bikeparking','motorparking','Minute','Age_le','min_le','Area_le','R_le','metters'],axis=1,inplace=True)"
   ],
   "metadata": {
    "collapsed": false,
    "pycharm": {
     "name": "#%%\n",
     "is_executing": false
    }
   }
  },
  {
   "cell_type": "code",
   "execution_count": 83,
   "outputs": [
    {
     "name": "stdout",
     "text": [
      "<class 'pandas.core.frame.DataFrame'>\nRangeIndex: 31262 entries, 0 to 31261\nData columns (total 55 columns):\nid                    31262 non-null int64\nAge                   31262 non-null int64\nArea                  31262 non-null int64\nR                     31262 non-null int64\nK                     31262 non-null bool\nL                     31262 non-null bool\nD                     31262 non-null bool\nmin                   31262 non-null int64\nprivatebath           31262 non-null bool\nprivatetoilet         31262 non-null bool\nbathtoilet            31262 non-null bool\nsharedtoilet          31262 non-null bool\nshower                31262 non-null bool\ndryer                 31262 non-null bool\nwashstand             31262 non-null bool\ndressing              31262 non-null bool\nwarmseat              31262 non-null bool\nmemorial              31262 non-null bool\ngasstove              31262 non-null bool\n2stovetops            31262 non-null bool\n3stovetops            31262 non-null bool\nsystemkitchen         31262 non-null bool\nhotwatersupply        31262 non-null bool\nIH                    31262 non-null bool\ncounterkitchen        31262 non-null bool\nsupermarket           31262 non-null bool\nkonbini               31262 non-null bool\ndrugstore             31262 non-null bool\nrestaurant            31262 non-null bool\nhospital              31262 non-null bool\nschool                31262 non-null bool\nmetter                31262 non-null int64\naircon                31262 non-null bool\nshoesbox              31262 non-null bool\nbalcony               31262 non-null bool\nflooring              31262 non-null bool\nventilation           31262 non-null bool\nwashingmachine        31262 non-null bool\ngarbage               31262 non-null bool\nelevator              31262 non-null bool\ntiled                 31262 non-null bool\npublicwater           31262 non-null bool\nsewage                31262 non-null bool\ncitygas               31262 non-null bool\ninternetcompatible    31262 non-null bool\nopticalfiber          31262 non-null bool\ncatv                  31262 non-null bool\ncsantenna             31262 non-null bool\nbsantenna             31262 non-null bool\nfreeusage             31262 non-null bool\nDirection_le          31262 non-null int64\nMaterial_le           31262 non-null int64\nCity_le               31262 non-null int64\nStation_le            31262 non-null int64\nmetter_le             31262 non-null int64\ndtypes: bool(44), int64(11)\nmemory usage: 3.9 MB\n"
     ],
     "output_type": "stream"
    }
   ],
   "source": [
    "test.info()"
   ],
   "metadata": {
    "collapsed": false,
    "pycharm": {
     "name": "#%%\n",
     "is_executing": false
    }
   }
  },
  {
   "cell_type": "code",
   "execution_count": 84,
   "outputs": [],
   "source": [
    "X = train.drop(['id', 'Rent'], axis=1)\n",
    "y = train['Rent']\n",
    "X_test = test.drop(['id'], axis=1)"
   ],
   "metadata": {
    "collapsed": false,
    "pycharm": {
     "name": "#%%\n",
     "is_executing": false
    }
   }
  },
  {
   "cell_type": "code",
   "execution_count": 85,
   "outputs": [],
   "source": [
    "#let's create this function to make it easier and clean to fit the model and use the cross_val_score and obtain results\n",
    "import time #implementing in this function the time spent on training the model\n",
    "from sklearn import metrics\n",
    "from sklearn.metrics import mean_squared_error\n",
    "from sklearn.model_selection import cross_val_score, KFold\n",
    "\n",
    "def modelfit(alg, dtrain, target, only_predict = False):\n",
    "    #Fit the algorithm on the data\n",
    "    time_start = time.perf_counter() #start counting the time\n",
    "    if not only_predict:\n",
    "        alg.fit(dtrain, target)\n",
    "        \n",
    "    #Predict training set:\n",
    "    dtrain_predictions = alg.predict(dtrain)\n",
    "    \n",
    "    kfolds = KFold(n_splits=10, shuffle=True, random_state=42)\n",
    "    \n",
    "    cv_score = cross_val_score(alg, dtrain,target, cv=kfolds, scoring='neg_mean_squared_error')\n",
    "    cv_score = np.sqrt(-cv_score)\n",
    "    \n",
    "    time_end = time.perf_counter()\n",
    "    \n",
    "    total_time = time_end-time_start\n",
    "    #Print model report:\n",
    "    print(\"\\nModel Report\")\n",
    "    print(\"RMSE :  {:.4f}\".format(np.sqrt(mean_squared_error(target, dtrain_predictions))))\n",
    "    print(\"CV Score : Mean -  %.4f | Std -  %.4f | Min -  %.4f | Max - %.4f\" % (np.mean(cv_score),np.std(cv_score),np.min(cv_score),np.max(cv_score)))\n",
    "    print(\"Amount of time spent during training the model and cross validation: %4.3f seconds\" % (total_time))"
   ],
   "metadata": {
    "collapsed": false,
    "pycharm": {
     "name": "#%%\n",
     "is_executing": false
    }
   }
  },
  {
   "cell_type": "code",
   "execution_count": null,
   "outputs": [
    {
     "name": "stderr",
     "text": [
      "c:\\users\\anhnq\\.virtualenvs\\project\\lib\\site-packages\\xgboost\\core.py:587: FutureWarning: Series.base is deprecated and will be removed in a future version\n  if getattr(data, 'base', None) is not None and \\\nc:\\users\\anhnq\\.virtualenvs\\project\\lib\\site-packages\\xgboost\\core.py:588: FutureWarning: Series.base is deprecated and will be removed in a future version\n  data.base is not None and isinstance(data, np.ndarray) \\\n"
     ],
     "output_type": "stream"
    }
   ],
   "source": [
    "model_xgb = xgb.XGBRegressor(colsample_bytree=0.4603, gamma=0.0468, \n",
    "                             learning_rate=0.05, max_depth=3, \n",
    "                             min_child_weight=1.7817, n_estimators=2200,\n",
    "                             reg_alpha=0.4640, reg_lambda=0.8571,\n",
    "                             subsample=0.5213, silent=1,\n",
    "                             random_state =7, nthread = -1)\n",
    "modelfit(model_xgb, X, y)"
   ],
   "metadata": {
    "collapsed": false,
    "pycharm": {
     "name": "#%%\n",
     "is_executing": true
    }
   }
  },
  {
   "cell_type": "code",
   "execution_count": null,
   "outputs": [],
   "source": [
    "\"\"\"\n",
    "y_pred = np.zeros(X_test.shape[0], dtype='float32')\n",
    "train_pred = np.zeros(X.shape[0], dtype='float32')\n",
    "\n",
    "cv_score = 0\n",
    "X_train, X_valid, y_train, y_valid = train_test_split(X, y, random_state=0)\n",
    "train_data = lgb.Dataset(X_train, y_train)\n",
    "valid_data = lgb.Dataset(X_valid, y_valid)\n",
    "params = {\n",
    "    'objective': 'regression',\n",
    "    'metric': 'rmse',\n",
    "    'learning_rate': 0.01,\n",
    "    'max_depth': -1,\n",
    "    'num_leaves': 255,\n",
    "    'max_bin': 255,\n",
    "    'colsample_bytree': 0.8,\n",
    "    'subsample': 0.8,\n",
    "    'nthread': -1,\n",
    "    'bagging_freq': 1,\n",
    "    'verbose': -1,\n",
    "    'seed': 1,\n",
    "}\n",
    "model = lgb.train(params, train_data, valid_sets=[train_data, valid_data],\n",
    "                  num_boost_round=5000, early_stopping_rounds=200,\n",
    "                  verbose_eval=200)\n",
    "\n",
    "y_val_pred = model.predict(X_valid)\n",
    "val_score = np.sqrt(mean_squared_error(y_valid, y_val_pred))\n",
    "print('RMSE:', val_score)\n",
    "\n",
    "y_pred += model.predict(X_test, num_iteration=model.best_iteration)\n",
    "\"\"\""
   ],
   "metadata": {
    "collapsed": false,
    "pycharm": {
     "name": "#%%\n",
     "is_executing": true
    }
   }
  },
  {
   "cell_type": "code",
   "execution_count": null,
   "outputs": [],
   "source": [
    "submit = pd.read_csv('sample_submit.csv', names=('id', 'Rent'))\n",
    "submit['Rent'] = y_pred\n",
    "submit.head(10)\n",
    "submit.to_csv('submission.csv', header=False, index=False)"
   ],
   "metadata": {
    "collapsed": false,
    "pycharm": {
     "name": "#%%\n",
     "is_executing": true
    }
   }
  },
  {
   "cell_type": "code",
   "execution_count": null,
   "outputs": [],
   "source": [
    "\"\"\"\n",
    "train['Rent'] = 1\n",
    "test['Rent'] = 0\n",
    "df = pd.concat([train, test])\n",
    "X = df.drop(['id', 'Rent'], axis=1)\n",
    "y = df['Rent']\n",
    "\"\"\""
   ],
   "metadata": {
    "collapsed": false,
    "pycharm": {
     "name": "#%%\n",
     "is_executing": true
    }
   }
  },
  {
   "cell_type": "code",
   "execution_count": null,
   "outputs": [],
   "source": [
    "\"\"\"\n",
    "from sklearn.metrics import mean_squared_error, roc_auc_score\n",
    "X_train, X_valid, y_train, y_valid = train_test_split(X, y, random_state=0)\n",
    "train_data = lgb.Dataset(X_train, y_train)\n",
    "valid_data = lgb.Dataset(X_valid, y_valid)\n",
    "params = {\n",
    "    'objective': 'binary',\n",
    "    'metric': 'auc',\n",
    "    'learning_rate': 0.01,\n",
    "    'max_depth': -1,\n",
    "    'num_leaves': 255,\n",
    "    'max_bin': 255,\n",
    "    'colsample_bytree': 0.8,\n",
    "    'subsample': 0.8,\n",
    "    'nthread': -1,\n",
    "    'bagging_freq': 1,\n",
    "    'verbose': -1,\n",
    "    'seed': 1,\n",
    "}\n",
    "model = lgb.train(params, train_data, valid_sets=[train_data, valid_data],\n",
    "                  num_boost_round=5000, early_stopping_rounds=200,\n",
    "                  verbose_eval=200)\n",
    "\n",
    "y_val_pred = model.predict(X_valid)\n",
    "val_score =roc_auc_score(y_valid, y_val_pred)\n",
    "print('AUC:', val_score)\n",
    "\"\"\""
   ],
   "metadata": {
    "collapsed": false,
    "pycharm": {
     "name": "#%%\n",
     "is_executing": true
    }
   }
  },
  {
   "cell_type": "code",
   "execution_count": null,
   "outputs": [],
   "source": [
    "\"\"\"\n",
    "feature_importances = pd.DataFrame()\n",
    "feature_importances['feature'] = X.columns\n",
    "feature_importances['importance'] = model.feature_importance()\n",
    "feature_importances = feature_importances.sort_values(by='importance', ascending=False)\n",
    "feature_importances\n",
    "\"\"\""
   ],
   "metadata": {
    "collapsed": false,
    "pycharm": {
     "name": "#%%\n",
     "is_executing": true
    }
   }
  },
  {
   "cell_type": "code",
   "execution_count": null,
   "outputs": [],
   "source": [
    "\"\"\"\n",
    "plt.figure(figsize=(16, 16))\n",
    "sns.barplot(data=feature_importances.head(50), x='importance', y='feature')\n",
    "\"\"\""
   ],
   "metadata": {
    "collapsed": false,
    "pycharm": {
     "name": "#%%\n",
     "is_executing": true
    }
   }
  },
  {
   "cell_type": "code",
   "execution_count": null,
   "outputs": [],
   "source": [
    "\n"
   ],
   "metadata": {
    "collapsed": false,
    "pycharm": {
     "name": "#%%\n",
     "is_executing": true
    }
   }
  }
 ],
 "metadata": {
  "kernelspec": {
   "display_name": "Python 3",
   "language": "python",
   "name": "python3"
  },
  "language_info": {
   "codemirror_mode": {
    "name": "ipython",
    "version": 2
   },
   "file_extension": ".py",
   "mimetype": "text/x-python",
   "name": "python",
   "nbconvert_exporter": "python",
   "pygments_lexer": "ipython2",
   "version": "2.7.6"
  },
  "pycharm": {
   "stem_cell": {
    "cell_type": "raw",
    "source": [],
    "metadata": {
     "collapsed": false
    }
   }
  }
 },
 "nbformat": 4,
 "nbformat_minor": 0
}