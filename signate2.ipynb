{
 "cells": [
  {
   "cell_type": "code",
   "execution_count": 488,
   "metadata": {
    "collapsed": true,
    "pycharm": {
     "is_executing": false
    }
   },
   "outputs": [],
   "source": [
    "import numpy as np\n",
    "import pandas as pd\n",
    "pd.set_option('max_columns', 105)\n",
    "import matplotlib.pyplot as plt\n",
    "import seaborn as sns\n",
    "from scipy import stats\n",
    "%matplotlib inline\n",
    "sns.set()\n",
    "from sklearn.linear_model import LogisticRegression  # for Logistic Regression algorithm\n",
    "from sklearn.model_selection import train_test_split #to split the dataset for training and testing\n",
    "from sklearn.neighbors import KNeighborsClassifier  # for K nearest neighbours\n",
    "from sklearn import svm  #for Support Vector Machine (SVM) Algorithm\n",
    "from sklearn import metrics #for checking the model accuracy\n",
    "from sklearn.metrics import mean_squared_error #for checking the model accuracy\n",
    "from sklearn.tree import DecisionTreeClassifier #for using Decision Tree Algoithm\n",
    "from sklearn.linear_model import ElasticNet, Lasso,  BayesianRidge, LassoLarsIC\n",
    "from sklearn.ensemble import RandomForestRegressor,  GradientBoostingRegressor\n",
    "from sklearn.model_selection import KFold, cross_val_score, train_test_split\n",
    "from sklearn.metrics import mean_squared_error\n",
    "import xgboost as xgb\n",
    "import lightgbm as lgb"
   ]
  },
  {
   "cell_type": "code",
   "execution_count": 489,
   "outputs": [
    {
     "data": {
      "text/plain": "   id      賃料                所在地  \\\n0   1   75000        東京都北区滝野川３丁目   \n1   2   76000        東京都中央区月島３丁目   \n2   3  110000        東京都渋谷区笹塚２丁目   \n3   4  150000  東京都杉並区高円寺南２丁目23-2   \n4   5   74000     東京都葛飾区金町３丁目7-2   \n\n                                                アクセス   間取り      築年数   方角  \\\n0  都営三田線\\t西巣鴨駅\\t徒歩4分\\t\\t埼京線\\t板橋駅\\t徒歩14分\\t\\t都電荒川線\\...    1K    9年9ヶ月   南東   \n1  都営大江戸線\\t勝どき駅\\t徒歩5分\\t\\t有楽町線\\t月島駅\\t徒歩9分\\t\\t日比谷線\\...    1R  44年10ヶ月  NaN   \n2  京王線\\t笹塚駅\\t徒歩6分\\t\\t京王線\\t代田橋駅\\t徒歩7分\\t\\t京王線\\t明大前駅...    1K    8年6ヶ月    南   \n3  総武線・中央線（各停）\\t高円寺駅\\t徒歩9分\\t\\t丸ノ内線(池袋－荻窪)\\t新高円寺駅\\...  2LDK   29年4ヶ月    南   \n4  京成金町線\\t京成金町駅\\t徒歩5分\\t\\t常磐線\\t金町(東京都)駅\\t徒歩7分\\t\\t京...   2DK   31年7ヶ月    南   \n\n        面積       所在階                                             バス・トイレ  \\\n0  20.01m2   1階／12階建   専用バス／\\t専用トイレ／\\tバス・トイレ別／\\tシャワー／\\t浴室乾燥機\\t／\\t温水洗浄便座   \n1   16.5m2   5階／10階建                              専用トイレ／\\tシャワー／\\t温水洗浄便座   \n2  22.05m2  12階／15階建  専用バス／\\t専用トイレ／\\tバス・トイレ別／\\tシャワー／\\t浴室乾燥機\\t／\\t温水洗浄...   \n3  60.48m2    3階／4階建     専用バス／\\t専用トイレ／\\tバス・トイレ別／\\tシャワー／\\t温水洗浄便座／\\t洗面台独立   \n4  39.66m2    1階／2階建               専用バス／\\t専用トイレ／\\tバス・トイレ別／\\tシャワー／\\t追焚機能   \n\n                              キッチン                                 放送・通信  \\\n0  ガスコンロ／\\tコンロ2口／\\tシステムキッチン\\t／\\t給湯    インターネット対応／\\tCATV／\\tCSアンテナ／\\tBSアンテナ   \n1          ガスコンロ／\\tシステムキッチン\\t／\\t給湯                             インターネット対応   \n2  ガスコンロ／\\tコンロ2口／\\tシステムキッチン\\t／\\t給湯  インターネット対応／\\t光ファイバー／\\tCSアンテナ／\\tBSアンテナ   \n3                       ガスコンロ／\\t給湯                    インターネット対応／\\t光ファイバー   \n4                      給湯／\\t独立キッチン                                   NaN   \n\n                                                室内設備  \\\n0  エアコン付\\tシューズボックス／\\tバルコニー／\\tフローリング／\\t室内洗濯機置場／\\t敷...   \n1  エアコン付\\tシューズボックス／\\tバルコニー／\\tフローリング／\\t室内洗濯機置場／\\t敷...   \n2  エアコン付\\tウォークインクローゼット\\tシューズボックス／\\tバルコニー／\\tフローリング...   \n3  エアコン付\\tシューズボックス／\\tバルコニー／\\t2面採光／\\t室内洗濯機置場／\\tエレベ...   \n4                バルコニー／\\tフローリング／\\t室内洗濯機置場\\t公営水道／\\t下水   \n\n                                                 駐車場  \\\n0                                            駐輪場\\t空有   \n1                         駐輪場\\t空有\\t駐車場\\t無\\tバイク置き場\\t無   \n2  駐輪場\\t空有\\tバイク置き場\\t空有\\t駐車場\\t近隣\\t30,000円(税込)\\t距離100m   \n3                          駐車場\\t無\\t駐輪場\\t無\\tバイク置き場\\t無   \n4    駐車場\\t近隣\\t17,000円(税込)\\t距離300m\\t駐輪場\\t無\\tバイク置き場\\t無   \n\n                                                周辺環境          建物構造  \\\n0  【小学校】 495m\\t【大学】 461m\\t【小学校】 962m\\t【公園】 1103m\\...  RC（鉄筋コンクリート）   \n1                                       【スーパー】 1283m           鉄骨造   \n2  【スーパー】 89m\\t【コンビニ】 184m\\t【コンビニ】 392m\\t【スーパー】 492m  RC（鉄筋コンクリート）   \n3  【スーパー】 225m\\t【スーパー】 448m\\t【スーパー】 619m\\t【スーパー】 ...  RC（鉄筋コンクリート）   \n4  【スーパー】 193m\\t【スーパー】 298m\\t【スーパー】 660m\\t【スーパー】 ...            木造   \n\n                     契約期間  \n0                     2年間  \n1                     2年間  \n2                     2年間  \n3  2年間\\t※この物件は\\t定期借家\\tです。  \n4                     2年間  ",
      "text/html": "<div>\n<style scoped>\n    .dataframe tbody tr th:only-of-type {\n        vertical-align: middle;\n    }\n\n    .dataframe tbody tr th {\n        vertical-align: top;\n    }\n\n    .dataframe thead th {\n        text-align: right;\n    }\n</style>\n<table border=\"1\" class=\"dataframe\">\n  <thead>\n    <tr style=\"text-align: right;\">\n      <th></th>\n      <th>id</th>\n      <th>賃料</th>\n      <th>所在地</th>\n      <th>アクセス</th>\n      <th>間取り</th>\n      <th>築年数</th>\n      <th>方角</th>\n      <th>面積</th>\n      <th>所在階</th>\n      <th>バス・トイレ</th>\n      <th>キッチン</th>\n      <th>放送・通信</th>\n      <th>室内設備</th>\n      <th>駐車場</th>\n      <th>周辺環境</th>\n      <th>建物構造</th>\n      <th>契約期間</th>\n    </tr>\n  </thead>\n  <tbody>\n    <tr>\n      <td>0</td>\n      <td>1</td>\n      <td>75000</td>\n      <td>東京都北区滝野川３丁目</td>\n      <td>都営三田線\\t西巣鴨駅\\t徒歩4分\\t\\t埼京線\\t板橋駅\\t徒歩14分\\t\\t都電荒川線\\...</td>\n      <td>1K</td>\n      <td>9年9ヶ月</td>\n      <td>南東</td>\n      <td>20.01m2</td>\n      <td>1階／12階建</td>\n      <td>専用バス／\\t専用トイレ／\\tバス・トイレ別／\\tシャワー／\\t浴室乾燥機\\t／\\t温水洗浄便座</td>\n      <td>ガスコンロ／\\tコンロ2口／\\tシステムキッチン\\t／\\t給湯</td>\n      <td>インターネット対応／\\tCATV／\\tCSアンテナ／\\tBSアンテナ</td>\n      <td>エアコン付\\tシューズボックス／\\tバルコニー／\\tフローリング／\\t室内洗濯機置場／\\t敷...</td>\n      <td>駐輪場\\t空有</td>\n      <td>【小学校】 495m\\t【大学】 461m\\t【小学校】 962m\\t【公園】 1103m\\...</td>\n      <td>RC（鉄筋コンクリート）</td>\n      <td>2年間</td>\n    </tr>\n    <tr>\n      <td>1</td>\n      <td>2</td>\n      <td>76000</td>\n      <td>東京都中央区月島３丁目</td>\n      <td>都営大江戸線\\t勝どき駅\\t徒歩5分\\t\\t有楽町線\\t月島駅\\t徒歩9分\\t\\t日比谷線\\...</td>\n      <td>1R</td>\n      <td>44年10ヶ月</td>\n      <td>NaN</td>\n      <td>16.5m2</td>\n      <td>5階／10階建</td>\n      <td>専用トイレ／\\tシャワー／\\t温水洗浄便座</td>\n      <td>ガスコンロ／\\tシステムキッチン\\t／\\t給湯</td>\n      <td>インターネット対応</td>\n      <td>エアコン付\\tシューズボックス／\\tバルコニー／\\tフローリング／\\t室内洗濯機置場／\\t敷...</td>\n      <td>駐輪場\\t空有\\t駐車場\\t無\\tバイク置き場\\t無</td>\n      <td>【スーパー】 1283m</td>\n      <td>鉄骨造</td>\n      <td>2年間</td>\n    </tr>\n    <tr>\n      <td>2</td>\n      <td>3</td>\n      <td>110000</td>\n      <td>東京都渋谷区笹塚２丁目</td>\n      <td>京王線\\t笹塚駅\\t徒歩6分\\t\\t京王線\\t代田橋駅\\t徒歩7分\\t\\t京王線\\t明大前駅...</td>\n      <td>1K</td>\n      <td>8年6ヶ月</td>\n      <td>南</td>\n      <td>22.05m2</td>\n      <td>12階／15階建</td>\n      <td>専用バス／\\t専用トイレ／\\tバス・トイレ別／\\tシャワー／\\t浴室乾燥機\\t／\\t温水洗浄...</td>\n      <td>ガスコンロ／\\tコンロ2口／\\tシステムキッチン\\t／\\t給湯</td>\n      <td>インターネット対応／\\t光ファイバー／\\tCSアンテナ／\\tBSアンテナ</td>\n      <td>エアコン付\\tウォークインクローゼット\\tシューズボックス／\\tバルコニー／\\tフローリング...</td>\n      <td>駐輪場\\t空有\\tバイク置き場\\t空有\\t駐車場\\t近隣\\t30,000円(税込)\\t距離100m</td>\n      <td>【スーパー】 89m\\t【コンビニ】 184m\\t【コンビニ】 392m\\t【スーパー】 492m</td>\n      <td>RC（鉄筋コンクリート）</td>\n      <td>2年間</td>\n    </tr>\n    <tr>\n      <td>3</td>\n      <td>4</td>\n      <td>150000</td>\n      <td>東京都杉並区高円寺南２丁目23-2</td>\n      <td>総武線・中央線（各停）\\t高円寺駅\\t徒歩9分\\t\\t丸ノ内線(池袋－荻窪)\\t新高円寺駅\\...</td>\n      <td>2LDK</td>\n      <td>29年4ヶ月</td>\n      <td>南</td>\n      <td>60.48m2</td>\n      <td>3階／4階建</td>\n      <td>専用バス／\\t専用トイレ／\\tバス・トイレ別／\\tシャワー／\\t温水洗浄便座／\\t洗面台独立</td>\n      <td>ガスコンロ／\\t給湯</td>\n      <td>インターネット対応／\\t光ファイバー</td>\n      <td>エアコン付\\tシューズボックス／\\tバルコニー／\\t2面採光／\\t室内洗濯機置場／\\tエレベ...</td>\n      <td>駐車場\\t無\\t駐輪場\\t無\\tバイク置き場\\t無</td>\n      <td>【スーパー】 225m\\t【スーパー】 448m\\t【スーパー】 619m\\t【スーパー】 ...</td>\n      <td>RC（鉄筋コンクリート）</td>\n      <td>2年間\\t※この物件は\\t定期借家\\tです。</td>\n    </tr>\n    <tr>\n      <td>4</td>\n      <td>5</td>\n      <td>74000</td>\n      <td>東京都葛飾区金町３丁目7-2</td>\n      <td>京成金町線\\t京成金町駅\\t徒歩5分\\t\\t常磐線\\t金町(東京都)駅\\t徒歩7分\\t\\t京...</td>\n      <td>2DK</td>\n      <td>31年7ヶ月</td>\n      <td>南</td>\n      <td>39.66m2</td>\n      <td>1階／2階建</td>\n      <td>専用バス／\\t専用トイレ／\\tバス・トイレ別／\\tシャワー／\\t追焚機能</td>\n      <td>給湯／\\t独立キッチン</td>\n      <td>NaN</td>\n      <td>バルコニー／\\tフローリング／\\t室内洗濯機置場\\t公営水道／\\t下水</td>\n      <td>駐車場\\t近隣\\t17,000円(税込)\\t距離300m\\t駐輪場\\t無\\tバイク置き場\\t無</td>\n      <td>【スーパー】 193m\\t【スーパー】 298m\\t【スーパー】 660m\\t【スーパー】 ...</td>\n      <td>木造</td>\n      <td>2年間</td>\n    </tr>\n  </tbody>\n</table>\n</div>"
     },
     "metadata": {},
     "output_type": "execute_result",
     "execution_count": 489
    }
   ],
   "source": [
    "train = pd.read_csv(\"train.csv\")\n",
    "test = pd.read_csv(\"test.csv\")\n",
    "train.head(5)"
   ],
   "metadata": {
    "collapsed": false,
    "pycharm": {
     "name": "#%%\n",
     "is_executing": false
    }
   }
  },
  {
   "cell_type": "code",
   "execution_count": 490,
   "outputs": [],
   "source": [
    "train = train.rename(columns={'賃料':'Rent', '契約期間':'Contract', '間取り':'Type', \n",
    "                              '築年数':'Age', '駐車場':'Parking', '室内設備':'Facility', \n",
    "                              '放送・通信':'Internet', '周辺環境':'Surround', '建物構造':'Material', \n",
    "                              '面積':'Area', 'キッチン':'Kitchen', '所在地':'Location',\n",
    "                              'バス・トイレ':'Bath', '所在階':'Floor', 'アクセス':'Access', \n",
    "                              '方角':'Direction'})\n",
    "test = test.rename(columns={'契約期間':'Contract', '間取り':'Type', \n",
    "                              '築年数':'Age', '駐車場':'Parking', '室内設備':'Facility', \n",
    "                              '放送・通信':'Internet', '周辺環境':'Surround', '建物構造':'Material', \n",
    "                              '面積':'Area', 'キッチン':'Kitchen', '所在地':'Location',\n",
    "                              'バス・トイレ':'Bath', '所在階':'Floor', 'アクセス':'Access', \n",
    "                              '方角':'Direction'})"
   ],
   "metadata": {
    "collapsed": false,
    "pycharm": {
     "name": "#%%\n",
     "is_executing": false
    }
   }
  },
  {
   "cell_type": "code",
   "execution_count": 491,
   "outputs": [
    {
     "data": {
      "text/plain": "<matplotlib.axes._subplots.AxesSubplot at 0x21e25386748>"
     },
     "metadata": {},
     "output_type": "execute_result",
     "execution_count": 491
    },
    {
     "data": {
      "text/plain": "<Figure size 432x288 with 1 Axes>",
      "image/png": "[encoded data removed]"
     },
     "metadata": {},
     "output_type": "display_data"
    }
   ],
   "source": [
    "sns.distplot(train['Rent'])"
   ],
   "metadata": {
    "collapsed": false,
    "pycharm": {
     "name": "#%%\n",
     "is_executing": false
    }
   }
  },
  {
   "cell_type": "code",
   "execution_count": 492,
   "outputs": [
    {
     "data": {
      "text/plain": "東京都板橋区板橋３丁目1-8         54\n東京都世田谷区太子堂２丁目          53\n東京都足立区新田１丁目            47\n東京都中野区白鷺２丁目1-21        45\n東京都中央区日本橋馬喰町２丁目4-12    44\n                       ..\n東京都江戸川区東葛西７丁目11-3       1\n東京都荒川区東日暮里２丁目8番－1       1\n東京都文京区本駒込１丁目28-14       1\n東京都港区虎ノ門３丁目22-10        1\n東京都目黒区緑が丘３丁目7-7         1\nName: Location, Length: 11333, dtype: int64"
     },
     "metadata": {},
     "output_type": "execute_result",
     "execution_count": 492
    }
   ],
   "source": [
    "train['Location'].value_counts()"
   ],
   "metadata": {
    "collapsed": false,
    "pycharm": {
     "name": "#%%\n",
     "is_executing": false
    }
   }
  },
  {
   "cell_type": "code",
   "execution_count": 493,
   "outputs": [],
   "source": [
    "train_test_data = [train, test] # combining train and test dataset\n",
    "for dataset in train_test_data:\n",
    "    dataset['City'] = dataset['Location'].str.extract('(千代田区|中央区|港区|新宿区|文京区|'\n",
    "                                                 '台東区|墨田区|江東区|品川区|目黒区|'\n",
    "                                                 '大田区|世田谷区|渋谷区|中野区|杉並区|'\n",
    "                                                 '豊島区|北区|荒川区|板橋区|練馬区|足立区|葛飾区|江戸川区)')"
   ],
   "metadata": {
    "collapsed": false,
    "pycharm": {
     "name": "#%%\n",
     "is_executing": false
    }
   }
  },
  {
   "cell_type": "code",
   "execution_count": 494,
   "outputs": [
    {
     "data": {
      "text/plain": "世田谷区    3023\n足立区     2191\n大田区     2000\n杉並区     1769\n練馬区     1752\n江戸川区    1702\n板橋区     1624\n港区      1513\n江東区     1508\n中央区     1279\n品川区     1272\n豊島区     1271\n新宿区     1223\n葛飾区     1212\n中野区     1211\n北区      1045\n目黒区     1023\n墨田区     1010\n渋谷区      985\n台東区      932\n文京区      892\n荒川区      576\n千代田区     457\nName: City, dtype: int64"
     },
     "metadata": {},
     "output_type": "execute_result",
     "execution_count": 494
    }
   ],
   "source": [
    "train['City'].value_counts()"
   ],
   "metadata": {
    "collapsed": false,
    "pycharm": {
     "name": "#%%\n",
     "is_executing": false
    }
   }
  },
  {
   "cell_type": "code",
   "execution_count": 495,
   "outputs": [
    {
     "data": {
      "text/plain": "    City           Rent\n16    港区  214061.744878\n4   千代田区  182706.236324\n1    中央区  180887.865520\n15   渋谷区  171839.786802\n17   目黒区  145674.389052\n10   新宿区  130573.957482\n9    文京区  128562.070628\n5    台東区  127625.944206\n14   江東区  126217.110743\n6    品川区  124609.473270\n19   荒川区  116817.881944\n7    墨田区  116201.346535\n0   世田谷区  113781.270261\n21   豊島区  110916.884343\n8    大田区  106981.675000\n2    中野区  101578.398018\n3     北区   99506.602871\n11   杉並区   97708.174675\n18   練馬区   92724.943493\n12   板橋区   90003.879310\n13  江戸川区   86592.302585\n22   足立区   85872.540849\n20   葛飾区   79114.657591",
      "text/html": "<div>\n<style scoped>\n    .dataframe tbody tr th:only-of-type {\n        vertical-align: middle;\n    }\n\n    .dataframe tbody tr th {\n        vertical-align: top;\n    }\n\n    .dataframe thead th {\n        text-align: right;\n    }\n</style>\n<table border=\"1\" class=\"dataframe\">\n  <thead>\n    <tr style=\"text-align: right;\">\n      <th></th>\n      <th>City</th>\n      <th>Rent</th>\n    </tr>\n  </thead>\n  <tbody>\n    <tr>\n      <td>16</td>\n      <td>港区</td>\n      <td>214061.744878</td>\n    </tr>\n    <tr>\n      <td>4</td>\n      <td>千代田区</td>\n      <td>182706.236324</td>\n    </tr>\n    <tr>\n      <td>1</td>\n      <td>中央区</td>\n      <td>180887.865520</td>\n    </tr>\n    <tr>\n      <td>15</td>\n      <td>渋谷区</td>\n      <td>171839.786802</td>\n    </tr>\n    <tr>\n      <td>17</td>\n      <td>目黒区</td>\n      <td>145674.389052</td>\n    </tr>\n    <tr>\n      <td>10</td>\n      <td>新宿区</td>\n      <td>130573.957482</td>\n    </tr>\n    <tr>\n      <td>9</td>\n      <td>文京区</td>\n      <td>128562.070628</td>\n    </tr>\n    <tr>\n      <td>5</td>\n      <td>台東区</td>\n      <td>127625.944206</td>\n    </tr>\n    <tr>\n      <td>14</td>\n      <td>江東区</td>\n      <td>126217.110743</td>\n    </tr>\n    <tr>\n      <td>6</td>\n      <td>品川区</td>\n      <td>124609.473270</td>\n    </tr>\n    <tr>\n      <td>19</td>\n      <td>荒川区</td>\n      <td>116817.881944</td>\n    </tr>\n    <tr>\n      <td>7</td>\n      <td>墨田区</td>\n      <td>116201.346535</td>\n    </tr>\n    <tr>\n      <td>0</td>\n      <td>世田谷区</td>\n      <td>113781.270261</td>\n    </tr>\n    <tr>\n      <td>21</td>\n      <td>豊島区</td>\n      <td>110916.884343</td>\n    </tr>\n    <tr>\n      <td>8</td>\n      <td>大田区</td>\n      <td>106981.675000</td>\n    </tr>\n    <tr>\n      <td>2</td>\n      <td>中野区</td>\n      <td>101578.398018</td>\n    </tr>\n    <tr>\n      <td>3</td>\n      <td>北区</td>\n      <td>99506.602871</td>\n    </tr>\n    <tr>\n      <td>11</td>\n      <td>杉並区</td>\n      <td>97708.174675</td>\n    </tr>\n    <tr>\n      <td>18</td>\n      <td>練馬区</td>\n      <td>92724.943493</td>\n    </tr>\n    <tr>\n      <td>12</td>\n      <td>板橋区</td>\n      <td>90003.879310</td>\n    </tr>\n    <tr>\n      <td>13</td>\n      <td>江戸川区</td>\n      <td>86592.302585</td>\n    </tr>\n    <tr>\n      <td>22</td>\n      <td>足立区</td>\n      <td>85872.540849</td>\n    </tr>\n    <tr>\n      <td>20</td>\n      <td>葛飾区</td>\n      <td>79114.657591</td>\n    </tr>\n  </tbody>\n</table>\n</div>"
     },
     "metadata": {},
     "output_type": "execute_result",
     "execution_count": 495
    }
   ],
   "source": [
    "train[['City', 'Rent']].groupby(['City'], as_index=False).mean().sort_values(by=\"Rent\",ascending=False)\n"
   ],
   "metadata": {
    "collapsed": false,
    "pycharm": {
     "name": "#%%\n",
     "is_executing": false
    }
   }
  },
  {
   "cell_type": "code",
   "execution_count": 496,
   "outputs": [],
   "source": [
    "train['City'] = train['City'].replace('港区','Minato')\n",
    "train['City'] = train['City'].replace('千代田区','Chiyoda')\n",
    "train['City'] = train['City'].replace('中央区','Chuo')\n",
    "train['City'] = train['City'].replace('渋谷区','Shibuya')\n",
    "train['City'] = train['City'].replace('目黒区','Meguro')\n",
    "train['City'] = train['City'].replace('新宿区','Shinjuku')\n",
    "train['City'] = train['City'].replace('文京区','Bunkyo')\n",
    "train['City'] = train['City'].replace('台東区','Taito')\n",
    "train['City'] = train['City'].replace('江東区','Edo')\n",
    "train['City'] = train['City'].replace('品川区','Shinagawa')\n",
    "train['City'] = train['City'].replace('荒川区','Arakawa')\n",
    "train['City'] = train['City'].replace('墨田区','Sumida')\n",
    "train['City'] = train['City'].replace('世田谷区','Setagaya')\n",
    "train['City'] = train['City'].replace('豊島区','Toshima')\n",
    "train['City'] = train['City'].replace('大田区','Ota')\n",
    "train['City'] = train['City'].replace('中野区','Nakano')\n",
    "train['City'] = train['City'].replace('北区','Kita')\n",
    "train['City'] = train['City'].replace('杉並区','Suginami')\n",
    "train['City'] = train['City'].replace('練馬区','Nerima')\n",
    "train['City'] = train['City'].replace('板橋区','Itabashi')\n",
    "train['City'] = train['City'].replace('江戸川区','Edogawa')\n",
    "train['City'] = train['City'].replace('足立区','Adachi')\n",
    "train['City'] = train['City'].replace('葛飾区','Katsushika')"
   ],
   "metadata": {
    "collapsed": false,
    "pycharm": {
     "name": "#%%\n",
     "is_executing": false
    }
   }
  },
  {
   "cell_type": "code",
   "execution_count": 497,
   "outputs": [
    {
     "data": {
      "text/plain": "<matplotlib.axes._subplots.AxesSubplot at 0x21e2be98108>"
     },
     "metadata": {},
     "output_type": "execute_result",
     "execution_count": 497
    },
    {
     "data": {
      "text/plain": "<Figure size 1800x720 with 1 Axes>",
      "image/png": "[encoded data removed]"
     },
     "metadata": {},
     "output_type": "display_data"
    }
   ],
   "source": [
    "sns.set(font='IPAexGothic')\n",
    "plt.figure(figsize=(25,10))\n",
    "sns.barplot(x=train['City'],y=train['Rent'],data=train)"
   ],
   "metadata": {
    "collapsed": false,
    "pycharm": {
     "name": "#%%\n",
     "is_executing": false
    }
   }
  },
  {
   "cell_type": "code",
   "execution_count": 498,
   "outputs": [
    {
     "data": {
      "text/plain": "1K            11930\n1R             5082\n1LDK           4823\n2LDK           2552\n2DK            1909\n1DK            1893\n3LDK           1124\n2K              920\n3DK             419\n1LDK+S(納戸)      238\n2LDK+S(納戸)      157\n4LDK            124\n1K+S(納戸)         75\n3LDK+S(納戸)       68\n3K               48\n2DK+S(納戸)        25\n4DK              16\n5LDK             15\n1DK+S(納戸)        14\n4LDK+S(納戸)       12\n3DK+S(納戸)         6\n4K                4\n5LDK+S(納戸)        4\n5DK               4\n1LK+S(納戸)         2\n6LDK              2\n5K                1\n5DK+S(納戸)         1\n2K+S(納戸)          1\n3K+S(納戸)          1\nName: Type, dtype: int64"
     },
     "metadata": {},
     "output_type": "execute_result",
     "execution_count": 498
    }
   ],
   "source": [
    "train['Type'].value_counts()"
   ],
   "metadata": {
    "collapsed": false,
    "pycharm": {
     "name": "#%%\n",
     "is_executing": false
    }
   }
  },
  {
   "cell_type": "code",
   "execution_count": 499,
   "outputs": [],
   "source": [
    "for dataset in train_test_data:\n",
    "    dataset['R'] = dataset['Type'].str.extract('([0-9])')\n",
    "    dataset['K'] = dataset['Type'].str.extract('(K)')\n",
    "    dataset['L'] = dataset['Type'].str.extract('(L)')\n",
    "    dataset['D'] = dataset['Type'].str.extract('(D)')\n",
    "    dataset['S'] = dataset['Type'].str.extract('(S)')"
   ],
   "metadata": {
    "collapsed": false,
    "pycharm": {
     "name": "#%%\n",
     "is_executing": false
    }
   }
  },
  {
   "cell_type": "code",
   "execution_count": 500,
   "outputs": [],
   "source": [
    "K = train['K']"
   ],
   "metadata": {
    "collapsed": false,
    "pycharm": {
     "name": "#%%\n",
     "is_executing": false
    }
   }
  },
  {
   "cell_type": "code",
   "execution_count": 501,
   "outputs": [],
   "source": [
    "L = train['L']"
   ],
   "metadata": {
    "collapsed": false,
    "pycharm": {
     "name": "#%%\n",
     "is_executing": false
    }
   }
  },
  {
   "cell_type": "code",
   "execution_count": 502,
   "outputs": [],
   "source": [
    "D = train['D']"
   ],
   "metadata": {
    "collapsed": false,
    "pycharm": {
     "name": "#%%\n",
     "is_executing": false
    }
   }
  },
  {
   "cell_type": "code",
   "execution_count": 503,
   "outputs": [],
   "source": [
    "S = train['S']"
   ],
   "metadata": {
    "collapsed": false,
    "pycharm": {
     "name": "#%%\n",
     "is_executing": false
    }
   }
  },
  {
   "cell_type": "code",
   "execution_count": 504,
   "outputs": [
    {
     "data": {
      "text/plain": "   R           Rent\n5  6  350000.000000\n4  5  330424.000000\n3  4  281617.307692\n2  3  195535.000000\n1  2  147231.745687\n0  1  104948.426653",
      "text/html": "<div>\n<style scoped>\n    .dataframe tbody tr th:only-of-type {\n        vertical-align: middle;\n    }\n\n    .dataframe tbody tr th {\n        vertical-align: top;\n    }\n\n    .dataframe thead th {\n        text-align: right;\n    }\n</style>\n<table border=\"1\" class=\"dataframe\">\n  <thead>\n    <tr style=\"text-align: right;\">\n      <th></th>\n      <th>R</th>\n      <th>Rent</th>\n    </tr>\n  </thead>\n  <tbody>\n    <tr>\n      <td>5</td>\n      <td>6</td>\n      <td>350000.000000</td>\n    </tr>\n    <tr>\n      <td>4</td>\n      <td>5</td>\n      <td>330424.000000</td>\n    </tr>\n    <tr>\n      <td>3</td>\n      <td>4</td>\n      <td>281617.307692</td>\n    </tr>\n    <tr>\n      <td>2</td>\n      <td>3</td>\n      <td>195535.000000</td>\n    </tr>\n    <tr>\n      <td>1</td>\n      <td>2</td>\n      <td>147231.745687</td>\n    </tr>\n    <tr>\n      <td>0</td>\n      <td>1</td>\n      <td>104948.426653</td>\n    </tr>\n  </tbody>\n</table>\n</div>"
     },
     "metadata": {},
     "output_type": "execute_result",
     "execution_count": 504
    }
   ],
   "source": [
    "#train[['R','K','L','D','S','Rent']].groupby(['R','K','L','D','S'], as_index=False).mean().sort_values(by=\"Rent\",ascending=False)\n",
    "train[['R','Rent']].groupby(['R'], as_index=False).mean().sort_values(by=\"Rent\",ascending=False)"
   ],
   "metadata": {
    "collapsed": false,
    "pycharm": {
     "name": "#%%\n",
     "is_executing": false
    }
   }
  },
  {
   "cell_type": "code",
   "execution_count": 505,
   "outputs": [],
   "source": [
    "#train['Type'].head(20)\n",
    "train['K'] = train['K'].apply(lambda x: True if x == 'K' else False)"
   ],
   "metadata": {
    "collapsed": false,
    "pycharm": {
     "name": "#%%\n",
     "is_executing": false
    }
   }
  },
  {
   "cell_type": "code",
   "execution_count": 506,
   "outputs": [],
   "source": [
    "\n",
    "train['D'] = train['D'].apply(lambda x: True if x == 'D' else False)\n",
    "train['L'] = train['L'].apply(lambda x: True if x == 'L' else False)\n",
    "train['S'] = train['S'].apply(lambda x: True if x == 'S' else False)"
   ],
   "metadata": {
    "collapsed": false,
    "pycharm": {
     "name": "#%%\n",
     "is_executing": false
    }
   }
  },
  {
   "cell_type": "code",
   "execution_count": 507,
   "outputs": [
    {
     "data": {
      "text/plain": "    id  R      K      D      L      S\n0    1  1   True  False  False  False\n1    2  1  False  False  False  False\n2    3  1   True  False  False  False\n3    4  2   True   True   True  False\n4    5  2   True   True  False  False\n5    6  2   True   True   True  False\n6    7  1   True  False  False  False\n7    8  1   True  False  False  False\n8    9  2   True   True  False  False\n9   10  1   True   True  False  False\n10  11  1   True  False  False  False\n11  12  1   True  False  False  False\n12  13  1   True   True   True  False\n13  14  2   True   True  False  False\n14  15  1   True  False  False  False\n15  16  1   True   True  False  False\n16  17  1   True  False  False  False\n17  18  1   True  False  False  False\n18  19  3   True   True   True  False\n19  20  3   True   True  False  False",
      "text/html": "<div>\n<style scoped>\n    .dataframe tbody tr th:only-of-type {\n        vertical-align: middle;\n    }\n\n    .dataframe tbody tr th {\n        vertical-align: top;\n    }\n\n    .dataframe thead th {\n        text-align: right;\n    }\n</style>\n<table border=\"1\" class=\"dataframe\">\n  <thead>\n    <tr style=\"text-align: right;\">\n      <th></th>\n      <th>id</th>\n      <th>R</th>\n      <th>K</th>\n      <th>D</th>\n      <th>L</th>\n      <th>S</th>\n    </tr>\n  </thead>\n  <tbody>\n    <tr>\n      <td>0</td>\n      <td>1</td>\n      <td>1</td>\n      <td>True</td>\n      <td>False</td>\n      <td>False</td>\n      <td>False</td>\n    </tr>\n    <tr>\n      <td>1</td>\n      <td>2</td>\n      <td>1</td>\n      <td>False</td>\n      <td>False</td>\n      <td>False</td>\n      <td>False</td>\n    </tr>\n    <tr>\n      <td>2</td>\n      <td>3</td>\n      <td>1</td>\n      <td>True</td>\n      <td>False</td>\n      <td>False</td>\n      <td>False</td>\n    </tr>\n    <tr>\n      <td>3</td>\n      <td>4</td>\n      <td>2</td>\n      <td>True</td>\n      <td>True</td>\n      <td>True</td>\n      <td>False</td>\n    </tr>\n    <tr>\n      <td>4</td>\n      <td>5</td>\n      <td>2</td>\n      <td>True</td>\n      <td>True</td>\n      <td>False</td>\n      <td>False</td>\n    </tr>\n    <tr>\n      <td>5</td>\n      <td>6</td>\n      <td>2</td>\n      <td>True</td>\n      <td>True</td>\n      <td>True</td>\n      <td>False</td>\n    </tr>\n    <tr>\n      <td>6</td>\n      <td>7</td>\n      <td>1</td>\n      <td>True</td>\n      <td>False</td>\n      <td>False</td>\n      <td>False</td>\n    </tr>\n    <tr>\n      <td>7</td>\n      <td>8</td>\n      <td>1</td>\n      <td>True</td>\n      <td>False</td>\n      <td>False</td>\n      <td>False</td>\n    </tr>\n    <tr>\n      <td>8</td>\n      <td>9</td>\n      <td>2</td>\n      <td>True</td>\n      <td>True</td>\n      <td>False</td>\n      <td>False</td>\n    </tr>\n    <tr>\n      <td>9</td>\n      <td>10</td>\n      <td>1</td>\n      <td>True</td>\n      <td>True</td>\n      <td>False</td>\n      <td>False</td>\n    </tr>\n    <tr>\n      <td>10</td>\n      <td>11</td>\n      <td>1</td>\n      <td>True</td>\n      <td>False</td>\n      <td>False</td>\n      <td>False</td>\n    </tr>\n    <tr>\n      <td>11</td>\n      <td>12</td>\n      <td>1</td>\n      <td>True</td>\n      <td>False</td>\n      <td>False</td>\n      <td>False</td>\n    </tr>\n    <tr>\n      <td>12</td>\n      <td>13</td>\n      <td>1</td>\n      <td>True</td>\n      <td>True</td>\n      <td>True</td>\n      <td>False</td>\n    </tr>\n    <tr>\n      <td>13</td>\n      <td>14</td>\n      <td>2</td>\n      <td>True</td>\n      <td>True</td>\n      <td>False</td>\n      <td>False</td>\n    </tr>\n    <tr>\n      <td>14</td>\n      <td>15</td>\n      <td>1</td>\n      <td>True</td>\n      <td>False</td>\n      <td>False</td>\n      <td>False</td>\n    </tr>\n    <tr>\n      <td>15</td>\n      <td>16</td>\n      <td>1</td>\n      <td>True</td>\n      <td>True</td>\n      <td>False</td>\n      <td>False</td>\n    </tr>\n    <tr>\n      <td>16</td>\n      <td>17</td>\n      <td>1</td>\n      <td>True</td>\n      <td>False</td>\n      <td>False</td>\n      <td>False</td>\n    </tr>\n    <tr>\n      <td>17</td>\n      <td>18</td>\n      <td>1</td>\n      <td>True</td>\n      <td>False</td>\n      <td>False</td>\n      <td>False</td>\n    </tr>\n    <tr>\n      <td>18</td>\n      <td>19</td>\n      <td>3</td>\n      <td>True</td>\n      <td>True</td>\n      <td>True</td>\n      <td>False</td>\n    </tr>\n    <tr>\n      <td>19</td>\n      <td>20</td>\n      <td>3</td>\n      <td>True</td>\n      <td>True</td>\n      <td>False</td>\n      <td>False</td>\n    </tr>\n  </tbody>\n</table>\n</div>"
     },
     "metadata": {},
     "output_type": "execute_result",
     "execution_count": 507
    }
   ],
   "source": [
    "train[['id','R','K','D','L','S']].groupby(['id','R'],as_index=False).mean().head(20)"
   ],
   "metadata": {
    "collapsed": false,
    "pycharm": {
     "name": "#%%\n",
     "is_executing": false
    }
   }
  },
  {
   "cell_type": "code",
   "execution_count": 508,
   "outputs": [
    {
     "data": {
      "text/plain": "<matplotlib.axes._subplots.AxesSubplot at 0x21e2be387c8>"
     },
     "metadata": {},
     "output_type": "execute_result",
     "execution_count": 508
    },
    {
     "data": {
      "text/plain": "<Figure size 2880x1440 with 1 Axes>",
      "image/png": "[encoded data removed]"
     },
     "metadata": {},
     "output_type": "display_data"
    }
   ],
   "source": [
    "plt.figure(figsize=(40,20))\n",
    "sns.barplot(x=train['Type'],y=train['Rent'],data=train)"
   ],
   "metadata": {
    "collapsed": false,
    "pycharm": {
     "name": "#%%\n",
     "is_executing": false
    }
   }
  },
  {
   "cell_type": "code",
   "execution_count": 509,
   "outputs": [
    {
     "data": {
      "text/plain": "南     8909\n東     4995\n西     4026\n南東    3098\n南西    3080\n北     1966\n北西    1326\n北東    1321\nName: Direction, dtype: int64"
     },
     "metadata": {},
     "output_type": "execute_result",
     "execution_count": 509
    }
   ],
   "source": [
    "train['Direction'].value_counts()"
   ],
   "metadata": {
    "collapsed": false,
    "pycharm": {
     "name": "#%%\n",
     "is_executing": false
    }
   }
  },
  {
   "cell_type": "code",
   "execution_count": 510,
   "outputs": [
    {
     "data": {
      "text/plain": "  Direction           Rent\n2        北西  135791.875566\n4        南東  131210.768238\n1        北東  127517.737320\n5        南西  126737.894481\n0         北  126057.842319\n7         西  116873.421510\n3         南  114149.718936\n6         東  113991.111311",
      "text/html": "<div>\n<style scoped>\n    .dataframe tbody tr th:only-of-type {\n        vertical-align: middle;\n    }\n\n    .dataframe tbody tr th {\n        vertical-align: top;\n    }\n\n    .dataframe thead th {\n        text-align: right;\n    }\n</style>\n<table border=\"1\" class=\"dataframe\">\n  <thead>\n    <tr style=\"text-align: right;\">\n      <th></th>\n      <th>Direction</th>\n      <th>Rent</th>\n    </tr>\n  </thead>\n  <tbody>\n    <tr>\n      <td>2</td>\n      <td>北西</td>\n      <td>135791.875566</td>\n    </tr>\n    <tr>\n      <td>4</td>\n      <td>南東</td>\n      <td>131210.768238</td>\n    </tr>\n    <tr>\n      <td>1</td>\n      <td>北東</td>\n      <td>127517.737320</td>\n    </tr>\n    <tr>\n      <td>5</td>\n      <td>南西</td>\n      <td>126737.894481</td>\n    </tr>\n    <tr>\n      <td>0</td>\n      <td>北</td>\n      <td>126057.842319</td>\n    </tr>\n    <tr>\n      <td>7</td>\n      <td>西</td>\n      <td>116873.421510</td>\n    </tr>\n    <tr>\n      <td>3</td>\n      <td>南</td>\n      <td>114149.718936</td>\n    </tr>\n    <tr>\n      <td>6</td>\n      <td>東</td>\n      <td>113991.111311</td>\n    </tr>\n  </tbody>\n</table>\n</div>"
     },
     "metadata": {},
     "output_type": "execute_result",
     "execution_count": 510
    }
   ],
   "source": [
    "train[['Direction', 'Rent']].groupby(['Direction'], as_index=False).mean().sort_values(by=\"Rent\",ascending=False)\n"
   ],
   "metadata": {
    "collapsed": false,
    "pycharm": {
     "name": "#%%\n",
     "is_executing": false
    }
   }
  },
  {
   "cell_type": "code",
   "execution_count": 511,
   "outputs": [
    {
     "data": {
      "text/plain": "<matplotlib.axes._subplots.AxesSubplot at 0x21e22a11588>"
     },
     "metadata": {},
     "output_type": "execute_result",
     "execution_count": 511
    },
    {
     "data": {
      "text/plain": "<Figure size 1440x720 with 1 Axes>",
      "image/png": "[encoded data removed]"
     },
     "metadata": {},
     "output_type": "display_data"
    }
   ],
   "source": [
    "plt.figure(figsize=(20,10))\n",
    "sns.boxplot(x=train['Direction'],y=train['Rent'],data=train)"
   ],
   "metadata": {
    "collapsed": false,
    "pycharm": {
     "name": "#%%\n",
     "is_executing": false
    }
   }
  },
  {
   "cell_type": "code",
   "execution_count": 512,
   "outputs": [],
   "source": [
    "for dataset in train_test_data:\n",
    "    dataset['YearContract'] = dataset['Contract'].str.extract('(^[0-9]*年間)')"
   ],
   "metadata": {
    "collapsed": false,
    "pycharm": {
     "name": "#%%\n",
     "is_executing": false
    }
   }
  },
  {
   "cell_type": "code",
   "execution_count": 513,
   "outputs": [
    {
     "data": {
      "text/plain": "2年間     23486\n5年間       244\n3年間       244\n1年間       157\n4年間        64\n6年間         9\n10年間        7\n7年間         4\n22年間        2\n15年間        1\n12年間        1\nName: YearContract, dtype: int64"
     },
     "metadata": {},
     "output_type": "execute_result",
     "execution_count": 513
    }
   ],
   "source": [
    "train['YearContract'].value_counts()"
   ],
   "metadata": {
    "collapsed": false,
    "pycharm": {
     "name": "#%%\n",
     "is_executing": false
    }
   }
  },
  {
   "cell_type": "code",
   "execution_count": 514,
   "outputs": [
    {
     "data": {
      "text/plain": "<matplotlib.axes._subplots.AxesSubplot at 0x21e221c6d88>"
     },
     "metadata": {},
     "output_type": "execute_result",
     "execution_count": 514
    },
    {
     "data": {
      "text/plain": "<Figure size 1440x720 with 1 Axes>",
      "image/png": "[encoded data removed]"
     },
     "metadata": {},
     "output_type": "display_data"
    }
   ],
   "source": [
    "plt.figure(figsize=(20,10))\n",
    "sns.barplot(x=train['YearContract'],y=train['Rent'],data=train)"
   ],
   "metadata": {
    "collapsed": false,
    "pycharm": {
     "name": "#%%\n",
     "is_executing": false
    }
   }
  },
  {
   "cell_type": "code",
   "execution_count": 515,
   "outputs": [],
   "source": [
    "for dataset in train_test_data:\n",
    "    dataset['MonthContract'] = dataset['Contract'].str.extract('(^[0-9]*ヶ月間)')"
   ],
   "metadata": {
    "collapsed": false,
    "pycharm": {
     "name": "#%%\n",
     "is_executing": false
    }
   }
  },
  {
   "cell_type": "code",
   "execution_count": 516,
   "outputs": [
    {
     "data": {
      "text/plain": "<matplotlib.axes._subplots.AxesSubplot at 0x21e1084e908>"
     },
     "metadata": {},
     "output_type": "execute_result",
     "execution_count": 516
    },
    {
     "data": {
      "text/plain": "<Figure size 1440x720 with 1 Axes>",
      "image/png": "[encoded data removed]"
     },
     "metadata": {},
     "output_type": "display_data"
    }
   ],
   "source": [
    "plt.figure(figsize=(20,10))\n",
    "sns.barplot(x=train['MonthContract'],y=train['Rent'],data=train)"
   ],
   "metadata": {
    "collapsed": false,
    "pycharm": {
     "name": "#%%\n",
     "is_executing": false
    }
   }
  },
  {
   "cell_type": "code",
   "execution_count": 517,
   "outputs": [
    {
     "data": {
      "text/plain": "2ヶ月間    11\n1ヶ月間     1\n6ヶ月間     1\n9ヶ月間     1\nName: MonthContract, dtype: int64"
     },
     "metadata": {},
     "output_type": "execute_result",
     "execution_count": 517
    }
   ],
   "source": [
    "train['MonthContract'].value_counts()"
   ],
   "metadata": {
    "collapsed": false,
    "pycharm": {
     "name": "#%%\n",
     "is_executing": false
    }
   }
  },
  {
   "cell_type": "code",
   "execution_count": 518,
   "outputs": [],
   "source": [
    "train['MonthContract'] = train['MonthContract'].replace(['2ヶ月間','9ヶ月間','6ヶ月間','1ヶ月間'],'0年間')\n"
   ],
   "metadata": {
    "collapsed": false,
    "pycharm": {
     "name": "#%%\n",
     "is_executing": false
    }
   }
  },
  {
   "cell_type": "code",
   "execution_count": 519,
   "outputs": [],
   "source": [
    "for dataset in train_test_data:\n",
    "    dataset['Floorth'] = dataset['Floor'].str.extract('(^[0-9]*階／)')"
   ],
   "metadata": {
    "collapsed": false,
    "pycharm": {
     "name": "#%%\n",
     "is_executing": false
    }
   }
  },
  {
   "cell_type": "code",
   "execution_count": 520,
   "outputs": [],
   "source": [
    "for dataset in train_test_data:\n",
    "    dataset['FloorNum'] = dataset['Floor'].str.extract('(^[0-9]*階建)')"
   ],
   "metadata": {
    "collapsed": false,
    "pycharm": {
     "name": "#%%\n",
     "is_executing": false
    }
   }
  },
  {
   "cell_type": "code",
   "execution_count": 521,
   "outputs": [
    {
     "data": {
      "text/plain": "2階建    435\n3階建    134\n1階建      8\n4階建      6\n5階建      1\nName: FloorNum, dtype: int64"
     },
     "metadata": {},
     "output_type": "execute_result",
     "execution_count": 521
    }
   ],
   "source": [
    "train['FloorNum'].value_counts()"
   ],
   "metadata": {
    "collapsed": false,
    "pycharm": {
     "name": "#%%\n",
     "is_executing": false
    }
   }
  },
  {
   "cell_type": "code",
   "execution_count": 522,
   "outputs": [
    {
     "data": {
      "text/plain": "   Floorth           Rent\n36    43階／  648250.000000\n42    50階／  620000.000000\n44    53階／  505000.000000\n29    37階／  428000.000000\n31    39階／  393250.000000\n35    42階／  384285.714286\n28    36階／  379600.000000\n30    38階／  376812.500000\n34    41階／  330000.000000\n19    28階／  327066.666667",
      "text/html": "<div>\n<style scoped>\n    .dataframe tbody tr th:only-of-type {\n        vertical-align: middle;\n    }\n\n    .dataframe tbody tr th {\n        vertical-align: top;\n    }\n\n    .dataframe thead th {\n        text-align: right;\n    }\n</style>\n<table border=\"1\" class=\"dataframe\">\n  <thead>\n    <tr style=\"text-align: right;\">\n      <th></th>\n      <th>Floorth</th>\n      <th>Rent</th>\n    </tr>\n  </thead>\n  <tbody>\n    <tr>\n      <td>36</td>\n      <td>43階／</td>\n      <td>648250.000000</td>\n    </tr>\n    <tr>\n      <td>42</td>\n      <td>50階／</td>\n      <td>620000.000000</td>\n    </tr>\n    <tr>\n      <td>44</td>\n      <td>53階／</td>\n      <td>505000.000000</td>\n    </tr>\n    <tr>\n      <td>29</td>\n      <td>37階／</td>\n      <td>428000.000000</td>\n    </tr>\n    <tr>\n      <td>31</td>\n      <td>39階／</td>\n      <td>393250.000000</td>\n    </tr>\n    <tr>\n      <td>35</td>\n      <td>42階／</td>\n      <td>384285.714286</td>\n    </tr>\n    <tr>\n      <td>28</td>\n      <td>36階／</td>\n      <td>379600.000000</td>\n    </tr>\n    <tr>\n      <td>30</td>\n      <td>38階／</td>\n      <td>376812.500000</td>\n    </tr>\n    <tr>\n      <td>34</td>\n      <td>41階／</td>\n      <td>330000.000000</td>\n    </tr>\n    <tr>\n      <td>19</td>\n      <td>28階／</td>\n      <td>327066.666667</td>\n    </tr>\n  </tbody>\n</table>\n</div>"
     },
     "metadata": {},
     "output_type": "execute_result",
     "execution_count": 522
    }
   ],
   "source": [
    "train[['Floorth','Rent']].groupby(['Floorth'],as_index=False).mean().sort_values(by=\"Rent\",ascending=False).head(10)"
   ],
   "metadata": {
    "collapsed": false,
    "pycharm": {
     "name": "#%%\n",
     "is_executing": false
    }
   }
  },
  {
   "cell_type": "code",
   "execution_count": 523,
   "outputs": [],
   "source": [
    "train.drop(['FloorNum','Floor','Contract','Location','MonthContract','Type'],axis=1,inplace=True)"
   ],
   "metadata": {
    "collapsed": false,
    "pycharm": {
     "name": "#%%\n",
     "is_executing": false
    }
   }
  },
  {
   "cell_type": "code",
   "execution_count": 524,
   "outputs": [
    {
     "name": "stdout",
     "text": [
      "<class 'pandas.core.frame.DataFrame'>\nRangeIndex: 31470 entries, 0 to 31469\nData columns (total 21 columns):\nid              31470 non-null int64\nRent            31470 non-null int64\nAccess          31470 non-null object\nAge             31470 non-null object\nDirection       28721 non-null object\nArea            31470 non-null object\nBath            31141 non-null object\nKitchen         30849 non-null object\nInternet        28030 non-null object\nFacility        31388 non-null object\nParking         26183 non-null object\nSurround        22038 non-null object\nMaterial        31470 non-null object\nCity            31470 non-null object\nR               31470 non-null object\nK               31470 non-null bool\nL               31470 non-null bool\nD               31470 non-null bool\nS               31470 non-null bool\nYearContract    24219 non-null object\nFloorth         30705 non-null object\ndtypes: bool(4), int64(2), object(15)\nmemory usage: 4.2+ MB\n"
     ],
     "output_type": "stream"
    }
   ],
   "source": [
    "train.info()"
   ],
   "metadata": {
    "collapsed": false,
    "pycharm": {
     "name": "#%%\n",
     "is_executing": false
    }
   }
  },
  {
   "cell_type": "code",
   "execution_count": null,
   "outputs": [],
   "source": [
    "for dataset in train_test_data:\n",
    "    dataset['Station'] = dataset['Access'].str.extract('(([\\u4E00-\\u9FAF|\\u3040-\\u3096|\\u30A1-\\u30FA|\\uFF66-\\uFF9D|\\u31F0-\\u31FF])*駅)')"
   ],
   "metadata": {
    "collapsed": false,
    "pycharm": {
     "name": "#%%\n",
     "is_executing": false
    }
   }
  },
  {
   "cell_type": "code",
   "execution_count": 526,
   "outputs": [
    {
     "data": {
      "text/plain": "町    2643\n橋    1591\n谷     965\n前     950\n山     877\n     ... \n市       9\n束       8\n路       4\n切       2\n口       1\nName: Station, Length: 127, dtype: int64"
     },
     "metadata": {},
     "output_type": "execute_result",
     "execution_count": 526
    }
   ],
   "source": [
    "train['Station'].value_counts()"
   ],
   "metadata": {
    "collapsed": false,
    "pycharm": {
     "name": "#%%\n",
     "is_executing": false
    }
   }
  },
  {
   "cell_type": "code",
   "execution_count": 527,
   "outputs": [
    {
     "data": {
      "text/plain": "    Station           Rent\n86        留  282538.461538\n120       門  275621.359223\n40        尾  253283.653846\n87        番  244376.284153\n67        森  244346.153846\n122       附  234395.833333\n116       道  228577.777778\n49        巳  218235.294118\n2         ド  217800.000000\n0         き  216122.994652",
      "text/html": "<div>\n<style scoped>\n    .dataframe tbody tr th:only-of-type {\n        vertical-align: middle;\n    }\n\n    .dataframe tbody tr th {\n        vertical-align: top;\n    }\n\n    .dataframe thead th {\n        text-align: right;\n    }\n</style>\n<table border=\"1\" class=\"dataframe\">\n  <thead>\n    <tr style=\"text-align: right;\">\n      <th></th>\n      <th>Station</th>\n      <th>Rent</th>\n    </tr>\n  </thead>\n  <tbody>\n    <tr>\n      <td>86</td>\n      <td>留</td>\n      <td>282538.461538</td>\n    </tr>\n    <tr>\n      <td>120</td>\n      <td>門</td>\n      <td>275621.359223</td>\n    </tr>\n    <tr>\n      <td>40</td>\n      <td>尾</td>\n      <td>253283.653846</td>\n    </tr>\n    <tr>\n      <td>87</td>\n      <td>番</td>\n      <td>244376.284153</td>\n    </tr>\n    <tr>\n      <td>67</td>\n      <td>森</td>\n      <td>244346.153846</td>\n    </tr>\n    <tr>\n      <td>122</td>\n      <td>附</td>\n      <td>234395.833333</td>\n    </tr>\n    <tr>\n      <td>116</td>\n      <td>道</td>\n      <td>228577.777778</td>\n    </tr>\n    <tr>\n      <td>49</td>\n      <td>巳</td>\n      <td>218235.294118</td>\n    </tr>\n    <tr>\n      <td>2</td>\n      <td>ド</td>\n      <td>217800.000000</td>\n    </tr>\n    <tr>\n      <td>0</td>\n      <td>き</td>\n      <td>216122.994652</td>\n    </tr>\n  </tbody>\n</table>\n</div>"
     },
     "metadata": {},
     "output_type": "execute_result",
     "execution_count": 527
    }
   ],
   "source": [
    "train[['Station','Rent']].groupby(['Station'],as_index=False).mean().sort_values(by=\"Rent\",ascending=False).head(10)\n"
   ],
   "metadata": {
    "collapsed": false,
    "pycharm": {
     "name": "#%%\n",
     "is_executing": false
    }
   }
  },
  {
   "cell_type": "code",
   "execution_count": 528,
   "outputs": [],
   "source": [
    "for dataset in train_test_data:\n",
    "    dataset['Minute'] = dataset['Access'].str.extract('(徒歩[0-9]*分)')"
   ],
   "metadata": {
    "collapsed": false,
    "pycharm": {
     "name": "#%%\n",
     "is_executing": false
    }
   }
  },
  {
   "cell_type": "code",
   "execution_count": 529,
   "outputs": [
    {
     "data": {
      "text/plain": "徒歩5分     3859\n徒歩8分     2820\n徒歩3分     2760\n徒歩4分     2715\n徒歩7分     2706\n徒歩6分     2639\n徒歩10分    2562\n徒歩9分     2168\n徒歩2分     1807\n徒歩12分    1175\n徒歩1分     1112\n徒歩11分     999\n徒歩13分     927\n徒歩15分     862\n徒歩14分     670\n徒歩17分     304\n徒歩18分     280\n徒歩16分     263\n徒歩20分     199\n徒歩19分     160\n徒歩23分      82\n徒歩22分      82\n徒歩21分      72\n徒歩25分      59\n徒歩24分      41\n徒歩27分      32\n徒歩26分      29\n徒歩29分      28\n徒歩28分      27\n徒歩32分       6\n徒歩30分       5\n徒歩33分       4\n徒歩38分       4\n徒歩37分       4\n徒歩36分       2\n徒歩34分       2\n徒歩45分       1\n徒歩39分       1\n徒歩42分       1\n徒歩31分       1\nName: Minute, dtype: int64"
     },
     "metadata": {},
     "output_type": "execute_result",
     "execution_count": 529
    }
   ],
   "source": [
    "train['Minute'].value_counts()"
   ],
   "metadata": {
    "collapsed": false,
    "pycharm": {
     "name": "#%%\n",
     "is_executing": false
    }
   }
  },
  {
   "cell_type": "code",
   "execution_count": 530,
   "outputs": [
    {
     "data": {
      "text/plain": "   Minute           Rent\n10   徒歩1分  133140.359712\n21   徒歩2分  129289.728832\n31   徒歩3分  126990.969928\n35   徒歩5分  126507.136564\n34   徒歩4分  125807.425414\n36   徒歩6分  125109.245926\n38   徒歩8分  120992.301773\n39   徒歩9分  115518.258303\n37   徒歩7分  114301.947524\n2   徒歩12分  112107.297872",
      "text/html": "<div>\n<style scoped>\n    .dataframe tbody tr th:only-of-type {\n        vertical-align: middle;\n    }\n\n    .dataframe tbody tr th {\n        vertical-align: top;\n    }\n\n    .dataframe thead th {\n        text-align: right;\n    }\n</style>\n<table border=\"1\" class=\"dataframe\">\n  <thead>\n    <tr style=\"text-align: right;\">\n      <th></th>\n      <th>Minute</th>\n      <th>Rent</th>\n    </tr>\n  </thead>\n  <tbody>\n    <tr>\n      <td>10</td>\n      <td>徒歩1分</td>\n      <td>133140.359712</td>\n    </tr>\n    <tr>\n      <td>21</td>\n      <td>徒歩2分</td>\n      <td>129289.728832</td>\n    </tr>\n    <tr>\n      <td>31</td>\n      <td>徒歩3分</td>\n      <td>126990.969928</td>\n    </tr>\n    <tr>\n      <td>35</td>\n      <td>徒歩5分</td>\n      <td>126507.136564</td>\n    </tr>\n    <tr>\n      <td>34</td>\n      <td>徒歩4分</td>\n      <td>125807.425414</td>\n    </tr>\n    <tr>\n      <td>36</td>\n      <td>徒歩6分</td>\n      <td>125109.245926</td>\n    </tr>\n    <tr>\n      <td>38</td>\n      <td>徒歩8分</td>\n      <td>120992.301773</td>\n    </tr>\n    <tr>\n      <td>39</td>\n      <td>徒歩9分</td>\n      <td>115518.258303</td>\n    </tr>\n    <tr>\n      <td>37</td>\n      <td>徒歩7分</td>\n      <td>114301.947524</td>\n    </tr>\n    <tr>\n      <td>2</td>\n      <td>徒歩12分</td>\n      <td>112107.297872</td>\n    </tr>\n  </tbody>\n</table>\n</div>"
     },
     "metadata": {},
     "output_type": "execute_result",
     "execution_count": 530
    }
   ],
   "source": [
    "train[['Minute','Rent']].groupby(['Minute'],as_index=False).mean().sort_values(by=\"Rent\",ascending=False).head(10)"
   ],
   "metadata": {
    "collapsed": false,
    "pycharm": {
     "name": "#%%\n",
     "is_executing": false
    }
   }
  },
  {
   "cell_type": "code",
   "execution_count": 531,
   "outputs": [
    {
     "data": {
      "text/plain": "     Station Minute           Rent\n1301       番   徒歩9分  500750.000000\n1794       門   徒歩5分  432583.333333\n1028       毛  徒歩15分  414666.666667\n601        尾   徒歩5分  407375.000000\n548        宿   徒歩2分  403750.000000\n587        寿   徒歩6分  401866.666667\n1689       足   徒歩4分  400000.000000\n365        坂   徒歩2分  390352.941176\n997        森   徒歩3分  385000.000000\n1300       番   徒歩8分  372923.076923",
      "text/html": "<div>\n<style scoped>\n    .dataframe tbody tr th:only-of-type {\n        vertical-align: middle;\n    }\n\n    .dataframe tbody tr th {\n        vertical-align: top;\n    }\n\n    .dataframe thead th {\n        text-align: right;\n    }\n</style>\n<table border=\"1\" class=\"dataframe\">\n  <thead>\n    <tr style=\"text-align: right;\">\n      <th></th>\n      <th>Station</th>\n      <th>Minute</th>\n      <th>Rent</th>\n    </tr>\n  </thead>\n  <tbody>\n    <tr>\n      <td>1301</td>\n      <td>番</td>\n      <td>徒歩9分</td>\n      <td>500750.000000</td>\n    </tr>\n    <tr>\n      <td>1794</td>\n      <td>門</td>\n      <td>徒歩5分</td>\n      <td>432583.333333</td>\n    </tr>\n    <tr>\n      <td>1028</td>\n      <td>毛</td>\n      <td>徒歩15分</td>\n      <td>414666.666667</td>\n    </tr>\n    <tr>\n      <td>601</td>\n      <td>尾</td>\n      <td>徒歩5分</td>\n      <td>407375.000000</td>\n    </tr>\n    <tr>\n      <td>548</td>\n      <td>宿</td>\n      <td>徒歩2分</td>\n      <td>403750.000000</td>\n    </tr>\n    <tr>\n      <td>587</td>\n      <td>寿</td>\n      <td>徒歩6分</td>\n      <td>401866.666667</td>\n    </tr>\n    <tr>\n      <td>1689</td>\n      <td>足</td>\n      <td>徒歩4分</td>\n      <td>400000.000000</td>\n    </tr>\n    <tr>\n      <td>365</td>\n      <td>坂</td>\n      <td>徒歩2分</td>\n      <td>390352.941176</td>\n    </tr>\n    <tr>\n      <td>997</td>\n      <td>森</td>\n      <td>徒歩3分</td>\n      <td>385000.000000</td>\n    </tr>\n    <tr>\n      <td>1300</td>\n      <td>番</td>\n      <td>徒歩8分</td>\n      <td>372923.076923</td>\n    </tr>\n  </tbody>\n</table>\n</div>"
     },
     "metadata": {},
     "output_type": "execute_result",
     "execution_count": 531
    }
   ],
   "source": [
    "train[['Station','Minute','Rent']].groupby(['Station','Minute'],as_index=False).mean().sort_values(by=\"Rent\",ascending=False).head(10)"
   ],
   "metadata": {
    "collapsed": false,
    "pycharm": {
     "name": "#%%\n",
     "is_executing": false
    }
   }
  },
  {
   "cell_type": "code",
   "execution_count": 532,
   "outputs": [],
   "source": [
    "for dataset in train_test_data:\n",
    "    dataset['Minute'] = dataset['Minute'].str.extract('([0-9]*)')"
   ],
   "metadata": {
    "collapsed": false,
    "pycharm": {
     "name": "#%%\n",
     "is_executing": false
    }
   }
  },
  {
   "cell_type": "code",
   "execution_count": 533,
   "outputs": [
    {
     "name": "stdout",
     "text": [
      "<class 'pandas.core.frame.DataFrame'>\nRangeIndex: 31470 entries, 0 to 31469\nData columns (total 23 columns):\nid              31470 non-null int64\nRent            31470 non-null int64\nAccess          31470 non-null object\nAge             31470 non-null object\nDirection       28721 non-null object\nArea            31470 non-null object\nBath            31141 non-null object\nKitchen         30849 non-null object\nInternet        28030 non-null object\nFacility        31388 non-null object\nParking         26183 non-null object\nSurround        22038 non-null object\nMaterial        31470 non-null object\nCity            31470 non-null object\nR               31470 non-null object\nK               31470 non-null bool\nL               31470 non-null bool\nD               31470 non-null bool\nS               31470 non-null bool\nYearContract    24219 non-null object\nFloorth         30705 non-null object\nStation         27663 non-null object\nMinute          31470 non-null object\ndtypes: bool(4), int64(2), object(17)\nmemory usage: 4.7+ MB\n"
     ],
     "output_type": "stream"
    }
   ],
   "source": [
    "train.info()"
   ],
   "metadata": {
    "collapsed": false,
    "pycharm": {
     "name": "#%%\n",
     "is_executing": false
    }
   }
  },
  {
   "cell_type": "code",
   "execution_count": 534,
   "outputs": [],
   "source": [
    "def makeCountFull(train, test, categorical_features=None, report=True):\n",
    "    add_cols = categorical_features\n",
    "    if report:\n",
    "        print('add_cols: ', add_cols)\n",
    "    for add_col in add_cols:\n",
    "        train[add_col + '_int'] = train[add_col].map(pd.concat([train[add_col], test[add_col]], ignore_index=True).value_counts(dropna=False))\n",
    "        test[add_col + '_int'] = test[add_col].map(pd.concat([train[add_col], test[add_col]], ignore_index=True).value_counts(dropna=False))\n",
    "    return train, test"
   ],
   "metadata": {
    "collapsed": false,
    "pycharm": {
     "name": "#%%\n",
     "is_executing": false
    }
   }
  },
  {
   "cell_type": "code",
   "execution_count": 535,
   "outputs": [
    {
     "name": "stdout",
     "text": [
      "add_cols:  ['R', 'Access', 'Age', 'Direction', 'Area', 'Bath', 'Kitchen', 'Internet', 'Facility', 'Parking', 'Surround', 'Material', 'City', 'YearContract', 'Floorth', 'Minute', 'Station']\n"
     ],
     "output_type": "stream"
    }
   ],
   "source": [
    "from sklearn.preprocessing import LabelEncoder\n",
    "\n",
    "cat_features = ['R','Access','Age', 'Direction', 'Area', 'Bath', 'Kitchen', 'Internet', 'Facility', 'Parking', 'Surround', 'Material','City','YearContract','Floorth','Minute','Station']\n",
    "train, test = makeCountFull(train, test, cat_features)\n",
    "cat_cols = ['R','Access','Age', 'Direction', 'Area', 'Bath', 'Kitchen', 'Internet', 'Facility', 'Parking', 'Surround', 'Material','City','YearContract','Floorth','Minute','Station']\n",
    "for col in cat_cols:\n",
    "    train[col] = train[col].astype(str)\n",
    "    test[col] = test[col].astype(str)\n",
    "    le = LabelEncoder()\n",
    "    le.fit(list(train[col])+list(test[col]))\n",
    "    train[col] = le.transform(train[col])\n",
    "    test[col]    = le.transform(test[col])    \n",
    "    train[col] = train[col].astype('category')\n",
    "    test[col] = test[col].astype('category')"
   ],
   "metadata": {
    "collapsed": false,
    "pycharm": {
     "name": "#%%\n",
     "is_executing": false
    }
   }
  },
  {
   "cell_type": "code",
   "execution_count": 536,
   "outputs": [
    {
     "name": "stdout",
     "text": [
      "<class 'pandas.core.frame.DataFrame'>\nRangeIndex: 31470 entries, 0 to 31469\nData columns (total 40 columns):\nid                  31470 non-null int64\nRent                31470 non-null int64\nAccess              31470 non-null category\nAge                 31470 non-null category\nDirection           31470 non-null category\nArea                31470 non-null category\nBath                31470 non-null category\nKitchen             31470 non-null category\nInternet            31470 non-null category\nFacility            31470 non-null category\nParking             31470 non-null category\nSurround            31470 non-null category\nMaterial            31470 non-null category\nCity                31470 non-null category\nR                   31470 non-null category\nK                   31470 non-null bool\nL                   31470 non-null bool\nD                   31470 non-null bool\nS                   31470 non-null bool\nYearContract        31470 non-null category\nFloorth             31470 non-null category\nStation             31470 non-null category\nMinute              31470 non-null category\nR_int               31470 non-null int64\nAccess_int          31470 non-null int64\nAge_int             31470 non-null int64\nDirection_int       31470 non-null int64\nArea_int            31470 non-null int64\nBath_int            31470 non-null int64\nKitchen_int         31470 non-null int64\nInternet_int        31470 non-null int64\nFacility_int        31470 non-null int64\nParking_int         31470 non-null int64\nSurround_int        31470 non-null int64\nMaterial_int        31470 non-null int64\nCity_int            31470 non-null int64\nYearContract_int    31470 non-null int64\nFloorth_int         31470 non-null int64\nMinute_int          31470 non-null int64\nStation_int         31470 non-null int64\ndtypes: bool(4), category(17), int64(19)\nmemory usage: 7.7 MB\n"
     ],
     "output_type": "stream"
    }
   ],
   "source": [
    "train.info()"
   ],
   "metadata": {
    "collapsed": false,
    "pycharm": {
     "name": "#%%\n",
     "is_executing": false
    }
   }
  },
  {
   "cell_type": "code",
   "execution_count": 537,
   "outputs": [],
   "source": [
    "train.drop([\"Access\",\"Age\", \"Direction\", \"Area\", \"Bath\", \"Kitchen\", \"Internet\", \n",
    "            \"Facility\", \"Parking\", \"Surround\", \"Material\",\"City\",\"YearContract\",\"Floorth\",\"Minute\",\"Station\",\"R\"],axis=1,inplace=True)"
   ],
   "metadata": {
    "collapsed": false,
    "pycharm": {
     "name": "#%%\n",
     "is_executing": false
    }
   }
  },
  {
   "cell_type": "code",
   "execution_count": 538,
   "outputs": [
    {
     "name": "stdout",
     "text": [
      "<class 'pandas.core.frame.DataFrame'>\nRangeIndex: 31470 entries, 0 to 31469\nData columns (total 23 columns):\nid                  31470 non-null int64\nRent                31470 non-null int64\nK                   31470 non-null bool\nL                   31470 non-null bool\nD                   31470 non-null bool\nS                   31470 non-null bool\nR_int               31470 non-null int64\nAccess_int          31470 non-null int64\nAge_int             31470 non-null int64\nDirection_int       31470 non-null int64\nArea_int            31470 non-null int64\nBath_int            31470 non-null int64\nKitchen_int         31470 non-null int64\nInternet_int        31470 non-null int64\nFacility_int        31470 non-null int64\nParking_int         31470 non-null int64\nSurround_int        31470 non-null int64\nMaterial_int        31470 non-null int64\nCity_int            31470 non-null int64\nYearContract_int    31470 non-null int64\nFloorth_int         31470 non-null int64\nMinute_int          31470 non-null int64\nStation_int         31470 non-null int64\ndtypes: bool(4), int64(19)\nmemory usage: 4.7 MB\n"
     ],
     "output_type": "stream"
    }
   ],
   "source": [
    "train.info()"
   ],
   "metadata": {
    "collapsed": false,
    "pycharm": {
     "name": "#%%\n",
     "is_executing": false
    }
   }
  },
  {
   "cell_type": "code",
   "execution_count": 539,
   "outputs": [],
   "source": [
    "test.drop([\"Access\",\"Age\", \"Direction\", \"Area\", \"Bath\", \"Kitchen\", \"Internet\", \n",
    "            \"Facility\", \"Parking\", \"Surround\", \"Material\",\"City\",\"YearContract\",\"Floorth\",\"Minute\",\"Station\",\"R\"],axis=1,inplace=True)"
   ],
   "metadata": {
    "collapsed": false,
    "pycharm": {
     "name": "#%%\n",
     "is_executing": false
    }
   }
  },
  {
   "cell_type": "code",
   "execution_count": 540,
   "outputs": [
    {
     "name": "stdout",
     "text": [
      "<class 'pandas.core.frame.DataFrame'>\nRangeIndex: 31262 entries, 0 to 31261\nData columns (total 28 columns):\nid                  31262 non-null int64\nLocation            31262 non-null object\nType                31262 non-null object\nFloor               31261 non-null object\nContract            24281 non-null object\nK                   26165 non-null object\nL                   9236 non-null object\nD                   13419 non-null object\nS                   596 non-null object\nMonthContract       13 non-null object\nFloorNum            632 non-null object\nR_int               31262 non-null int64\nAccess_int          31262 non-null int64\nAge_int             31262 non-null int64\nDirection_int       31262 non-null int64\nArea_int            31262 non-null int64\nBath_int            31262 non-null int64\nKitchen_int         31262 non-null int64\nInternet_int        31262 non-null int64\nFacility_int        31262 non-null int64\nParking_int         31262 non-null int64\nSurround_int        31262 non-null int64\nMaterial_int        31262 non-null int64\nCity_int            31262 non-null int64\nYearContract_int    31262 non-null int64\nFloorth_int         31262 non-null int64\nMinute_int          31262 non-null int64\nStation_int         31262 non-null int64\ndtypes: int64(18), object(10)\nmemory usage: 6.7+ MB\n"
     ],
     "output_type": "stream"
    }
   ],
   "source": [
    "test.info()"
   ],
   "metadata": {
    "collapsed": false,
    "pycharm": {
     "name": "#%%\n",
     "is_executing": false
    }
   }
  },
  {
   "cell_type": "code",
   "execution_count": 541,
   "outputs": [],
   "source": [
    "test.drop([\"Location\",\"Type\",\"Floor\",\"Contract\",\"FloorNum\",\"MonthContract\"],axis=1,inplace=True)\n"
   ],
   "metadata": {
    "collapsed": false,
    "pycharm": {
     "name": "#%%\n",
     "is_executing": false
    }
   }
  },
  {
   "cell_type": "code",
   "execution_count": 542,
   "outputs": [
    {
     "name": "stdout",
     "text": [
      "<class 'pandas.core.frame.DataFrame'>\nRangeIndex: 31262 entries, 0 to 31261\nData columns (total 22 columns):\nid                  31262 non-null int64\nK                   26165 non-null object\nL                   9236 non-null object\nD                   13419 non-null object\nS                   596 non-null object\nR_int               31262 non-null int64\nAccess_int          31262 non-null int64\nAge_int             31262 non-null int64\nDirection_int       31262 non-null int64\nArea_int            31262 non-null int64\nBath_int            31262 non-null int64\nKitchen_int         31262 non-null int64\nInternet_int        31262 non-null int64\nFacility_int        31262 non-null int64\nParking_int         31262 non-null int64\nSurround_int        31262 non-null int64\nMaterial_int        31262 non-null int64\nCity_int            31262 non-null int64\nYearContract_int    31262 non-null int64\nFloorth_int         31262 non-null int64\nMinute_int          31262 non-null int64\nStation_int         31262 non-null int64\ndtypes: int64(18), object(4)\nmemory usage: 5.2+ MB\n"
     ],
     "output_type": "stream"
    }
   ],
   "source": [
    "test.info()"
   ],
   "metadata": {
    "collapsed": false,
    "pycharm": {
     "name": "#%%\n",
     "is_executing": false
    }
   }
  },
  {
   "cell_type": "code",
   "execution_count": 543,
   "outputs": [],
   "source": [
    "test['K'] = test['K'].apply(lambda x: True if x == 'K' else False)\n",
    "test['D'] = test['D'].apply(lambda x: True if x == 'D' else False)\n",
    "test['L'] = test['L'].apply(lambda x: True if x == 'L' else False)\n",
    "test['S'] = test['S'].apply(lambda x: True if x == 'S' else False)\n"
   ],
   "metadata": {
    "collapsed": false,
    "pycharm": {
     "name": "#%%\n",
     "is_executing": false
    }
   }
  },
  {
   "cell_type": "code",
   "execution_count": 544,
   "outputs": [
    {
     "name": "stdout",
     "text": [
      "<class 'pandas.core.frame.DataFrame'>\nRangeIndex: 31262 entries, 0 to 31261\nData columns (total 22 columns):\nid                  31262 non-null int64\nK                   31262 non-null bool\nL                   31262 non-null bool\nD                   31262 non-null bool\nS                   31262 non-null bool\nR_int               31262 non-null int64\nAccess_int          31262 non-null int64\nAge_int             31262 non-null int64\nDirection_int       31262 non-null int64\nArea_int            31262 non-null int64\nBath_int            31262 non-null int64\nKitchen_int         31262 non-null int64\nInternet_int        31262 non-null int64\nFacility_int        31262 non-null int64\nParking_int         31262 non-null int64\nSurround_int        31262 non-null int64\nMaterial_int        31262 non-null int64\nCity_int            31262 non-null int64\nYearContract_int    31262 non-null int64\nFloorth_int         31262 non-null int64\nMinute_int          31262 non-null int64\nStation_int         31262 non-null int64\ndtypes: bool(4), int64(18)\nmemory usage: 4.4 MB\n"
     ],
     "output_type": "stream"
    }
   ],
   "source": [
    "test.info()"
   ],
   "metadata": {
    "collapsed": false,
    "pycharm": {
     "name": "#%%\n",
     "is_executing": false
    }
   }
  },
  {
   "cell_type": "code",
   "execution_count": 545,
   "outputs": [],
   "source": [
    "X = train.drop(['id', 'Rent'], axis=1)\n",
    "y = train['Rent']\n",
    "X_test = test.drop(['id'], axis=1)"
   ],
   "metadata": {
    "collapsed": false,
    "pycharm": {
     "name": "#%%\n",
     "is_executing": false
    }
   }
  },
  {
   "cell_type": "code",
   "execution_count": 546,
   "outputs": [
    {
     "name": "stderr",
     "text": [
      "c:\\users\\anhnq\\.virtualenvs\\project\\lib\\site-packages\\lightgbm\\engine.py:118: UserWarning: Found `n_estimators` in params. Will use it instead of argument\n  warnings.warn(\"Found `{}` in params. Will use it instead of argument\".format(alias))\n"
     ],
     "output_type": "stream"
    },
    {
     "name": "stdout",
     "text": [
      "Training until validation scores don't improve for 200 rounds.\n",
      "[200]\ttraining's rmse: 31939.5\tvalid_1's rmse: 39057.4\n",
      "[400]\ttraining's rmse: 24320.6\tvalid_1's rmse: 35534.7\n",
      "[600]\ttraining's rmse: 20427.5\tvalid_1's rmse: 34436.1\n",
      "Did not meet early stopping. Best iteration is:\n[720]\ttraining's rmse: 18673.3\tvalid_1's rmse: 34107.4\n",
      "RMSE: 34107.388104645506\n"
     ],
     "output_type": "stream"
    }
   ],
   "source": [
    "y_pred = np.zeros(X_test.shape[0], dtype='float32')\n",
    "train_pred = np.zeros(X.shape[0], dtype='float32')\n",
    "\n",
    "cv_score = 0\n",
    "X_train, X_valid, y_train, y_valid = train_test_split(X, y, random_state=0)\n",
    "train_data = lgb.Dataset(X_train, y_train)\n",
    "valid_data = lgb.Dataset(X_valid, y_valid)\n",
    "params = {\n",
    "    'objective': 'regression',\n",
    "    'metric': 'rmse',\n",
    "    'learning_rate': 0.01,\n",
    "    'max_depth': -1,\n",
    "    'num_leaves': 255,\n",
    "    'max_bin': 55,\n",
    "    'colsample_bytree': 0.8,\n",
    "    'subsample': 0.8,\n",
    "    'nthread': -1,\n",
    "    'bagging_freq': 1,\n",
    "    'verbose': -1,\n",
    "    'seed': 1,\n",
    "    'n_estimators':720,\n",
    "    'bagging_fraction': 0.8,\n",
    "    'bagging_fre' : 5,\n",
    "}\n",
    "model = lgb.train(params, train_data, valid_sets=[train_data, valid_data],\n",
    "                  num_boost_round=5000, early_stopping_rounds=200,\n",
    "                  verbose_eval=200)\n",
    "\n",
    "y_val_pred = model.predict(X_valid)\n",
    "val_score = np.sqrt(mean_squared_error(y_valid, y_val_pred))\n",
    "print('RMSE:', val_score)\n",
    "\n",
    "y_pred += model.predict(X_test, num_iteration=model.best_iteration)"
   ],
   "metadata": {
    "collapsed": false,
    "pycharm": {
     "name": "#%%\n",
     "is_executing": false
    }
   }
  },
  {
   "cell_type": "code",
   "execution_count": 547,
   "outputs": [
    {
     "data": {
      "text/plain": "             feature  importance\n16          City_int       21548\n8           Area_int       18103\n20       Station_int       17161\n6            Age_int       16681\n9           Bath_int       15173\n10       Kitchen_int       13661\n12      Facility_int       12415\n18       Floorth_int       10802\n13       Parking_int       10518\n11      Internet_int       10288\n7      Direction_int        6858\n5         Access_int        5740\n4              R_int        5505\n14      Surround_int        4983\n15      Material_int        4817\n17  YearContract_int        2752\n1                  L        1942\n2                  D        1852\n0                  K        1368\n3                  S         713\n19        Minute_int           0",
      "text/html": "<div>\n<style scoped>\n    .dataframe tbody tr th:only-of-type {\n        vertical-align: middle;\n    }\n\n    .dataframe tbody tr th {\n        vertical-align: top;\n    }\n\n    .dataframe thead th {\n        text-align: right;\n    }\n</style>\n<table border=\"1\" class=\"dataframe\">\n  <thead>\n    <tr style=\"text-align: right;\">\n      <th></th>\n      <th>feature</th>\n      <th>importance</th>\n    </tr>\n  </thead>\n  <tbody>\n    <tr>\n      <td>16</td>\n      <td>City_int</td>\n      <td>21548</td>\n    </tr>\n    <tr>\n      <td>8</td>\n      <td>Area_int</td>\n      <td>18103</td>\n    </tr>\n    <tr>\n      <td>20</td>\n      <td>Station_int</td>\n      <td>17161</td>\n    </tr>\n    <tr>\n      <td>6</td>\n      <td>Age_int</td>\n      <td>16681</td>\n    </tr>\n    <tr>\n      <td>9</td>\n      <td>Bath_int</td>\n      <td>15173</td>\n    </tr>\n    <tr>\n      <td>10</td>\n      <td>Kitchen_int</td>\n      <td>13661</td>\n    </tr>\n    <tr>\n      <td>12</td>\n      <td>Facility_int</td>\n      <td>12415</td>\n    </tr>\n    <tr>\n      <td>18</td>\n      <td>Floorth_int</td>\n      <td>10802</td>\n    </tr>\n    <tr>\n      <td>13</td>\n      <td>Parking_int</td>\n      <td>10518</td>\n    </tr>\n    <tr>\n      <td>11</td>\n      <td>Internet_int</td>\n      <td>10288</td>\n    </tr>\n    <tr>\n      <td>7</td>\n      <td>Direction_int</td>\n      <td>6858</td>\n    </tr>\n    <tr>\n      <td>5</td>\n      <td>Access_int</td>\n      <td>5740</td>\n    </tr>\n    <tr>\n      <td>4</td>\n      <td>R_int</td>\n      <td>5505</td>\n    </tr>\n    <tr>\n      <td>14</td>\n      <td>Surround_int</td>\n      <td>4983</td>\n    </tr>\n    <tr>\n      <td>15</td>\n      <td>Material_int</td>\n      <td>4817</td>\n    </tr>\n    <tr>\n      <td>17</td>\n      <td>YearContract_int</td>\n      <td>2752</td>\n    </tr>\n    <tr>\n      <td>1</td>\n      <td>L</td>\n      <td>1942</td>\n    </tr>\n    <tr>\n      <td>2</td>\n      <td>D</td>\n      <td>1852</td>\n    </tr>\n    <tr>\n      <td>0</td>\n      <td>K</td>\n      <td>1368</td>\n    </tr>\n    <tr>\n      <td>3</td>\n      <td>S</td>\n      <td>713</td>\n    </tr>\n    <tr>\n      <td>19</td>\n      <td>Minute_int</td>\n      <td>0</td>\n    </tr>\n  </tbody>\n</table>\n</div>"
     },
     "metadata": {},
     "output_type": "execute_result",
     "execution_count": 547
    }
   ],
   "source": [
    "feature_importances = pd.DataFrame()\n",
    "feature_importances['feature'] = X.columns\n",
    "feature_importances['importance'] = model.feature_importance()\n",
    "feature_importances = feature_importances.sort_values(by='importance', ascending=False)\n",
    "feature_importances"
   ],
   "metadata": {
    "collapsed": false,
    "pycharm": {
     "name": "#%%\n",
     "is_executing": false
    }
   }
  },
  {
   "cell_type": "code",
   "execution_count": 548,
   "outputs": [
    {
     "data": {
      "text/plain": "<matplotlib.axes._subplots.AxesSubplot at 0x21e1269ab88>"
     },
     "metadata": {},
     "output_type": "execute_result",
     "execution_count": 548
    },
    {
     "data": {
      "text/plain": "<Figure size 1152x1152 with 1 Axes>",
      "image/png": "[encoded data removed]"
     },
     "metadata": {},
     "output_type": "display_data"
    }
   ],
   "source": [
    "plt.figure(figsize=(16, 16))\n",
    "sns.barplot(data=feature_importances.head(50), x='importance', y='feature')"
   ],
   "metadata": {
    "collapsed": false,
    "pycharm": {
     "name": "#%%\n",
     "is_executing": false
    }
   }
  },
  {
   "cell_type": "code",
   "execution_count": 549,
   "outputs": [],
   "source": [
    "submit = pd.read_csv('sample_submit.csv', names=('id', 'Rent'))\n"
   ],
   "metadata": {
    "collapsed": false,
    "pycharm": {
     "name": "#%%\n",
     "is_executing": false
    }
   }
  },
  {
   "cell_type": "code",
   "execution_count": 550,
   "outputs": [],
   "source": [
    "submit['Rent'] = y_pred\n",
    "submit.head(10)\n",
    "submit.to_csv('submission.csv', header=False, index=False)"
   ],
   "metadata": {
    "collapsed": false,
    "pycharm": {
     "name": "#%%\n",
     "is_executing": false
    }
   }
  },
  {
   "cell_type": "code",
   "execution_count": 550,
   "outputs": [],
   "source": [
    "\n"
   ],
   "metadata": {
    "collapsed": false,
    "pycharm": {
     "name": "#%%\n",
     "is_executing": false
    }
   }
  }
 ],
 "metadata": {
  "kernelspec": {
   "display_name": "Python 3",
   "language": "python",
   "name": "python3"
  },
  "language_info": {
   "codemirror_mode": {
    "name": "ipython",
    "version": 2
   },
   "file_extension": ".py",
   "mimetype": "text/x-python",
   "name": "python",
   "nbconvert_exporter": "python",
   "pygments_lexer": "ipython2",
   "version": "2.7.6"
  },
  "pycharm": {
   "stem_cell": {
    "cell_type": "raw",
    "source": [],
    "metadata": {
     "collapsed": false
    }
   }
  }
 },
 "nbformat": 4,
 "nbformat_minor": 0
}